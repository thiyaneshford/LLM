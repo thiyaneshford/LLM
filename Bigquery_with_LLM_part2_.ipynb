{
  "nbformat": 4,
  "nbformat_minor": 0,
  "metadata": {
    "colab": {
      "provenance": []
    },
    "kernelspec": {
      "name": "python3",
      "display_name": "Python 3"
    },
    "language_info": {
      "name": "python"
    }
  },
  "cells": [
    {
      "cell_type": "code",
      "execution_count": null,
      "metadata": {
        "colab": {
          "base_uri": "https://localhost:8080/"
        },
        "id": "I45deWYrT2Ie",
        "outputId": "b7cbaadc-7f9a-48b3-af2a-4e59efdbe22c"
      },
      "outputs": [
        {
          "output_type": "stream",
          "name": "stdout",
          "text": [
            "\u001b[2K     \u001b[90m━━━━━━━━━━━━━━━━━━━━━━━━━━━━━━━━━━━━━━━━\u001b[0m \u001b[32m803.1/803.1 kB\u001b[0m \u001b[31m5.8 MB/s\u001b[0m eta \u001b[36m0:00:00\u001b[0m\n",
            "\u001b[2K     \u001b[90m━━━━━━━━━━━━━━━━━━━━━━━━━━━━━━━━━━━━━━━━\u001b[0m \u001b[32m123.6/123.6 kB\u001b[0m \u001b[31m6.8 MB/s\u001b[0m eta \u001b[36m0:00:00\u001b[0m\n",
            "\u001b[2K     \u001b[90m━━━━━━━━━━━━━━━━━━━━━━━━━━━━━━━━━━━━━━━━\u001b[0m \u001b[32m3.1/3.1 MB\u001b[0m \u001b[31m14.9 MB/s\u001b[0m eta \u001b[36m0:00:00\u001b[0m\n",
            "\u001b[2K     \u001b[90m━━━━━━━━━━━━━━━━━━━━━━━━━━━━━━━━━━━━━━━━\u001b[0m \u001b[32m12.3/12.3 MB\u001b[0m \u001b[31m47.2 MB/s\u001b[0m eta \u001b[36m0:00:00\u001b[0m\n",
            "\u001b[2K     \u001b[90m━━━━━━━━━━━━━━━━━━━━━━━━━━━━━━━━━━━━━━━━\u001b[0m \u001b[32m507.1/507.1 kB\u001b[0m \u001b[31m23.3 MB/s\u001b[0m eta \u001b[36m0:00:00\u001b[0m\n",
            "\u001b[2K     \u001b[90m━━━━━━━━━━━━━━━━━━━━━━━━━━━━━━━━━━━━━━━━\u001b[0m \u001b[32m13.0/13.0 MB\u001b[0m \u001b[31m69.3 MB/s\u001b[0m eta \u001b[36m0:00:00\u001b[0m\n",
            "\u001b[2K     \u001b[90m━━━━━━━━━━━━━━━━━━━━━━━━━━━━━━━━━━━━━━━━\u001b[0m \u001b[32m278.2/278.2 kB\u001b[0m \u001b[31m25.7 MB/s\u001b[0m eta \u001b[36m0:00:00\u001b[0m\n",
            "\u001b[2K     \u001b[90m━━━━━━━━━━━━━━━━━━━━━━━━━━━━━━━━━━━━━━━━\u001b[0m \u001b[32m17.6/17.6 MB\u001b[0m \u001b[31m63.3 MB/s\u001b[0m eta \u001b[36m0:00:00\u001b[0m\n",
            "\u001b[2K     \u001b[90m━━━━━━━━━━━━━━━━━━━━━━━━━━━━━━━━━━━━━━━━\u001b[0m \u001b[32m8.2/8.2 MB\u001b[0m \u001b[31m75.1 MB/s\u001b[0m eta \u001b[36m0:00:00\u001b[0m\n",
            "\u001b[2K     \u001b[90m━━━━━━━━━━━━━━━━━━━━━━━━━━━━━━━━━━━━━━━━\u001b[0m \u001b[32m1.5/1.5 MB\u001b[0m \u001b[31m65.9 MB/s\u001b[0m eta \u001b[36m0:00:00\u001b[0m\n",
            "\u001b[2K     \u001b[90m━━━━━━━━━━━━━━━━━━━━━━━━━━━━━━━━━━━━━━━━\u001b[0m \u001b[32m205.7/205.7 kB\u001b[0m \u001b[31m18.4 MB/s\u001b[0m eta \u001b[36m0:00:00\u001b[0m\n",
            "\u001b[2K     \u001b[90m━━━━━━━━━━━━━━━━━━━━━━━━━━━━━━━━━━━━━━━━\u001b[0m \u001b[32m48.2/48.2 kB\u001b[0m \u001b[31m5.3 MB/s\u001b[0m eta \u001b[36m0:00:00\u001b[0m\n",
            "\u001b[?25h  Installing build dependencies ... \u001b[?25l\u001b[?25hdone\n",
            "  Getting requirements to build wheel ... \u001b[?25l\u001b[?25hdone\n",
            "  Preparing metadata (pyproject.toml) ... \u001b[?25l\u001b[?25hdone\n",
            "\u001b[2K     \u001b[90m━━━━━━━━━━━━━━━━━━━━━━━━━━━━━━━━━━━━━━━━\u001b[0m \u001b[32m964.5/964.5 kB\u001b[0m \u001b[31m26.1 MB/s\u001b[0m eta \u001b[36m0:00:00\u001b[0m\n",
            "\u001b[2K     \u001b[90m━━━━━━━━━━━━━━━━━━━━━━━━━━━━━━━━━━━━━━━━\u001b[0m \u001b[32m92.0/92.0 kB\u001b[0m \u001b[31m9.9 MB/s\u001b[0m eta \u001b[36m0:00:00\u001b[0m\n",
            "\u001b[2K     \u001b[90m━━━━━━━━━━━━━━━━━━━━━━━━━━━━━━━━━━━━━━━━\u001b[0m \u001b[32m60.3/60.3 kB\u001b[0m \u001b[31m4.2 MB/s\u001b[0m eta \u001b[36m0:00:00\u001b[0m\n",
            "\u001b[2K     \u001b[90m━━━━━━━━━━━━━━━━━━━━━━━━━━━━━━━━━━━━━━━━\u001b[0m \u001b[32m5.4/5.4 MB\u001b[0m \u001b[31m78.6 MB/s\u001b[0m eta \u001b[36m0:00:00\u001b[0m\n",
            "\u001b[2K     \u001b[90m━━━━━━━━━━━━━━━━━━━━━━━━━━━━━━━━━━━━━━━━\u001b[0m \u001b[32m6.4/6.4 MB\u001b[0m \u001b[31m80.7 MB/s\u001b[0m eta \u001b[36m0:00:00\u001b[0m\n",
            "\u001b[2K     \u001b[90m━━━━━━━━━━━━━━━━━━━━━━━━━━━━━━━━━━━━━━━━\u001b[0m \u001b[32m346.6/346.6 kB\u001b[0m \u001b[31m22.5 MB/s\u001b[0m eta \u001b[36m0:00:00\u001b[0m\n",
            "\u001b[2K     \u001b[90m━━━━━━━━━━━━━━━━━━━━━━━━━━━━━━━━━━━━━━━━\u001b[0m \u001b[32m115.3/115.3 kB\u001b[0m \u001b[31m10.5 MB/s\u001b[0m eta \u001b[36m0:00:00\u001b[0m\n",
            "\u001b[2K     \u001b[90m━━━━━━━━━━━━━━━━━━━━━━━━━━━━━━━━━━━━━━━━\u001b[0m \u001b[32m134.8/134.8 kB\u001b[0m \u001b[31m12.8 MB/s\u001b[0m eta \u001b[36m0:00:00\u001b[0m\n",
            "\u001b[2K     \u001b[90m━━━━━━━━━━━━━━━━━━━━━━━━━━━━━━━━━━━━━━━━\u001b[0m \u001b[32m5.4/5.4 MB\u001b[0m \u001b[31m62.3 MB/s\u001b[0m eta \u001b[36m0:00:00\u001b[0m\n",
            "\u001b[2K     \u001b[90m━━━━━━━━━━━━━━━━━━━━━━━━━━━━━━━━━━━━━━━━\u001b[0m \u001b[32m1.3/1.3 MB\u001b[0m \u001b[31m42.9 MB/s\u001b[0m eta \u001b[36m0:00:00\u001b[0m\n",
            "\u001b[2K     \u001b[90m━━━━━━━━━━━━━━━━━━━━━━━━━━━━━━━━━━━━━━━━\u001b[0m \u001b[32m49.4/49.4 kB\u001b[0m \u001b[31m4.6 MB/s\u001b[0m eta \u001b[36m0:00:00\u001b[0m\n",
            "\u001b[2K     \u001b[90m━━━━━━━━━━━━━━━━━━━━━━━━━━━━━━━━━━━━━━━━\u001b[0m \u001b[32m70.0/70.0 kB\u001b[0m \u001b[31m7.4 MB/s\u001b[0m eta \u001b[36m0:00:00\u001b[0m\n",
            "\u001b[2K     \u001b[90m━━━━━━━━━━━━━━━━━━━━━━━━━━━━━━━━━━━━━━━━\u001b[0m \u001b[32m92.1/92.1 kB\u001b[0m \u001b[31m6.3 MB/s\u001b[0m eta \u001b[36m0:00:00\u001b[0m\n",
            "\u001b[2K     \u001b[90m━━━━━━━━━━━━━━━━━━━━━━━━━━━━━━━━━━━━━━━━\u001b[0m \u001b[32m68.9/68.9 kB\u001b[0m \u001b[31m6.4 MB/s\u001b[0m eta \u001b[36m0:00:00\u001b[0m\n",
            "\u001b[2K     \u001b[90m━━━━━━━━━━━━━━━━━━━━━━━━━━━━━━━━━━━━━━━━\u001b[0m \u001b[32m92.1/92.1 kB\u001b[0m \u001b[31m10.6 MB/s\u001b[0m eta \u001b[36m0:00:00\u001b[0m\n",
            "\u001b[2K     \u001b[90m━━━━━━━━━━━━━━━━━━━━━━━━━━━━━━━━━━━━━━━━\u001b[0m \u001b[32m67.0/67.0 kB\u001b[0m \u001b[31m7.5 MB/s\u001b[0m eta \u001b[36m0:00:00\u001b[0m\n",
            "\u001b[2K     \u001b[90m━━━━━━━━━━━━━━━━━━━━━━━━━━━━━━━━━━━━━━━━\u001b[0m \u001b[32m93.1/93.1 kB\u001b[0m \u001b[31m10.5 MB/s\u001b[0m eta \u001b[36m0:00:00\u001b[0m\n",
            "\u001b[2K     \u001b[90m━━━━━━━━━━━━━━━━━━━━━━━━━━━━━━━━━━━━━━━━\u001b[0m \u001b[32m92.9/92.9 kB\u001b[0m \u001b[31m10.6 MB/s\u001b[0m eta \u001b[36m0:00:00\u001b[0m\n",
            "\u001b[2K     \u001b[90m━━━━━━━━━━━━━━━━━━━━━━━━━━━━━━━━━━━━━━━━\u001b[0m \u001b[32m92.9/92.9 kB\u001b[0m \u001b[31m9.6 MB/s\u001b[0m eta \u001b[36m0:00:00\u001b[0m\n",
            "\u001b[2K     \u001b[90m━━━━━━━━━━━━━━━━━━━━━━━━━━━━━━━━━━━━━━━━\u001b[0m \u001b[32m66.3/66.3 kB\u001b[0m \u001b[31m7.9 MB/s\u001b[0m eta \u001b[36m0:00:00\u001b[0m\n",
            "\u001b[2K     \u001b[90m━━━━━━━━━━━━━━━━━━━━━━━━━━━━━━━━━━━━━━━━\u001b[0m \u001b[32m46.0/46.0 kB\u001b[0m \u001b[31m5.6 MB/s\u001b[0m eta \u001b[36m0:00:00\u001b[0m\n",
            "\u001b[2K     \u001b[90m━━━━━━━━━━━━━━━━━━━━━━━━━━━━━━━━━━━━━━━━\u001b[0m \u001b[32m58.3/58.3 kB\u001b[0m \u001b[31m6.8 MB/s\u001b[0m eta \u001b[36m0:00:00\u001b[0m\n",
            "\u001b[2K     \u001b[90m━━━━━━━━━━━━━━━━━━━━━━━━━━━━━━━━━━━━━━━━\u001b[0m \u001b[32m341.4/341.4 kB\u001b[0m \u001b[31m24.2 MB/s\u001b[0m eta \u001b[36m0:00:00\u001b[0m\n",
            "\u001b[2K     \u001b[90m━━━━━━━━━━━━━━━━━━━━━━━━━━━━━━━━━━━━━━━━\u001b[0m \u001b[32m3.4/3.4 MB\u001b[0m \u001b[31m88.2 MB/s\u001b[0m eta \u001b[36m0:00:00\u001b[0m\n",
            "\u001b[2K     \u001b[90m━━━━━━━━━━━━━━━━━━━━━━━━━━━━━━━━━━━━━━━━\u001b[0m \u001b[32m1.3/1.3 MB\u001b[0m \u001b[31m59.9 MB/s\u001b[0m eta \u001b[36m0:00:00\u001b[0m\n",
            "\u001b[2K     \u001b[90m━━━━━━━━━━━━━━━━━━━━━━━━━━━━━━━━━━━━━━━━\u001b[0m \u001b[32m130.2/130.2 kB\u001b[0m \u001b[31m14.0 MB/s\u001b[0m eta \u001b[36m0:00:00\u001b[0m\n",
            "\u001b[2K     \u001b[90m━━━━━━━━━━━━━━━━━━━━━━━━━━━━━━━━━━━━━━━━\u001b[0m \u001b[32m86.8/86.8 kB\u001b[0m \u001b[31m8.6 MB/s\u001b[0m eta \u001b[36m0:00:00\u001b[0m\n",
            "\u001b[?25h  Building wheel for hnswlib (pyproject.toml) ... \u001b[?25l\u001b[?25hdone\n",
            "\u001b[33m  WARNING: The script dotenv is installed in '/root/.local/bin' which is not on PATH.\n",
            "  Consider adding this directory to PATH or, if you prefer to suppress this warning, use --no-warn-script-location.\u001b[0m\u001b[33m\n",
            "\u001b[0m\u001b[33m  WARNING: The script humanfriendly is installed in '/root/.local/bin' which is not on PATH.\n",
            "  Consider adding this directory to PATH or, if you prefer to suppress this warning, use --no-warn-script-location.\u001b[0m\u001b[33m\n",
            "\u001b[0m\u001b[33m  WARNING: The script watchfiles is installed in '/root/.local/bin' which is not on PATH.\n",
            "  Consider adding this directory to PATH or, if you prefer to suppress this warning, use --no-warn-script-location.\u001b[0m\u001b[33m\n",
            "\u001b[0m\u001b[33m  WARNING: The script uvicorn is installed in '/root/.local/bin' which is not on PATH.\n",
            "  Consider adding this directory to PATH or, if you prefer to suppress this warning, use --no-warn-script-location.\u001b[0m\u001b[33m\n",
            "\u001b[0m\u001b[33m  WARNING: The script langsmith is installed in '/root/.local/bin' which is not on PATH.\n",
            "  Consider adding this directory to PATH or, if you prefer to suppress this warning, use --no-warn-script-location.\u001b[0m\u001b[33m\n",
            "\u001b[0m\u001b[33m  WARNING: The script coloredlogs is installed in '/root/.local/bin' which is not on PATH.\n",
            "  Consider adding this directory to PATH or, if you prefer to suppress this warning, use --no-warn-script-location.\u001b[0m\u001b[33m\n",
            "\u001b[0m\u001b[33m  WARNING: The script onnxruntime_test is installed in '/root/.local/bin' which is not on PATH.\n",
            "  Consider adding this directory to PATH or, if you prefer to suppress this warning, use --no-warn-script-location.\u001b[0m\u001b[33m\n",
            "\u001b[0m\u001b[33m  WARNING: The script transformers-cli is installed in '/root/.local/bin' which is not on PATH.\n",
            "  Consider adding this directory to PATH or, if you prefer to suppress this warning, use --no-warn-script-location.\u001b[0m\u001b[33m\n",
            "\u001b[0m\u001b[33m  WARNING: The script datasets-cli is installed in '/root/.local/bin' which is not on PATH.\n",
            "  Consider adding this directory to PATH or, if you prefer to suppress this warning, use --no-warn-script-location.\u001b[0m\u001b[33m\n",
            "\u001b[0m\u001b[33m  WARNING: The script langchain-server is installed in '/root/.local/bin' which is not on PATH.\n",
            "  Consider adding this directory to PATH or, if you prefer to suppress this warning, use --no-warn-script-location.\u001b[0m\u001b[33m\n",
            "\u001b[0m\u001b[31mERROR: pip's dependency resolver does not currently take into account all the packages that are installed. This behaviour is the source of the following dependency conflicts.\n",
            "lida 0.0.10 requires kaleido, which is not installed.\n",
            "lida 0.0.10 requires python-multipart, which is not installed.\n",
            "llmx 0.0.15a0 requires cohere, which is not installed.\n",
            "llmx 0.0.15a0 requires openai, which is not installed.\n",
            "llmx 0.0.15a0 requires tiktoken, which is not installed.\n",
            "bigframes 0.17.0 requires pandas<2.1.4,>=1.5.0, but you have pandas 2.1.4 which is incompatible.\n",
            "google-colab 1.0.0 requires pandas==1.5.3, but you have pandas 2.1.4 which is incompatible.\u001b[0m\u001b[31m\n",
            "\u001b[0m"
          ]
        }
      ],
      "source": [
        "!pip install google-cloud-aiplatform --upgrade --user --quiet\n",
        "!pip install langchain==0.0.353 chromadb==0.3.26 pydantic==1.10.8 typing-inspect==0.8.0 typing_extensions==4.5.0 pandas datasets google-api-python-client pypdf faiss-cpu transformers config --upgrade --user --quiet"
      ]
    },
    {
      "cell_type": "code",
      "source": [
        "# Below libraries are required to build a SQL engine for BigQuery\n",
        "!pip install --user SQLAlchemy==1.4.48 --quiet\n",
        "!pip install --user sqlalchemy-bigquery --quiet\n",
        "# Install pandas\n",
        "! pip install --user --quiet pandas\n",
        "\n",
        "# Install HuggingFace Datasets\n",
        "! pip install --user --quiet datasets\n",
        "\n",
        "# Install Python client for Google Search API\n",
        "! pip install --user --quiet google-api-python-client\n",
        "\n",
        "# PDF loader\n",
        "! pip install --user --quiet pypdf\n",
        "\n",
        "# Install similarity search library\n",
        "# TO-DO: Replace with vertex AI Matching Engine\n",
        "! pip install --user --quiet faiss-cpu"
      ],
      "metadata": {
        "colab": {
          "base_uri": "https://localhost:8080/"
        },
        "id": "F2iustwJT4_0",
        "outputId": "44ced659-e8b3-4f18-8e59-95f960baec98"
      },
      "execution_count": null,
      "outputs": [
        {
          "output_type": "stream",
          "name": "stdout",
          "text": [
            "\u001b[?25l     \u001b[90m━━━━━━━━━━━━━━━━━━━━━━━━━━━━━━━━━━━━━━━━\u001b[0m \u001b[32m0.0/1.6 MB\u001b[0m \u001b[31m?\u001b[0m eta \u001b[36m-:--:--\u001b[0m\r\u001b[2K     \u001b[91m━\u001b[0m\u001b[91m╸\u001b[0m\u001b[90m━━━━━━━━━━━━━━━━━━━━━━━━━━━━━━━━━━━━━━\u001b[0m \u001b[32m0.1/1.6 MB\u001b[0m \u001b[31m1.6 MB/s\u001b[0m eta \u001b[36m0:00:01\u001b[0m\r\u001b[2K     \u001b[91m━━━━━━━\u001b[0m\u001b[91m╸\u001b[0m\u001b[90m━━━━━━━━━━━━━━━━━━━━━━━━━━━━━━━━\u001b[0m \u001b[32m0.3/1.6 MB\u001b[0m \u001b[31m4.5 MB/s\u001b[0m eta \u001b[36m0:00:01\u001b[0m\r\u001b[2K     \u001b[91m━━━━━━━━━━━━━━━━━\u001b[0m\u001b[90m╺\u001b[0m\u001b[90m━━━━━━━━━━━━━━━━━━━━━━\u001b[0m \u001b[32m0.7/1.6 MB\u001b[0m \u001b[31m6.5 MB/s\u001b[0m eta \u001b[36m0:00:01\u001b[0m\r\u001b[2K     \u001b[91m━━━━━━━━━━━━━━━━━━━━━━━━━━━━\u001b[0m\u001b[90m╺\u001b[0m\u001b[90m━━━━━━━━━━━\u001b[0m \u001b[32m1.1/1.6 MB\u001b[0m \u001b[31m8.0 MB/s\u001b[0m eta \u001b[36m0:00:01\u001b[0m\r\u001b[2K     \u001b[91m━━━━━━━━━━━━━━━━━━━━━━━━━━━━━━━━━━━━━━━\u001b[0m\u001b[91m╸\u001b[0m \u001b[32m1.6/1.6 MB\u001b[0m \u001b[31m9.3 MB/s\u001b[0m eta \u001b[36m0:00:01\u001b[0m\r\u001b[2K     \u001b[90m━━━━━━━━━━━━━━━━━━━━━━━━━━━━━━━━━━━━━━━━\u001b[0m \u001b[32m1.6/1.6 MB\u001b[0m \u001b[31m8.1 MB/s\u001b[0m eta \u001b[36m0:00:00\u001b[0m\n",
            "\u001b[?25h\u001b[31mERROR: pip's dependency resolver does not currently take into account all the packages that are installed. This behaviour is the source of the following dependency conflicts.\n",
            "bigframes 0.17.0 requires pandas<2.1.4,>=1.5.0, but you have pandas 2.1.4 which is incompatible.\n",
            "ipython-sql 0.5.0 requires sqlalchemy>=2.0, but you have sqlalchemy 1.4.48 which is incompatible.\u001b[0m\u001b[31m\n",
            "\u001b[0m"
          ]
        }
      ]
    },
    {
      "cell_type": "code",
      "source": [
        "PROJECT_ID = \"iron-decorator-297513\" # @param {type:\"string\"}\n",
        "LOCATION = \"us-central1\"  # @param {type:\"string\"}\n",
        "from google.cloud import aiplatform\n",
        "from langchain.llms import VertexAI\n",
        "import vertexai\n",
        "aiplatform.init(project=PROJECT_ID, location=LOCATION)\n",
        "vertexai.init(project=PROJECT_ID, location=LOCATION)\n",
        "from google.colab import auth as google_auth\n",
        "google_auth.authenticate_user()"
      ],
      "metadata": {
        "id": "WlX0_JOBT5Ce"
      },
      "execution_count": null,
      "outputs": []
    },
    {
      "cell_type": "code",
      "source": [
        "project_id = \"iron-decorator-297513\" # @param {type:\"string\"}\n",
        "LOCATION = \"us-central1\"  # @param {type:\"string\"}\n",
        "dataset_id = 'tg_Dataste' # @param {type:\"string\"}\n",
        "table_name = 'LLMsales' # @param {type:\"string\"}\n",
        "from sqlalchemy import *\n",
        "from sqlalchemy.engine import create_engine\n",
        "from sqlalchemy.schema import *\n",
        "import pandas as pd"
      ],
      "metadata": {
        "id": "PryHzX-iT5Ec"
      },
      "execution_count": null,
      "outputs": []
    },
    {
      "cell_type": "code",
      "source": [
        "table_uri = f\"bigquery://{project_id}/{dataset_id}\"\n",
        "engine = create_engine(f\"bigquery://{project_id}/{dataset_id}\")"
      ],
      "metadata": {
        "id": "KLBuxkztT5G1"
      },
      "execution_count": null,
      "outputs": []
    },
    {
      "cell_type": "code",
      "source": [
        "def bq_qna(question):\n",
        "  #create SQLDatabase instance from BQ engine\n",
        "  db = SQLDatabase(engine=engine,metadata=MetaData(bind=engine),include_tables=[table_name])\n",
        "  # db = SQLDatabase(engine=engine,metadata=MetaData(bind=engine),include_tables=['bigquery-public-data.iowa_liquor_sales.sales'])\n",
        "\n",
        "  #create SQL DB Chain with the initialized LLM and above SQLDB instance\n",
        "  db_chain = SQLDatabaseChain.from_llm(llm, db, verbose=True, return_intermediate_steps=True)\n",
        "\n",
        "\n",
        "  _googlesql_prompt = \"\"\"You are a BigQuery SQL expert. Given an input question, first create a syntactically correct BigQuery query to run, then look at the results of the query and return the answer to the input question.\n",
        "  Unless the user specifies in the question a specific number of examples to obtain, query for at most {top_k} results using the LIMIT clause as per BigQuery SQL. You can order the results to return the most informative data in the database.\n",
        "  Never query for all columns from a table. You must query only the columns that are needed to answer the question. Wrap each column name in backticks (`) to denote them as delimited identifiers.\n",
        "  Pay attention to use only the column names you can see in the tables below. Be careful to not query for columns that do not exist. Also, pay attention to which column is in which table.\n",
        "  Use the following format:\n",
        "  Question: \"Question here\"\n",
        "  SQLQuery: \"SQL Query to run\"\n",
        "  SQLResult: \"Result of the SQLQuery\"\n",
        "  Answer: \"Final answer here\"\n",
        "  Only use the following tables:\n",
        "  {table_info}\n",
        "\n",
        "  If someone asks for specific month, use ActivityDate between current month's start date and current month's end date\n",
        "\n",
        "  Question: {input}\"\"\"\n",
        "\n",
        "  BigQuerySQL_PROMPT = PromptTemplate(\n",
        "      input_variables=[\"input\", \"table_info\", \"top_k\"],\n",
        "      template=_googlesql_prompt,\n",
        "  )\n",
        "\n",
        "  #passing question to the prompt template\n",
        "  final_prompt = BigQuerySQL_PROMPT.format(input=question, table_info=table_name, top_k=10000)\n",
        "\n",
        "  #pass final prompt to SQL Chain\n",
        "  output = db_chain(final_prompt)\n",
        "\n",
        "\n",
        "  return output['result'], output['intermediate_steps'][0]"
      ],
      "metadata": {
        "id": "UMeDM2cBT5JG"
      },
      "execution_count": null,
      "outputs": []
    },
    {
      "cell_type": "code",
      "source": [
        "#i have installed the latest module of langchian which is stable for the creaet_SQL_Query chain\n",
        "#please restart the cell after the installaiton is complete\n",
        "!pip install langchain==0.0.353"
      ],
      "metadata": {
        "colab": {
          "base_uri": "https://localhost:8080/"
        },
        "id": "BdlXjCFuzJHf",
        "outputId": "acdfaf7d-d595-40c6-c819-6ed2b7eb5c5d"
      },
      "execution_count": null,
      "outputs": [
        {
          "output_type": "stream",
          "name": "stdout",
          "text": [
            "Installing collected packages: jsonpointer, langsmith, jsonpatch, langchain-core, langchain-community, langchain\n",
            "  Attempting uninstall: langchain\n",
            "    Found existing installation: langchain 0.0.229\n",
            "    Uninstalling langchain-0.0.229:\n",
            "      Successfully uninstalled langchain-0.0.229\n",
            "Successfully installed jsonpatch-1.33 jsonpointer-2.4 langchain-0.0.353 langchain-community-0.0.7 langchain-core-0.1.4 langsmith-0.0.77\n"
          ]
        }
      ]
    },
    {
      "cell_type": "markdown",
      "source": [
        "Using create_sql_query_chain to write queries and then using the db to run the query"
      ],
      "metadata": {
        "id": "fgurDzWM2sTX"
      }
    },
    {
      "cell_type": "code",
      "source": [],
      "metadata": {
        "id": "SoqsjPL42q5Y"
      },
      "execution_count": null,
      "outputs": []
    },
    {
      "cell_type": "code",
      "source": [
        "from langchain import SQLDatabase\n",
        "from langchain.chains import sql_database\n",
        "from google.cloud import aiplatform\n",
        "from langchain.llms import VertexAI\n",
        "import vertexai\n",
        "PROJECT_ID = \"iron-decorator-297513\" # @param {type:\"string\"}\n",
        "LOCATION = \"us-central1\"  # @param {type:\"string\"}\n",
        "aiplatform.init(project=PROJECT_ID, location=LOCATION)\n",
        "vertexai.init(project=PROJECT_ID, location=LOCATION)\n",
        "\n",
        "table_name = ['Vehicle_ID_Table','topSpeed','Mileage']\n",
        "table_uri = f\"bigquery://{project_id}/{dataset_id}\"\n",
        "engine = create_engine(f\"bigquery://{project_id}/{dataset_id}\")\n",
        "\n",
        "llm = VertexAI(\n",
        "    model_name='text-bison@001',\n",
        "    max_output_tokens=1024,\n",
        "    temperature=0.1,\n",
        "    top_p=0.8,\n",
        "    top_k=40,\n",
        "    verbose=True,\n",
        ")\n",
        "\n",
        "db = SQLDatabase(engine=engine,metadata=MetaData(bind=engine),include_tables=table_name,sample_rows_in_table_info=10)\n",
        "#chain = sql_database.query.create_sql_query_chain(llm,db,k=100,prompt=)\n",
        "\n",
        "\n"
      ],
      "metadata": {
        "id": "dxfBqjkjyi3-",
        "colab": {
          "base_uri": "https://localhost:8080/"
        },
        "outputId": "33e31fee-c178-4e0c-d64d-6e9772166d5d"
      },
      "execution_count": null,
      "outputs": [
        {
          "output_type": "stream",
          "name": "stderr",
          "text": [
            "<ipython-input-6-d1200f07c031>:24: RemovedIn20Warning: Deprecated API features detected! These feature(s) are not compatible with SQLAlchemy 2.0. To prevent incompatible upgrades prior to updating applications, ensure requirements files are pinned to \"sqlalchemy<2.0\". Set environment variable SQLALCHEMY_WARN_20=1 to show all deprecation warnings.  Set environment variable SQLALCHEMY_SILENCE_UBER_WARNING=1 to silence this message. (Background on SQLAlchemy 2.0 at: https://sqlalche.me/e/b8d9)\n",
            "  db = SQLDatabase(engine=engine,metadata=MetaData(bind=engine),include_tables=table_name,sample_rows_in_table_info=10)\n"
          ]
        }
      ]
    },
    {
      "cell_type": "code",
      "source": [
        "print(db.get_table_info())"
      ],
      "metadata": {
        "colab": {
          "base_uri": "https://localhost:8080/"
        },
        "id": "wD1RE3i98rhG",
        "outputId": "7c1a4382-8455-40d5-a06a-8657c4a360a4"
      },
      "execution_count": null,
      "outputs": [
        {
          "output_type": "stream",
          "name": "stdout",
          "text": [
            "\n",
            "CREATE TABLE `Mileage` (\n",
            "\t`vehicle_number` STRING, \n",
            "\t`make` STRING, \n",
            "\t`type` STRING, \n",
            "\t`mileage` INT64\n",
            ")\n",
            "\n",
            "/*\n",
            "10 rows from Mileage table:\n",
            "vehicle_number\tmake\ttype\tmileage\n",
            "DEF456\tHonda\tSUV\t45\n",
            "MNOP\tSkoda\tSUV\t52\n",
            "678PQR\tAcura\tSUV\t49\n",
            "456DEF\tLand Rover\tSUV\t85\n",
            "890ABCD\tMini\tSUV\t46\n",
            "PQR678\tNissan\tVan\t59\n",
            "JKL012\tChevrolet\tCoupe\t34\n",
            "234VWX\tMitsubishi\tSedan\t35\n",
            "TUVW\tPeugeot\tSedan\t27\n",
            "ABC123\tToyota\tSedan\t78\n",
            "*/\n",
            "\n",
            "\n",
            "CREATE TABLE `Vehicle_ID_Table` (\n",
            "\t`vehicle_id` INT64, \n",
            "\t`vehicle_number` STRING, \n",
            "\t`smoke_emission` FLOAT64, \n",
            "\t`temperature` INT64\n",
            ")\n",
            "\n",
            "/*\n",
            "10 rows from Vehicle_ID_Table table:\n",
            "vehicle_id\tvehicle_number\tsmoke_emission\ttemperature\n",
            "2\tDEF456\t0.5\t28\n",
            "11\tEFGH789\t0.5\t26\n",
            "20\t012JKL\t0.5\t32\n",
            "28\t456IJKL\t0.5\t23\n",
            "1\tABC123\t0.3\t32\n",
            "14\tQRST678\t0.3\t30\n",
            "22\t678PQR\t0.3\t37\n",
            "30\t012QRST\t0.3\t28\n",
            "8\tVWX234\t0.6\t29\n",
            "17\t123ABC\t0.6\t21\n",
            "*/\n",
            "\n",
            "\n",
            "CREATE TABLE `topSpeed` (\n",
            "\t`vehicle_number` STRING, \n",
            "\t`capacitor` INT64, \n",
            "\t`cc` FLOAT64, \n",
            "\t`top_speed` INT64\n",
            ")\n",
            "\n",
            "/*\n",
            "10 rows from topSpeed table:\n",
            "vehicle_number\tcapacitor\tcc\ttop_speed\n",
            "YZ123\t1000\t1.0\t100\n",
            "123A\t1300\t1.0\t100\n",
            "567YZ1\t1400\t1.1\t105\n",
            "123ABC\t1500\t1.3\t110\n",
            "MNOP\t1600\t1.4\t110\n",
            "MNOP345\t1800\t1.4\t115\n",
            "JKL012\t1500\t1.2\t120\n",
            "345MNO\t1700\t1.5\t120\n",
            "123EFGH\t2000\t1.6\t125\n",
            "789C\t2200\t1.7\t125\n",
            "*/\n"
          ]
        }
      ]
    },
    {
      "cell_type": "code",
      "source": [
        "print(db.table_info)"
      ],
      "metadata": {
        "colab": {
          "base_uri": "https://localhost:8080/"
        },
        "id": "5pAA9d6y89Q1",
        "outputId": "8c362105-913a-4f04-b000-bebf9dfcb36f"
      },
      "execution_count": null,
      "outputs": [
        {
          "output_type": "stream",
          "name": "stdout",
          "text": [
            "\n",
            "CREATE TABLE `Mileage` (\n",
            "\t`vehicle_number` STRING, \n",
            "\t`make` STRING, \n",
            "\t`type` STRING, \n",
            "\t`mileage` INT64\n",
            ")\n",
            "\n",
            "/*\n",
            "3 rows from Mileage table:\n",
            "vehicle_number\tmake\ttype\tmileage\n",
            "None\tNone\tNone\tNone\n",
            "None\tNone\tNone\tNone\n",
            "None\tNone\tNone\tNone\n",
            "*/\n",
            "\n",
            "\n",
            "CREATE TABLE `Vehicle_ID_Table` (\n",
            "\t`vehicle_id` INT64, \n",
            "\t`vehicle_number` STRING, \n",
            "\t`smoke_emission` FLOAT64, \n",
            "\t`temperature` INT64\n",
            ")\n",
            "\n",
            "/*\n",
            "3 rows from Vehicle_ID_Table table:\n",
            "vehicle_id\tvehicle_number\tsmoke_emission\ttemperature\n",
            "2\tDEF456\t0.5\t28\n",
            "11\tEFGH789\t0.5\t26\n",
            "20\t012JKL\t0.5\t32\n",
            "*/\n",
            "\n",
            "\n",
            "CREATE TABLE `topSpeed` (\n",
            "\t`vehicle_number` STRING, \n",
            "\t`capacitor` INT64, \n",
            "\t`cc` FLOAT64, \n",
            "\t`top_speed` INT64\n",
            ")\n",
            "\n",
            "/*\n",
            "3 rows from topSpeed table:\n",
            "vehicle_number\tcapacitor\tcc\ttop_speed\n",
            "YZ123\t1000\t1.0\t100\n",
            "123A\t1300\t1.0\t100\n",
            "567YZ1\t1400\t1.1\t105\n",
            "*/\n"
          ]
        }
      ]
    },
    {
      "cell_type": "code",
      "source": [
        "db.dialect"
      ],
      "metadata": {
        "colab": {
          "base_uri": "https://localhost:8080/",
          "height": 35
        },
        "id": "KuYM2YlwtOws",
        "outputId": "011c1926-8b6b-4cb1-c50d-46aef697aa93"
      },
      "execution_count": null,
      "outputs": [
        {
          "output_type": "execute_result",
          "data": {
            "text/plain": [
              "'bigquery'"
            ],
            "application/vnd.google.colaboratory.intrinsic+json": {
              "type": "string"
            }
          },
          "metadata": {},
          "execution_count": 46
        }
      ]
    },
    {
      "cell_type": "code",
      "source": [
        "response = chain.invoke({\"question\": \"How many records are there in all tables\"})\n",
        "print(response)"
      ],
      "metadata": {
        "colab": {
          "base_uri": "https://localhost:8080/"
        },
        "id": "H1YGiYSNT5Nx",
        "outputId": "ac714eae-ecba-4f92-e57c-740e8866dd4b"
      },
      "execution_count": null,
      "outputs": [
        {
          "output_type": "stream",
          "name": "stdout",
          "text": [
            "SELECT count(*) FROM Mileage\n"
          ]
        }
      ]
    },
    {
      "cell_type": "code",
      "source": [
        "response = chain.invoke({\"question\": \"give me the vehilce id with maximum topspeed\"})\n",
        "print(response)"
      ],
      "metadata": {
        "colab": {
          "base_uri": "https://localhost:8080/"
        },
        "id": "OMNTpDznT5P7",
        "outputId": "4e9f296b-756c-42e4-d427-91097b2f1384"
      },
      "execution_count": null,
      "outputs": [
        {
          "output_type": "stream",
          "name": "stdout",
          "text": [
            "SELECT vehicle_id FROM topSpeed ORDER BY top_speed DESC LIMIT 1\n"
          ]
        }
      ]
    },
    {
      "cell_type": "code",
      "source": [
        "from langchain.prompts import PromptTemplate\n",
        "template = \"\"\" Given an input question, first create a yntactically correct bigquery  to run, then look at the results of the query and return the answer.\n",
        "Unless the user specifies in the question a specific number of examples to obtain, query for at most 10000 results using the LIMIT clause as per BigQuery SQL\n",
        "Be careful to not query for columns that do not exist. Also, pay attention to which column is in which table.\n",
        "\n",
        "Database Description:\n",
        "\n",
        "There are 3 tables: Vehicle_ID, Mileage, and Topspeed.\n",
        "Vehicle_ID contains: vehicle_id (unique numerical identifier), vehicle_number (alphanumeric code), smoke_emission (grams/km), and temperature (degrees Celsius).\n",
        "Topspeed contains: vehicle_number, capacitor (Farads), cc (engine displacement), and top_speed (km/h).\n",
        "Mileage contains: vehicle_number, make (vehicle manufacturer), type (vehicle model), and mileage (km/L).\n",
        "The vehicle_id column is only present in the Vehicle_ID table.\n",
        "\n",
        "Use the following format:\n",
        "\n",
        "Question: \"Question here\"\n",
        "SQLQuery: \"SQL Query to run\"\n",
        "SQLResult: \"Result of the SQLQuery\"\n",
        "Answer: \"Final answer here\"\n",
        "\n",
        "Only use the following tables:\n",
        "\n",
        "'Vehicle_ID_Table','topSpeed','Mileage'\n",
        "\n",
        "Some examples of SQL queries that correspond to questions are:\n",
        "\"Find the average mileage for vehicles with a top speed greater than 200 km/h.\" : \"SELECT AVG(mileage) AS average_mileage FROM Mileage JOIN Topspeed ON Mileage.vehicle_number = Topspeed.vehicle_number WHERE top_speed > 200;\",\n",
        "\"List the vehicle model, make, and capacitor for vehicles with a smoke emission between 40 and 60 grams/km.\": \"SELECT type, make, capacitor FROM Mileage JOIN Vehicle_ID ON Mileage.vehicle_number = Vehicle_ID.vehicle_number WHERE smoke_emission BETWEEN 40 AND 60;\",\n",
        "\"Retrieve the vehicle IDs and temperatures for vehicles with an engine displacement (cc) of 1500 or higher.\" : \"SELECT vehicle_id, temperature FROM Vehicle_ID JOIN Topspeed ON Vehicle_ID.vehicle_number = Topspeed.vehicle_number WHERE cc >= 1500;\",\n",
        "\"Calculate the total number of vehicles with a mileage of less than 15 km/L.\":\"SELECT COUNT(*) AS total_vehicles FROM Mileage WHERE mileage < 15;\",\n",
        "\"Find the highest smoke emission value across all vehicles.\":\"SELECT MAX(smoke_emission) AS highest_smoke_emission FROM Vehicle_ID;\",\n",
        "\"Show the vehicle model with the lowest temperature.\":\"SELECT type AS vehicle_model FROM Mileage JOIN Vehicle_ID ON Mileage.vehicle_number = Vehicle_ID.vehicle_number WHERE temperature = (SELECT MIN(temperature) FROM Vehicle_ID);\"\n",
        "\n",
        "\n",
        "Question: {input}\"\"\"\n",
        "\n",
        "\n",
        "PROMPT = PromptTemplate(input_variables=[\"input\"], template=template,)\n",
        "\n",
        "\n",
        "\n",
        "question = \"give me the vehicle id with maximum topspeed\"\n",
        "\n",
        "#final_prompt = PROMPT.format(input=question, top_k=10000,dialect='bigquery')\n",
        "\n",
        "\n",
        "chain = sql_database.query.create_sql_query_chain(llm, db, k=100, prompt=PROMPT)\n",
        "#chain = sql_database.query.create_sql_query_chain(llm,db,k=100,prompt=final_prompt)\n",
        "\n",
        "\n",
        "#chain(final_prompt)\n",
        "\n",
        "\n",
        "\n",
        "\n",
        "\n",
        "\n"
      ],
      "metadata": {
        "id": "rbVGKjH_kPKw"
      },
      "execution_count": null,
      "outputs": []
    },
    {
      "cell_type": "code",
      "source": [
        "response = chain.invoke({\"question\": \"give me the vehicle id with maximum topspeed\"})"
      ],
      "metadata": {
        "id": "g1Cz5_hcw0M7"
      },
      "execution_count": null,
      "outputs": []
    },
    {
      "cell_type": "code",
      "source": [
        "print(response)"
      ],
      "metadata": {
        "colab": {
          "base_uri": "https://localhost:8080/"
        },
        "id": "XV6p_o0H39Bg",
        "outputId": "190df2dd-4104-4dea-84d5-4cdf44088343"
      },
      "execution_count": null,
      "outputs": [
        {
          "output_type": "stream",
          "name": "stdout",
          "text": [
            "SELECT vehicle_id FROM Topspeed ORDER BY top_speed DESC LIMIT 1;\n"
          ]
        }
      ]
    },
    {
      "cell_type": "code",
      "source": [
        "PROMPT"
      ],
      "metadata": {
        "colab": {
          "base_uri": "https://localhost:8080/"
        },
        "id": "jnwfFZ6e2Q1-",
        "outputId": "87109990-788e-433a-adbb-6abfc85184cf"
      },
      "execution_count": null,
      "outputs": [
        {
          "output_type": "execute_result",
          "data": {
            "text/plain": [
              "PromptTemplate(input_variables=['dialect', 'input', 'table_info', 'top_k'], template=' Given an input question, first create a yntactically correct {dialect} query to run, then look at the results of the query and return the answer.\\nUnless the user specifies in the question a specific number of examples to obtain, query for at most {top_k} results using the LIMIT clause as per BigQuery SQL\\nBe careful to not query for columns that do not exist. Also, pay attention to which column is in which table.\\n\\nDatabase Description:\\n\\nThere are 3 tables: Vehicle_ID, Mileage, and Topspeed.\\nVehicle_ID contains: vehicle_id (unique numerical identifier), vehicle_number (alphanumeric code), smoke_emission (grams/km), and temperature (degrees Celsius).\\nTopspeed contains: vehicle_number, capacitor (Farads), cc (engine displacement), and top_speed (km/h).\\nMileage contains: vehicle_number, make (vehicle manufacturer), type (vehicle model), and mileage (km/L).\\nThe vehicle_id column is only present in the Vehicle_ID table.\\n\\nUse the following format:\\n\\nQuestion: \"Question here\"\\nSQLQuery: \"SQL Query to run\"\\nSQLResult: \"Result of the SQLQuery\"\\nAnswer: \"Final answer here\"\\n\\nOnly use the following tables:\\n\\n{table_info}\\n\\nSome examples of SQL queries that correspond to questions are:\\n\"Find the average mileage for vehicles with a top speed greater than 200 km/h.\" : \"SELECT AVG(mileage) AS average_mileage FROM Mileage JOIN Topspeed ON Mileage.vehicle_number = Topspeed.vehicle_number WHERE top_speed > 200;\",\\n\"List the vehicle model, make, and capacitor for vehicles with a smoke emission between 40 and 60 grams/km.\": \"SELECT type, make, capacitor FROM Mileage JOIN Vehicle_ID ON Mileage.vehicle_number = Vehicle_ID.vehicle_number WHERE smoke_emission BETWEEN 40 AND 60;\",\\n\"Retrieve the vehicle IDs and temperatures for vehicles with an engine displacement (cc) of 1500 or higher.\" : \"SELECT vehicle_id, temperature FROM Vehicle_ID JOIN Topspeed ON Vehicle_ID.vehicle_number = Topspeed.vehicle_number WHERE cc >= 1500;\",\\n\"Calculate the total number of vehicles with a mileage of less than 15 km/L.\":\"SELECT COUNT(*) AS total_vehicles FROM Mileage WHERE mileage < 15;\",\\n\"Find the highest smoke emission value across all vehicles.\":\"SELECT MAX(smoke_emission) AS highest_smoke_emission FROM Vehicle_ID;\",\\n\"Show the vehicle model with the lowest temperature.\":\"SELECT type AS vehicle_model FROM Mileage JOIN Vehicle_ID ON Mileage.vehicle_number = Vehicle_ID.vehicle_number WHERE temperature = (SELECT MIN(temperature) FROM Vehicle_ID);\"\\n\\n\\nQuestion: {input}')"
            ]
          },
          "metadata": {},
          "execution_count": 12
        }
      ]
    },
    {
      "cell_type": "code",
      "source": [
        "print(type(chain))"
      ],
      "metadata": {
        "colab": {
          "base_uri": "https://localhost:8080/"
        },
        "id": "dEGYikdj1PDR",
        "outputId": "b43a7b64-5a08-434b-fc80-866ade36e145"
      },
      "execution_count": null,
      "outputs": [
        {
          "output_type": "stream",
          "name": "stdout",
          "text": [
            "<class 'langchain_core.runnables.base.RunnableSequence'>\n"
          ]
        }
      ]
    },
    {
      "cell_type": "code",
      "source": [
        "print(final_prompt)"
      ],
      "metadata": {
        "colab": {
          "base_uri": "https://localhost:8080/"
        },
        "id": "NwhmV9zytou7",
        "outputId": "7da4613e-cb73-4a15-ccce-d7c969b1a681"
      },
      "execution_count": null,
      "outputs": [
        {
          "output_type": "stream",
          "name": "stdout",
          "text": [
            " Given an input question, first create a yntactically correct bigquery query to run, then look at the results of the query and return the answer.\n",
            "Unless the user specifies in the question a specific number of examples to obtain, query for at most 10000 results using the LIMIT clause as per BigQuery SQL\n",
            "Be careful to not query for columns that do not exist. Also, pay attention to which column is in which table.\n",
            "\n",
            "Database Description:\n",
            "\n",
            "There are 3 tables: Vehicle_ID, Mileage, and Topspeed.\n",
            "Vehicle_ID contains: vehicle_id (unique numerical identifier), vehicle_number (alphanumeric code), smoke_emission (grams/km), and temperature (degrees Celsius).\n",
            "Topspeed contains: vehicle_number, capacitor (Farads), cc (engine displacement), and top_speed (km/h).\n",
            "Mileage contains: vehicle_number, make (vehicle manufacturer), type (vehicle model), and mileage (km/L).\n",
            "The vehicle_id column is only present in the Vehicle_ID table.\n",
            "\n",
            "Use the following format:\n",
            "\n",
            "Question: \"Question here\"\n",
            "SQLQuery: \"SQL Query to run\"\n",
            "SQLResult: \"Result of the SQLQuery\"\n",
            "Answer: \"Final answer here\"\n",
            "\n",
            "Only use the following tables:\n",
            "\n",
            "['Vehicle_ID_Table', 'topSpeed', 'Mileage']\n",
            "\n",
            "Some examples of SQL queries that correspond to questions are:\n",
            "\"Find the average mileage for vehicles with a top speed greater than 200 km/h.\" : \"SELECT AVG(mileage) AS average_mileage FROM Mileage JOIN Topspeed ON Mileage.vehicle_number = Topspeed.vehicle_number WHERE top_speed > 200;\",\n",
            "\"List the vehicle model, make, and capacitor for vehicles with a smoke emission between 40 and 60 grams/km.\": \"SELECT type, make, capacitor FROM Mileage JOIN Vehicle_ID ON Mileage.vehicle_number = Vehicle_ID.vehicle_number WHERE smoke_emission BETWEEN 40 AND 60;\",\n",
            "\"Retrieve the vehicle IDs and temperatures for vehicles with an engine displacement (cc) of 1500 or higher.\" : \"SELECT vehicle_id, temperature FROM Vehicle_ID JOIN Topspeed ON Vehicle_ID.vehicle_number = Topspeed.vehicle_number WHERE cc >= 1500;\",\n",
            "\"Calculate the total number of vehicles with a mileage of less than 15 km/L.\":\"SELECT COUNT(*) AS total_vehicles FROM Mileage WHERE mileage < 15;\",\n",
            "\"Find the highest smoke emission value across all vehicles.\":\"SELECT MAX(smoke_emission) AS highest_smoke_emission FROM Vehicle_ID;\",\n",
            "\"Show the vehicle model with the lowest temperature.\":\"SELECT type AS vehicle_model FROM Mileage JOIN Vehicle_ID ON Mileage.vehicle_number = Vehicle_ID.vehicle_number WHERE temperature = (SELECT MIN(temperature) FROM Vehicle_ID);\"\n",
            "\n",
            "\n",
            "Question: give me the vehicle id with maximum topspeed\n"
          ]
        }
      ]
    },
    {
      "cell_type": "code",
      "source": [
        "table_name"
      ],
      "metadata": {
        "colab": {
          "base_uri": "https://localhost:8080/"
        },
        "id": "ypPrg3jJl1yo",
        "outputId": "aad78ce5-5e81-4507-bada-0cc875544d98"
      },
      "execution_count": null,
      "outputs": [
        {
          "output_type": "execute_result",
          "data": {
            "text/plain": [
              "['Vehicle_ID_Table', 'topSpeed', 'Mileage']"
            ]
          },
          "metadata": {},
          "execution_count": 31
        }
      ]
    },
    {
      "cell_type": "code",
      "source": [
        "prompt = {\n",
        "    \"database_description\": \"There are 3 tables: Vehicle_ID, Mileage, and Topspeed. To identify the vehicle_id, it needs to be joined with the vehicle_number column in other tables.\\nVehicle_ID contains: vehicle_id (unique numerical identifier), vehicle_number (alphanumeric code), smoke_emission (grams/km), and temperature (degrees Celsius).\\nTopspeed contains: vehicle_number, capacitor (Farads), cc (engine displacement), and top_speed (km/h).\\nMileage contains: vehicle_number, make (vehicle manufacturer), type (vehicle model), and mileage (km/L).\",\n",
        "    \"example_queries\": [\n",
        "        {\n",
        "            \"natural_language_query\": \"Find the average mileage for vehicles with a top speed greater than 200 km/h.\",\n",
        "            \"sql_query\": \"SELECT AVG(mileage) AS average_mileage FROM Mileage JOIN Topspeed ON Mileage.vehicle_number = Topspeed.vehicle_number WHERE top_speed > 200;\"\n",
        "        },\n",
        "        # ... other example queries\n",
        "    ],\n",
        "    \"query\": \"Your natural language query here\"\n",
        "}\n"
      ],
      "metadata": {
        "id": "n41Pd2rlT5Sp"
      },
      "execution_count": null,
      "outputs": []
    },
    {
      "cell_type": "code",
      "source": [
        "Database Description:\n",
        "\n",
        "There are 3 tables: Vehicle_ID, Mileage, and Topspeed.\n",
        "Vehicle_ID contains: vehicle_id (unique numerical identifier), vehicle_number (alphanumeric code), smoke_emission (grams/km), and temperature (degrees Celsius).\n",
        "Topspeed contains: vehicle_number, capacitor (Farads), cc (engine displacement), and top_speed (km/h).\n",
        "Mileage contains: vehicle_number, make (vehicle manufacturer), type (vehicle model), and mileage (km/L).\n",
        "The vehicle_id column is only present in the Vehicle_ID table.\n",
        "\n",
        "Natural Language Query: \"Find the average mileage for vehicles with a top speed greater than 200 km/h.\" SQL Query: ```sql SELECT AVG(mileage) AS average_mileage FROM Mileage JOIN Topspeed ON Mileage.vehicle_number = Topspeed.vehicle_number WHERE top_speed > 200;\n",
        "\n",
        "Natural Language Query: \"List the vehicle model, make, and capacitor for vehicles with a smoke emission between 40 and 60 grams/km.\" SQL Query: ```sql SELECT type, make, capacitor FROM Mileage JOIN Vehicle_ID ON Mileage.vehicle_number = Vehicle_ID.vehicle_number WHERE smoke_emission BETWEEN 40 AND 60;\n",
        "\n",
        "Natural Language Query: \"Retrieve the vehicle IDs and temperatures for vehicles with an engine displacement (cc) of 1500 or higher.\" SQL Query: ```sql SELECT vehicle_id, temperature FROM Vehicle_ID JOIN Topspeed ON Vehicle_ID.vehicle_number = Topspeed.vehicle_number WHERE cc >= 1500;\n",
        "\n",
        "Natural Language Query: \"Calculate the total number of vehicles with a mileage of less than 15 km/L.\" SQL Query: ```sql SELECT COUNT(*) AS total_vehicles FROM Mileage WHERE mileage < 15;\n",
        "\n",
        "Natural Language Query: \"Find the highest smoke emission value across all vehicles.\" SQL Query: ```sql SELECT MAX(smoke_emission) AS highest_smoke_emission FROM Vehicle_ID;\n",
        "\n",
        "Natural Language Query: \"Show the vehicle model with the lowest temperature.\" SQL Query: ```sql SELECT type AS vehicle_model FROM Mileage JOIN Vehicle_ID ON Mileage.vehicle_number = Vehicle_ID.vehicle_number WHERE temperature = (SELECT MIN(temperature) FROM Vehicle_ID);\n",
        "\n"
      ],
      "metadata": {
        "id": "eBmtnVpjT5Vd"
      },
      "execution_count": null,
      "outputs": []
    },
    {
      "cell_type": "code",
      "source": [],
      "metadata": {
        "id": "6Rl72agnT5Xw"
      },
      "execution_count": null,
      "outputs": []
    },
    {
      "cell_type": "code",
      "source": [],
      "metadata": {
        "id": "GSpJ21EWT5aH"
      },
      "execution_count": null,
      "outputs": []
    },
    {
      "cell_type": "code",
      "source": [],
      "metadata": {
        "id": "0943LWP8T5cl"
      },
      "execution_count": null,
      "outputs": []
    },
    {
      "cell_type": "code",
      "source": [],
      "metadata": {
        "id": "vzVmRN34T5e9"
      },
      "execution_count": null,
      "outputs": []
    },
    {
      "cell_type": "code",
      "source": [],
      "metadata": {
        "id": "hxjHG5EgT5hW"
      },
      "execution_count": null,
      "outputs": []
    },
    {
      "cell_type": "code",
      "source": [],
      "metadata": {
        "id": "Ql5iTlg-T5jo"
      },
      "execution_count": null,
      "outputs": []
    },
    {
      "cell_type": "code",
      "source": [],
      "metadata": {
        "id": "-tnygEO-T5me"
      },
      "execution_count": null,
      "outputs": []
    },
    {
      "cell_type": "code",
      "source": [],
      "metadata": {
        "id": "0HlJl0fpT5oh"
      },
      "execution_count": null,
      "outputs": []
    },
    {
      "cell_type": "code",
      "source": [],
      "metadata": {
        "id": "6xaUDyqeT5q7"
      },
      "execution_count": null,
      "outputs": []
    },
    {
      "cell_type": "code",
      "source": [],
      "metadata": {
        "id": "_h9SyvO8bJhG"
      },
      "execution_count": null,
      "outputs": []
    },
    {
      "cell_type": "code",
      "source": [],
      "metadata": {
        "id": "PnEMtOMnbJe-"
      },
      "execution_count": null,
      "outputs": []
    },
    {
      "cell_type": "code",
      "source": [],
      "metadata": {
        "id": "r1ns06h9bJcY"
      },
      "execution_count": null,
      "outputs": []
    },
    {
      "cell_type": "code",
      "source": [],
      "metadata": {
        "id": "IHlZlfQkbJZw"
      },
      "execution_count": null,
      "outputs": []
    },
    {
      "cell_type": "code",
      "source": [],
      "metadata": {
        "id": "3khacBPAbJXK"
      },
      "execution_count": null,
      "outputs": []
    },
    {
      "cell_type": "code",
      "source": [],
      "metadata": {
        "id": "tobH6Sq7bJUo"
      },
      "execution_count": null,
      "outputs": []
    },
    {
      "cell_type": "code",
      "source": [],
      "metadata": {
        "id": "5mq4Uvk7bJSk"
      },
      "execution_count": null,
      "outputs": []
    },
    {
      "cell_type": "code",
      "source": [],
      "metadata": {
        "id": "DjgRUu55bJQJ"
      },
      "execution_count": null,
      "outputs": []
    },
    {
      "cell_type": "code",
      "source": [],
      "metadata": {
        "id": "n9Ig0L5mbJNi"
      },
      "execution_count": null,
      "outputs": []
    },
    {
      "cell_type": "code",
      "source": [],
      "metadata": {
        "id": "o3s8KSWybJK_"
      },
      "execution_count": null,
      "outputs": []
    },
    {
      "cell_type": "code",
      "source": [],
      "metadata": {
        "id": "ztALYqU1bJIc"
      },
      "execution_count": null,
      "outputs": []
    },
    {
      "cell_type": "code",
      "source": [],
      "metadata": {
        "id": "4ySLRIf8bJF_"
      },
      "execution_count": null,
      "outputs": []
    },
    {
      "cell_type": "code",
      "source": [],
      "metadata": {
        "id": "HAXjdfLibJDu"
      },
      "execution_count": null,
      "outputs": []
    },
    {
      "cell_type": "code",
      "source": [],
      "metadata": {
        "id": "NHNDgPJrT5s8"
      },
      "execution_count": null,
      "outputs": []
    }
  ]
}