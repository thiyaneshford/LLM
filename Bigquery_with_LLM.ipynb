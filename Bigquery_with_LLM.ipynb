{
  "nbformat": 4,
  "nbformat_minor": 0,
  "metadata": {
    "colab": {
      "provenance": []
    },
    "kernelspec": {
      "name": "python3",
      "display_name": "Python 3"
    },
    "language_info": {
      "name": "python"
    }
  },
  "cells": [
    {
      "cell_type": "code",
      "execution_count": 2,
      "metadata": {
        "colab": {
          "base_uri": "https://localhost:8080/"
        },
        "id": "OaMyI9y_4UXc",
        "outputId": "947e666a-9790-4cdc-81fc-4fa2a5cacbcb"
      },
      "outputs": [
        {
          "output_type": "stream",
          "name": "stdout",
          "text": [
            "\u001b[2K     \u001b[90m━━━━━━━━━━━━━━━━━━━━━━━━━━━━━━━━━━━━━━━━\u001b[0m \u001b[32m1.3/1.3 MB\u001b[0m \u001b[31m7.9 MB/s\u001b[0m eta \u001b[36m0:00:00\u001b[0m\n",
            "\u001b[2K     \u001b[90m━━━━━━━━━━━━━━━━━━━━━━━━━━━━━━━━━━━━━━━━\u001b[0m \u001b[32m123.6/123.6 kB\u001b[0m \u001b[31m11.0 MB/s\u001b[0m eta \u001b[36m0:00:00\u001b[0m\n",
            "\u001b[2K     \u001b[90m━━━━━━━━━━━━━━━━━━━━━━━━━━━━━━━━━━━━━━━━\u001b[0m \u001b[32m3.1/3.1 MB\u001b[0m \u001b[31m16.0 MB/s\u001b[0m eta \u001b[36m0:00:00\u001b[0m\n",
            "\u001b[2K     \u001b[90m━━━━━━━━━━━━━━━━━━━━━━━━━━━━━━━━━━━━━━━━\u001b[0m \u001b[32m12.3/12.3 MB\u001b[0m \u001b[31m35.8 MB/s\u001b[0m eta \u001b[36m0:00:00\u001b[0m\n",
            "\u001b[2K     \u001b[90m━━━━━━━━━━━━━━━━━━━━━━━━━━━━━━━━━━━━━━━━\u001b[0m \u001b[32m507.1/507.1 kB\u001b[0m \u001b[31m42.2 MB/s\u001b[0m eta \u001b[36m0:00:00\u001b[0m\n",
            "\u001b[2K     \u001b[90m━━━━━━━━━━━━━━━━━━━━━━━━━━━━━━━━━━━━━━━━\u001b[0m \u001b[32m13.0/13.0 MB\u001b[0m \u001b[31m60.4 MB/s\u001b[0m eta \u001b[36m0:00:00\u001b[0m\n",
            "\u001b[2K     \u001b[90m━━━━━━━━━━━━━━━━━━━━━━━━━━━━━━━━━━━━━━━━\u001b[0m \u001b[32m278.2/278.2 kB\u001b[0m \u001b[31m23.8 MB/s\u001b[0m eta \u001b[36m0:00:00\u001b[0m\n",
            "\u001b[2K     \u001b[90m━━━━━━━━━━━━━━━━━━━━━━━━━━━━━━━━━━━━━━━━\u001b[0m \u001b[32m17.6/17.6 MB\u001b[0m \u001b[31m67.2 MB/s\u001b[0m eta \u001b[36m0:00:00\u001b[0m\n",
            "\u001b[2K     \u001b[90m━━━━━━━━━━━━━━━━━━━━━━━━━━━━━━━━━━━━━━━━\u001b[0m \u001b[32m8.2/8.2 MB\u001b[0m \u001b[31m90.1 MB/s\u001b[0m eta \u001b[36m0:00:00\u001b[0m\n",
            "\u001b[2K     \u001b[90m━━━━━━━━━━━━━━━━━━━━━━━━━━━━━━━━━━━━━━━━\u001b[0m \u001b[32m90.0/90.0 kB\u001b[0m \u001b[31m9.2 MB/s\u001b[0m eta \u001b[36m0:00:00\u001b[0m\n",
            "\u001b[?25h  Installing build dependencies ... \u001b[?25l\u001b[?25hdone\n",
            "  Getting requirements to build wheel ... \u001b[?25l\u001b[?25hdone\n",
            "  Preparing metadata (pyproject.toml) ... \u001b[?25l\u001b[?25hdone\n",
            "\u001b[2K     \u001b[90m━━━━━━━━━━━━━━━━━━━━━━━━━━━━━━━━━━━━━━━━\u001b[0m \u001b[32m964.5/964.5 kB\u001b[0m \u001b[31m42.8 MB/s\u001b[0m eta \u001b[36m0:00:00\u001b[0m\n",
            "\u001b[2K     \u001b[90m━━━━━━━━━━━━━━━━━━━━━━━━━━━━━━━━━━━━━━━━\u001b[0m \u001b[32m92.0/92.0 kB\u001b[0m \u001b[31m10.7 MB/s\u001b[0m eta \u001b[36m0:00:00\u001b[0m\n",
            "\u001b[2K     \u001b[90m━━━━━━━━━━━━━━━━━━━━━━━━━━━━━━━━━━━━━━━━\u001b[0m \u001b[32m60.3/60.3 kB\u001b[0m \u001b[31m6.1 MB/s\u001b[0m eta \u001b[36m0:00:00\u001b[0m\n",
            "\u001b[2K     \u001b[90m━━━━━━━━━━━━━━━━━━━━━━━━━━━━━━━━━━━━━━━━\u001b[0m \u001b[32m5.4/5.4 MB\u001b[0m \u001b[31m89.6 MB/s\u001b[0m eta \u001b[36m0:00:00\u001b[0m\n",
            "\u001b[2K     \u001b[90m━━━━━━━━━━━━━━━━━━━━━━━━━━━━━━━━━━━━━━━━\u001b[0m \u001b[32m6.4/6.4 MB\u001b[0m \u001b[31m89.3 MB/s\u001b[0m eta \u001b[36m0:00:00\u001b[0m\n",
            "\u001b[2K     \u001b[90m━━━━━━━━━━━━━━━━━━━━━━━━━━━━━━━━━━━━━━━━\u001b[0m \u001b[32m346.6/346.6 kB\u001b[0m \u001b[31m34.8 MB/s\u001b[0m eta \u001b[36m0:00:00\u001b[0m\n",
            "\u001b[2K     \u001b[90m━━━━━━━━━━━━━━━━━━━━━━━━━━━━━━━━━━━━━━━━\u001b[0m \u001b[32m115.3/115.3 kB\u001b[0m \u001b[31m11.3 MB/s\u001b[0m eta \u001b[36m0:00:00\u001b[0m\n",
            "\u001b[2K     \u001b[90m━━━━━━━━━━━━━━━━━━━━━━━━━━━━━━━━━━━━━━━━\u001b[0m \u001b[32m134.8/134.8 kB\u001b[0m \u001b[31m17.4 MB/s\u001b[0m eta \u001b[36m0:00:00\u001b[0m\n",
            "\u001b[2K     \u001b[90m━━━━━━━━━━━━━━━━━━━━━━━━━━━━━━━━━━━━━━━━\u001b[0m \u001b[32m5.4/5.4 MB\u001b[0m \u001b[31m43.7 MB/s\u001b[0m eta \u001b[36m0:00:00\u001b[0m\n",
            "\u001b[2K     \u001b[90m━━━━━━━━━━━━━━━━━━━━━━━━━━━━━━━━━━━━━━━━\u001b[0m \u001b[32m1.3/1.3 MB\u001b[0m \u001b[31m67.1 MB/s\u001b[0m eta \u001b[36m0:00:00\u001b[0m\n",
            "\u001b[2K     \u001b[90m━━━━━━━━━━━━━━━━━━━━━━━━━━━━━━━━━━━━━━━━\u001b[0m \u001b[32m49.4/49.4 kB\u001b[0m \u001b[31m6.1 MB/s\u001b[0m eta \u001b[36m0:00:00\u001b[0m\n",
            "\u001b[2K     \u001b[90m━━━━━━━━━━━━━━━━━━━━━━━━━━━━━━━━━━━━━━━━\u001b[0m \u001b[32m70.0/70.0 kB\u001b[0m \u001b[31m8.5 MB/s\u001b[0m eta \u001b[36m0:00:00\u001b[0m\n",
            "\u001b[2K     \u001b[90m━━━━━━━━━━━━━━━━━━━━━━━━━━━━━━━━━━━━━━━━\u001b[0m \u001b[32m92.1/92.1 kB\u001b[0m \u001b[31m9.9 MB/s\u001b[0m eta \u001b[36m0:00:00\u001b[0m\n",
            "\u001b[2K     \u001b[90m━━━━━━━━━━━━━━━━━━━━━━━━━━━━━━━━━━━━━━━━\u001b[0m \u001b[32m68.9/68.9 kB\u001b[0m \u001b[31m8.2 MB/s\u001b[0m eta \u001b[36m0:00:00\u001b[0m\n",
            "\u001b[2K     \u001b[90m━━━━━━━━━━━━━━━━━━━━━━━━━━━━━━━━━━━━━━━━\u001b[0m \u001b[32m92.1/92.1 kB\u001b[0m \u001b[31m11.3 MB/s\u001b[0m eta \u001b[36m0:00:00\u001b[0m\n",
            "\u001b[2K     \u001b[90m━━━━━━━━━━━━━━━━━━━━━━━━━━━━━━━━━━━━━━━━\u001b[0m \u001b[32m67.0/67.0 kB\u001b[0m \u001b[31m6.4 MB/s\u001b[0m eta \u001b[36m0:00:00\u001b[0m\n",
            "\u001b[2K     \u001b[90m━━━━━━━━━━━━━━━━━━━━━━━━━━━━━━━━━━━━━━━━\u001b[0m \u001b[32m93.1/93.1 kB\u001b[0m \u001b[31m11.4 MB/s\u001b[0m eta \u001b[36m0:00:00\u001b[0m\n",
            "\u001b[2K     \u001b[90m━━━━━━━━━━━━━━━━━━━━━━━━━━━━━━━━━━━━━━━━\u001b[0m \u001b[32m92.9/92.9 kB\u001b[0m \u001b[31m10.4 MB/s\u001b[0m eta \u001b[36m0:00:00\u001b[0m\n",
            "\u001b[2K     \u001b[90m━━━━━━━━━━━━━━━━━━━━━━━━━━━━━━━━━━━━━━━━\u001b[0m \u001b[32m92.9/92.9 kB\u001b[0m \u001b[31m10.2 MB/s\u001b[0m eta \u001b[36m0:00:00\u001b[0m\n",
            "\u001b[2K     \u001b[90m━━━━━━━━━━━━━━━━━━━━━━━━━━━━━━━━━━━━━━━━\u001b[0m \u001b[32m66.3/66.3 kB\u001b[0m \u001b[31m8.0 MB/s\u001b[0m eta \u001b[36m0:00:00\u001b[0m\n",
            "\u001b[2K     \u001b[90m━━━━━━━━━━━━━━━━━━━━━━━━━━━━━━━━━━━━━━━━\u001b[0m \u001b[32m46.0/46.0 kB\u001b[0m \u001b[31m4.6 MB/s\u001b[0m eta \u001b[36m0:00:00\u001b[0m\n",
            "\u001b[2K     \u001b[90m━━━━━━━━━━━━━━━━━━━━━━━━━━━━━━━━━━━━━━━━\u001b[0m \u001b[32m58.3/58.3 kB\u001b[0m \u001b[31m6.6 MB/s\u001b[0m eta \u001b[36m0:00:00\u001b[0m\n",
            "\u001b[2K     \u001b[90m━━━━━━━━━━━━━━━━━━━━━━━━━━━━━━━━━━━━━━━━\u001b[0m \u001b[32m341.4/341.4 kB\u001b[0m \u001b[31m29.0 MB/s\u001b[0m eta \u001b[36m0:00:00\u001b[0m\n",
            "\u001b[2K     \u001b[90m━━━━━━━━━━━━━━━━━━━━━━━━━━━━━━━━━━━━━━━━\u001b[0m \u001b[32m3.4/3.4 MB\u001b[0m \u001b[31m86.6 MB/s\u001b[0m eta \u001b[36m0:00:00\u001b[0m\n",
            "\u001b[2K     \u001b[90m━━━━━━━━━━━━━━━━━━━━━━━━━━━━━━━━━━━━━━━━\u001b[0m \u001b[32m1.3/1.3 MB\u001b[0m \u001b[31m71.6 MB/s\u001b[0m eta \u001b[36m0:00:00\u001b[0m\n",
            "\u001b[2K     \u001b[90m━━━━━━━━━━━━━━━━━━━━━━━━━━━━━━━━━━━━━━━━\u001b[0m \u001b[32m130.2/130.2 kB\u001b[0m \u001b[31m14.9 MB/s\u001b[0m eta \u001b[36m0:00:00\u001b[0m\n",
            "\u001b[2K     \u001b[90m━━━━━━━━━━━━━━━━━━━━━━━━━━━━━━━━━━━━━━━━\u001b[0m \u001b[32m86.8/86.8 kB\u001b[0m \u001b[31m11.8 MB/s\u001b[0m eta \u001b[36m0:00:00\u001b[0m\n",
            "\u001b[?25h  Building wheel for hnswlib (pyproject.toml) ... \u001b[?25l\u001b[?25hdone\n",
            "\u001b[33m  WARNING: The script dotenv is installed in '/root/.local/bin' which is not on PATH.\n",
            "  Consider adding this directory to PATH or, if you prefer to suppress this warning, use --no-warn-script-location.\u001b[0m\u001b[33m\n",
            "\u001b[0m\u001b[33m  WARNING: The script humanfriendly is installed in '/root/.local/bin' which is not on PATH.\n",
            "  Consider adding this directory to PATH or, if you prefer to suppress this warning, use --no-warn-script-location.\u001b[0m\u001b[33m\n",
            "\u001b[0m\u001b[33m  WARNING: The script watchfiles is installed in '/root/.local/bin' which is not on PATH.\n",
            "  Consider adding this directory to PATH or, if you prefer to suppress this warning, use --no-warn-script-location.\u001b[0m\u001b[33m\n",
            "\u001b[0m\u001b[33m  WARNING: The script uvicorn is installed in '/root/.local/bin' which is not on PATH.\n",
            "  Consider adding this directory to PATH or, if you prefer to suppress this warning, use --no-warn-script-location.\u001b[0m\u001b[33m\n",
            "\u001b[0m\u001b[33m  WARNING: The script langchain is installed in '/root/.local/bin' which is not on PATH.\n",
            "  Consider adding this directory to PATH or, if you prefer to suppress this warning, use --no-warn-script-location.\u001b[0m\u001b[33m\n",
            "\u001b[0m\u001b[33m  WARNING: The script coloredlogs is installed in '/root/.local/bin' which is not on PATH.\n",
            "  Consider adding this directory to PATH or, if you prefer to suppress this warning, use --no-warn-script-location.\u001b[0m\u001b[33m\n",
            "\u001b[0m\u001b[33m  WARNING: The script onnxruntime_test is installed in '/root/.local/bin' which is not on PATH.\n",
            "  Consider adding this directory to PATH or, if you prefer to suppress this warning, use --no-warn-script-location.\u001b[0m\u001b[33m\n",
            "\u001b[0m\u001b[33m  WARNING: The script transformers-cli is installed in '/root/.local/bin' which is not on PATH.\n",
            "  Consider adding this directory to PATH or, if you prefer to suppress this warning, use --no-warn-script-location.\u001b[0m\u001b[33m\n",
            "\u001b[0m\u001b[33m  WARNING: The script langchain-server is installed in '/root/.local/bin' which is not on PATH.\n",
            "  Consider adding this directory to PATH or, if you prefer to suppress this warning, use --no-warn-script-location.\u001b[0m\u001b[33m\n",
            "\u001b[0m\u001b[33m  WARNING: The script datasets-cli is installed in '/root/.local/bin' which is not on PATH.\n",
            "  Consider adding this directory to PATH or, if you prefer to suppress this warning, use --no-warn-script-location.\u001b[0m\u001b[33m\n",
            "\u001b[0m\u001b[31mERROR: pip's dependency resolver does not currently take into account all the packages that are installed. This behaviour is the source of the following dependency conflicts.\n",
            "lida 0.0.10 requires kaleido, which is not installed.\n",
            "lida 0.0.10 requires python-multipart, which is not installed.\n",
            "llmx 0.0.15a0 requires cohere, which is not installed.\n",
            "llmx 0.0.15a0 requires openai, which is not installed.\n",
            "llmx 0.0.15a0 requires tiktoken, which is not installed.\n",
            "bigframes 0.17.0 requires pandas<2.1.4,>=1.5.0, but you have pandas 2.1.4 which is incompatible.\n",
            "google-colab 1.0.0 requires pandas==1.5.3, but you have pandas 2.1.4 which is incompatible.\u001b[0m\u001b[31m\n",
            "\u001b[0m"
          ]
        }
      ],
      "source": [
        "!pip install google-cloud-aiplatform --upgrade --user --quiet\n",
        "!pip install langchain==0.0.229 chromadb==0.3.26 pydantic==1.10.8 typing-inspect==0.8.0 typing_extensions==4.5.0 pandas datasets google-api-python-client pypdf faiss-cpu transformers config --upgrade --user --quiet"
      ]
    },
    {
      "cell_type": "code",
      "source": [
        "# Below libraries are required to build a SQL engine for BigQuery\n",
        "!pip install --user SQLAlchemy==1.4.48 --quiet\n",
        "!pip install --user sqlalchemy-bigquery --quiet"
      ],
      "metadata": {
        "colab": {
          "base_uri": "https://localhost:8080/"
        },
        "id": "61r-_Ivd4nvv",
        "outputId": "8d5e308c-e30c-4630-81c5-59b067ed5120"
      },
      "execution_count": 3,
      "outputs": [
        {
          "output_type": "stream",
          "name": "stdout",
          "text": [
            "\u001b[?25l     \u001b[90m━━━━━━━━━━━━━━━━━━━━━━━━━━━━━━━━━━━━━━━━\u001b[0m \u001b[32m0.0/1.6 MB\u001b[0m \u001b[31m?\u001b[0m eta \u001b[36m-:--:--\u001b[0m\r\u001b[2K     \u001b[91m━\u001b[0m\u001b[91m╸\u001b[0m\u001b[90m━━━━━━━━━━━━━━━━━━━━━━━━━━━━━━━━━━━━━━\u001b[0m \u001b[32m0.1/1.6 MB\u001b[0m \u001b[31m2.0 MB/s\u001b[0m eta \u001b[36m0:00:01\u001b[0m\r\u001b[2K     \u001b[91m━━━━━━━━\u001b[0m\u001b[91m╸\u001b[0m\u001b[90m━━━━━━━━━━━━━━━━━━━━━━━━━━━━━━━\u001b[0m \u001b[32m0.4/1.6 MB\u001b[0m \u001b[31m5.1 MB/s\u001b[0m eta \u001b[36m0:00:01\u001b[0m\r\u001b[2K     \u001b[91m━━━━━━━━━━━━━━━━\u001b[0m\u001b[90m╺\u001b[0m\u001b[90m━━━━━━━━━━━━━━━━━━━━━━━\u001b[0m \u001b[32m0.7/1.6 MB\u001b[0m \u001b[31m6.3 MB/s\u001b[0m eta \u001b[36m0:00:01\u001b[0m\r\u001b[2K     \u001b[91m━━━━━━━━━━━━━━━━━━━━━━━━\u001b[0m\u001b[91m╸\u001b[0m\u001b[90m━━━━━━━━━━━━━━━\u001b[0m \u001b[32m1.0/1.6 MB\u001b[0m \u001b[31m7.1 MB/s\u001b[0m eta \u001b[36m0:00:01\u001b[0m\r\u001b[2K     \u001b[91m━━━━━━━━━━━━━━━━━━━━━━━━━━━━━━━━━━\u001b[0m\u001b[91m╸\u001b[0m\u001b[90m━━━━━\u001b[0m \u001b[32m1.4/1.6 MB\u001b[0m \u001b[31m8.0 MB/s\u001b[0m eta \u001b[36m0:00:01\u001b[0m\r\u001b[2K     \u001b[90m━━━━━━━━━━━━━━━━━━━━━━━━━━━━━━━━━━━━━━━━\u001b[0m \u001b[32m1.6/1.6 MB\u001b[0m \u001b[31m7.7 MB/s\u001b[0m eta \u001b[36m0:00:00\u001b[0m\n",
            "\u001b[?25h\u001b[31mERROR: pip's dependency resolver does not currently take into account all the packages that are installed. This behaviour is the source of the following dependency conflicts.\n",
            "bigframes 0.17.0 requires pandas<2.1.4,>=1.5.0, but you have pandas 2.1.4 which is incompatible.\n",
            "ipython-sql 0.5.0 requires sqlalchemy>=2.0, but you have sqlalchemy 1.4.48 which is incompatible.\u001b[0m\u001b[31m\n",
            "\u001b[0m"
          ]
        }
      ]
    },
    {
      "cell_type": "code",
      "source": [
        "# Install pandas\n",
        "! pip install --user --quiet pandas\n",
        "\n",
        "# Install HuggingFace Datasets\n",
        "! pip install --user --quiet datasets\n",
        "\n",
        "# Install Python client for Google Search API\n",
        "! pip install --user --quiet google-api-python-client\n",
        "\n",
        "# PDF loader\n",
        "! pip install --user --quiet pypdf\n",
        "\n",
        "# Install similarity search library\n",
        "# TO-DO: Replace with vertex AI Matching Engine\n",
        "! pip install --user --quiet faiss-cpu"
      ],
      "metadata": {
        "id": "EEyZl43W4nyC"
      },
      "execution_count": 4,
      "outputs": []
    },
    {
      "cell_type": "code",
      "source": [
        "from google.colab import auth as google_auth\n",
        "google_auth.authenticate_user()"
      ],
      "metadata": {
        "id": "UgAyoRI64n0e"
      },
      "execution_count": 5,
      "outputs": []
    },
    {
      "cell_type": "code",
      "source": [
        "PROJECT_ID = \"iron-decorator-297513\" # @param {type:\"string\"}\n",
        "LOCATION = \"us-central1\"  # @param {type:\"string\"}\n",
        "from google.cloud import aiplatform\n",
        "from langchain.llms import VertexAI\n",
        "import vertexai\n",
        "aiplatform.init(project=PROJECT_ID, location=LOCATION)\n",
        "vertexai.init(project=PROJECT_ID, location=LOCATION)\n"
      ],
      "metadata": {
        "id": "vx6Z0zhY4n22"
      },
      "execution_count": 1,
      "outputs": []
    },
    {
      "cell_type": "code",
      "source": [],
      "metadata": {
        "id": "JSDhj_Qe6t7s"
      },
      "execution_count": null,
      "outputs": []
    },
    {
      "cell_type": "code",
      "source": [
        "REQUESTS_PER_MINUTE = 100\n",
        "\n",
        "llm = VertexAI(\n",
        "    model_name='text-bison@001',\n",
        "    max_output_tokens=1024,\n",
        "    temperature=0.1,\n",
        "    top_p=0.8,\n",
        "    top_k=40,\n",
        "    verbose=True,\n",
        ")\n",
        "#chat = VertexChat()\n",
        "\n",
        "#mchat = VertexMultiTurnChat(max_output_tokens=1024)\n",
        "\n",
        "#embedding = VertexEmbeddings(requests_per_minute=REQUESTS_PER_MINUTE)\n"
      ],
      "metadata": {
        "id": "2Ib5T75y4n46"
      },
      "execution_count": 4,
      "outputs": []
    },
    {
      "cell_type": "code",
      "source": [
        "#iron-decorator-297513.tg_Dataste.LLMsales\n",
        "project_id = \"iron-decorator-297513\" # @param {type:\"string\"}\n",
        "LOCATION = \"us-central1\"  # @param {type:\"string\"}\n",
        "dataset_id = 'tg_Dataste' # @param {type:\"string\"}\n",
        "table_name = 'LLMsales' # @param {type:\"string\"}\n",
        "from sqlalchemy import *\n",
        "from sqlalchemy.engine import create_engine\n",
        "from sqlalchemy.schema import *\n",
        "import pandas as pd"
      ],
      "metadata": {
        "id": "6WMldbhK4n7l"
      },
      "execution_count": 10,
      "outputs": []
    },
    {
      "cell_type": "code",
      "source": [
        "table_uri = f\"bigquery://{project_id}/{dataset_id}\"\n",
        "engine = create_engine(f\"bigquery://{project_id}/{dataset_id}\")"
      ],
      "metadata": {
        "id": "ESaLMN_c4n-H"
      },
      "execution_count": 11,
      "outputs": []
    },
    {
      "cell_type": "code",
      "source": [
        "query=f\"\"\"SELECT * FROM `{project_id}.{dataset_id}.{table_name}`\"\"\"\n",
        "engine.execute(query).first()"
      ],
      "metadata": {
        "colab": {
          "base_uri": "https://localhost:8080/"
        },
        "id": "9ad2k52b4oAW",
        "outputId": "9585e45b-a311-4aea-9ead-9bae9ac9e3f9"
      },
      "execution_count": 12,
      "outputs": [
        {
          "output_type": "stream",
          "name": "stderr",
          "text": [
            "<ipython-input-12-c2f5a6a300c8>:2: RemovedIn20Warning: Deprecated API features detected! These feature(s) are not compatible with SQLAlchemy 2.0. To prevent incompatible upgrades prior to updating applications, ensure requirements files are pinned to \"sqlalchemy<2.0\". Set environment variable SQLALCHEMY_WARN_20=1 to show all deprecation warnings.  Set environment variable SQLALCHEMY_SILENCE_UBER_WARNING=1 to silence this message. (Background on SQLAlchemy 2.0 at: https://sqlalche.me/e/b8d9)\n",
            "  engine.execute(query).first()\n"
          ]
        },
        {
          "output_type": "execute_result",
          "data": {
            "text/plain": [
              "('INV-02363800013', datetime.date(2016, 12, 23), '3654', 'THE BEVERAGE SHOP / BELMOND', '207 E MAIN ST', 'BELMOND', '50421', '99', 'WRIGHT', '1062500.0', 'FLAVORED RUM', '370.0', 'PERNOD RICARD USA', '42717', 'MALIBU COCONUT RUM', 12, 1000, 10.49, 15.74, 4, 62.96, 4.0, 1.06)"
            ]
          },
          "metadata": {},
          "execution_count": 12
        }
      ]
    },
    {
      "cell_type": "code",
      "source": [
        "from langchain import SQLDatabase, SQLDatabaseChain\n",
        "from langchain.prompts.prompt import PromptTemplate"
      ],
      "metadata": {
        "id": "_tbZ8i0s4oDH"
      },
      "execution_count": 13,
      "outputs": []
    },
    {
      "cell_type": "code",
      "source": [
        "## reference do not execute this\n",
        "def bq_qna(question):\n",
        "  #create SQLDatabase instance from BQ engine\n",
        "  db = SQLDatabase(engine=engine,metadata=MetaData(bind=engine),include_tables=[table_name])\n",
        "  # db = SQLDatabase(engine=engine,metadata=MetaData(bind=engine),include_tables=['bigquery-public-data.iowa_liquor_sales.sales'])\n",
        "\n",
        "  #create SQL DB Chain with the initialized LLM and above SQLDB instance\n",
        "  db_chain = SQLDatabaseChain.from_llm(llm, db, verbose=True, return_intermediate_steps=True)\n",
        "\n",
        "\n",
        "\n",
        "# Set up langchain\n",
        "db = SQLDatabase.from_uri(sqlalchemy_url)\n",
        "llm = OpenAI(temperature=0, model=\"text-davinci-003\")\n",
        "toolkit = SQLDatabaseToolkit(db=db, llm=llm)\n",
        "agent_executor = create_sql_agent(\n",
        "llm=llm,\n",
        "toolkit=toolkit,\n",
        "verbose=True,\n",
        "top_k=1000,\n",
        ")"
      ],
      "metadata": {
        "id": "FdLLmZqC4oFP"
      },
      "execution_count": null,
      "outputs": []
    },
    {
      "cell_type": "code",
      "source": [
        "def bq_qna(question):\n",
        "  #create SQLDatabase instance from BQ engine\n",
        "  db = SQLDatabase(engine=engine,metadata=MetaData(bind=engine),include_tables=[table_name])\n",
        "  # db = SQLDatabase(engine=engine,metadata=MetaData(bind=engine),include_tables=['bigquery-public-data.iowa_liquor_sales.sales'])\n",
        "\n",
        "  #create SQL DB Chain with the initialized LLM and above SQLDB instance\n",
        "  db_chain = SQLDatabaseChain.from_llm(llm, db, verbose=True, return_intermediate_steps=True)\n",
        "\n",
        "\n",
        "  _googlesql_prompt = \"\"\"You are a BigQuery SQL expert. Given an input question, first create a syntactically correct BigQuery query to run, then look at the results of the query and return the answer to the input question.\n",
        "  Unless the user specifies in the question a specific number of examples to obtain, query for at most {top_k} results using the LIMIT clause as per BigQuery SQL. You can order the results to return the most informative data in the database.\n",
        "  Never query for all columns from a table. You must query only the columns that are needed to answer the question. Wrap each column name in backticks (`) to denote them as delimited identifiers.\n",
        "  Pay attention to use only the column names you can see in the tables below. Be careful to not query for columns that do not exist. Also, pay attention to which column is in which table.\n",
        "  Use the following format:\n",
        "  Question: \"Question here\"\n",
        "  SQLQuery: \"SQL Query to run\"\n",
        "  SQLResult: \"Result of the SQLQuery\"\n",
        "  Answer: \"Final answer here\"\n",
        "  Only use the following tables:\n",
        "  {table_info}\n",
        "\n",
        "  If someone asks for specific month, use ActivityDate between current month's start date and current month's end date\n",
        "\n",
        "  Question: {input}\"\"\"\n",
        "\n",
        "  BigQuerySQL_PROMPT = PromptTemplate(\n",
        "      input_variables=[\"input\", \"table_info\", \"top_k\"],\n",
        "      template=_googlesql_prompt,\n",
        "  )\n",
        "\n",
        "  #passing question to the prompt template\n",
        "  final_prompt = BigQuerySQL_PROMPT.format(input=question, table_info=table_name, top_k=10000)\n",
        "\n",
        "  #pass final prompt to SQL Chain\n",
        "  output = db_chain(final_prompt)\n",
        "\n",
        "\n",
        "  return output['result'], output['intermediate_steps'][0]"
      ],
      "metadata": {
        "id": "FyQJg3gt4oH0"
      },
      "execution_count": 14,
      "outputs": []
    },
    {
      "cell_type": "code",
      "source": [
        "bq_qna('Count total number of invoices')"
      ],
      "metadata": {
        "colab": {
          "base_uri": "https://localhost:8080/"
        },
        "id": "d6R7YFvh4oPw",
        "outputId": "c48a5992-6d36-441f-9e8d-57ee7636a2ec"
      },
      "execution_count": 15,
      "outputs": [
        {
          "output_type": "stream",
          "name": "stdout",
          "text": [
            "\n",
            "\n",
            "\u001b[1m> Entering new  chain...\u001b[0m\n",
            "You are a BigQuery SQL expert. Given an input question, first create a syntactically correct BigQuery query to run, then look at the results of the query and return the answer to the input question.\n",
            "  Unless the user specifies in the question a specific number of examples to obtain, query for at most 10000 results using the LIMIT clause as per BigQuery SQL. You can order the results to return the most informative data in the database.\n",
            "  Never query for all columns from a table. You must query only the columns that are needed to answer the question. Wrap each column name in backticks (`) to denote them as delimited identifiers.\n",
            "  Pay attention to use only the column names you can see in the tables below. Be careful to not query for columns that do not exist. Also, pay attention to which column is in which table.\n",
            "  Use the following format:\n",
            "  Question: \"Question here\"\n",
            "  SQLQuery: \"SQL Query to run\"\n",
            "  SQLResult: \"Result of the SQLQuery\"\n",
            "  Answer: \"Final answer here\"\n",
            "  Only use the following tables:\n",
            "  LLMsales\n",
            "\n",
            "  If someone asks for specific month, use ActivityDate between current month's start date and current month's end date\n",
            "\n",
            "  Question: Count total number of invoices\n",
            "SQLQuery:\u001b[32;1m\u001b[1;3mSELECT count(*) FROM `LLMsales`\u001b[0m\n",
            "SQLResult: \u001b[33;1m\u001b[1;3m[(27934721,)]\u001b[0m\n",
            "Answer:\u001b[32;1m\u001b[1;3m27934721\u001b[0m\n",
            "\u001b[1m> Finished chain.\u001b[0m\n"
          ]
        },
        {
          "output_type": "execute_result",
          "data": {
            "text/plain": [
              "('27934721',\n",
              " {'input': 'You are a BigQuery SQL expert. Given an input question, first create a syntactically correct BigQuery query to run, then look at the results of the query and return the answer to the input question.\\n  Unless the user specifies in the question a specific number of examples to obtain, query for at most 10000 results using the LIMIT clause as per BigQuery SQL. You can order the results to return the most informative data in the database.\\n  Never query for all columns from a table. You must query only the columns that are needed to answer the question. Wrap each column name in backticks (`) to denote them as delimited identifiers.\\n  Pay attention to use only the column names you can see in the tables below. Be careful to not query for columns that do not exist. Also, pay attention to which column is in which table.\\n  Use the following format:\\n  Question: \"Question here\"\\n  SQLQuery: \"SQL Query to run\"\\n  SQLResult: \"Result of the SQLQuery\"\\n  Answer: \"Final answer here\"\\n  Only use the following tables:\\n  LLMsales\\n\\n  If someone asks for specific month, use ActivityDate between current month\\'s start date and current month\\'s end date\\n\\n  Question: Count total number of invoices\\nSQLQuery:SELECT count(*) FROM `LLMsales`\\nSQLResult: [(27934721,)]\\nAnswer:',\n",
              "  'top_k': '5',\n",
              "  'dialect': 'bigquery',\n",
              "  'table_info': \"\\nCREATE TABLE `LLMsales` (\\n\\t`invoice_and_item_number` STRING, \\n\\t`date` DATE, \\n\\t`store_number` STRING, \\n\\t`store_name` STRING, \\n\\t`address` STRING, \\n\\t`city` STRING, \\n\\t`zip_code` STRING, \\n\\t`county_number` STRING, \\n\\t`county` STRING, \\n\\t`category` STRING, \\n\\t`category_name` STRING, \\n\\t`vendor_number` STRING, \\n\\t`vendor_name` STRING, \\n\\t`item_number` STRING, \\n\\t`item_description` STRING, \\n\\t`pack` INT64, \\n\\t`bottle_volume_ml` INT64, \\n\\t`state_bottle_cost` FLOAT64, \\n\\t`state_bottle_retail` FLOAT64, \\n\\t`bottles_sold` INT64, \\n\\t`sale_dollars` FLOAT64, \\n\\t`volume_sold_liters` FLOAT64, \\n\\t`volume_sold_gallons` FLOAT64\\n)\\n\\n/*\\n3 rows from LLMsales table:\\ninvoice_and_item_number\\tdate\\tstore_number\\tstore_name\\taddress\\tcity\\tzip_code\\tcounty_number\\tcounty\\tcategory\\tcategory_name\\tvendor_number\\tvendor_name\\titem_number\\titem_description\\tpack\\tbottle_volume_ml\\tstate_bottle_cost\\tstate_bottle_retail\\tbottles_sold\\tsale_dollars\\tvolume_sold_liters\\tvolume_sold_gallons\\nINV-39002000009\\t2021-08-06\\t5723\\tCASEY'S GENERAL STORE #2538-WAUKEE\\t20 WEST HICKMAN ROAD\\tWAUKEE\\t50263.0\\t25\\tDALLAS\\t1082100.0\\tIMPORTED CORDIALS & LIQUEURS\\t192\\tMAST-JAGERMEISTER US, INC\\t65259\\tJAGERMEISTER LIQUEUR MINI MEISTERS\\t12\\t20\\t4.93\\t7.4\\t1\\t7.4\\t0.02\\t0.0\\nINV-24519900032\\t2020-01-13\\t5726\\tEHLINGER'S VINTON EXPRESS\\t310 K AVENUE SOUTH\\tVINTON\\t52349.0\\t6\\tBENTON\\t1082000.0\\tIMPORTED CORDIALS & LIQUEURS\\t192\\tMAST-JAGERMEISTER US, INC\\t65259\\tJAGERMEISTER LIQUEUR MINI MEISTERS\\t12\\t20\\t4.93\\t7.4\\t1\\t7.4\\t0.02\\t0.0\\nINV-13922700032\\t2018-08-20\\t3778\\tFAMILY PANTRY\\t4538 LOWER BEAVER RD\\tDES MOINES\\t50310\\t77\\tPOLK\\t1082000.0\\tIMPORTED CORDIALS & LIQUEURS\\t192.0\\tMAST-JAGERMEISTER US, INC\\t65259\\tJAGERMEISTER MINI MEISTERS\\t12\\t20\\t4.93\\t7.4\\t1\\t7.4\\t0.02\\t0.0\\n*/\",\n",
              "  'stop': ['\\nSQLResult:']})"
            ]
          },
          "metadata": {},
          "execution_count": 15
        }
      ]
    },
    {
      "cell_type": "code",
      "source": [
        "bq_qna('give me the first 10 records of the table')"
      ],
      "metadata": {
        "colab": {
          "base_uri": "https://localhost:8080/"
        },
        "id": "YUOnYdv54oSW",
        "outputId": "fbeda4c3-d504-4e38-8f95-1cf94d0a042b"
      },
      "execution_count": 16,
      "outputs": [
        {
          "output_type": "stream",
          "name": "stdout",
          "text": [
            "\n",
            "\n",
            "\u001b[1m> Entering new  chain...\u001b[0m\n",
            "You are a BigQuery SQL expert. Given an input question, first create a syntactically correct BigQuery query to run, then look at the results of the query and return the answer to the input question.\n",
            "  Unless the user specifies in the question a specific number of examples to obtain, query for at most 10000 results using the LIMIT clause as per BigQuery SQL. You can order the results to return the most informative data in the database.\n",
            "  Never query for all columns from a table. You must query only the columns that are needed to answer the question. Wrap each column name in backticks (`) to denote them as delimited identifiers.\n",
            "  Pay attention to use only the column names you can see in the tables below. Be careful to not query for columns that do not exist. Also, pay attention to which column is in which table.\n",
            "  Use the following format:\n",
            "  Question: \"Question here\"\n",
            "  SQLQuery: \"SQL Query to run\"\n",
            "  SQLResult: \"Result of the SQLQuery\"\n",
            "  Answer: \"Final answer here\"\n",
            "  Only use the following tables:\n",
            "  LLMsales\n",
            "\n",
            "  If someone asks for specific month, use ActivityDate between current month's start date and current month's end date\n",
            "\n",
            "  Question: give me the first 10 records of the table\n",
            "SQLQuery:\u001b[32;1m\u001b[1;3mSELECT * FROM LLMsales LIMIT 10\u001b[0m\n",
            "SQLResult: \u001b[33;1m\u001b[1;3m[('INV-39002000009', datetime.date(2021, 8, 6), '5723', \"CASEY'S GENERAL STORE #2538-WAUKEE\", '20 WEST HICKMAN ROAD', 'WAUKEE', '50263.0', '25', 'DALLAS', '1082100.0', 'IMPORTED CORDIALS & LIQUEURS', '192', 'MAST-JAGERMEISTER US, INC', '65259', 'JAGERMEISTER LIQUEUR MINI MEISTERS', 12, 20, 4.93, 7.4, 1, 7.4, 0.02, 0.0), ('INV-24519900032', datetime.date(2020, 1, 13), '5726', \"EHLINGER'S VINTON EXPRESS\", '310 K AVENUE SOUTH', 'VINTON', '52349.0', '6', 'BENTON', '1082000.0', 'IMPORTED CORDIALS & LIQUEURS', '192', 'MAST-JAGERMEISTER US, INC', '65259', 'JAGERMEISTER LIQUEUR MINI MEISTERS', 12, 20, 4.93, 7.4, 1, 7.4, 0.02, 0.0), ('INV-13922700032', datetime.date(2018, 8, 20), '3778', 'FAMILY PANTRY', '4538 LOWER BEAVER RD', 'DES MOINES', '50310', '77', 'POLK', '1082000.0', 'IMPORTED CORDIALS & LIQUEURS', '192.0', 'MAST-JAGERMEISTER US, INC', '65259', 'JAGERMEISTER MINI MEISTERS', 12, 20, 4.93, 7.4, 1, 7.4, 0.02, 0.0), ('S13152000002', datetime.date(2013, 7, 3), '3722', 'WAL-MART 1361 / SIOUX CITY', '3400 SINGING HILLS BLVD', 'SIOUX CITY', '51106', '97', 'WOODBURY', '1031200.0', 'VODKA FLAVORED', '380', 'PHILLIPS BEVERAGE COMPANY', '42002', 'UV CAKE VODKA', 6, 500, 4.89, 7.34, 17, 124.78, 8.5, 2.25), ('INV-41064900018', datetime.date(2021, 10, 18), '4653', \"CASEY'S GENERAL STORE #1617 / JEFFERSON\", '508 N ELM', 'JEFFERSON', '50129.0', '37', 'GREENE', '1701100.0', 'TEMPORARY & SPECIALTY PACKAGES', '260.0', 'DIAGEO AMERICAS', '1400', 'CROWN ROYAL W/2 GLASSES', 6, 750, 16.59, 24.89, 24, 597.36, 18.0, 4.75), ('INV-63810800009', datetime.date(2023, 10, 31), '4196', 'FAREWAY STORES #987 / DAVENPORT', '1635 WEST 53RD ST', 'DAVENPORT', '52806.0', None, 'SCOTT', '1701100.0', 'TEMPORARY & SPECIALTY PACKAGES', '65', 'JIM BEAM BRANDS', '4044', 'HORNITOS REPOSADO W/GLASSES', 6, 750, 16.0, 24.0, 24, 576.0, 18.0, 4.75), ('INV-37286700008', datetime.date(2021, 6, 8), '3814', 'COSTCO WHOLESALE #788 / WDM', '7205 MILLS CIVIC PKWY', 'WEST DES MOINES', '50266.0', '25', 'DALLAS', '1012300.0', 'SINGLE MALT SCOTCH', '240', 'WILLIAM GRANT & SONS INC', '4356', 'BALVENIE 12YR DOUBLEWOOD', 12, 750, 35.0, 52.5, 24, 1260.0, 18.0, 4.75), ('INV-36554800030', datetime.date(2021, 5, 12), '5144', \"SAM'S CLUB 6979 / ANKENY\", '4625 SE DELAWARE AVE', 'ANKENY', '50021.0', '77', 'POLK', '1012200.0', 'SCOTCH WHISKIES', '260.0', 'DIAGEO AMERICAS', '4626', 'BUCHANAN DELUXE 12YR', 12, 750, 20.99, 31.49, 24, 755.76, 18.0, 4.75), ('INV-25089100019', datetime.date(2020, 2, 7), '3944', \"SAM'S CLUB 4973 / DUBUQUE\", '4400 ASBURY RD', 'DUBUQUE', '52002.0', '31', 'DUBUQUE', '1012200.0', 'SCOTCH WHISKIES', '260', 'DIAGEO AMERICAS', '4626', 'BUCHANAN DELUXE 12YR', 12, 750, 20.99, 31.49, 24, 755.76, 18.0, 4.75), ('INV-48348100013', datetime.date(2022, 6, 15), '3524', \"SAM'S CLUB 6568 / AMES\", '305 AIRPORT RD', 'AMES', '50010.0', '85', 'STORY', '1012300.0', 'SINGLE MALT SCOTCH', '240', 'WILLIAM GRANT & SONS INC', '5006', 'GLENFIDDICH 12YR SPECIAL RESERVE', 12, 750, 27.0, 40.5, 24, 972.0, 18.0, 4.75)]\u001b[0m\n",
            "Answer:\u001b[32;1m\u001b[1;3mThe first 10 records of the table are:\n",
            "\n",
            "invoice_and_item_number\tdate\tstore_number\tstore_name\taddress\tcity\tzip_code\tcounty_number\tcounty\tcategory\tcategory_name\tvendor_number\tvendor_name\titem_number\titem_description\tpack\tbottle_volume_ml\tstate_bottle_cost\tstate_bottle_retail\tbottles_sold\tsale_dollars\tvolume_sold_liters\tvolume_sold_gallons\n",
            "INV-39002000009\t2021-08-06\t5723\tCASEY'S GENERAL STORE #2538-WAUKEE\t20 WEST HICKMAN ROAD\tWAUKEE\t50263.0\t25\tDALLAS\t1082100.0\tIMPORTED CORDIALS & LIQUEURS\t192\tMAST-JAGERMEISTER US, INC\t65259\tJAGERMEISTER LIQUEUR MINI MEISTERS\t12\t20\t4.93\t7.4\t1\t7.4\t0.02\t0.0\n",
            "INV-24519900032\t2020-01-13\t5726\tEHLINGER'S VINTON EXPRESS\t310 K AVENUE SOUTH\tVINTON\t52349.0\t6\tBENTON\t1082000.0\tIMPORTED CORDIALS & LIQUEURS\t192\tMAST-JAGERMEISTER US, INC\t65259\tJAGERMEISTER LIQUEUR MINI MEISTERS\t12\t20\t4.93\t7.4\t1\t7.4\t0.02\t0.0\n",
            "INV-13922700032\t2018-08-20\t3778\tFAMILY PANTRY\t4538 LOWER BEAVER RD\tDES MOINES\t50310\t77\tPOLK\t1082000.0\tIMPORTED CORDIALS & LIQUEURS\t192.0\tMAST-JAGERMEISTER US, INC\t65259\tJAGERMEISTER MINI MEISTERS\t12\t20\t4.93\t7.4\t1\t7.4\t0.02\t0.0\n",
            "S13152000002\t2013-07-03\t3722\tWAL-MART 1361 / SIOUX CITY\t3400 SINGING HILLS BLVD\tSIOUX CITY\t51106\t97\tWOODBURY\t1031200.0\tVODKA FLAVORED\t380\tPHILLIPS BEVERAGE COMPANY\t42002\tUV CAKE VODKA\t6\t500\t4.89\t7.34\t17\t124.78\t8.5\t2.25\n",
            "INV-41064900018\t2021-10-18\t4653\t\"CASEY'S GENERAL STORE #1617 / JEFFERSON\"\t508 N ELM\tJEFFERSON\t50129.0\t37\tGREENE\t1701100.0\tTEMPORARY & SPECIALTY PACKAGES\t260.0\tDIAGEO AMERICAS\t1400\tCROWN ROYAL W/2 GLASSES\t6\t750\t16.59\t24.89\t24\t597.36\t18.0\t4.75\n",
            "INV-63810800009\t2023-10-31\t4196\tFAREWAY STORES #987 / DAVENPORT\t1635 WEST 53RD ST\tDAVENPORT\t52806.0\tNone\tSCOTT\t1701100.0\tTEMPORARY & SPECIALTY PACKAGES\t65\tJIM BEAM BRANDS\t4044\tHORNITOS REPOSADO W/GLASSES\t6\t750\t16.0\t24.0\t24\t576.0\t18.0\t4.75\n",
            "INV-37286700008\t20\u001b[0m\n",
            "\u001b[1m> Finished chain.\u001b[0m\n"
          ]
        },
        {
          "output_type": "execute_result",
          "data": {
            "text/plain": [
              "('The first 10 records of the table are:\\n\\ninvoice_and_item_number\\tdate\\tstore_number\\tstore_name\\taddress\\tcity\\tzip_code\\tcounty_number\\tcounty\\tcategory\\tcategory_name\\tvendor_number\\tvendor_name\\titem_number\\titem_description\\tpack\\tbottle_volume_ml\\tstate_bottle_cost\\tstate_bottle_retail\\tbottles_sold\\tsale_dollars\\tvolume_sold_liters\\tvolume_sold_gallons\\nINV-39002000009\\t2021-08-06\\t5723\\tCASEY\\'S GENERAL STORE #2538-WAUKEE\\t20 WEST HICKMAN ROAD\\tWAUKEE\\t50263.0\\t25\\tDALLAS\\t1082100.0\\tIMPORTED CORDIALS & LIQUEURS\\t192\\tMAST-JAGERMEISTER US, INC\\t65259\\tJAGERMEISTER LIQUEUR MINI MEISTERS\\t12\\t20\\t4.93\\t7.4\\t1\\t7.4\\t0.02\\t0.0\\nINV-24519900032\\t2020-01-13\\t5726\\tEHLINGER\\'S VINTON EXPRESS\\t310 K AVENUE SOUTH\\tVINTON\\t52349.0\\t6\\tBENTON\\t1082000.0\\tIMPORTED CORDIALS & LIQUEURS\\t192\\tMAST-JAGERMEISTER US, INC\\t65259\\tJAGERMEISTER LIQUEUR MINI MEISTERS\\t12\\t20\\t4.93\\t7.4\\t1\\t7.4\\t0.02\\t0.0\\nINV-13922700032\\t2018-08-20\\t3778\\tFAMILY PANTRY\\t4538 LOWER BEAVER RD\\tDES MOINES\\t50310\\t77\\tPOLK\\t1082000.0\\tIMPORTED CORDIALS & LIQUEURS\\t192.0\\tMAST-JAGERMEISTER US, INC\\t65259\\tJAGERMEISTER MINI MEISTERS\\t12\\t20\\t4.93\\t7.4\\t1\\t7.4\\t0.02\\t0.0\\nS13152000002\\t2013-07-03\\t3722\\tWAL-MART 1361 / SIOUX CITY\\t3400 SINGING HILLS BLVD\\tSIOUX CITY\\t51106\\t97\\tWOODBURY\\t1031200.0\\tVODKA FLAVORED\\t380\\tPHILLIPS BEVERAGE COMPANY\\t42002\\tUV CAKE VODKA\\t6\\t500\\t4.89\\t7.34\\t17\\t124.78\\t8.5\\t2.25\\nINV-41064900018\\t2021-10-18\\t4653\\t\"CASEY\\'S GENERAL STORE #1617 / JEFFERSON\"\\t508 N ELM\\tJEFFERSON\\t50129.0\\t37\\tGREENE\\t1701100.0\\tTEMPORARY & SPECIALTY PACKAGES\\t260.0\\tDIAGEO AMERICAS\\t1400\\tCROWN ROYAL W/2 GLASSES\\t6\\t750\\t16.59\\t24.89\\t24\\t597.36\\t18.0\\t4.75\\nINV-63810800009\\t2023-10-31\\t4196\\tFAREWAY STORES #987 / DAVENPORT\\t1635 WEST 53RD ST\\tDAVENPORT\\t52806.0\\tNone\\tSCOTT\\t1701100.0\\tTEMPORARY & SPECIALTY PACKAGES\\t65\\tJIM BEAM BRANDS\\t4044\\tHORNITOS REPOSADO W/GLASSES\\t6\\t750\\t16.0\\t24.0\\t24\\t576.0\\t18.0\\t4.75\\nINV-37286700008\\t20',\n",
              " {'input': 'You are a BigQuery SQL expert. Given an input question, first create a syntactically correct BigQuery query to run, then look at the results of the query and return the answer to the input question.\\n  Unless the user specifies in the question a specific number of examples to obtain, query for at most 10000 results using the LIMIT clause as per BigQuery SQL. You can order the results to return the most informative data in the database.\\n  Never query for all columns from a table. You must query only the columns that are needed to answer the question. Wrap each column name in backticks (`) to denote them as delimited identifiers.\\n  Pay attention to use only the column names you can see in the tables below. Be careful to not query for columns that do not exist. Also, pay attention to which column is in which table.\\n  Use the following format:\\n  Question: \"Question here\"\\n  SQLQuery: \"SQL Query to run\"\\n  SQLResult: \"Result of the SQLQuery\"\\n  Answer: \"Final answer here\"\\n  Only use the following tables:\\n  LLMsales\\n\\n  If someone asks for specific month, use ActivityDate between current month\\'s start date and current month\\'s end date\\n\\n  Question: give me the first 10 records of the table\\nSQLQuery:SELECT * FROM LLMsales LIMIT 10\\nSQLResult: [(\\'INV-39002000009\\', datetime.date(2021, 8, 6), \\'5723\\', \"CASEY\\'S GENERAL STORE #2538-WAUKEE\", \\'20 WEST HICKMAN ROAD\\', \\'WAUKEE\\', \\'50263.0\\', \\'25\\', \\'DALLAS\\', \\'1082100.0\\', \\'IMPORTED CORDIALS & LIQUEURS\\', \\'192\\', \\'MAST-JAGERMEISTER US, INC\\', \\'65259\\', \\'JAGERMEISTER LIQUEUR MINI MEISTERS\\', 12, 20, 4.93, 7.4, 1, 7.4, 0.02, 0.0), (\\'INV-24519900032\\', datetime.date(2020, 1, 13), \\'5726\\', \"EHLINGER\\'S VINTON EXPRESS\", \\'310 K AVENUE SOUTH\\', \\'VINTON\\', \\'52349.0\\', \\'6\\', \\'BENTON\\', \\'1082000.0\\', \\'IMPORTED CORDIALS & LIQUEURS\\', \\'192\\', \\'MAST-JAGERMEISTER US, INC\\', \\'65259\\', \\'JAGERMEISTER LIQUEUR MINI MEISTERS\\', 12, 20, 4.93, 7.4, 1, 7.4, 0.02, 0.0), (\\'INV-13922700032\\', datetime.date(2018, 8, 20), \\'3778\\', \\'FAMILY PANTRY\\', \\'4538 LOWER BEAVER RD\\', \\'DES MOINES\\', \\'50310\\', \\'77\\', \\'POLK\\', \\'1082000.0\\', \\'IMPORTED CORDIALS & LIQUEURS\\', \\'192.0\\', \\'MAST-JAGERMEISTER US, INC\\', \\'65259\\', \\'JAGERMEISTER MINI MEISTERS\\', 12, 20, 4.93, 7.4, 1, 7.4, 0.02, 0.0), (\\'S13152000002\\', datetime.date(2013, 7, 3), \\'3722\\', \\'WAL-MART 1361 / SIOUX CITY\\', \\'3400 SINGING HILLS BLVD\\', \\'SIOUX CITY\\', \\'51106\\', \\'97\\', \\'WOODBURY\\', \\'1031200.0\\', \\'VODKA FLAVORED\\', \\'380\\', \\'PHILLIPS BEVERAGE COMPANY\\', \\'42002\\', \\'UV CAKE VODKA\\', 6, 500, 4.89, 7.34, 17, 124.78, 8.5, 2.25), (\\'INV-41064900018\\', datetime.date(2021, 10, 18), \\'4653\\', \"CASEY\\'S GENERAL STORE #1617 / JEFFERSON\", \\'508 N ELM\\', \\'JEFFERSON\\', \\'50129.0\\', \\'37\\', \\'GREENE\\', \\'1701100.0\\', \\'TEMPORARY & SPECIALTY PACKAGES\\', \\'260.0\\', \\'DIAGEO AMERICAS\\', \\'1400\\', \\'CROWN ROYAL W/2 GLASSES\\', 6, 750, 16.59, 24.89, 24, 597.36, 18.0, 4.75), (\\'INV-63810800009\\', datetime.date(2023, 10, 31), \\'4196\\', \\'FAREWAY STORES #987 / DAVENPORT\\', \\'1635 WEST 53RD ST\\', \\'DAVENPORT\\', \\'52806.0\\', None, \\'SCOTT\\', \\'1701100.0\\', \\'TEMPORARY & SPECIALTY PACKAGES\\', \\'65\\', \\'JIM BEAM BRANDS\\', \\'4044\\', \\'HORNITOS REPOSADO W/GLASSES\\', 6, 750, 16.0, 24.0, 24, 576.0, 18.0, 4.75), (\\'INV-37286700008\\', datetime.date(2021, 6, 8), \\'3814\\', \\'COSTCO WHOLESALE #788 / WDM\\', \\'7205 MILLS CIVIC PKWY\\', \\'WEST DES MOINES\\', \\'50266.0\\', \\'25\\', \\'DALLAS\\', \\'1012300.0\\', \\'SINGLE MALT SCOTCH\\', \\'240\\', \\'WILLIAM GRANT & SONS INC\\', \\'4356\\', \\'BALVENIE 12YR DOUBLEWOOD\\', 12, 750, 35.0, 52.5, 24, 1260.0, 18.0, 4.75), (\\'INV-36554800030\\', datetime.date(2021, 5, 12), \\'5144\\', \"SAM\\'S CLUB 6979 / ANKENY\", \\'4625 SE DELAWARE AVE\\', \\'ANKENY\\', \\'50021.0\\', \\'77\\', \\'POLK\\', \\'1012200.0\\', \\'SCOTCH WHISKIES\\', \\'260.0\\', \\'DIAGEO AMERICAS\\', \\'4626\\', \\'BUCHANAN DELUXE 12YR\\', 12, 750, 20.99, 31.49, 24, 755.76, 18.0, 4.75), (\\'INV-25089100019\\', datetime.date(2020, 2, 7), \\'3944\\', \"SAM\\'S CLUB 4973 / DUBUQUE\", \\'4400 ASBURY RD\\', \\'DUBUQUE\\', \\'52002.0\\', \\'31\\', \\'DUBUQUE\\', \\'1012200.0\\', \\'SCOTCH WHISKIES\\', \\'260\\', \\'DIAGEO AMERICAS\\', \\'4626\\', \\'BUCHANAN DELUXE 12YR\\', 12, 750, 20.99, 31.49, 24, 755.76, 18.0, 4.75), (\\'INV-48348100013\\', datetime.date(2022, 6, 15), \\'3524\\', \"SAM\\'S CLUB 6568 / AMES\", \\'305 AIRPORT RD\\', \\'AMES\\', \\'50010.0\\', \\'85\\', \\'STORY\\', \\'1012300.0\\', \\'SINGLE MALT SCOTCH\\', \\'240\\', \\'WILLIAM GRANT & SONS INC\\', \\'5006\\', \\'GLENFIDDICH 12YR SPECIAL RESERVE\\', 12, 750, 27.0, 40.5, 24, 972.0, 18.0, 4.75)]\\nAnswer:',\n",
              "  'top_k': '5',\n",
              "  'dialect': 'bigquery',\n",
              "  'table_info': \"\\nCREATE TABLE `LLMsales` (\\n\\t`invoice_and_item_number` STRING, \\n\\t`date` DATE, \\n\\t`store_number` STRING, \\n\\t`store_name` STRING, \\n\\t`address` STRING, \\n\\t`city` STRING, \\n\\t`zip_code` STRING, \\n\\t`county_number` STRING, \\n\\t`county` STRING, \\n\\t`category` STRING, \\n\\t`category_name` STRING, \\n\\t`vendor_number` STRING, \\n\\t`vendor_name` STRING, \\n\\t`item_number` STRING, \\n\\t`item_description` STRING, \\n\\t`pack` INT64, \\n\\t`bottle_volume_ml` INT64, \\n\\t`state_bottle_cost` FLOAT64, \\n\\t`state_bottle_retail` FLOAT64, \\n\\t`bottles_sold` INT64, \\n\\t`sale_dollars` FLOAT64, \\n\\t`volume_sold_liters` FLOAT64, \\n\\t`volume_sold_gallons` FLOAT64\\n)\\n\\n/*\\n3 rows from LLMsales table:\\ninvoice_and_item_number\\tdate\\tstore_number\\tstore_name\\taddress\\tcity\\tzip_code\\tcounty_number\\tcounty\\tcategory\\tcategory_name\\tvendor_number\\tvendor_name\\titem_number\\titem_description\\tpack\\tbottle_volume_ml\\tstate_bottle_cost\\tstate_bottle_retail\\tbottles_sold\\tsale_dollars\\tvolume_sold_liters\\tvolume_sold_gallons\\nINV-39002000009\\t2021-08-06\\t5723\\tCASEY'S GENERAL STORE #2538-WAUKEE\\t20 WEST HICKMAN ROAD\\tWAUKEE\\t50263.0\\t25\\tDALLAS\\t1082100.0\\tIMPORTED CORDIALS & LIQUEURS\\t192\\tMAST-JAGERMEISTER US, INC\\t65259\\tJAGERMEISTER LIQUEUR MINI MEISTERS\\t12\\t20\\t4.93\\t7.4\\t1\\t7.4\\t0.02\\t0.0\\nINV-24519900032\\t2020-01-13\\t5726\\tEHLINGER'S VINTON EXPRESS\\t310 K AVENUE SOUTH\\tVINTON\\t52349.0\\t6\\tBENTON\\t1082000.0\\tIMPORTED CORDIALS & LIQUEURS\\t192\\tMAST-JAGERMEISTER US, INC\\t65259\\tJAGERMEISTER LIQUEUR MINI MEISTERS\\t12\\t20\\t4.93\\t7.4\\t1\\t7.4\\t0.02\\t0.0\\nINV-13922700032\\t2018-08-20\\t3778\\tFAMILY PANTRY\\t4538 LOWER BEAVER RD\\tDES MOINES\\t50310\\t77\\tPOLK\\t1082000.0\\tIMPORTED CORDIALS & LIQUEURS\\t192.0\\tMAST-JAGERMEISTER US, INC\\t65259\\tJAGERMEISTER MINI MEISTERS\\t12\\t20\\t4.93\\t7.4\\t1\\t7.4\\t0.02\\t0.0\\n*/\",\n",
              "  'stop': ['\\nSQLResult:']})"
            ]
          },
          "metadata": {},
          "execution_count": 16
        }
      ]
    },
    {
      "cell_type": "code",
      "source": [
        "bq_qna('give me the list of county for the city  \"WAUKEE\"')[0]"
      ],
      "metadata": {
        "colab": {
          "base_uri": "https://localhost:8080/",
          "height": 437
        },
        "id": "JHwcUsxC4oUl",
        "outputId": "728cf6cd-fb61-49c0-a18e-63f205e5db1a"
      },
      "execution_count": 21,
      "outputs": [
        {
          "output_type": "stream",
          "name": "stdout",
          "text": [
            "\n",
            "\n",
            "\u001b[1m> Entering new  chain...\u001b[0m\n",
            "You are a BigQuery SQL expert. Given an input question, first create a syntactically correct BigQuery query to run, then look at the results of the query and return the answer to the input question.\n",
            "  Unless the user specifies in the question a specific number of examples to obtain, query for at most 10000 results using the LIMIT clause as per BigQuery SQL. You can order the results to return the most informative data in the database.\n",
            "  Never query for all columns from a table. You must query only the columns that are needed to answer the question. Wrap each column name in backticks (`) to denote them as delimited identifiers.\n",
            "  Pay attention to use only the column names you can see in the tables below. Be careful to not query for columns that do not exist. Also, pay attention to which column is in which table.\n",
            "  Use the following format:\n",
            "  Question: \"Question here\"\n",
            "  SQLQuery: \"SQL Query to run\"\n",
            "  SQLResult: \"Result of the SQLQuery\"\n",
            "  Answer: \"Final answer here\"\n",
            "  Only use the following tables:\n",
            "  LLMsales\n",
            "\n",
            "  If someone asks for specific month, use ActivityDate between current month's start date and current month's end date\n",
            "\n",
            "  Question: give me the list of county for the city  \"WAUKEE\"\n",
            "SQLQuery:\u001b[32;1m\u001b[1;3mSELECT DISTINCT county FROM LLMsales WHERE city = \"WAUKEE\"\u001b[0m\n",
            "SQLResult: \u001b[33;1m\u001b[1;3m[(None,), ('DALLAS',)]\u001b[0m\n",
            "Answer:\u001b[32;1m\u001b[1;3mDALLAS\u001b[0m\n",
            "\u001b[1m> Finished chain.\u001b[0m\n"
          ]
        },
        {
          "output_type": "execute_result",
          "data": {
            "text/plain": [
              "'DALLAS'"
            ],
            "application/vnd.google.colaboratory.intrinsic+json": {
              "type": "string"
            }
          },
          "metadata": {},
          "execution_count": 21
        }
      ]
    },
    {
      "cell_type": "code",
      "source": [
        "bq_qna('rank the top 10 Category name for each county based on the Sale_dollars')"
      ],
      "metadata": {
        "colab": {
          "base_uri": "https://localhost:8080/"
        },
        "id": "dzHD719F4oZ6",
        "outputId": "43af9c8a-9e5a-4a85-95fb-1ece899f8a00"
      },
      "execution_count": 23,
      "outputs": [
        {
          "output_type": "stream",
          "name": "stdout",
          "text": [
            "\n",
            "\n",
            "\u001b[1m> Entering new  chain...\u001b[0m\n",
            "You are a BigQuery SQL expert. Given an input question, first create a syntactically correct BigQuery query to run, then look at the results of the query and return the answer to the input question.\n",
            "  Unless the user specifies in the question a specific number of examples to obtain, query for at most 10000 results using the LIMIT clause as per BigQuery SQL. You can order the results to return the most informative data in the database.\n",
            "  Never query for all columns from a table. You must query only the columns that are needed to answer the question. Wrap each column name in backticks (`) to denote them as delimited identifiers.\n",
            "  Pay attention to use only the column names you can see in the tables below. Be careful to not query for columns that do not exist. Also, pay attention to which column is in which table.\n",
            "  Use the following format:\n",
            "  Question: \"Question here\"\n",
            "  SQLQuery: \"SQL Query to run\"\n",
            "  SQLResult: \"Result of the SQLQuery\"\n",
            "  Answer: \"Final answer here\"\n",
            "  Only use the following tables:\n",
            "  LLMsales\n",
            "\n",
            "  If someone asks for specific month, use ActivityDate between current month's start date and current month's end date\n",
            "\n",
            "  Question: rank the top 10 Category name for each county based on the Sale_dollars\n",
            "SQLQuery:\u001b[32;1m\u001b[1;3mSELECT county, category_name, SUM(sale_dollars) AS total_sale_dollars FROM LLMsales GROUP BY county, category_name ORDER BY county, total_sale_dollars DESC LIMIT 10\u001b[0m\n",
            "SQLResult: \u001b[33;1m\u001b[1;3m[(None, 'CANADIAN WHISKIES', 2675324.109999999), (None, 'AMERICAN VODKAS', 1471435.3899999994), (None, 'SPICED RUM', 1331458.6899999992), (None, 'STRAIGHT BOURBON WHISKIES', 1104879.4300000006), (None, 'VODKA 80 PROOF', 1056114.7099999997), (None, 'IMPORTED VODKAS', 1033802.1900000003), (None, 'TENNESSEE WHISKIES', 1006738.7900000003), (None, 'WHISKEY LIQUEUR', 967931.8600000002), (None, 'IMPORTED BRANDIES', 630430.02), (None, 'TEQUILA', 561480.1800000003)]\u001b[0m\n",
            "Answer:\u001b[32;1m\u001b[1;3mAnswer:\u001b[0m\n",
            "\u001b[1m> Finished chain.\u001b[0m\n"
          ]
        },
        {
          "output_type": "execute_result",
          "data": {
            "text/plain": [
              "('Answer:',\n",
              " {'input': 'You are a BigQuery SQL expert. Given an input question, first create a syntactically correct BigQuery query to run, then look at the results of the query and return the answer to the input question.\\n  Unless the user specifies in the question a specific number of examples to obtain, query for at most 10000 results using the LIMIT clause as per BigQuery SQL. You can order the results to return the most informative data in the database.\\n  Never query for all columns from a table. You must query only the columns that are needed to answer the question. Wrap each column name in backticks (`) to denote them as delimited identifiers.\\n  Pay attention to use only the column names you can see in the tables below. Be careful to not query for columns that do not exist. Also, pay attention to which column is in which table.\\n  Use the following format:\\n  Question: \"Question here\"\\n  SQLQuery: \"SQL Query to run\"\\n  SQLResult: \"Result of the SQLQuery\"\\n  Answer: \"Final answer here\"\\n  Only use the following tables:\\n  LLMsales\\n\\n  If someone asks for specific month, use ActivityDate between current month\\'s start date and current month\\'s end date\\n\\n  Question: rank the top 10 Category name for each county based on the Sale_dollars\\nSQLQuery:SELECT county, category_name, SUM(sale_dollars) AS total_sale_dollars FROM LLMsales GROUP BY county, category_name ORDER BY county, total_sale_dollars DESC LIMIT 10\\nSQLResult: [(None, \\'CANADIAN WHISKIES\\', 2675324.109999999), (None, \\'AMERICAN VODKAS\\', 1471435.3899999994), (None, \\'SPICED RUM\\', 1331458.6899999992), (None, \\'STRAIGHT BOURBON WHISKIES\\', 1104879.4300000006), (None, \\'VODKA 80 PROOF\\', 1056114.7099999997), (None, \\'IMPORTED VODKAS\\', 1033802.1900000003), (None, \\'TENNESSEE WHISKIES\\', 1006738.7900000003), (None, \\'WHISKEY LIQUEUR\\', 967931.8600000002), (None, \\'IMPORTED BRANDIES\\', 630430.02), (None, \\'TEQUILA\\', 561480.1800000003)]\\nAnswer:',\n",
              "  'top_k': '5',\n",
              "  'dialect': 'bigquery',\n",
              "  'table_info': \"\\nCREATE TABLE `LLMsales` (\\n\\t`invoice_and_item_number` STRING, \\n\\t`date` DATE, \\n\\t`store_number` STRING, \\n\\t`store_name` STRING, \\n\\t`address` STRING, \\n\\t`city` STRING, \\n\\t`zip_code` STRING, \\n\\t`county_number` STRING, \\n\\t`county` STRING, \\n\\t`category` STRING, \\n\\t`category_name` STRING, \\n\\t`vendor_number` STRING, \\n\\t`vendor_name` STRING, \\n\\t`item_number` STRING, \\n\\t`item_description` STRING, \\n\\t`pack` INT64, \\n\\t`bottle_volume_ml` INT64, \\n\\t`state_bottle_cost` FLOAT64, \\n\\t`state_bottle_retail` FLOAT64, \\n\\t`bottles_sold` INT64, \\n\\t`sale_dollars` FLOAT64, \\n\\t`volume_sold_liters` FLOAT64, \\n\\t`volume_sold_gallons` FLOAT64\\n)\\n\\n/*\\n3 rows from LLMsales table:\\ninvoice_and_item_number\\tdate\\tstore_number\\tstore_name\\taddress\\tcity\\tzip_code\\tcounty_number\\tcounty\\tcategory\\tcategory_name\\tvendor_number\\tvendor_name\\titem_number\\titem_description\\tpack\\tbottle_volume_ml\\tstate_bottle_cost\\tstate_bottle_retail\\tbottles_sold\\tsale_dollars\\tvolume_sold_liters\\tvolume_sold_gallons\\nINV-39002000009\\t2021-08-06\\t5723\\tCASEY'S GENERAL STORE #2538-WAUKEE\\t20 WEST HICKMAN ROAD\\tWAUKEE\\t50263.0\\t25\\tDALLAS\\t1082100.0\\tIMPORTED CORDIALS & LIQUEURS\\t192\\tMAST-JAGERMEISTER US, INC\\t65259\\tJAGERMEISTER LIQUEUR MINI MEISTERS\\t12\\t20\\t4.93\\t7.4\\t1\\t7.4\\t0.02\\t0.0\\nINV-24519900032\\t2020-01-13\\t5726\\tEHLINGER'S VINTON EXPRESS\\t310 K AVENUE SOUTH\\tVINTON\\t52349.0\\t6\\tBENTON\\t1082000.0\\tIMPORTED CORDIALS & LIQUEURS\\t192\\tMAST-JAGERMEISTER US, INC\\t65259\\tJAGERMEISTER LIQUEUR MINI MEISTERS\\t12\\t20\\t4.93\\t7.4\\t1\\t7.4\\t0.02\\t0.0\\nINV-13922700032\\t2018-08-20\\t3778\\tFAMILY PANTRY\\t4538 LOWER BEAVER RD\\tDES MOINES\\t50310\\t77\\tPOLK\\t1082000.0\\tIMPORTED CORDIALS & LIQUEURS\\t192.0\\tMAST-JAGERMEISTER US, INC\\t65259\\tJAGERMEISTER MINI MEISTERS\\t12\\t20\\t4.93\\t7.4\\t1\\t7.4\\t0.02\\t0.0\\n*/\",\n",
              "  'stop': ['\\nSQLResult:']})"
            ]
          },
          "metadata": {},
          "execution_count": 23
        }
      ]
    },
    {
      "cell_type": "markdown",
      "source": [
        "#LETS Use the Vehicle tables that we used for our POC\n"
      ],
      "metadata": {
        "id": "zmST4qjDVNR4"
      }
    },
    {
      "cell_type": "code",
      "source": [
        "project_id = \"iron-decorator-297513\" # @param {type:\"string\"}\n",
        "LOCATION = \"us-central1\"  # @param {type:\"string\"}\n",
        "dataset_id = 'tg_Dataste' # @param {type:\"string\"}\n",
        "table_name = ['Vehicle_ID_Table','Mileage','topSpeed'] # @param {type:\"string\"}"
      ],
      "metadata": {
        "id": "IoRk9iSHY4Cj"
      },
      "execution_count": null,
      "outputs": []
    },
    {
      "cell_type": "code",
      "source": [
        "llm = VertexAI(\n",
        "    model_name='text-bison@001',\n",
        "    max_output_tokens=1024,\n",
        "    temperature=0.1,\n",
        "    top_p=0.8,\n",
        "    top_k=40,\n",
        "    verbose=True,\n",
        ")\n",
        "\n",
        "\n",
        "\n",
        "table_uri = f\"bigquery://{project_id}/{dataset_id}\"\n",
        "engine = create_engine(f\"bigquery://{project_id}/{dataset_id}\")\n",
        "\n",
        "\n",
        "def bq_qna(question):\n",
        "  #create SQLDatabase instance from BQ engine\n",
        "  db = SQLDatabase(engine=engine,metadata=MetaData(bind=engine),include_tables=table_name)\n",
        "  # db = SQLDatabase(engine=engine,metadata=MetaData(bind=engine),include_tables=['bigquery-public-data.iowa_liquor_sales.sales'])\n",
        "\n",
        "  #create SQL DB Chain with the initialized LLM and above SQLDB instance\n",
        "  db_chain = SQLDatabaseChain.from_llm(llm, db, verbose=True, return_intermediate_steps=True)\n",
        "\n",
        "\n",
        "  _googlesql_prompt = \"\"\"You are a BigQuery SQL expert. Given an input question, first create a syntactically correct BigQuery query to run, then look at the results of the query and return the answer to the input question.\n",
        "  Unless the user specifies in the question a specific number of examples to obtain, query for at most {top_k} results using the LIMIT clause as per BigQuery SQL. You can order the results to return the most informative data in the database.\n",
        "  Never query for all columns from a table. You must query only the columns that are needed to answer the question. Wrap each column name in backticks (`) to denote them as delimited identifiers.\n",
        "  Pay attention to use only the column names you can see in the tables below. Be careful to not query for columns that do not exist. Also, pay attention to which column is in which table. VEHICLE_ID is only available in Vehicle_ID_Table\n",
        "\n",
        "I have a collection of tables containing vehicle data, and I need your help to extract specific information. Please carefully consider the following details:\n",
        "  Relevant Tables :\n",
        "  •\tVehicle_ID_Table: Contains vehicle ID (a unique numerical identifier), vehicle number (alphanumeric code), smoke emission (numerical value in grams/km), and temperature (numerical value in degrees Celsius).\n",
        "  •\ttopSpeed: Contains vehicle number, capacitor (numerical value in Farads), cc (numerical value representing engine displacement), and top speed (numerical value in km/h).\n",
        "  •\tMileage: Contains vehicle number, make (vehicle manufacturer name), type (vehicle model name), and mileage (numerical value in km/L).\n",
        "  Key Point:\n",
        "  •\tVehicle ID is only available in Vehicle_ID_Table. To retrieve it for a specific vehicle, use the vehicle number to look it up in this Table.\n",
        "  Examples of SQL Queries:\n",
        "  •\tFind the vehicle ID with the highest top speed.\n",
        "  •\tWhat is the mileage of the vehicle with the lowest smoke emission?\n",
        "  •\tList the make and model of vehicles with a capacitor value of 50 Farads.\n",
        "  •\tCompare the average temperature of vehicles with a cc value above 2000 and those below 2000.\n",
        "  Context:\n",
        "  •\tThese Tables belong to a vehicle maintenance database.\n",
        "  •\tSmoke emission and temperature data are used for environmental compliance tracking.\n",
        "  •\tCapacitor values are relevant for electrical systems.\n",
        "  •\tTop speed and mileage are performance-related metrics.\n",
        "  Please be ready to answer various questions about the vehicles based on this data, while accurately handling Vehicle ID retrieval and understanding\n",
        "  the relationships between different columns and files.\n",
        "\n",
        "  Use the following format:\n",
        "  Question: \"Question here\"\n",
        "  SQL : \"Create the SQL query and check if the necessary column is available before executing it\"\n",
        "  SQLQuery: \"SQL Query to run\"\n",
        "  SQLResult: \"Result of the SQLQuery\"\n",
        "  Answer: \"Final answer here\"\n",
        "  Only use the following tables:\n",
        "  {table_info}\n",
        "\n",
        "  If someone asks for specific month, use ActivityDate between current month's start date and current month's end date\n",
        "\n",
        "  Question: {input}\"\"\"\n",
        "\n",
        "  BigQuerySQL_PROMPT = PromptTemplate(\n",
        "      input_variables=[\"input\", \"table_info\", \"top_k\"],\n",
        "      template=_googlesql_prompt,\n",
        "  )\n",
        "\n",
        "  #passing question to the prompt template\n",
        "  final_prompt = BigQuerySQL_PROMPT.format(input=question, table_info=table_name, top_k=10000)\n",
        "\n",
        "  #pass final prompt to SQL Chain\n",
        "  output = db_chain(final_prompt)\n",
        "\n",
        "\n",
        "  return output['result'], output['intermediate_steps'][0]"
      ],
      "metadata": {
        "id": "LgQlFKx94ocV"
      },
      "execution_count": 39,
      "outputs": []
    },
    {
      "cell_type": "code",
      "source": [
        "bq_qna(\"vehcile id with maximum temperature\")"
      ],
      "metadata": {
        "colab": {
          "base_uri": "https://localhost:8080/"
        },
        "id": "EtH6Eh77XH-N",
        "outputId": "ffe14872-226a-4ac4-9652-e66db2a0522c"
      },
      "execution_count": 32,
      "outputs": [
        {
          "output_type": "stream",
          "name": "stdout",
          "text": [
            "\n",
            "\n",
            "\u001b[1m> Entering new  chain...\u001b[0m\n",
            "You are a BigQuery SQL expert. Given an input question, first create a syntactically correct BigQuery query to run, then look at the results of the query and return the answer to the input question.\n",
            "  Unless the user specifies in the question a specific number of examples to obtain, query for at most 10000 results using the LIMIT clause as per BigQuery SQL. You can order the results to return the most informative data in the database.\n",
            "  Never query for all columns from a table. You must query only the columns that are needed to answer the question. Wrap each column name in backticks (`) to denote them as delimited identifiers.\n",
            "  Pay attention to use only the column names you can see in the tables below. Be careful to not query for columns that do not exist. Also, pay attention to which column is in which table.\n",
            "\n",
            "I have a collection of tables containing vehicle data, and I need your help to extract specific information. Please carefully consider the following details:\n",
            "  Relevant Tables :\n",
            "  •\tVehicle_ID_Table: Contains vehicle ID (a unique numerical identifier), vehicle number (alphanumeric code), smoke emission (numerical value in grams/km), and temperature (numerical value in degrees Celsius).\n",
            "  •\ttopSpeed: Contains vehicle number, capacitor (numerical value in Farads), cc (numerical value representing engine displacement), and top speed (numerical value in km/h).\n",
            "  •\tMileage: Contains vehicle number, make (vehicle manufacturer name), type (vehicle model name), and mileage (numerical value in km/L).\n",
            "  Key Point:\n",
            "  •\tVehicle ID is only available in Vehicle_ID_Table. To retrieve it for a specific vehicle, use the vehicle number to look it up in this Table.\n",
            "  Examples of SQL Queries:\n",
            "  •\tFind the vehicle ID with the highest top speed.\n",
            "  •\tWhat is the mileage of the vehicle with the lowest smoke emission?\n",
            "  •\tList the make and model of vehicles with a capacitor value of 50 Farads.\n",
            "  •\tCompare the average temperature of vehicles with a cc value above 2000 and those below 2000.\n",
            "  Context:\n",
            "  •\tThese Tables belong to a vehicle maintenance database.\n",
            "  •\tSmoke emission and temperature data are used for environmental compliance tracking.\n",
            "  •\tCapacitor values are relevant for electrical systems.\n",
            "  •\tTop speed and mileage are performance-related metrics.\n",
            "  Please be ready to answer various questions about the vehicles based on this data, while accurately handling Vehicle ID retrieval and understanding\n",
            "  the relationships between different columns and files.\n",
            "\n",
            "  Use the following format:\n",
            "  Question: \"Question here\"\n",
            "  SQL : \"Create the SQL query and check if the necessary column is available before executing it\"\n",
            "  SQLQuery: \"SQL Query to run\"\n",
            "  SQLResult: \"Result of the SQLQuery\"\n",
            "  Answer: \"Final answer here\"\n",
            "  Only use the following tables:\n",
            "  ['Vehicle_ID_Table', 'Mileage', 'topSpeed']\n",
            "\n",
            "  If someone asks for specific month, use ActivityDate between current month's start date and current month's end date\n",
            "\n",
            "  Question: vehcile id with maximum temperature\n",
            "SQLQuery:\u001b[32;1m\u001b[1;3mSELECT vehicle_id FROM Vehicle_ID_Table WHERE temperature = (SELECT MAX(temperature) FROM Vehicle_ID_Table)\u001b[0m\n",
            "SQLResult: \u001b[33;1m\u001b[1;3m[(16,)]\u001b[0m\n",
            "Answer:\u001b[32;1m\u001b[1;3m16\u001b[0m\n",
            "\u001b[1m> Finished chain.\u001b[0m\n"
          ]
        },
        {
          "output_type": "execute_result",
          "data": {
            "text/plain": [
              "('16',\n",
              " {'input': 'You are a BigQuery SQL expert. Given an input question, first create a syntactically correct BigQuery query to run, then look at the results of the query and return the answer to the input question.\\n  Unless the user specifies in the question a specific number of examples to obtain, query for at most 10000 results using the LIMIT clause as per BigQuery SQL. You can order the results to return the most informative data in the database.\\n  Never query for all columns from a table. You must query only the columns that are needed to answer the question. Wrap each column name in backticks (`) to denote them as delimited identifiers.\\n  Pay attention to use only the column names you can see in the tables below. Be careful to not query for columns that do not exist. Also, pay attention to which column is in which table.\\n\\nI have a collection of tables containing vehicle data, and I need your help to extract specific information. Please carefully consider the following details:\\n  Relevant Tables :\\n  •\\tVehicle_ID_Table: Contains vehicle ID (a unique numerical identifier), vehicle number (alphanumeric code), smoke emission (numerical value in grams/km), and temperature (numerical value in degrees Celsius).\\n  •\\ttopSpeed: Contains vehicle number, capacitor (numerical value in Farads), cc (numerical value representing engine displacement), and top speed (numerical value in km/h).\\n  •\\tMileage: Contains vehicle number, make (vehicle manufacturer name), type (vehicle model name), and mileage (numerical value in km/L).\\n  Key Point:\\n  •\\tVehicle ID is only available in Vehicle_ID_Table. To retrieve it for a specific vehicle, use the vehicle number to look it up in this Table.\\n  Examples of SQL Queries:\\n  •\\tFind the vehicle ID with the highest top speed.\\n  •\\tWhat is the mileage of the vehicle with the lowest smoke emission?\\n  •\\tList the make and model of vehicles with a capacitor value of 50 Farads.\\n  •\\tCompare the average temperature of vehicles with a cc value above 2000 and those below 2000.\\n  Context:\\n  •\\tThese Tables belong to a vehicle maintenance database.\\n  •\\tSmoke emission and temperature data are used for environmental compliance tracking.\\n  •\\tCapacitor values are relevant for electrical systems.\\n  •\\tTop speed and mileage are performance-related metrics.\\n  Please be ready to answer various questions about the vehicles based on this data, while accurately handling Vehicle ID retrieval and understanding\\n  the relationships between different columns and files.\\n\\n  Use the following format:\\n  Question: \"Question here\"\\n  SQL : \"Create the SQL query and check if the necessary column is available before executing it\"\\n  SQLQuery: \"SQL Query to run\"\\n  SQLResult: \"Result of the SQLQuery\"\\n  Answer: \"Final answer here\"\\n  Only use the following tables:\\n  [\\'Vehicle_ID_Table\\', \\'Mileage\\', \\'topSpeed\\']\\n\\n  If someone asks for specific month, use ActivityDate between current month\\'s start date and current month\\'s end date\\n\\n  Question: vehcile id with maximum temperature\\nSQLQuery:SELECT vehicle_id FROM Vehicle_ID_Table WHERE temperature = (SELECT MAX(temperature) FROM Vehicle_ID_Table)\\nSQLResult: [(16,)]\\nAnswer:',\n",
              "  'top_k': '5',\n",
              "  'dialect': 'bigquery',\n",
              "  'table_info': '\\nCREATE TABLE `Mileage` (\\n\\t`vehicle_number` STRING, \\n\\t`make` STRING, \\n\\t`type` STRING, \\n\\t`mileage` INT64\\n)\\n\\n/*\\n3 rows from Mileage table:\\nvehicle_number\\tmake\\ttype\\tmileage\\nNone\\tNone\\tNone\\tNone\\nNone\\tNone\\tNone\\tNone\\nNone\\tNone\\tNone\\tNone\\n*/\\n\\n\\nCREATE TABLE `Vehicle_ID_Table` (\\n\\t`vehicle_id` INT64, \\n\\t`vehicle_number` STRING, \\n\\t`smoke_emission` FLOAT64, \\n\\t`temperature` INT64\\n)\\n\\n/*\\n3 rows from Vehicle_ID_Table table:\\nvehicle_id\\tvehicle_number\\tsmoke_emission\\ttemperature\\n2\\tDEF456\\t0.5\\t28\\n11\\tEFGH789\\t0.5\\t26\\n20\\t012JKL\\t0.5\\t32\\n*/\\n\\n\\nCREATE TABLE `topSpeed` (\\n\\t`vehicle_number` STRING, \\n\\t`capacitor` INT64, \\n\\t`cc` FLOAT64, \\n\\t`top_speed` INT64\\n)\\n\\n/*\\n3 rows from topSpeed table:\\nvehicle_number\\tcapacitor\\tcc\\ttop_speed\\nYZ123\\t1000\\t1.0\\t100\\n123A\\t1300\\t1.0\\t100\\n567YZ1\\t1400\\t1.1\\t105\\n*/',\n",
              "  'stop': ['\\nSQLResult:']})"
            ]
          },
          "metadata": {},
          "execution_count": 32
        }
      ]
    },
    {
      "cell_type": "code",
      "source": [
        "bq_qna(\"vehicle number with maximum topspeed. Also find the corresponding vehicle id \")"
      ],
      "metadata": {
        "colab": {
          "base_uri": "https://localhost:8080/"
        },
        "id": "oWpGWguDXH7i",
        "outputId": "eac611f1-1c57-495e-c177-b6d0c1942069"
      },
      "execution_count": 34,
      "outputs": [
        {
          "output_type": "stream",
          "name": "stdout",
          "text": [
            "\n",
            "\n",
            "\u001b[1m> Entering new  chain...\u001b[0m\n",
            "You are a BigQuery SQL expert. Given an input question, first create a syntactically correct BigQuery query to run, then look at the results of the query and return the answer to the input question.\n",
            "  Unless the user specifies in the question a specific number of examples to obtain, query for at most 10000 results using the LIMIT clause as per BigQuery SQL. You can order the results to return the most informative data in the database.\n",
            "  Never query for all columns from a table. You must query only the columns that are needed to answer the question. Wrap each column name in backticks (`) to denote them as delimited identifiers.\n",
            "  Pay attention to use only the column names you can see in the tables below. Be careful to not query for columns that do not exist. Also, pay attention to which column is in which table.\n",
            "\n",
            "I have a collection of tables containing vehicle data, and I need your help to extract specific information. Please carefully consider the following details:\n",
            "  Relevant Tables :\n",
            "  •\tVehicle_ID_Table: Contains vehicle ID (a unique numerical identifier), vehicle number (alphanumeric code), smoke emission (numerical value in grams/km), and temperature (numerical value in degrees Celsius).\n",
            "  •\ttopSpeed: Contains vehicle number, capacitor (numerical value in Farads), cc (numerical value representing engine displacement), and top speed (numerical value in km/h).\n",
            "  •\tMileage: Contains vehicle number, make (vehicle manufacturer name), type (vehicle model name), and mileage (numerical value in km/L).\n",
            "  Key Point:\n",
            "  •\tVehicle ID is only available in Vehicle_ID_Table. To retrieve it for a specific vehicle, use the vehicle number to look it up in this Table.\n",
            "  Examples of SQL Queries:\n",
            "  •\tFind the vehicle ID with the highest top speed.\n",
            "  •\tWhat is the mileage of the vehicle with the lowest smoke emission?\n",
            "  •\tList the make and model of vehicles with a capacitor value of 50 Farads.\n",
            "  •\tCompare the average temperature of vehicles with a cc value above 2000 and those below 2000.\n",
            "  Context:\n",
            "  •\tThese Tables belong to a vehicle maintenance database.\n",
            "  •\tSmoke emission and temperature data are used for environmental compliance tracking.\n",
            "  •\tCapacitor values are relevant for electrical systems.\n",
            "  •\tTop speed and mileage are performance-related metrics.\n",
            "  Please be ready to answer various questions about the vehicles based on this data, while accurately handling Vehicle ID retrieval and understanding\n",
            "  the relationships between different columns and files.\n",
            "\n",
            "  Use the following format:\n",
            "  Question: \"Question here\"\n",
            "  SQL : \"Create the SQL query and check if the necessary column is available before executing it\"\n",
            "  SQLQuery: \"SQL Query to run\"\n",
            "  SQLResult: \"Result of the SQLQuery\"\n",
            "  Answer: \"Final answer here\"\n",
            "  Only use the following tables:\n",
            "  ['Vehicle_ID_Table', 'Mileage', 'topSpeed']\n",
            "\n",
            "  If someone asks for specific month, use ActivityDate between current month's start date and current month's end date\n",
            "\n",
            "  Question: vehicle number with maximum topspeed. Also find the corresponding vehicle id \n",
            "SQLQuery:\u001b[32;1m\u001b[1;3mSELECT t1.vehicle_number, t2.vehicle_id FROM topSpeed AS t1 JOIN Vehicle_ID_Table AS t2 ON t1.vehicle_number = t2.vehicle_number ORDER BY t1.top_speed DESC LIMIT 1\u001b[0m\n",
            "SQLResult: \u001b[33;1m\u001b[1;3m[('WXYZ234', 16)]\u001b[0m\n",
            "Answer:\u001b[32;1m\u001b[1;3mWXYZ234, 16\u001b[0m\n",
            "\u001b[1m> Finished chain.\u001b[0m\n"
          ]
        },
        {
          "output_type": "execute_result",
          "data": {
            "text/plain": [
              "('WXYZ234, 16',\n",
              " {'input': 'You are a BigQuery SQL expert. Given an input question, first create a syntactically correct BigQuery query to run, then look at the results of the query and return the answer to the input question.\\n  Unless the user specifies in the question a specific number of examples to obtain, query for at most 10000 results using the LIMIT clause as per BigQuery SQL. You can order the results to return the most informative data in the database.\\n  Never query for all columns from a table. You must query only the columns that are needed to answer the question. Wrap each column name in backticks (`) to denote them as delimited identifiers.\\n  Pay attention to use only the column names you can see in the tables below. Be careful to not query for columns that do not exist. Also, pay attention to which column is in which table.\\n\\nI have a collection of tables containing vehicle data, and I need your help to extract specific information. Please carefully consider the following details:\\n  Relevant Tables :\\n  •\\tVehicle_ID_Table: Contains vehicle ID (a unique numerical identifier), vehicle number (alphanumeric code), smoke emission (numerical value in grams/km), and temperature (numerical value in degrees Celsius).\\n  •\\ttopSpeed: Contains vehicle number, capacitor (numerical value in Farads), cc (numerical value representing engine displacement), and top speed (numerical value in km/h).\\n  •\\tMileage: Contains vehicle number, make (vehicle manufacturer name), type (vehicle model name), and mileage (numerical value in km/L).\\n  Key Point:\\n  •\\tVehicle ID is only available in Vehicle_ID_Table. To retrieve it for a specific vehicle, use the vehicle number to look it up in this Table.\\n  Examples of SQL Queries:\\n  •\\tFind the vehicle ID with the highest top speed.\\n  •\\tWhat is the mileage of the vehicle with the lowest smoke emission?\\n  •\\tList the make and model of vehicles with a capacitor value of 50 Farads.\\n  •\\tCompare the average temperature of vehicles with a cc value above 2000 and those below 2000.\\n  Context:\\n  •\\tThese Tables belong to a vehicle maintenance database.\\n  •\\tSmoke emission and temperature data are used for environmental compliance tracking.\\n  •\\tCapacitor values are relevant for electrical systems.\\n  •\\tTop speed and mileage are performance-related metrics.\\n  Please be ready to answer various questions about the vehicles based on this data, while accurately handling Vehicle ID retrieval and understanding\\n  the relationships between different columns and files.\\n\\n  Use the following format:\\n  Question: \"Question here\"\\n  SQL : \"Create the SQL query and check if the necessary column is available before executing it\"\\n  SQLQuery: \"SQL Query to run\"\\n  SQLResult: \"Result of the SQLQuery\"\\n  Answer: \"Final answer here\"\\n  Only use the following tables:\\n  [\\'Vehicle_ID_Table\\', \\'Mileage\\', \\'topSpeed\\']\\n\\n  If someone asks for specific month, use ActivityDate between current month\\'s start date and current month\\'s end date\\n\\n  Question: vehicle number with maximum topspeed. Also find the corresponding vehicle id \\nSQLQuery:SELECT t1.vehicle_number, t2.vehicle_id FROM topSpeed AS t1 JOIN Vehicle_ID_Table AS t2 ON t1.vehicle_number = t2.vehicle_number ORDER BY t1.top_speed DESC LIMIT 1\\nSQLResult: [(\\'WXYZ234\\', 16)]\\nAnswer:',\n",
              "  'top_k': '5',\n",
              "  'dialect': 'bigquery',\n",
              "  'table_info': '\\nCREATE TABLE `Mileage` (\\n\\t`vehicle_number` STRING, \\n\\t`make` STRING, \\n\\t`type` STRING, \\n\\t`mileage` INT64\\n)\\n\\n/*\\n3 rows from Mileage table:\\nvehicle_number\\tmake\\ttype\\tmileage\\nNone\\tNone\\tNone\\tNone\\nNone\\tNone\\tNone\\tNone\\nNone\\tNone\\tNone\\tNone\\n*/\\n\\n\\nCREATE TABLE `Vehicle_ID_Table` (\\n\\t`vehicle_id` INT64, \\n\\t`vehicle_number` STRING, \\n\\t`smoke_emission` FLOAT64, \\n\\t`temperature` INT64\\n)\\n\\n/*\\n3 rows from Vehicle_ID_Table table:\\nvehicle_id\\tvehicle_number\\tsmoke_emission\\ttemperature\\n2\\tDEF456\\t0.5\\t28\\n11\\tEFGH789\\t0.5\\t26\\n20\\t012JKL\\t0.5\\t32\\n*/\\n\\n\\nCREATE TABLE `topSpeed` (\\n\\t`vehicle_number` STRING, \\n\\t`capacitor` INT64, \\n\\t`cc` FLOAT64, \\n\\t`top_speed` INT64\\n)\\n\\n/*\\n3 rows from topSpeed table:\\nvehicle_number\\tcapacitor\\tcc\\ttop_speed\\nYZ123\\t1000\\t1.0\\t100\\n123A\\t1300\\t1.0\\t100\\n567YZ1\\t1400\\t1.1\\t105\\n*/',\n",
              "  'stop': ['\\nSQLResult:']})"
            ]
          },
          "metadata": {},
          "execution_count": 34
        }
      ]
    },
    {
      "cell_type": "code",
      "source": [
        "bq_qna(\"Vehicle number with the Maximum Mileage, Find the corresponding vehicle id from the Vehicle_ID_Table \")"
      ],
      "metadata": {
        "colab": {
          "base_uri": "https://localhost:8080/",
          "height": 1000
        },
        "id": "Uk0ZR7H_XH5R",
        "outputId": "a32c283e-1e0f-40d9-da43-c2af934ff475"
      },
      "execution_count": 41,
      "outputs": [
        {
          "output_type": "stream",
          "name": "stdout",
          "text": [
            "\n",
            "\n",
            "\u001b[1m> Entering new  chain...\u001b[0m\n",
            "You are a BigQuery SQL expert. Given an input question, first create a syntactically correct BigQuery query to run, then look at the results of the query and return the answer to the input question.\n",
            "  Unless the user specifies in the question a specific number of examples to obtain, query for at most 10000 results using the LIMIT clause as per BigQuery SQL. You can order the results to return the most informative data in the database.\n",
            "  Never query for all columns from a table. You must query only the columns that are needed to answer the question. Wrap each column name in backticks (`) to denote them as delimited identifiers.\n",
            "  Pay attention to use only the column names you can see in the tables below. Be careful to not query for columns that do not exist. Also, pay attention to which column is in which table. VEHICLE_ID is only available in Vehicle_ID_Table\n",
            "\n",
            "I have a collection of tables containing vehicle data, and I need your help to extract specific information. Please carefully consider the following details:\n",
            "  Relevant Tables :\n",
            "  •\tVehicle_ID_Table: Contains vehicle ID (a unique numerical identifier), vehicle number (alphanumeric code), smoke emission (numerical value in grams/km), and temperature (numerical value in degrees Celsius).\n",
            "  •\ttopSpeed: Contains vehicle number, capacitor (numerical value in Farads), cc (numerical value representing engine displacement), and top speed (numerical value in km/h).\n",
            "  •\tMileage: Contains vehicle number, make (vehicle manufacturer name), type (vehicle model name), and mileage (numerical value in km/L).\n",
            "  Key Point:\n",
            "  •\tVehicle ID is only available in Vehicle_ID_Table. To retrieve it for a specific vehicle, use the vehicle number to look it up in this Table.\n",
            "  Examples of SQL Queries:\n",
            "  •\tFind the vehicle ID with the highest top speed.\n",
            "  •\tWhat is the mileage of the vehicle with the lowest smoke emission?\n",
            "  •\tList the make and model of vehicles with a capacitor value of 50 Farads.\n",
            "  •\tCompare the average temperature of vehicles with a cc value above 2000 and those below 2000.\n",
            "  Context:\n",
            "  •\tThese Tables belong to a vehicle maintenance database.\n",
            "  •\tSmoke emission and temperature data are used for environmental compliance tracking.\n",
            "  •\tCapacitor values are relevant for electrical systems.\n",
            "  •\tTop speed and mileage are performance-related metrics.\n",
            "  Please be ready to answer various questions about the vehicles based on this data, while accurately handling Vehicle ID retrieval and understanding\n",
            "  the relationships between different columns and files.\n",
            "\n",
            "  Use the following format:\n",
            "  Question: \"Question here\"\n",
            "  SQL : \"Create the SQL query and check if the necessary column is available before executing it\"\n",
            "  SQLQuery: \"SQL Query to run\"\n",
            "  SQLResult: \"Result of the SQLQuery\"\n",
            "  Answer: \"Final answer here\"\n",
            "  Only use the following tables:\n",
            "  ['Vehicle_ID_Table', 'Mileage', 'topSpeed']\n",
            "\n",
            "  If someone asks for specific month, use ActivityDate between current month's start date and current month's end date\n",
            "\n",
            "  Question: Vehicle number with the Maximum Mileage, Find the corresponding vehicle id from the Vehicle_ID_Table \n",
            "SQLQuery:\u001b[32;1m\u001b[1;3mSELECT vehicle_number, vehicle_id FROM Mileage ORDER BY mileage DESC LIMIT 1\u001b[0m"
          ]
        },
        {
          "output_type": "error",
          "ename": "DatabaseError",
          "evalue": "ignored",
          "traceback": [
            "\u001b[0;31m---------------------------------------------------------------------------\u001b[0m",
            "\u001b[0;31mBadRequest\u001b[0m                                Traceback (most recent call last)",
            "\u001b[0;32m/usr/local/lib/python3.10/dist-packages/google/cloud/bigquery/dbapi/cursor.py\u001b[0m in \u001b[0;36m_execute\u001b[0;34m(self, formatted_operation, parameters, job_id, job_config, parameter_types)\u001b[0m\n\u001b[1;32m    212\u001b[0m         \u001b[0;32mtry\u001b[0m\u001b[0;34m:\u001b[0m\u001b[0;34m\u001b[0m\u001b[0;34m\u001b[0m\u001b[0m\n\u001b[0;32m--> 213\u001b[0;31m             \u001b[0mself\u001b[0m\u001b[0;34m.\u001b[0m\u001b[0m_query_job\u001b[0m\u001b[0;34m.\u001b[0m\u001b[0mresult\u001b[0m\u001b[0;34m(\u001b[0m\u001b[0;34m)\u001b[0m\u001b[0;34m\u001b[0m\u001b[0;34m\u001b[0m\u001b[0m\n\u001b[0m\u001b[1;32m    214\u001b[0m         \u001b[0;32mexcept\u001b[0m \u001b[0mgoogle\u001b[0m\u001b[0;34m.\u001b[0m\u001b[0mcloud\u001b[0m\u001b[0;34m.\u001b[0m\u001b[0mexceptions\u001b[0m\u001b[0;34m.\u001b[0m\u001b[0mGoogleCloudError\u001b[0m \u001b[0;32mas\u001b[0m \u001b[0mexc\u001b[0m\u001b[0;34m:\u001b[0m\u001b[0;34m\u001b[0m\u001b[0;34m\u001b[0m\u001b[0m\n",
            "\u001b[0;32m/usr/local/lib/python3.10/dist-packages/google/cloud/bigquery/job/query.py\u001b[0m in \u001b[0;36mresult\u001b[0;34m(self, page_size, max_results, retry, timeout, start_index, job_retry)\u001b[0m\n\u001b[1;32m   1580\u001b[0m \u001b[0;34m\u001b[0m\u001b[0m\n\u001b[0;32m-> 1581\u001b[0;31m             \u001b[0mdo_get_result\u001b[0m\u001b[0;34m(\u001b[0m\u001b[0;34m)\u001b[0m\u001b[0;34m\u001b[0m\u001b[0;34m\u001b[0m\u001b[0m\n\u001b[0m\u001b[1;32m   1582\u001b[0m \u001b[0;34m\u001b[0m\u001b[0m\n",
            "\u001b[0;32m/usr/local/lib/python3.10/dist-packages/google/api_core/retry.py\u001b[0m in \u001b[0;36mretry_wrapped_func\u001b[0;34m(*args, **kwargs)\u001b[0m\n\u001b[1;32m    348\u001b[0m             )\n\u001b[0;32m--> 349\u001b[0;31m             return retry_target(\n\u001b[0m\u001b[1;32m    350\u001b[0m                 \u001b[0mtarget\u001b[0m\u001b[0;34m,\u001b[0m\u001b[0;34m\u001b[0m\u001b[0;34m\u001b[0m\u001b[0m\n",
            "\u001b[0;32m/usr/local/lib/python3.10/dist-packages/google/api_core/retry.py\u001b[0m in \u001b[0;36mretry_target\u001b[0;34m(target, predicate, sleep_generator, timeout, on_error, **kwargs)\u001b[0m\n\u001b[1;32m    190\u001b[0m         \u001b[0;32mtry\u001b[0m\u001b[0;34m:\u001b[0m\u001b[0;34m\u001b[0m\u001b[0;34m\u001b[0m\u001b[0m\n\u001b[0;32m--> 191\u001b[0;31m             \u001b[0;32mreturn\u001b[0m \u001b[0mtarget\u001b[0m\u001b[0;34m(\u001b[0m\u001b[0;34m)\u001b[0m\u001b[0;34m\u001b[0m\u001b[0;34m\u001b[0m\u001b[0m\n\u001b[0m\u001b[1;32m    192\u001b[0m \u001b[0;34m\u001b[0m\u001b[0m\n",
            "\u001b[0;32m/usr/local/lib/python3.10/dist-packages/google/cloud/bigquery/job/query.py\u001b[0m in \u001b[0;36mdo_get_result\u001b[0;34m()\u001b[0m\n\u001b[1;32m   1570\u001b[0m \u001b[0;34m\u001b[0m\u001b[0m\n\u001b[0;32m-> 1571\u001b[0;31m                 \u001b[0msuper\u001b[0m\u001b[0;34m(\u001b[0m\u001b[0mQueryJob\u001b[0m\u001b[0;34m,\u001b[0m \u001b[0mself\u001b[0m\u001b[0;34m)\u001b[0m\u001b[0;34m.\u001b[0m\u001b[0mresult\u001b[0m\u001b[0;34m(\u001b[0m\u001b[0mretry\u001b[0m\u001b[0;34m=\u001b[0m\u001b[0mretry\u001b[0m\u001b[0;34m,\u001b[0m \u001b[0mtimeout\u001b[0m\u001b[0;34m=\u001b[0m\u001b[0mtimeout\u001b[0m\u001b[0;34m)\u001b[0m\u001b[0;34m\u001b[0m\u001b[0;34m\u001b[0m\u001b[0m\n\u001b[0m\u001b[1;32m   1572\u001b[0m \u001b[0;34m\u001b[0m\u001b[0m\n",
            "\u001b[0;32m/usr/local/lib/python3.10/dist-packages/google/cloud/bigquery/job/base.py\u001b[0m in \u001b[0;36mresult\u001b[0;34m(self, retry, timeout)\u001b[0m\n\u001b[1;32m    921\u001b[0m         \u001b[0mkwargs\u001b[0m \u001b[0;34m=\u001b[0m \u001b[0;34m{\u001b[0m\u001b[0;34m}\u001b[0m \u001b[0;32mif\u001b[0m \u001b[0mretry\u001b[0m \u001b[0;32mis\u001b[0m \u001b[0mDEFAULT_RETRY\u001b[0m \u001b[0;32melse\u001b[0m \u001b[0;34m{\u001b[0m\u001b[0;34m\"retry\"\u001b[0m\u001b[0;34m:\u001b[0m \u001b[0mretry\u001b[0m\u001b[0;34m}\u001b[0m\u001b[0;34m\u001b[0m\u001b[0;34m\u001b[0m\u001b[0m\n\u001b[0;32m--> 922\u001b[0;31m         \u001b[0;32mreturn\u001b[0m \u001b[0msuper\u001b[0m\u001b[0;34m(\u001b[0m\u001b[0m_AsyncJob\u001b[0m\u001b[0;34m,\u001b[0m \u001b[0mself\u001b[0m\u001b[0;34m)\u001b[0m\u001b[0;34m.\u001b[0m\u001b[0mresult\u001b[0m\u001b[0;34m(\u001b[0m\u001b[0mtimeout\u001b[0m\u001b[0;34m=\u001b[0m\u001b[0mtimeout\u001b[0m\u001b[0;34m,\u001b[0m \u001b[0;34m**\u001b[0m\u001b[0mkwargs\u001b[0m\u001b[0;34m)\u001b[0m\u001b[0;34m\u001b[0m\u001b[0;34m\u001b[0m\u001b[0m\n\u001b[0m\u001b[1;32m    923\u001b[0m \u001b[0;34m\u001b[0m\u001b[0m\n",
            "\u001b[0;32m/usr/local/lib/python3.10/dist-packages/google/api_core/future/polling.py\u001b[0m in \u001b[0;36mresult\u001b[0;34m(self, timeout, retry, polling)\u001b[0m\n\u001b[1;32m    260\u001b[0m             \u001b[0;31m# Pylint doesn't recognize that this is valid in this case.\u001b[0m\u001b[0;34m\u001b[0m\u001b[0;34m\u001b[0m\u001b[0m\n\u001b[0;32m--> 261\u001b[0;31m             \u001b[0;32mraise\u001b[0m \u001b[0mself\u001b[0m\u001b[0;34m.\u001b[0m\u001b[0m_exception\u001b[0m\u001b[0;34m\u001b[0m\u001b[0;34m\u001b[0m\u001b[0m\n\u001b[0m\u001b[1;32m    262\u001b[0m \u001b[0;34m\u001b[0m\u001b[0m\n",
            "\u001b[0;31mBadRequest\u001b[0m: 400 Unrecognized name: vehicle_id at [1:24]\n\nLocation: US\nJob ID: 3e108ac0-31ad-46b4-8cec-a7b5e8209871\n",
            "\nDuring handling of the above exception, another exception occurred:\n",
            "\u001b[0;31mDatabaseError\u001b[0m                             Traceback (most recent call last)",
            "\u001b[0;32m~/.local/lib/python3.10/site-packages/sqlalchemy/engine/base.py\u001b[0m in \u001b[0;36m_execute_context\u001b[0;34m(self, dialect, constructor, statement, parameters, execution_options, *args, **kw)\u001b[0m\n\u001b[1;32m   1904\u001b[0m                 \u001b[0;32mif\u001b[0m \u001b[0;32mnot\u001b[0m \u001b[0mevt_handled\u001b[0m\u001b[0;34m:\u001b[0m\u001b[0;34m\u001b[0m\u001b[0;34m\u001b[0m\u001b[0m\n\u001b[0;32m-> 1905\u001b[0;31m                     self.dialect.do_execute(\n\u001b[0m\u001b[1;32m   1906\u001b[0m                         \u001b[0mcursor\u001b[0m\u001b[0;34m,\u001b[0m \u001b[0mstatement\u001b[0m\u001b[0;34m,\u001b[0m \u001b[0mparameters\u001b[0m\u001b[0;34m,\u001b[0m \u001b[0mcontext\u001b[0m\u001b[0;34m\u001b[0m\u001b[0;34m\u001b[0m\u001b[0m\n",
            "\u001b[0;32m~/.local/lib/python3.10/site-packages/sqlalchemy/engine/default.py\u001b[0m in \u001b[0;36mdo_execute\u001b[0;34m(self, cursor, statement, parameters, context)\u001b[0m\n\u001b[1;32m    735\u001b[0m     \u001b[0;32mdef\u001b[0m \u001b[0mdo_execute\u001b[0m\u001b[0;34m(\u001b[0m\u001b[0mself\u001b[0m\u001b[0;34m,\u001b[0m \u001b[0mcursor\u001b[0m\u001b[0;34m,\u001b[0m \u001b[0mstatement\u001b[0m\u001b[0;34m,\u001b[0m \u001b[0mparameters\u001b[0m\u001b[0;34m,\u001b[0m \u001b[0mcontext\u001b[0m\u001b[0;34m=\u001b[0m\u001b[0;32mNone\u001b[0m\u001b[0;34m)\u001b[0m\u001b[0;34m:\u001b[0m\u001b[0;34m\u001b[0m\u001b[0;34m\u001b[0m\u001b[0m\n\u001b[0;32m--> 736\u001b[0;31m         \u001b[0mcursor\u001b[0m\u001b[0;34m.\u001b[0m\u001b[0mexecute\u001b[0m\u001b[0;34m(\u001b[0m\u001b[0mstatement\u001b[0m\u001b[0;34m,\u001b[0m \u001b[0mparameters\u001b[0m\u001b[0;34m)\u001b[0m\u001b[0;34m\u001b[0m\u001b[0;34m\u001b[0m\u001b[0m\n\u001b[0m\u001b[1;32m    737\u001b[0m \u001b[0;34m\u001b[0m\u001b[0m\n",
            "\u001b[0;32m/usr/local/lib/python3.10/dist-packages/google/cloud/bigquery/dbapi/_helpers.py\u001b[0m in \u001b[0;36mwith_closed_check\u001b[0;34m(self, *args, **kwargs)\u001b[0m\n\u001b[1;32m    493\u001b[0m                 \u001b[0;32mraise\u001b[0m \u001b[0mexc_class\u001b[0m\u001b[0;34m(\u001b[0m\u001b[0mexc_msg\u001b[0m\u001b[0;34m)\u001b[0m\u001b[0;34m\u001b[0m\u001b[0;34m\u001b[0m\u001b[0m\n\u001b[0;32m--> 494\u001b[0;31m             \u001b[0;32mreturn\u001b[0m \u001b[0mmethod\u001b[0m\u001b[0;34m(\u001b[0m\u001b[0mself\u001b[0m\u001b[0;34m,\u001b[0m \u001b[0;34m*\u001b[0m\u001b[0margs\u001b[0m\u001b[0;34m,\u001b[0m \u001b[0;34m**\u001b[0m\u001b[0mkwargs\u001b[0m\u001b[0;34m)\u001b[0m\u001b[0;34m\u001b[0m\u001b[0;34m\u001b[0m\u001b[0m\n\u001b[0m\u001b[1;32m    495\u001b[0m \u001b[0;34m\u001b[0m\u001b[0m\n",
            "\u001b[0;32m/usr/local/lib/python3.10/dist-packages/google/cloud/bigquery/dbapi/cursor.py\u001b[0m in \u001b[0;36mexecute\u001b[0;34m(self, operation, parameters, job_id, job_config)\u001b[0m\n\u001b[1;32m    175\u001b[0m         \u001b[0mformatted_operation\u001b[0m\u001b[0;34m,\u001b[0m \u001b[0mparameter_types\u001b[0m \u001b[0;34m=\u001b[0m \u001b[0m_format_operation\u001b[0m\u001b[0;34m(\u001b[0m\u001b[0moperation\u001b[0m\u001b[0;34m,\u001b[0m \u001b[0mparameters\u001b[0m\u001b[0;34m)\u001b[0m\u001b[0;34m\u001b[0m\u001b[0;34m\u001b[0m\u001b[0m\n\u001b[0;32m--> 176\u001b[0;31m         self._execute(\n\u001b[0m\u001b[1;32m    177\u001b[0m             \u001b[0mformatted_operation\u001b[0m\u001b[0;34m,\u001b[0m \u001b[0mparameters\u001b[0m\u001b[0;34m,\u001b[0m \u001b[0mjob_id\u001b[0m\u001b[0;34m,\u001b[0m \u001b[0mjob_config\u001b[0m\u001b[0;34m,\u001b[0m \u001b[0mparameter_types\u001b[0m\u001b[0;34m\u001b[0m\u001b[0;34m\u001b[0m\u001b[0m\n",
            "\u001b[0;32m/usr/local/lib/python3.10/dist-packages/google/cloud/bigquery/dbapi/cursor.py\u001b[0m in \u001b[0;36m_execute\u001b[0;34m(self, formatted_operation, parameters, job_id, job_config, parameter_types)\u001b[0m\n\u001b[1;32m    214\u001b[0m         \u001b[0;32mexcept\u001b[0m \u001b[0mgoogle\u001b[0m\u001b[0;34m.\u001b[0m\u001b[0mcloud\u001b[0m\u001b[0;34m.\u001b[0m\u001b[0mexceptions\u001b[0m\u001b[0;34m.\u001b[0m\u001b[0mGoogleCloudError\u001b[0m \u001b[0;32mas\u001b[0m \u001b[0mexc\u001b[0m\u001b[0;34m:\u001b[0m\u001b[0;34m\u001b[0m\u001b[0;34m\u001b[0m\u001b[0m\n\u001b[0;32m--> 215\u001b[0;31m             \u001b[0;32mraise\u001b[0m \u001b[0mexceptions\u001b[0m\u001b[0;34m.\u001b[0m\u001b[0mDatabaseError\u001b[0m\u001b[0;34m(\u001b[0m\u001b[0mexc\u001b[0m\u001b[0;34m)\u001b[0m\u001b[0;34m\u001b[0m\u001b[0;34m\u001b[0m\u001b[0m\n\u001b[0m\u001b[1;32m    216\u001b[0m \u001b[0;34m\u001b[0m\u001b[0m\n",
            "\u001b[0;31mDatabaseError\u001b[0m: 400 Unrecognized name: vehicle_id at [1:24]\n\nLocation: US\nJob ID: 3e108ac0-31ad-46b4-8cec-a7b5e8209871\n",
            "\nThe above exception was the direct cause of the following exception:\n",
            "\u001b[0;31mDatabaseError\u001b[0m                             Traceback (most recent call last)",
            "\u001b[0;32m<ipython-input-41-7eb3395a4ef4>\u001b[0m in \u001b[0;36m<cell line: 1>\u001b[0;34m()\u001b[0m\n\u001b[0;32m----> 1\u001b[0;31m \u001b[0mbq_qna\u001b[0m\u001b[0;34m(\u001b[0m\u001b[0;34m\"Vehicle number with the Maximum Mileage, Find the corresponding vehicle id from the Vehicle_ID_Table \"\u001b[0m\u001b[0;34m)\u001b[0m\u001b[0;34m\u001b[0m\u001b[0;34m\u001b[0m\u001b[0m\n\u001b[0m",
            "\u001b[0;32m<ipython-input-39-845fdff559fc>\u001b[0m in \u001b[0;36mbq_qna\u001b[0;34m(question)\u001b[0m\n\u001b[1;32m     70\u001b[0m \u001b[0;34m\u001b[0m\u001b[0m\n\u001b[1;32m     71\u001b[0m   \u001b[0;31m#pass final prompt to SQL Chain\u001b[0m\u001b[0;34m\u001b[0m\u001b[0;34m\u001b[0m\u001b[0m\n\u001b[0;32m---> 72\u001b[0;31m   \u001b[0moutput\u001b[0m \u001b[0;34m=\u001b[0m \u001b[0mdb_chain\u001b[0m\u001b[0;34m(\u001b[0m\u001b[0mfinal_prompt\u001b[0m\u001b[0;34m)\u001b[0m\u001b[0;34m\u001b[0m\u001b[0;34m\u001b[0m\u001b[0m\n\u001b[0m\u001b[1;32m     73\u001b[0m \u001b[0;34m\u001b[0m\u001b[0m\n\u001b[1;32m     74\u001b[0m \u001b[0;34m\u001b[0m\u001b[0m\n",
            "\u001b[0;32m~/.local/lib/python3.10/site-packages/langchain/chains/base.py\u001b[0m in \u001b[0;36m__call__\u001b[0;34m(self, inputs, return_only_outputs, callbacks, tags, metadata, include_run_info)\u001b[0m\n\u001b[1;32m    241\u001b[0m         \u001b[0;32mexcept\u001b[0m \u001b[0;34m(\u001b[0m\u001b[0mKeyboardInterrupt\u001b[0m\u001b[0;34m,\u001b[0m \u001b[0mException\u001b[0m\u001b[0;34m)\u001b[0m \u001b[0;32mas\u001b[0m \u001b[0me\u001b[0m\u001b[0;34m:\u001b[0m\u001b[0;34m\u001b[0m\u001b[0;34m\u001b[0m\u001b[0m\n\u001b[1;32m    242\u001b[0m             \u001b[0mrun_manager\u001b[0m\u001b[0;34m.\u001b[0m\u001b[0mon_chain_error\u001b[0m\u001b[0;34m(\u001b[0m\u001b[0me\u001b[0m\u001b[0;34m)\u001b[0m\u001b[0;34m\u001b[0m\u001b[0;34m\u001b[0m\u001b[0m\n\u001b[0;32m--> 243\u001b[0;31m             \u001b[0;32mraise\u001b[0m \u001b[0me\u001b[0m\u001b[0;34m\u001b[0m\u001b[0;34m\u001b[0m\u001b[0m\n\u001b[0m\u001b[1;32m    244\u001b[0m         \u001b[0mrun_manager\u001b[0m\u001b[0;34m.\u001b[0m\u001b[0mon_chain_end\u001b[0m\u001b[0;34m(\u001b[0m\u001b[0moutputs\u001b[0m\u001b[0;34m)\u001b[0m\u001b[0;34m\u001b[0m\u001b[0;34m\u001b[0m\u001b[0m\n\u001b[1;32m    245\u001b[0m         final_outputs: Dict[str, Any] = self.prep_outputs(\n",
            "\u001b[0;32m~/.local/lib/python3.10/site-packages/langchain/chains/base.py\u001b[0m in \u001b[0;36m__call__\u001b[0;34m(self, inputs, return_only_outputs, callbacks, tags, metadata, include_run_info)\u001b[0m\n\u001b[1;32m    235\u001b[0m         \u001b[0;32mtry\u001b[0m\u001b[0;34m:\u001b[0m\u001b[0;34m\u001b[0m\u001b[0;34m\u001b[0m\u001b[0m\n\u001b[1;32m    236\u001b[0m             outputs = (\n\u001b[0;32m--> 237\u001b[0;31m                 \u001b[0mself\u001b[0m\u001b[0;34m.\u001b[0m\u001b[0m_call\u001b[0m\u001b[0;34m(\u001b[0m\u001b[0minputs\u001b[0m\u001b[0;34m,\u001b[0m \u001b[0mrun_manager\u001b[0m\u001b[0;34m=\u001b[0m\u001b[0mrun_manager\u001b[0m\u001b[0;34m)\u001b[0m\u001b[0;34m\u001b[0m\u001b[0;34m\u001b[0m\u001b[0m\n\u001b[0m\u001b[1;32m    238\u001b[0m                 \u001b[0;32mif\u001b[0m \u001b[0mnew_arg_supported\u001b[0m\u001b[0;34m\u001b[0m\u001b[0;34m\u001b[0m\u001b[0m\n\u001b[1;32m    239\u001b[0m                 \u001b[0;32melse\u001b[0m \u001b[0mself\u001b[0m\u001b[0;34m.\u001b[0m\u001b[0m_call\u001b[0m\u001b[0;34m(\u001b[0m\u001b[0minputs\u001b[0m\u001b[0;34m)\u001b[0m\u001b[0;34m\u001b[0m\u001b[0;34m\u001b[0m\u001b[0m\n",
            "\u001b[0;32m~/.local/lib/python3.10/site-packages/langchain/chains/sql_database/base.py\u001b[0m in \u001b[0;36m_call\u001b[0;34m(self, inputs, run_manager)\u001b[0m\n\u001b[1;32m    179\u001b[0m             \u001b[0;31m# improvement of few shot prompt seeds\u001b[0m\u001b[0;34m\u001b[0m\u001b[0;34m\u001b[0m\u001b[0m\n\u001b[1;32m    180\u001b[0m             \u001b[0mexc\u001b[0m\u001b[0;34m.\u001b[0m\u001b[0mintermediate_steps\u001b[0m \u001b[0;34m=\u001b[0m \u001b[0mintermediate_steps\u001b[0m  \u001b[0;31m# type: ignore\u001b[0m\u001b[0;34m\u001b[0m\u001b[0;34m\u001b[0m\u001b[0m\n\u001b[0;32m--> 181\u001b[0;31m             \u001b[0;32mraise\u001b[0m \u001b[0mexc\u001b[0m\u001b[0;34m\u001b[0m\u001b[0;34m\u001b[0m\u001b[0m\n\u001b[0m\u001b[1;32m    182\u001b[0m \u001b[0;34m\u001b[0m\u001b[0m\n\u001b[1;32m    183\u001b[0m     \u001b[0;34m@\u001b[0m\u001b[0mproperty\u001b[0m\u001b[0;34m\u001b[0m\u001b[0;34m\u001b[0m\u001b[0m\n",
            "\u001b[0;32m~/.local/lib/python3.10/site-packages/langchain/chains/sql_database/base.py\u001b[0m in \u001b[0;36m_call\u001b[0;34m(self, inputs, run_manager)\u001b[0m\n\u001b[1;32m    124\u001b[0m                 )  # output: sql generation (no checker)\n\u001b[1;32m    125\u001b[0m                 \u001b[0mintermediate_steps\u001b[0m\u001b[0;34m.\u001b[0m\u001b[0mappend\u001b[0m\u001b[0;34m(\u001b[0m\u001b[0;34m{\u001b[0m\u001b[0;34m\"sql_cmd\"\u001b[0m\u001b[0;34m:\u001b[0m \u001b[0msql_cmd\u001b[0m\u001b[0;34m}\u001b[0m\u001b[0;34m)\u001b[0m  \u001b[0;31m# input: sql exec\u001b[0m\u001b[0;34m\u001b[0m\u001b[0;34m\u001b[0m\u001b[0m\n\u001b[0;32m--> 126\u001b[0;31m                 \u001b[0mresult\u001b[0m \u001b[0;34m=\u001b[0m \u001b[0mself\u001b[0m\u001b[0;34m.\u001b[0m\u001b[0mdatabase\u001b[0m\u001b[0;34m.\u001b[0m\u001b[0mrun\u001b[0m\u001b[0;34m(\u001b[0m\u001b[0msql_cmd\u001b[0m\u001b[0;34m)\u001b[0m\u001b[0;34m\u001b[0m\u001b[0;34m\u001b[0m\u001b[0m\n\u001b[0m\u001b[1;32m    127\u001b[0m                 \u001b[0mintermediate_steps\u001b[0m\u001b[0;34m.\u001b[0m\u001b[0mappend\u001b[0m\u001b[0;34m(\u001b[0m\u001b[0mstr\u001b[0m\u001b[0;34m(\u001b[0m\u001b[0mresult\u001b[0m\u001b[0;34m)\u001b[0m\u001b[0;34m)\u001b[0m  \u001b[0;31m# output: sql exec\u001b[0m\u001b[0;34m\u001b[0m\u001b[0;34m\u001b[0m\u001b[0m\n\u001b[1;32m    128\u001b[0m             \u001b[0;32melse\u001b[0m\u001b[0;34m:\u001b[0m\u001b[0;34m\u001b[0m\u001b[0;34m\u001b[0m\u001b[0m\n",
            "\u001b[0;32m~/.local/lib/python3.10/site-packages/langchain/sql_database.py\u001b[0m in \u001b[0;36mrun\u001b[0;34m(self, command, fetch)\u001b[0m\n\u001b[1;32m    388\u001b[0m                 \u001b[0;32melse\u001b[0m\u001b[0;34m:\u001b[0m\u001b[0;34m\u001b[0m\u001b[0;34m\u001b[0m\u001b[0m\n\u001b[1;32m    389\u001b[0m                     \u001b[0mconnection\u001b[0m\u001b[0;34m.\u001b[0m\u001b[0mexec_driver_sql\u001b[0m\u001b[0;34m(\u001b[0m\u001b[0;34mf\"SET search_path TO {self._schema}\"\u001b[0m\u001b[0;34m)\u001b[0m\u001b[0;34m\u001b[0m\u001b[0;34m\u001b[0m\u001b[0m\n\u001b[0;32m--> 390\u001b[0;31m             \u001b[0mcursor\u001b[0m \u001b[0;34m=\u001b[0m \u001b[0mconnection\u001b[0m\u001b[0;34m.\u001b[0m\u001b[0mexecute\u001b[0m\u001b[0;34m(\u001b[0m\u001b[0mtext\u001b[0m\u001b[0;34m(\u001b[0m\u001b[0mcommand\u001b[0m\u001b[0;34m)\u001b[0m\u001b[0;34m)\u001b[0m\u001b[0;34m\u001b[0m\u001b[0;34m\u001b[0m\u001b[0m\n\u001b[0m\u001b[1;32m    391\u001b[0m             \u001b[0;32mif\u001b[0m \u001b[0mcursor\u001b[0m\u001b[0;34m.\u001b[0m\u001b[0mreturns_rows\u001b[0m\u001b[0;34m:\u001b[0m\u001b[0;34m\u001b[0m\u001b[0;34m\u001b[0m\u001b[0m\n\u001b[1;32m    392\u001b[0m                 \u001b[0;32mif\u001b[0m \u001b[0mfetch\u001b[0m \u001b[0;34m==\u001b[0m \u001b[0;34m\"all\"\u001b[0m\u001b[0;34m:\u001b[0m\u001b[0;34m\u001b[0m\u001b[0;34m\u001b[0m\u001b[0m\n",
            "\u001b[0;32m~/.local/lib/python3.10/site-packages/sqlalchemy/engine/base.py\u001b[0m in \u001b[0;36mexecute\u001b[0;34m(self, statement, *multiparams, **params)\u001b[0m\n\u001b[1;32m   1383\u001b[0m             )\n\u001b[1;32m   1384\u001b[0m         \u001b[0;32melse\u001b[0m\u001b[0;34m:\u001b[0m\u001b[0;34m\u001b[0m\u001b[0;34m\u001b[0m\u001b[0m\n\u001b[0;32m-> 1385\u001b[0;31m             \u001b[0;32mreturn\u001b[0m \u001b[0mmeth\u001b[0m\u001b[0;34m(\u001b[0m\u001b[0mself\u001b[0m\u001b[0;34m,\u001b[0m \u001b[0mmultiparams\u001b[0m\u001b[0;34m,\u001b[0m \u001b[0mparams\u001b[0m\u001b[0;34m,\u001b[0m \u001b[0m_EMPTY_EXECUTION_OPTS\u001b[0m\u001b[0;34m)\u001b[0m\u001b[0;34m\u001b[0m\u001b[0;34m\u001b[0m\u001b[0m\n\u001b[0m\u001b[1;32m   1386\u001b[0m \u001b[0;34m\u001b[0m\u001b[0m\n\u001b[1;32m   1387\u001b[0m     \u001b[0;32mdef\u001b[0m \u001b[0m_execute_function\u001b[0m\u001b[0;34m(\u001b[0m\u001b[0mself\u001b[0m\u001b[0;34m,\u001b[0m \u001b[0mfunc\u001b[0m\u001b[0;34m,\u001b[0m \u001b[0mmultiparams\u001b[0m\u001b[0;34m,\u001b[0m \u001b[0mparams\u001b[0m\u001b[0;34m,\u001b[0m \u001b[0mexecution_options\u001b[0m\u001b[0;34m)\u001b[0m\u001b[0;34m:\u001b[0m\u001b[0;34m\u001b[0m\u001b[0;34m\u001b[0m\u001b[0m\n",
            "\u001b[0;32m~/.local/lib/python3.10/site-packages/sqlalchemy/sql/elements.py\u001b[0m in \u001b[0;36m_execute_on_connection\u001b[0;34m(self, connection, multiparams, params, execution_options, _force)\u001b[0m\n\u001b[1;32m    332\u001b[0m     ):\n\u001b[1;32m    333\u001b[0m         \u001b[0;32mif\u001b[0m \u001b[0m_force\u001b[0m \u001b[0;32mor\u001b[0m \u001b[0mself\u001b[0m\u001b[0;34m.\u001b[0m\u001b[0msupports_execution\u001b[0m\u001b[0;34m:\u001b[0m\u001b[0;34m\u001b[0m\u001b[0;34m\u001b[0m\u001b[0m\n\u001b[0;32m--> 334\u001b[0;31m             return connection._execute_clauseelement(\n\u001b[0m\u001b[1;32m    335\u001b[0m                 \u001b[0mself\u001b[0m\u001b[0;34m,\u001b[0m \u001b[0mmultiparams\u001b[0m\u001b[0;34m,\u001b[0m \u001b[0mparams\u001b[0m\u001b[0;34m,\u001b[0m \u001b[0mexecution_options\u001b[0m\u001b[0;34m\u001b[0m\u001b[0;34m\u001b[0m\u001b[0m\n\u001b[1;32m    336\u001b[0m             )\n",
            "\u001b[0;32m~/.local/lib/python3.10/site-packages/sqlalchemy/engine/base.py\u001b[0m in \u001b[0;36m_execute_clauseelement\u001b[0;34m(self, elem, multiparams, params, execution_options)\u001b[0m\n\u001b[1;32m   1575\u001b[0m             \u001b[0mlinting\u001b[0m\u001b[0;34m=\u001b[0m\u001b[0mself\u001b[0m\u001b[0;34m.\u001b[0m\u001b[0mdialect\u001b[0m\u001b[0;34m.\u001b[0m\u001b[0mcompiler_linting\u001b[0m \u001b[0;34m|\u001b[0m \u001b[0mcompiler\u001b[0m\u001b[0;34m.\u001b[0m\u001b[0mWARN_LINTING\u001b[0m\u001b[0;34m,\u001b[0m\u001b[0;34m\u001b[0m\u001b[0;34m\u001b[0m\u001b[0m\n\u001b[1;32m   1576\u001b[0m         )\n\u001b[0;32m-> 1577\u001b[0;31m         ret = self._execute_context(\n\u001b[0m\u001b[1;32m   1578\u001b[0m             \u001b[0mdialect\u001b[0m\u001b[0;34m,\u001b[0m\u001b[0;34m\u001b[0m\u001b[0;34m\u001b[0m\u001b[0m\n\u001b[1;32m   1579\u001b[0m             \u001b[0mdialect\u001b[0m\u001b[0;34m.\u001b[0m\u001b[0mexecution_ctx_cls\u001b[0m\u001b[0;34m.\u001b[0m\u001b[0m_init_compiled\u001b[0m\u001b[0;34m,\u001b[0m\u001b[0;34m\u001b[0m\u001b[0;34m\u001b[0m\u001b[0m\n",
            "\u001b[0;32m~/.local/lib/python3.10/site-packages/sqlalchemy/engine/base.py\u001b[0m in \u001b[0;36m_execute_context\u001b[0;34m(self, dialect, constructor, statement, parameters, execution_options, *args, **kw)\u001b[0m\n\u001b[1;32m   1946\u001b[0m \u001b[0;34m\u001b[0m\u001b[0m\n\u001b[1;32m   1947\u001b[0m         \u001b[0;32mexcept\u001b[0m \u001b[0mBaseException\u001b[0m \u001b[0;32mas\u001b[0m \u001b[0me\u001b[0m\u001b[0;34m:\u001b[0m\u001b[0;34m\u001b[0m\u001b[0;34m\u001b[0m\u001b[0m\n\u001b[0;32m-> 1948\u001b[0;31m             self._handle_dbapi_exception(\n\u001b[0m\u001b[1;32m   1949\u001b[0m                 \u001b[0me\u001b[0m\u001b[0;34m,\u001b[0m \u001b[0mstatement\u001b[0m\u001b[0;34m,\u001b[0m \u001b[0mparameters\u001b[0m\u001b[0;34m,\u001b[0m \u001b[0mcursor\u001b[0m\u001b[0;34m,\u001b[0m \u001b[0mcontext\u001b[0m\u001b[0;34m\u001b[0m\u001b[0;34m\u001b[0m\u001b[0m\n\u001b[1;32m   1950\u001b[0m             )\n",
            "\u001b[0;32m~/.local/lib/python3.10/site-packages/sqlalchemy/engine/base.py\u001b[0m in \u001b[0;36m_handle_dbapi_exception\u001b[0;34m(self, e, statement, parameters, cursor, context)\u001b[0m\n\u001b[1;32m   2127\u001b[0m                 \u001b[0mutil\u001b[0m\u001b[0;34m.\u001b[0m\u001b[0mraise_\u001b[0m\u001b[0;34m(\u001b[0m\u001b[0mnewraise\u001b[0m\u001b[0;34m,\u001b[0m \u001b[0mwith_traceback\u001b[0m\u001b[0;34m=\u001b[0m\u001b[0mexc_info\u001b[0m\u001b[0;34m[\u001b[0m\u001b[0;36m2\u001b[0m\u001b[0;34m]\u001b[0m\u001b[0;34m,\u001b[0m \u001b[0mfrom_\u001b[0m\u001b[0;34m=\u001b[0m\u001b[0me\u001b[0m\u001b[0;34m)\u001b[0m\u001b[0;34m\u001b[0m\u001b[0;34m\u001b[0m\u001b[0m\n\u001b[1;32m   2128\u001b[0m             \u001b[0;32melif\u001b[0m \u001b[0mshould_wrap\u001b[0m\u001b[0;34m:\u001b[0m\u001b[0;34m\u001b[0m\u001b[0;34m\u001b[0m\u001b[0m\n\u001b[0;32m-> 2129\u001b[0;31m                 util.raise_(\n\u001b[0m\u001b[1;32m   2130\u001b[0m                     \u001b[0msqlalchemy_exception\u001b[0m\u001b[0;34m,\u001b[0m \u001b[0mwith_traceback\u001b[0m\u001b[0;34m=\u001b[0m\u001b[0mexc_info\u001b[0m\u001b[0;34m[\u001b[0m\u001b[0;36m2\u001b[0m\u001b[0;34m]\u001b[0m\u001b[0;34m,\u001b[0m \u001b[0mfrom_\u001b[0m\u001b[0;34m=\u001b[0m\u001b[0me\u001b[0m\u001b[0;34m\u001b[0m\u001b[0;34m\u001b[0m\u001b[0m\n\u001b[1;32m   2131\u001b[0m                 )\n",
            "\u001b[0;32m~/.local/lib/python3.10/site-packages/sqlalchemy/util/compat.py\u001b[0m in \u001b[0;36mraise_\u001b[0;34m(***failed resolving arguments***)\u001b[0m\n\u001b[1;32m    209\u001b[0m \u001b[0;34m\u001b[0m\u001b[0m\n\u001b[1;32m    210\u001b[0m         \u001b[0;32mtry\u001b[0m\u001b[0;34m:\u001b[0m\u001b[0;34m\u001b[0m\u001b[0;34m\u001b[0m\u001b[0m\n\u001b[0;32m--> 211\u001b[0;31m             \u001b[0;32mraise\u001b[0m \u001b[0mexception\u001b[0m\u001b[0;34m\u001b[0m\u001b[0;34m\u001b[0m\u001b[0m\n\u001b[0m\u001b[1;32m    212\u001b[0m         \u001b[0;32mfinally\u001b[0m\u001b[0;34m:\u001b[0m\u001b[0;34m\u001b[0m\u001b[0;34m\u001b[0m\u001b[0m\n\u001b[1;32m    213\u001b[0m             \u001b[0;31m# credit to\u001b[0m\u001b[0;34m\u001b[0m\u001b[0;34m\u001b[0m\u001b[0m\n",
            "\u001b[0;32m~/.local/lib/python3.10/site-packages/sqlalchemy/engine/base.py\u001b[0m in \u001b[0;36m_execute_context\u001b[0;34m(self, dialect, constructor, statement, parameters, execution_options, *args, **kw)\u001b[0m\n\u001b[1;32m   1903\u001b[0m                             \u001b[0;32mbreak\u001b[0m\u001b[0;34m\u001b[0m\u001b[0;34m\u001b[0m\u001b[0m\n\u001b[1;32m   1904\u001b[0m                 \u001b[0;32mif\u001b[0m \u001b[0;32mnot\u001b[0m \u001b[0mevt_handled\u001b[0m\u001b[0;34m:\u001b[0m\u001b[0;34m\u001b[0m\u001b[0;34m\u001b[0m\u001b[0m\n\u001b[0;32m-> 1905\u001b[0;31m                     self.dialect.do_execute(\n\u001b[0m\u001b[1;32m   1906\u001b[0m                         \u001b[0mcursor\u001b[0m\u001b[0;34m,\u001b[0m \u001b[0mstatement\u001b[0m\u001b[0;34m,\u001b[0m \u001b[0mparameters\u001b[0m\u001b[0;34m,\u001b[0m \u001b[0mcontext\u001b[0m\u001b[0;34m\u001b[0m\u001b[0;34m\u001b[0m\u001b[0m\n\u001b[1;32m   1907\u001b[0m                     )\n",
            "\u001b[0;32m~/.local/lib/python3.10/site-packages/sqlalchemy/engine/default.py\u001b[0m in \u001b[0;36mdo_execute\u001b[0;34m(self, cursor, statement, parameters, context)\u001b[0m\n\u001b[1;32m    734\u001b[0m \u001b[0;34m\u001b[0m\u001b[0m\n\u001b[1;32m    735\u001b[0m     \u001b[0;32mdef\u001b[0m \u001b[0mdo_execute\u001b[0m\u001b[0;34m(\u001b[0m\u001b[0mself\u001b[0m\u001b[0;34m,\u001b[0m \u001b[0mcursor\u001b[0m\u001b[0;34m,\u001b[0m \u001b[0mstatement\u001b[0m\u001b[0;34m,\u001b[0m \u001b[0mparameters\u001b[0m\u001b[0;34m,\u001b[0m \u001b[0mcontext\u001b[0m\u001b[0;34m=\u001b[0m\u001b[0;32mNone\u001b[0m\u001b[0;34m)\u001b[0m\u001b[0;34m:\u001b[0m\u001b[0;34m\u001b[0m\u001b[0;34m\u001b[0m\u001b[0m\n\u001b[0;32m--> 736\u001b[0;31m         \u001b[0mcursor\u001b[0m\u001b[0;34m.\u001b[0m\u001b[0mexecute\u001b[0m\u001b[0;34m(\u001b[0m\u001b[0mstatement\u001b[0m\u001b[0;34m,\u001b[0m \u001b[0mparameters\u001b[0m\u001b[0;34m)\u001b[0m\u001b[0;34m\u001b[0m\u001b[0;34m\u001b[0m\u001b[0m\n\u001b[0m\u001b[1;32m    737\u001b[0m \u001b[0;34m\u001b[0m\u001b[0m\n\u001b[1;32m    738\u001b[0m     \u001b[0;32mdef\u001b[0m \u001b[0mdo_execute_no_params\u001b[0m\u001b[0;34m(\u001b[0m\u001b[0mself\u001b[0m\u001b[0;34m,\u001b[0m \u001b[0mcursor\u001b[0m\u001b[0;34m,\u001b[0m \u001b[0mstatement\u001b[0m\u001b[0;34m,\u001b[0m \u001b[0mcontext\u001b[0m\u001b[0;34m=\u001b[0m\u001b[0;32mNone\u001b[0m\u001b[0;34m)\u001b[0m\u001b[0;34m:\u001b[0m\u001b[0;34m\u001b[0m\u001b[0;34m\u001b[0m\u001b[0m\n",
            "\u001b[0;32m/usr/local/lib/python3.10/dist-packages/google/cloud/bigquery/dbapi/_helpers.py\u001b[0m in \u001b[0;36mwith_closed_check\u001b[0;34m(self, *args, **kwargs)\u001b[0m\n\u001b[1;32m    492\u001b[0m             \u001b[0;32mif\u001b[0m \u001b[0mgetattr\u001b[0m\u001b[0;34m(\u001b[0m\u001b[0mself\u001b[0m\u001b[0;34m,\u001b[0m \u001b[0mclosed_attr_name\u001b[0m\u001b[0;34m)\u001b[0m\u001b[0;34m:\u001b[0m\u001b[0;34m\u001b[0m\u001b[0;34m\u001b[0m\u001b[0m\n\u001b[1;32m    493\u001b[0m                 \u001b[0;32mraise\u001b[0m \u001b[0mexc_class\u001b[0m\u001b[0;34m(\u001b[0m\u001b[0mexc_msg\u001b[0m\u001b[0;34m)\u001b[0m\u001b[0;34m\u001b[0m\u001b[0;34m\u001b[0m\u001b[0m\n\u001b[0;32m--> 494\u001b[0;31m             \u001b[0;32mreturn\u001b[0m \u001b[0mmethod\u001b[0m\u001b[0;34m(\u001b[0m\u001b[0mself\u001b[0m\u001b[0;34m,\u001b[0m \u001b[0;34m*\u001b[0m\u001b[0margs\u001b[0m\u001b[0;34m,\u001b[0m \u001b[0;34m**\u001b[0m\u001b[0mkwargs\u001b[0m\u001b[0;34m)\u001b[0m\u001b[0;34m\u001b[0m\u001b[0;34m\u001b[0m\u001b[0m\n\u001b[0m\u001b[1;32m    495\u001b[0m \u001b[0;34m\u001b[0m\u001b[0m\n\u001b[1;32m    496\u001b[0m         \u001b[0mfunctools\u001b[0m\u001b[0;34m.\u001b[0m\u001b[0mupdate_wrapper\u001b[0m\u001b[0;34m(\u001b[0m\u001b[0mwith_closed_check\u001b[0m\u001b[0;34m,\u001b[0m \u001b[0mmethod\u001b[0m\u001b[0;34m)\u001b[0m\u001b[0;34m\u001b[0m\u001b[0;34m\u001b[0m\u001b[0m\n",
            "\u001b[0;32m/usr/local/lib/python3.10/dist-packages/google/cloud/bigquery/dbapi/cursor.py\u001b[0m in \u001b[0;36mexecute\u001b[0;34m(self, operation, parameters, job_id, job_config)\u001b[0m\n\u001b[1;32m    174\u001b[0m         \"\"\"\n\u001b[1;32m    175\u001b[0m         \u001b[0mformatted_operation\u001b[0m\u001b[0;34m,\u001b[0m \u001b[0mparameter_types\u001b[0m \u001b[0;34m=\u001b[0m \u001b[0m_format_operation\u001b[0m\u001b[0;34m(\u001b[0m\u001b[0moperation\u001b[0m\u001b[0;34m,\u001b[0m \u001b[0mparameters\u001b[0m\u001b[0;34m)\u001b[0m\u001b[0;34m\u001b[0m\u001b[0;34m\u001b[0m\u001b[0m\n\u001b[0;32m--> 176\u001b[0;31m         self._execute(\n\u001b[0m\u001b[1;32m    177\u001b[0m             \u001b[0mformatted_operation\u001b[0m\u001b[0;34m,\u001b[0m \u001b[0mparameters\u001b[0m\u001b[0;34m,\u001b[0m \u001b[0mjob_id\u001b[0m\u001b[0;34m,\u001b[0m \u001b[0mjob_config\u001b[0m\u001b[0;34m,\u001b[0m \u001b[0mparameter_types\u001b[0m\u001b[0;34m\u001b[0m\u001b[0;34m\u001b[0m\u001b[0m\n\u001b[1;32m    178\u001b[0m         )\n",
            "\u001b[0;32m/usr/local/lib/python3.10/dist-packages/google/cloud/bigquery/dbapi/cursor.py\u001b[0m in \u001b[0;36m_execute\u001b[0;34m(self, formatted_operation, parameters, job_id, job_config, parameter_types)\u001b[0m\n\u001b[1;32m    213\u001b[0m             \u001b[0mself\u001b[0m\u001b[0;34m.\u001b[0m\u001b[0m_query_job\u001b[0m\u001b[0;34m.\u001b[0m\u001b[0mresult\u001b[0m\u001b[0;34m(\u001b[0m\u001b[0;34m)\u001b[0m\u001b[0;34m\u001b[0m\u001b[0;34m\u001b[0m\u001b[0m\n\u001b[1;32m    214\u001b[0m         \u001b[0;32mexcept\u001b[0m \u001b[0mgoogle\u001b[0m\u001b[0;34m.\u001b[0m\u001b[0mcloud\u001b[0m\u001b[0;34m.\u001b[0m\u001b[0mexceptions\u001b[0m\u001b[0;34m.\u001b[0m\u001b[0mGoogleCloudError\u001b[0m \u001b[0;32mas\u001b[0m \u001b[0mexc\u001b[0m\u001b[0;34m:\u001b[0m\u001b[0;34m\u001b[0m\u001b[0;34m\u001b[0m\u001b[0m\n\u001b[0;32m--> 215\u001b[0;31m             \u001b[0;32mraise\u001b[0m \u001b[0mexceptions\u001b[0m\u001b[0;34m.\u001b[0m\u001b[0mDatabaseError\u001b[0m\u001b[0;34m(\u001b[0m\u001b[0mexc\u001b[0m\u001b[0;34m)\u001b[0m\u001b[0;34m\u001b[0m\u001b[0;34m\u001b[0m\u001b[0m\n\u001b[0m\u001b[1;32m    216\u001b[0m \u001b[0;34m\u001b[0m\u001b[0m\n\u001b[1;32m    217\u001b[0m         \u001b[0mquery_results\u001b[0m \u001b[0;34m=\u001b[0m \u001b[0mself\u001b[0m\u001b[0;34m.\u001b[0m\u001b[0m_query_job\u001b[0m\u001b[0;34m.\u001b[0m\u001b[0m_query_results\u001b[0m\u001b[0;34m\u001b[0m\u001b[0;34m\u001b[0m\u001b[0m\n",
            "\u001b[0;31mDatabaseError\u001b[0m: (google.cloud.bigquery.dbapi.exceptions.DatabaseError) 400 Unrecognized name: vehicle_id at [1:24]\n\nLocation: US\nJob ID: 3e108ac0-31ad-46b4-8cec-a7b5e8209871\n\n[SQL: SELECT vehicle_number, vehicle_id FROM Mileage ORDER BY mileage DESC LIMIT 1]\n(Background on this error at: https://sqlalche.me/e/14/4xp6)"
          ]
        }
      ]
    },
    {
      "cell_type": "code",
      "source": [],
      "metadata": {
        "id": "rmdr0D8sXH2a"
      },
      "execution_count": null,
      "outputs": []
    },
    {
      "cell_type": "code",
      "source": [],
      "metadata": {
        "id": "cCpF-6nrXH0U"
      },
      "execution_count": null,
      "outputs": []
    },
    {
      "cell_type": "code",
      "source": [],
      "metadata": {
        "id": "dco5i9zaXHx1"
      },
      "execution_count": null,
      "outputs": []
    },
    {
      "cell_type": "code",
      "source": [],
      "metadata": {
        "id": "uTqg6oWlXHvX"
      },
      "execution_count": null,
      "outputs": []
    },
    {
      "cell_type": "code",
      "source": [],
      "metadata": {
        "id": "6Kmx2IHEXHsq"
      },
      "execution_count": null,
      "outputs": []
    },
    {
      "cell_type": "code",
      "source": [],
      "metadata": {
        "id": "ti0PClAYXHp8"
      },
      "execution_count": null,
      "outputs": []
    },
    {
      "cell_type": "code",
      "source": [],
      "metadata": {
        "id": "vxqRrRl0XHnb"
      },
      "execution_count": null,
      "outputs": []
    },
    {
      "cell_type": "code",
      "source": [],
      "metadata": {
        "id": "Nxd1v4SH4ogL"
      },
      "execution_count": null,
      "outputs": []
    }
  ]
}