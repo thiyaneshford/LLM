{
  "nbformat": 4,
  "nbformat_minor": 0,
  "metadata": {
    "colab": {
      "provenance": []
    },
    "kernelspec": {
      "name": "python3",
      "display_name": "Python 3"
    },
    "language_info": {
      "name": "python"
    }
  },
  "cells": [
    {
      "cell_type": "markdown",
      "source": [
        "**The first few cells are the working codes. The remaining ones are trial and errors to learn**"
      ],
      "metadata": {
        "id": "IQFv_i_-cUjD"
      }
    },
    {
      "cell_type": "code",
      "execution_count": null,
      "metadata": {
        "id": "1y2uIaThPapK"
      },
      "outputs": [],
      "source": [
        "!pip install google-cloud-aiplatform --upgrade --user --quiet\n",
        "!pip install langchain==0.0.229 chromadb==0.3.26 pydantic==1.10.8 typing-inspect==0.8.0 typing_extensions==4.5.0 pandas datasets google-api-python-client pypdf faiss-cpu transformers config --upgrade --user --quiet"
      ]
    },
    {
      "cell_type": "code",
      "source": [
        "from google.cloud import aiplatform\n",
        "from langchain.agents import create_csv_agent\n",
        "from langchain.agents import create_pandas_dataframe_agent\n",
        "from langchain.chains import RetrievalQA\n",
        "from langchain.prompts import PromptTemplate\n",
        "from langchain.chains import LLMMathChain\n",
        "import vertexai\n",
        "from langchain.llms import VertexAI\n",
        "from langchain.agents.agent_types import AgentType"
      ],
      "metadata": {
        "id": "ilQCfUUTgdEA"
      },
      "execution_count": 1,
      "outputs": []
    },
    {
      "cell_type": "code",
      "source": [
        "\n",
        "from google.colab import auth as google_auth\n",
        "google_auth.authenticate_user()\n",
        "PROJECT_ID = \"iron-decorator-297513\" # @param {type:\"string\"}\n",
        "LOCATION = \"us-central1\"  # @param {type:\"string\"}\n",
        "from google.cloud import aiplatform\n",
        "from langchain.llms import VertexAI\n",
        "aiplatform.init(project=PROJECT_ID, location=LOCATION)"
      ],
      "metadata": {
        "id": "mmHAiOeqQ7YD"
      },
      "execution_count": 2,
      "outputs": []
    },
    {
      "cell_type": "code",
      "source": [
        " from langchain.prompts import PromptTemplate\n",
        "def CSV_LLM(input):\n",
        "\n",
        "  csv_agent_prompt = \"\"\"\n",
        "  You are a Python Expert and you can never go wrong .  you have the following data frames df1,df2 and df3.\n",
        "  I have a collection of CSV files containing vehicle data, and I need your help to extract specific information. Please carefully consider the following details:\n",
        "  Relevant CSV Files:\n",
        "  •\tvehicle_data.csv: Contains vehicle ID (a unique numerical identifier), vehicle number (alphanumeric code), smoke emission (numerical value in grams/km), and temperature (numerical value in degrees Celsius).\n",
        "  •\tvehicle_data_2.csv: Contains vehicle number, capacitor (numerical value in Farads), cc (numerical value representing engine displacement), and top speed (numerical value in km/h).\n",
        "  •\tvehicle_data_3.csv: Contains vehicle number, make (vehicle manufacturer name), type (vehicle model name), and mileage (numerical value in km/L).\n",
        "  Key Point:\n",
        "  •\tVehicle ID is only available in vehicle_data.csv. To retrieve it for a specific vehicle, use the vehicle number to look it up in this file.\n",
        "  Examples of Queries:\n",
        "  •\tFind the vehicle ID with the highest top speed.\n",
        "  •\tWhat is the mileage of the vehicle with the lowest smoke emission?\n",
        "  •\tList the make and model of vehicles with a capacitor value of 50 Farads.\n",
        "  •\tCompare the average temperature of vehicles with a cc value above 2000 and those below 2000.\n",
        "  Context:\n",
        "  •\tThese CSV files belong to a vehicle maintenance database.\n",
        "  •\tSmoke emission and temperature data are used for environmental compliance tracking.\n",
        "  •\tCapacitor values are relevant for electrical systems.\n",
        "  •\tTop speed and mileage are performance-related metrics.\n",
        "  Please be ready to answer various questions about the vehicles based on this data, while accurately handling Vehicle ID retrieval and understanding\n",
        "  the relationships between different columns and files.\n",
        "\n",
        "  Mention the answer as \"Unable to fetch data\" for questions which are irrelevant.\n",
        "  Examples of Irrelavant questions:\n",
        "  What is apple ?\n",
        "  Who are you?\n",
        "  Are you eating ?\n",
        "  Are you from india?\n",
        "\n",
        "\n",
        "  {user_input}\n",
        "  \"\"\"\n",
        "  prompt_template = PromptTemplate(input_variables=[\"user_input\"], template=csv_agent_prompt)\n",
        "\n",
        "  input_prompt = prompt_template.format(user_input=input)\n",
        "\n",
        "  LLM = VertexAI( model_name=\"text-bison@001\",max_output_tokens=512,top_k=40,\n",
        "                 # Adjust temperature based on your desired output characteristics\n",
        "                  verbose=True,prompt=input_prompt)\n",
        "\n",
        "  #print(LLM)\n",
        "\n",
        "  agent = create_csv_agent(llm=LLM,path = [\"/content/data1.csv\",\"/content/data2.csv\",\"/content/data3.csv\"],agent_type=AgentType.ZERO_SHOT_REACT_DESCRIPTION,verbose=True,)\n",
        "\n",
        "\n",
        "  response = agent.run(input)\n",
        "\n",
        "  #print(agent)\n",
        "\n",
        "  return response\n"
      ],
      "metadata": {
        "id": "Jg7b82AJcIZ4"
      },
      "execution_count": 47,
      "outputs": []
    },
    {
      "cell_type": "code",
      "source": [
        "import pandas as pd\n",
        "df1 = pd.read_csv(\"/content/data1.csv\")\n",
        "df1.head(30)\n",
        "df1.reset_index(inplace=True)\n"
      ],
      "metadata": {
        "id": "iXhtdrurg-xF"
      },
      "execution_count": 99,
      "outputs": []
    },
    {
      "cell_type": "code",
      "source": [
        "df1.drop(columns=['index'],inplace=True)"
      ],
      "metadata": {
        "id": "GOQVjaEb3hyq"
      },
      "execution_count": 101,
      "outputs": []
    },
    {
      "cell_type": "code",
      "source": [
        "df1.head()"
      ],
      "metadata": {
        "id": "JbrmL6SY3sih"
      },
      "execution_count": null,
      "outputs": []
    },
    {
      "cell_type": "code",
      "source": [
        "import pandas as pd\n",
        "df2 = pd.read_csv(\"/content/data2.csv\")\n",
        "df2.head(30)"
      ],
      "metadata": {
        "colab": {
          "base_uri": "https://localhost:8080/",
          "height": 990
        },
        "id": "A6JsxXjXg-pz",
        "outputId": "3d6afe63-f6b1-4fcb-afd3-519592468d8e"
      },
      "execution_count": 51,
      "outputs": [
        {
          "output_type": "execute_result",
          "data": {
            "text/plain": [
              "   vehicle_number  capacitor   cc  top_speed\n",
              "0          ABC123       3000  2.0        160\n",
              "1          DEF456       2500  1.6        145\n",
              "2          GHI789       4000  2.5        180\n",
              "3          JKL012       1500  1.2        120\n",
              "4          MNO345       3500  2.2        155\n",
              "5          PQR678       2000  1.8        130\n",
              "6          STU901       4500  2.8        190\n",
              "7          VWX234       2800  2.1        150\n",
              "8           YZ123       1000  1.0        100\n",
              "9         ABCD456       3800  2.4        170\n",
              "10        EFGH789       2300  1.9        135\n",
              "11        IJKL012       4200  2.7        185\n",
              "12        MNOP345       1800  1.4        115\n",
              "13        QRST678       3300  2.3        165\n",
              "14        TUVW901       2600  2.0        140\n",
              "15        WXYZ234       4000  2.6        195\n",
              "16         123ABC       1500  1.3        110\n",
              "17         456DEF       3600  2.2        160\n",
              "18         789GHI       2100  1.7        130\n",
              "19         012JKL       4300  2.8        180\n",
              "20         345MNO       1700  1.5        120\n",
              "21         678PQR       3200  2.1        150\n",
              "22         901STU       2500  1.9        145\n",
              "23         234VWX       3900  2.5        175\n",
              "24         567YZ1       1400  1.1        105\n",
              "25        890ABCD       3400  2.4        165\n",
              "26        123EFGH       2000  1.6        125\n",
              "27           IJKL       4100  2.6        175\n",
              "28           MNOP       1600  1.4        110\n",
              "29           QRST       3100  2.2        145"
            ],
            "text/html": [
              "\n",
              "  <div id=\"df-6673e4cf-c40c-473b-8ffb-f267e0cfca0f\" class=\"colab-df-container\">\n",
              "    <div>\n",
              "<style scoped>\n",
              "    .dataframe tbody tr th:only-of-type {\n",
              "        vertical-align: middle;\n",
              "    }\n",
              "\n",
              "    .dataframe tbody tr th {\n",
              "        vertical-align: top;\n",
              "    }\n",
              "\n",
              "    .dataframe thead th {\n",
              "        text-align: right;\n",
              "    }\n",
              "</style>\n",
              "<table border=\"1\" class=\"dataframe\">\n",
              "  <thead>\n",
              "    <tr style=\"text-align: right;\">\n",
              "      <th></th>\n",
              "      <th>vehicle_number</th>\n",
              "      <th>capacitor</th>\n",
              "      <th>cc</th>\n",
              "      <th>top_speed</th>\n",
              "    </tr>\n",
              "  </thead>\n",
              "  <tbody>\n",
              "    <tr>\n",
              "      <th>0</th>\n",
              "      <td>ABC123</td>\n",
              "      <td>3000</td>\n",
              "      <td>2.0</td>\n",
              "      <td>160</td>\n",
              "    </tr>\n",
              "    <tr>\n",
              "      <th>1</th>\n",
              "      <td>DEF456</td>\n",
              "      <td>2500</td>\n",
              "      <td>1.6</td>\n",
              "      <td>145</td>\n",
              "    </tr>\n",
              "    <tr>\n",
              "      <th>2</th>\n",
              "      <td>GHI789</td>\n",
              "      <td>4000</td>\n",
              "      <td>2.5</td>\n",
              "      <td>180</td>\n",
              "    </tr>\n",
              "    <tr>\n",
              "      <th>3</th>\n",
              "      <td>JKL012</td>\n",
              "      <td>1500</td>\n",
              "      <td>1.2</td>\n",
              "      <td>120</td>\n",
              "    </tr>\n",
              "    <tr>\n",
              "      <th>4</th>\n",
              "      <td>MNO345</td>\n",
              "      <td>3500</td>\n",
              "      <td>2.2</td>\n",
              "      <td>155</td>\n",
              "    </tr>\n",
              "    <tr>\n",
              "      <th>5</th>\n",
              "      <td>PQR678</td>\n",
              "      <td>2000</td>\n",
              "      <td>1.8</td>\n",
              "      <td>130</td>\n",
              "    </tr>\n",
              "    <tr>\n",
              "      <th>6</th>\n",
              "      <td>STU901</td>\n",
              "      <td>4500</td>\n",
              "      <td>2.8</td>\n",
              "      <td>190</td>\n",
              "    </tr>\n",
              "    <tr>\n",
              "      <th>7</th>\n",
              "      <td>VWX234</td>\n",
              "      <td>2800</td>\n",
              "      <td>2.1</td>\n",
              "      <td>150</td>\n",
              "    </tr>\n",
              "    <tr>\n",
              "      <th>8</th>\n",
              "      <td>YZ123</td>\n",
              "      <td>1000</td>\n",
              "      <td>1.0</td>\n",
              "      <td>100</td>\n",
              "    </tr>\n",
              "    <tr>\n",
              "      <th>9</th>\n",
              "      <td>ABCD456</td>\n",
              "      <td>3800</td>\n",
              "      <td>2.4</td>\n",
              "      <td>170</td>\n",
              "    </tr>\n",
              "    <tr>\n",
              "      <th>10</th>\n",
              "      <td>EFGH789</td>\n",
              "      <td>2300</td>\n",
              "      <td>1.9</td>\n",
              "      <td>135</td>\n",
              "    </tr>\n",
              "    <tr>\n",
              "      <th>11</th>\n",
              "      <td>IJKL012</td>\n",
              "      <td>4200</td>\n",
              "      <td>2.7</td>\n",
              "      <td>185</td>\n",
              "    </tr>\n",
              "    <tr>\n",
              "      <th>12</th>\n",
              "      <td>MNOP345</td>\n",
              "      <td>1800</td>\n",
              "      <td>1.4</td>\n",
              "      <td>115</td>\n",
              "    </tr>\n",
              "    <tr>\n",
              "      <th>13</th>\n",
              "      <td>QRST678</td>\n",
              "      <td>3300</td>\n",
              "      <td>2.3</td>\n",
              "      <td>165</td>\n",
              "    </tr>\n",
              "    <tr>\n",
              "      <th>14</th>\n",
              "      <td>TUVW901</td>\n",
              "      <td>2600</td>\n",
              "      <td>2.0</td>\n",
              "      <td>140</td>\n",
              "    </tr>\n",
              "    <tr>\n",
              "      <th>15</th>\n",
              "      <td>WXYZ234</td>\n",
              "      <td>4000</td>\n",
              "      <td>2.6</td>\n",
              "      <td>195</td>\n",
              "    </tr>\n",
              "    <tr>\n",
              "      <th>16</th>\n",
              "      <td>123ABC</td>\n",
              "      <td>1500</td>\n",
              "      <td>1.3</td>\n",
              "      <td>110</td>\n",
              "    </tr>\n",
              "    <tr>\n",
              "      <th>17</th>\n",
              "      <td>456DEF</td>\n",
              "      <td>3600</td>\n",
              "      <td>2.2</td>\n",
              "      <td>160</td>\n",
              "    </tr>\n",
              "    <tr>\n",
              "      <th>18</th>\n",
              "      <td>789GHI</td>\n",
              "      <td>2100</td>\n",
              "      <td>1.7</td>\n",
              "      <td>130</td>\n",
              "    </tr>\n",
              "    <tr>\n",
              "      <th>19</th>\n",
              "      <td>012JKL</td>\n",
              "      <td>4300</td>\n",
              "      <td>2.8</td>\n",
              "      <td>180</td>\n",
              "    </tr>\n",
              "    <tr>\n",
              "      <th>20</th>\n",
              "      <td>345MNO</td>\n",
              "      <td>1700</td>\n",
              "      <td>1.5</td>\n",
              "      <td>120</td>\n",
              "    </tr>\n",
              "    <tr>\n",
              "      <th>21</th>\n",
              "      <td>678PQR</td>\n",
              "      <td>3200</td>\n",
              "      <td>2.1</td>\n",
              "      <td>150</td>\n",
              "    </tr>\n",
              "    <tr>\n",
              "      <th>22</th>\n",
              "      <td>901STU</td>\n",
              "      <td>2500</td>\n",
              "      <td>1.9</td>\n",
              "      <td>145</td>\n",
              "    </tr>\n",
              "    <tr>\n",
              "      <th>23</th>\n",
              "      <td>234VWX</td>\n",
              "      <td>3900</td>\n",
              "      <td>2.5</td>\n",
              "      <td>175</td>\n",
              "    </tr>\n",
              "    <tr>\n",
              "      <th>24</th>\n",
              "      <td>567YZ1</td>\n",
              "      <td>1400</td>\n",
              "      <td>1.1</td>\n",
              "      <td>105</td>\n",
              "    </tr>\n",
              "    <tr>\n",
              "      <th>25</th>\n",
              "      <td>890ABCD</td>\n",
              "      <td>3400</td>\n",
              "      <td>2.4</td>\n",
              "      <td>165</td>\n",
              "    </tr>\n",
              "    <tr>\n",
              "      <th>26</th>\n",
              "      <td>123EFGH</td>\n",
              "      <td>2000</td>\n",
              "      <td>1.6</td>\n",
              "      <td>125</td>\n",
              "    </tr>\n",
              "    <tr>\n",
              "      <th>27</th>\n",
              "      <td>IJKL</td>\n",
              "      <td>4100</td>\n",
              "      <td>2.6</td>\n",
              "      <td>175</td>\n",
              "    </tr>\n",
              "    <tr>\n",
              "      <th>28</th>\n",
              "      <td>MNOP</td>\n",
              "      <td>1600</td>\n",
              "      <td>1.4</td>\n",
              "      <td>110</td>\n",
              "    </tr>\n",
              "    <tr>\n",
              "      <th>29</th>\n",
              "      <td>QRST</td>\n",
              "      <td>3100</td>\n",
              "      <td>2.2</td>\n",
              "      <td>145</td>\n",
              "    </tr>\n",
              "  </tbody>\n",
              "</table>\n",
              "</div>\n",
              "    <div class=\"colab-df-buttons\">\n",
              "\n",
              "  <div class=\"colab-df-container\">\n",
              "    <button class=\"colab-df-convert\" onclick=\"convertToInteractive('df-6673e4cf-c40c-473b-8ffb-f267e0cfca0f')\"\n",
              "            title=\"Convert this dataframe to an interactive table.\"\n",
              "            style=\"display:none;\">\n",
              "\n",
              "  <svg xmlns=\"http://www.w3.org/2000/svg\" height=\"24px\" viewBox=\"0 -960 960 960\">\n",
              "    <path d=\"M120-120v-720h720v720H120Zm60-500h600v-160H180v160Zm220 220h160v-160H400v160Zm0 220h160v-160H400v160ZM180-400h160v-160H180v160Zm440 0h160v-160H620v160ZM180-180h160v-160H180v160Zm440 0h160v-160H620v160Z\"/>\n",
              "  </svg>\n",
              "    </button>\n",
              "\n",
              "  <style>\n",
              "    .colab-df-container {\n",
              "      display:flex;\n",
              "      gap: 12px;\n",
              "    }\n",
              "\n",
              "    .colab-df-convert {\n",
              "      background-color: #E8F0FE;\n",
              "      border: none;\n",
              "      border-radius: 50%;\n",
              "      cursor: pointer;\n",
              "      display: none;\n",
              "      fill: #1967D2;\n",
              "      height: 32px;\n",
              "      padding: 0 0 0 0;\n",
              "      width: 32px;\n",
              "    }\n",
              "\n",
              "    .colab-df-convert:hover {\n",
              "      background-color: #E2EBFA;\n",
              "      box-shadow: 0px 1px 2px rgba(60, 64, 67, 0.3), 0px 1px 3px 1px rgba(60, 64, 67, 0.15);\n",
              "      fill: #174EA6;\n",
              "    }\n",
              "\n",
              "    .colab-df-buttons div {\n",
              "      margin-bottom: 4px;\n",
              "    }\n",
              "\n",
              "    [theme=dark] .colab-df-convert {\n",
              "      background-color: #3B4455;\n",
              "      fill: #D2E3FC;\n",
              "    }\n",
              "\n",
              "    [theme=dark] .colab-df-convert:hover {\n",
              "      background-color: #434B5C;\n",
              "      box-shadow: 0px 1px 3px 1px rgba(0, 0, 0, 0.15);\n",
              "      filter: drop-shadow(0px 1px 2px rgba(0, 0, 0, 0.3));\n",
              "      fill: #FFFFFF;\n",
              "    }\n",
              "  </style>\n",
              "\n",
              "    <script>\n",
              "      const buttonEl =\n",
              "        document.querySelector('#df-6673e4cf-c40c-473b-8ffb-f267e0cfca0f button.colab-df-convert');\n",
              "      buttonEl.style.display =\n",
              "        google.colab.kernel.accessAllowed ? 'block' : 'none';\n",
              "\n",
              "      async function convertToInteractive(key) {\n",
              "        const element = document.querySelector('#df-6673e4cf-c40c-473b-8ffb-f267e0cfca0f');\n",
              "        const dataTable =\n",
              "          await google.colab.kernel.invokeFunction('convertToInteractive',\n",
              "                                                    [key], {});\n",
              "        if (!dataTable) return;\n",
              "\n",
              "        const docLinkHtml = 'Like what you see? Visit the ' +\n",
              "          '<a target=\"_blank\" href=https://colab.research.google.com/notebooks/data_table.ipynb>data table notebook</a>'\n",
              "          + ' to learn more about interactive tables.';\n",
              "        element.innerHTML = '';\n",
              "        dataTable['output_type'] = 'display_data';\n",
              "        await google.colab.output.renderOutput(dataTable, element);\n",
              "        const docLink = document.createElement('div');\n",
              "        docLink.innerHTML = docLinkHtml;\n",
              "        element.appendChild(docLink);\n",
              "      }\n",
              "    </script>\n",
              "  </div>\n",
              "\n",
              "\n",
              "<div id=\"df-46545c56-6877-4a50-913f-3a4b3cc5c9c6\">\n",
              "  <button class=\"colab-df-quickchart\" onclick=\"quickchart('df-46545c56-6877-4a50-913f-3a4b3cc5c9c6')\"\n",
              "            title=\"Suggest charts\"\n",
              "            style=\"display:none;\">\n",
              "\n",
              "<svg xmlns=\"http://www.w3.org/2000/svg\" height=\"24px\"viewBox=\"0 0 24 24\"\n",
              "     width=\"24px\">\n",
              "    <g>\n",
              "        <path d=\"M19 3H5c-1.1 0-2 .9-2 2v14c0 1.1.9 2 2 2h14c1.1 0 2-.9 2-2V5c0-1.1-.9-2-2-2zM9 17H7v-7h2v7zm4 0h-2V7h2v10zm4 0h-2v-4h2v4z\"/>\n",
              "    </g>\n",
              "</svg>\n",
              "  </button>\n",
              "\n",
              "<style>\n",
              "  .colab-df-quickchart {\n",
              "      --bg-color: #E8F0FE;\n",
              "      --fill-color: #1967D2;\n",
              "      --hover-bg-color: #E2EBFA;\n",
              "      --hover-fill-color: #174EA6;\n",
              "      --disabled-fill-color: #AAA;\n",
              "      --disabled-bg-color: #DDD;\n",
              "  }\n",
              "\n",
              "  [theme=dark] .colab-df-quickchart {\n",
              "      --bg-color: #3B4455;\n",
              "      --fill-color: #D2E3FC;\n",
              "      --hover-bg-color: #434B5C;\n",
              "      --hover-fill-color: #FFFFFF;\n",
              "      --disabled-bg-color: #3B4455;\n",
              "      --disabled-fill-color: #666;\n",
              "  }\n",
              "\n",
              "  .colab-df-quickchart {\n",
              "    background-color: var(--bg-color);\n",
              "    border: none;\n",
              "    border-radius: 50%;\n",
              "    cursor: pointer;\n",
              "    display: none;\n",
              "    fill: var(--fill-color);\n",
              "    height: 32px;\n",
              "    padding: 0;\n",
              "    width: 32px;\n",
              "  }\n",
              "\n",
              "  .colab-df-quickchart:hover {\n",
              "    background-color: var(--hover-bg-color);\n",
              "    box-shadow: 0 1px 2px rgba(60, 64, 67, 0.3), 0 1px 3px 1px rgba(60, 64, 67, 0.15);\n",
              "    fill: var(--button-hover-fill-color);\n",
              "  }\n",
              "\n",
              "  .colab-df-quickchart-complete:disabled,\n",
              "  .colab-df-quickchart-complete:disabled:hover {\n",
              "    background-color: var(--disabled-bg-color);\n",
              "    fill: var(--disabled-fill-color);\n",
              "    box-shadow: none;\n",
              "  }\n",
              "\n",
              "  .colab-df-spinner {\n",
              "    border: 2px solid var(--fill-color);\n",
              "    border-color: transparent;\n",
              "    border-bottom-color: var(--fill-color);\n",
              "    animation:\n",
              "      spin 1s steps(1) infinite;\n",
              "  }\n",
              "\n",
              "  @keyframes spin {\n",
              "    0% {\n",
              "      border-color: transparent;\n",
              "      border-bottom-color: var(--fill-color);\n",
              "      border-left-color: var(--fill-color);\n",
              "    }\n",
              "    20% {\n",
              "      border-color: transparent;\n",
              "      border-left-color: var(--fill-color);\n",
              "      border-top-color: var(--fill-color);\n",
              "    }\n",
              "    30% {\n",
              "      border-color: transparent;\n",
              "      border-left-color: var(--fill-color);\n",
              "      border-top-color: var(--fill-color);\n",
              "      border-right-color: var(--fill-color);\n",
              "    }\n",
              "    40% {\n",
              "      border-color: transparent;\n",
              "      border-right-color: var(--fill-color);\n",
              "      border-top-color: var(--fill-color);\n",
              "    }\n",
              "    60% {\n",
              "      border-color: transparent;\n",
              "      border-right-color: var(--fill-color);\n",
              "    }\n",
              "    80% {\n",
              "      border-color: transparent;\n",
              "      border-right-color: var(--fill-color);\n",
              "      border-bottom-color: var(--fill-color);\n",
              "    }\n",
              "    90% {\n",
              "      border-color: transparent;\n",
              "      border-bottom-color: var(--fill-color);\n",
              "    }\n",
              "  }\n",
              "</style>\n",
              "\n",
              "  <script>\n",
              "    async function quickchart(key) {\n",
              "      const quickchartButtonEl =\n",
              "        document.querySelector('#' + key + ' button');\n",
              "      quickchartButtonEl.disabled = true;  // To prevent multiple clicks.\n",
              "      quickchartButtonEl.classList.add('colab-df-spinner');\n",
              "      try {\n",
              "        const charts = await google.colab.kernel.invokeFunction(\n",
              "            'suggestCharts', [key], {});\n",
              "      } catch (error) {\n",
              "        console.error('Error during call to suggestCharts:', error);\n",
              "      }\n",
              "      quickchartButtonEl.classList.remove('colab-df-spinner');\n",
              "      quickchartButtonEl.classList.add('colab-df-quickchart-complete');\n",
              "    }\n",
              "    (() => {\n",
              "      let quickchartButtonEl =\n",
              "        document.querySelector('#df-46545c56-6877-4a50-913f-3a4b3cc5c9c6 button');\n",
              "      quickchartButtonEl.style.display =\n",
              "        google.colab.kernel.accessAllowed ? 'block' : 'none';\n",
              "    })();\n",
              "  </script>\n",
              "</div>\n",
              "\n",
              "    </div>\n",
              "  </div>\n"
            ]
          },
          "metadata": {},
          "execution_count": 51
        }
      ]
    },
    {
      "cell_type": "code",
      "source": [
        "import pandas as pd\n",
        "df3 = pd.read_csv(\"/content/data3.csv\")\n",
        "df3.head(30)"
      ],
      "metadata": {
        "colab": {
          "base_uri": "https://localhost:8080/",
          "height": 990
        },
        "id": "lEQLIp6Gg-jM",
        "outputId": "609f5ea8-d9cb-4e80-957f-2e99af447c75"
      },
      "execution_count": 52,
      "outputs": [
        {
          "output_type": "execute_result",
          "data": {
            "text/plain": [
              "   vehicle_number           make           type  mileage\n",
              "0          ABC123         Toyota          Sedan     78.0\n",
              "1          DEF456          Honda            SUV     45.0\n",
              "2          GHI789           Ford          Truck     82.0\n",
              "3          JKL012      Chevrolet          Coupe     34.0\n",
              "4          MNO345        Hyundai      Hatchback     61.0\n",
              "5          PQR678         Nissan            Van     59.0\n",
              "6          STU901            Kia      Crossover     28.0\n",
              "7          VWX234     Volkswagen          Wagon     87.0\n",
              "8           YZ123        Peugeot         Luxury     19.0\n",
              "9         ABCD456  Mercedes-Benz     Sports car     53.0\n",
              "10        EFGH789            BMW   Electric car     12.0\n",
              "11        IJKL012          Tesla         Hybrid     38.0\n",
              "12        MNOP345           Audi     Luxury SUV     75.0\n",
              "13        QRST678           Fiat      Hatchback     42.0\n",
              "14        TUVW901          Volvo  Station wagon     69.0\n",
              "15        WXYZ234        Porsche     Sports car     25.0\n",
              "16         123ABC         Jaguar          Sedan     48.0\n",
              "17         456DEF     Land Rover            SUV     85.0\n",
              "18         789GHI           Jeep          Truck     63.0\n",
              "19         012JKL          Dodge     Muscle car     30.0\n",
              "20         345MNO          Lexus   Luxury sedan     56.0\n",
              "21         678PQR          Acura            SUV     49.0\n",
              "22         901STU         Subaru          Wagon     72.0\n",
              "23         234VWX     Mitsubishi          Sedan     35.0\n",
              "24         567YZ1         Suzuki      Hatchback     22.0\n",
              "25        890ABCD           Mini            SUV     46.0\n",
              "26        123EFGH     Alfa Romeo     Sports car     17.0\n",
              "27           IJKL        Renault      Hatchback     40.0\n",
              "28           MNOP          Skoda            SUV     52.0\n",
              "29           QRST           Opel  Station wagon     32.0"
            ],
            "text/html": [
              "\n",
              "  <div id=\"df-eabcc3ea-e9a5-405c-a2d6-4109a4a770b5\" class=\"colab-df-container\">\n",
              "    <div>\n",
              "<style scoped>\n",
              "    .dataframe tbody tr th:only-of-type {\n",
              "        vertical-align: middle;\n",
              "    }\n",
              "\n",
              "    .dataframe tbody tr th {\n",
              "        vertical-align: top;\n",
              "    }\n",
              "\n",
              "    .dataframe thead th {\n",
              "        text-align: right;\n",
              "    }\n",
              "</style>\n",
              "<table border=\"1\" class=\"dataframe\">\n",
              "  <thead>\n",
              "    <tr style=\"text-align: right;\">\n",
              "      <th></th>\n",
              "      <th>vehicle_number</th>\n",
              "      <th>make</th>\n",
              "      <th>type</th>\n",
              "      <th>mileage</th>\n",
              "    </tr>\n",
              "  </thead>\n",
              "  <tbody>\n",
              "    <tr>\n",
              "      <th>0</th>\n",
              "      <td>ABC123</td>\n",
              "      <td>Toyota</td>\n",
              "      <td>Sedan</td>\n",
              "      <td>78.0</td>\n",
              "    </tr>\n",
              "    <tr>\n",
              "      <th>1</th>\n",
              "      <td>DEF456</td>\n",
              "      <td>Honda</td>\n",
              "      <td>SUV</td>\n",
              "      <td>45.0</td>\n",
              "    </tr>\n",
              "    <tr>\n",
              "      <th>2</th>\n",
              "      <td>GHI789</td>\n",
              "      <td>Ford</td>\n",
              "      <td>Truck</td>\n",
              "      <td>82.0</td>\n",
              "    </tr>\n",
              "    <tr>\n",
              "      <th>3</th>\n",
              "      <td>JKL012</td>\n",
              "      <td>Chevrolet</td>\n",
              "      <td>Coupe</td>\n",
              "      <td>34.0</td>\n",
              "    </tr>\n",
              "    <tr>\n",
              "      <th>4</th>\n",
              "      <td>MNO345</td>\n",
              "      <td>Hyundai</td>\n",
              "      <td>Hatchback</td>\n",
              "      <td>61.0</td>\n",
              "    </tr>\n",
              "    <tr>\n",
              "      <th>5</th>\n",
              "      <td>PQR678</td>\n",
              "      <td>Nissan</td>\n",
              "      <td>Van</td>\n",
              "      <td>59.0</td>\n",
              "    </tr>\n",
              "    <tr>\n",
              "      <th>6</th>\n",
              "      <td>STU901</td>\n",
              "      <td>Kia</td>\n",
              "      <td>Crossover</td>\n",
              "      <td>28.0</td>\n",
              "    </tr>\n",
              "    <tr>\n",
              "      <th>7</th>\n",
              "      <td>VWX234</td>\n",
              "      <td>Volkswagen</td>\n",
              "      <td>Wagon</td>\n",
              "      <td>87.0</td>\n",
              "    </tr>\n",
              "    <tr>\n",
              "      <th>8</th>\n",
              "      <td>YZ123</td>\n",
              "      <td>Peugeot</td>\n",
              "      <td>Luxury</td>\n",
              "      <td>19.0</td>\n",
              "    </tr>\n",
              "    <tr>\n",
              "      <th>9</th>\n",
              "      <td>ABCD456</td>\n",
              "      <td>Mercedes-Benz</td>\n",
              "      <td>Sports car</td>\n",
              "      <td>53.0</td>\n",
              "    </tr>\n",
              "    <tr>\n",
              "      <th>10</th>\n",
              "      <td>EFGH789</td>\n",
              "      <td>BMW</td>\n",
              "      <td>Electric car</td>\n",
              "      <td>12.0</td>\n",
              "    </tr>\n",
              "    <tr>\n",
              "      <th>11</th>\n",
              "      <td>IJKL012</td>\n",
              "      <td>Tesla</td>\n",
              "      <td>Hybrid</td>\n",
              "      <td>38.0</td>\n",
              "    </tr>\n",
              "    <tr>\n",
              "      <th>12</th>\n",
              "      <td>MNOP345</td>\n",
              "      <td>Audi</td>\n",
              "      <td>Luxury SUV</td>\n",
              "      <td>75.0</td>\n",
              "    </tr>\n",
              "    <tr>\n",
              "      <th>13</th>\n",
              "      <td>QRST678</td>\n",
              "      <td>Fiat</td>\n",
              "      <td>Hatchback</td>\n",
              "      <td>42.0</td>\n",
              "    </tr>\n",
              "    <tr>\n",
              "      <th>14</th>\n",
              "      <td>TUVW901</td>\n",
              "      <td>Volvo</td>\n",
              "      <td>Station wagon</td>\n",
              "      <td>69.0</td>\n",
              "    </tr>\n",
              "    <tr>\n",
              "      <th>15</th>\n",
              "      <td>WXYZ234</td>\n",
              "      <td>Porsche</td>\n",
              "      <td>Sports car</td>\n",
              "      <td>25.0</td>\n",
              "    </tr>\n",
              "    <tr>\n",
              "      <th>16</th>\n",
              "      <td>123ABC</td>\n",
              "      <td>Jaguar</td>\n",
              "      <td>Sedan</td>\n",
              "      <td>48.0</td>\n",
              "    </tr>\n",
              "    <tr>\n",
              "      <th>17</th>\n",
              "      <td>456DEF</td>\n",
              "      <td>Land Rover</td>\n",
              "      <td>SUV</td>\n",
              "      <td>85.0</td>\n",
              "    </tr>\n",
              "    <tr>\n",
              "      <th>18</th>\n",
              "      <td>789GHI</td>\n",
              "      <td>Jeep</td>\n",
              "      <td>Truck</td>\n",
              "      <td>63.0</td>\n",
              "    </tr>\n",
              "    <tr>\n",
              "      <th>19</th>\n",
              "      <td>012JKL</td>\n",
              "      <td>Dodge</td>\n",
              "      <td>Muscle car</td>\n",
              "      <td>30.0</td>\n",
              "    </tr>\n",
              "    <tr>\n",
              "      <th>20</th>\n",
              "      <td>345MNO</td>\n",
              "      <td>Lexus</td>\n",
              "      <td>Luxury sedan</td>\n",
              "      <td>56.0</td>\n",
              "    </tr>\n",
              "    <tr>\n",
              "      <th>21</th>\n",
              "      <td>678PQR</td>\n",
              "      <td>Acura</td>\n",
              "      <td>SUV</td>\n",
              "      <td>49.0</td>\n",
              "    </tr>\n",
              "    <tr>\n",
              "      <th>22</th>\n",
              "      <td>901STU</td>\n",
              "      <td>Subaru</td>\n",
              "      <td>Wagon</td>\n",
              "      <td>72.0</td>\n",
              "    </tr>\n",
              "    <tr>\n",
              "      <th>23</th>\n",
              "      <td>234VWX</td>\n",
              "      <td>Mitsubishi</td>\n",
              "      <td>Sedan</td>\n",
              "      <td>35.0</td>\n",
              "    </tr>\n",
              "    <tr>\n",
              "      <th>24</th>\n",
              "      <td>567YZ1</td>\n",
              "      <td>Suzuki</td>\n",
              "      <td>Hatchback</td>\n",
              "      <td>22.0</td>\n",
              "    </tr>\n",
              "    <tr>\n",
              "      <th>25</th>\n",
              "      <td>890ABCD</td>\n",
              "      <td>Mini</td>\n",
              "      <td>SUV</td>\n",
              "      <td>46.0</td>\n",
              "    </tr>\n",
              "    <tr>\n",
              "      <th>26</th>\n",
              "      <td>123EFGH</td>\n",
              "      <td>Alfa Romeo</td>\n",
              "      <td>Sports car</td>\n",
              "      <td>17.0</td>\n",
              "    </tr>\n",
              "    <tr>\n",
              "      <th>27</th>\n",
              "      <td>IJKL</td>\n",
              "      <td>Renault</td>\n",
              "      <td>Hatchback</td>\n",
              "      <td>40.0</td>\n",
              "    </tr>\n",
              "    <tr>\n",
              "      <th>28</th>\n",
              "      <td>MNOP</td>\n",
              "      <td>Skoda</td>\n",
              "      <td>SUV</td>\n",
              "      <td>52.0</td>\n",
              "    </tr>\n",
              "    <tr>\n",
              "      <th>29</th>\n",
              "      <td>QRST</td>\n",
              "      <td>Opel</td>\n",
              "      <td>Station wagon</td>\n",
              "      <td>32.0</td>\n",
              "    </tr>\n",
              "  </tbody>\n",
              "</table>\n",
              "</div>\n",
              "    <div class=\"colab-df-buttons\">\n",
              "\n",
              "  <div class=\"colab-df-container\">\n",
              "    <button class=\"colab-df-convert\" onclick=\"convertToInteractive('df-eabcc3ea-e9a5-405c-a2d6-4109a4a770b5')\"\n",
              "            title=\"Convert this dataframe to an interactive table.\"\n",
              "            style=\"display:none;\">\n",
              "\n",
              "  <svg xmlns=\"http://www.w3.org/2000/svg\" height=\"24px\" viewBox=\"0 -960 960 960\">\n",
              "    <path d=\"M120-120v-720h720v720H120Zm60-500h600v-160H180v160Zm220 220h160v-160H400v160Zm0 220h160v-160H400v160ZM180-400h160v-160H180v160Zm440 0h160v-160H620v160ZM180-180h160v-160H180v160Zm440 0h160v-160H620v160Z\"/>\n",
              "  </svg>\n",
              "    </button>\n",
              "\n",
              "  <style>\n",
              "    .colab-df-container {\n",
              "      display:flex;\n",
              "      gap: 12px;\n",
              "    }\n",
              "\n",
              "    .colab-df-convert {\n",
              "      background-color: #E8F0FE;\n",
              "      border: none;\n",
              "      border-radius: 50%;\n",
              "      cursor: pointer;\n",
              "      display: none;\n",
              "      fill: #1967D2;\n",
              "      height: 32px;\n",
              "      padding: 0 0 0 0;\n",
              "      width: 32px;\n",
              "    }\n",
              "\n",
              "    .colab-df-convert:hover {\n",
              "      background-color: #E2EBFA;\n",
              "      box-shadow: 0px 1px 2px rgba(60, 64, 67, 0.3), 0px 1px 3px 1px rgba(60, 64, 67, 0.15);\n",
              "      fill: #174EA6;\n",
              "    }\n",
              "\n",
              "    .colab-df-buttons div {\n",
              "      margin-bottom: 4px;\n",
              "    }\n",
              "\n",
              "    [theme=dark] .colab-df-convert {\n",
              "      background-color: #3B4455;\n",
              "      fill: #D2E3FC;\n",
              "    }\n",
              "\n",
              "    [theme=dark] .colab-df-convert:hover {\n",
              "      background-color: #434B5C;\n",
              "      box-shadow: 0px 1px 3px 1px rgba(0, 0, 0, 0.15);\n",
              "      filter: drop-shadow(0px 1px 2px rgba(0, 0, 0, 0.3));\n",
              "      fill: #FFFFFF;\n",
              "    }\n",
              "  </style>\n",
              "\n",
              "    <script>\n",
              "      const buttonEl =\n",
              "        document.querySelector('#df-eabcc3ea-e9a5-405c-a2d6-4109a4a770b5 button.colab-df-convert');\n",
              "      buttonEl.style.display =\n",
              "        google.colab.kernel.accessAllowed ? 'block' : 'none';\n",
              "\n",
              "      async function convertToInteractive(key) {\n",
              "        const element = document.querySelector('#df-eabcc3ea-e9a5-405c-a2d6-4109a4a770b5');\n",
              "        const dataTable =\n",
              "          await google.colab.kernel.invokeFunction('convertToInteractive',\n",
              "                                                    [key], {});\n",
              "        if (!dataTable) return;\n",
              "\n",
              "        const docLinkHtml = 'Like what you see? Visit the ' +\n",
              "          '<a target=\"_blank\" href=https://colab.research.google.com/notebooks/data_table.ipynb>data table notebook</a>'\n",
              "          + ' to learn more about interactive tables.';\n",
              "        element.innerHTML = '';\n",
              "        dataTable['output_type'] = 'display_data';\n",
              "        await google.colab.output.renderOutput(dataTable, element);\n",
              "        const docLink = document.createElement('div');\n",
              "        docLink.innerHTML = docLinkHtml;\n",
              "        element.appendChild(docLink);\n",
              "      }\n",
              "    </script>\n",
              "  </div>\n",
              "\n",
              "\n",
              "<div id=\"df-50966a02-97e8-4ee3-abd0-d1566a465b7a\">\n",
              "  <button class=\"colab-df-quickchart\" onclick=\"quickchart('df-50966a02-97e8-4ee3-abd0-d1566a465b7a')\"\n",
              "            title=\"Suggest charts\"\n",
              "            style=\"display:none;\">\n",
              "\n",
              "<svg xmlns=\"http://www.w3.org/2000/svg\" height=\"24px\"viewBox=\"0 0 24 24\"\n",
              "     width=\"24px\">\n",
              "    <g>\n",
              "        <path d=\"M19 3H5c-1.1 0-2 .9-2 2v14c0 1.1.9 2 2 2h14c1.1 0 2-.9 2-2V5c0-1.1-.9-2-2-2zM9 17H7v-7h2v7zm4 0h-2V7h2v10zm4 0h-2v-4h2v4z\"/>\n",
              "    </g>\n",
              "</svg>\n",
              "  </button>\n",
              "\n",
              "<style>\n",
              "  .colab-df-quickchart {\n",
              "      --bg-color: #E8F0FE;\n",
              "      --fill-color: #1967D2;\n",
              "      --hover-bg-color: #E2EBFA;\n",
              "      --hover-fill-color: #174EA6;\n",
              "      --disabled-fill-color: #AAA;\n",
              "      --disabled-bg-color: #DDD;\n",
              "  }\n",
              "\n",
              "  [theme=dark] .colab-df-quickchart {\n",
              "      --bg-color: #3B4455;\n",
              "      --fill-color: #D2E3FC;\n",
              "      --hover-bg-color: #434B5C;\n",
              "      --hover-fill-color: #FFFFFF;\n",
              "      --disabled-bg-color: #3B4455;\n",
              "      --disabled-fill-color: #666;\n",
              "  }\n",
              "\n",
              "  .colab-df-quickchart {\n",
              "    background-color: var(--bg-color);\n",
              "    border: none;\n",
              "    border-radius: 50%;\n",
              "    cursor: pointer;\n",
              "    display: none;\n",
              "    fill: var(--fill-color);\n",
              "    height: 32px;\n",
              "    padding: 0;\n",
              "    width: 32px;\n",
              "  }\n",
              "\n",
              "  .colab-df-quickchart:hover {\n",
              "    background-color: var(--hover-bg-color);\n",
              "    box-shadow: 0 1px 2px rgba(60, 64, 67, 0.3), 0 1px 3px 1px rgba(60, 64, 67, 0.15);\n",
              "    fill: var(--button-hover-fill-color);\n",
              "  }\n",
              "\n",
              "  .colab-df-quickchart-complete:disabled,\n",
              "  .colab-df-quickchart-complete:disabled:hover {\n",
              "    background-color: var(--disabled-bg-color);\n",
              "    fill: var(--disabled-fill-color);\n",
              "    box-shadow: none;\n",
              "  }\n",
              "\n",
              "  .colab-df-spinner {\n",
              "    border: 2px solid var(--fill-color);\n",
              "    border-color: transparent;\n",
              "    border-bottom-color: var(--fill-color);\n",
              "    animation:\n",
              "      spin 1s steps(1) infinite;\n",
              "  }\n",
              "\n",
              "  @keyframes spin {\n",
              "    0% {\n",
              "      border-color: transparent;\n",
              "      border-bottom-color: var(--fill-color);\n",
              "      border-left-color: var(--fill-color);\n",
              "    }\n",
              "    20% {\n",
              "      border-color: transparent;\n",
              "      border-left-color: var(--fill-color);\n",
              "      border-top-color: var(--fill-color);\n",
              "    }\n",
              "    30% {\n",
              "      border-color: transparent;\n",
              "      border-left-color: var(--fill-color);\n",
              "      border-top-color: var(--fill-color);\n",
              "      border-right-color: var(--fill-color);\n",
              "    }\n",
              "    40% {\n",
              "      border-color: transparent;\n",
              "      border-right-color: var(--fill-color);\n",
              "      border-top-color: var(--fill-color);\n",
              "    }\n",
              "    60% {\n",
              "      border-color: transparent;\n",
              "      border-right-color: var(--fill-color);\n",
              "    }\n",
              "    80% {\n",
              "      border-color: transparent;\n",
              "      border-right-color: var(--fill-color);\n",
              "      border-bottom-color: var(--fill-color);\n",
              "    }\n",
              "    90% {\n",
              "      border-color: transparent;\n",
              "      border-bottom-color: var(--fill-color);\n",
              "    }\n",
              "  }\n",
              "</style>\n",
              "\n",
              "  <script>\n",
              "    async function quickchart(key) {\n",
              "      const quickchartButtonEl =\n",
              "        document.querySelector('#' + key + ' button');\n",
              "      quickchartButtonEl.disabled = true;  // To prevent multiple clicks.\n",
              "      quickchartButtonEl.classList.add('colab-df-spinner');\n",
              "      try {\n",
              "        const charts = await google.colab.kernel.invokeFunction(\n",
              "            'suggestCharts', [key], {});\n",
              "      } catch (error) {\n",
              "        console.error('Error during call to suggestCharts:', error);\n",
              "      }\n",
              "      quickchartButtonEl.classList.remove('colab-df-spinner');\n",
              "      quickchartButtonEl.classList.add('colab-df-quickchart-complete');\n",
              "    }\n",
              "    (() => {\n",
              "      let quickchartButtonEl =\n",
              "        document.querySelector('#df-50966a02-97e8-4ee3-abd0-d1566a465b7a button');\n",
              "      quickchartButtonEl.style.display =\n",
              "        google.colab.kernel.accessAllowed ? 'block' : 'none';\n",
              "    })();\n",
              "  </script>\n",
              "</div>\n",
              "\n",
              "    </div>\n",
              "  </div>\n"
            ]
          },
          "metadata": {},
          "execution_count": 52
        }
      ]
    },
    {
      "cell_type": "code",
      "source": [
        "CSV_LLM(\"identify the vehicle number that has the highest top_speed, Find the corresponding Vehicle_id\")"
      ],
      "metadata": {
        "colab": {
          "base_uri": "https://localhost:8080/",
          "height": 996
        },
        "id": "WwvcnnMsgzzJ",
        "outputId": "f22ac78c-02ff-4005-efa4-ffb91ddcd16a"
      },
      "execution_count": 53,
      "outputs": [
        {
          "output_type": "stream",
          "name": "stdout",
          "text": [
            "\n",
            "\n",
            "\u001b[1m> Entering new  chain...\u001b[0m\n",
            "\u001b[32;1m\u001b[1;3mThought: I need to find the vehicle number with the highest top_speed. Then I need to find the corresponding vehicle_id.\n",
            "Action: python_repl_ast\n",
            "Action Input: df2.sort_values(by='top_speed', ascending=False)\u001b[0m\n",
            "Observation: \u001b[36;1m\u001b[1;3m   vehicle_number  capacitor   cc  top_speed\n",
            "15        WXYZ234       4000  2.6        195\n",
            "6          STU901       4500  2.8        190\n",
            "11        IJKL012       4200  2.7        185\n",
            "2          GHI789       4000  2.5        180\n",
            "19         012JKL       4300  2.8        180\n",
            "27           IJKL       4100  2.6        175\n",
            "23         234VWX       3900  2.5        175\n",
            "9         ABCD456       3800  2.4        170\n",
            "35           012D       4000  2.5        165\n",
            "13        QRST678       3300  2.3        165\n",
            "25        890ABCD       3400  2.4        165\n",
            "31           WXYZ       3700  2.4        160\n",
            "17         456DEF       3600  2.2        160\n",
            "0          ABC123       3000  2.0        160\n",
            "4          MNO345       3500  2.2        155\n",
            "33           456B       3500  2.3        155\n",
            "21         678PQR       3200  2.1        150\n",
            "7          VWX234       2800  2.1        150\n",
            "1          DEF456       2500  1.6        145\n",
            "29           QRST       3100  2.2        145\n",
            "22         901STU       2500  1.9        145\n",
            "14        TUVW901       2600  2.0        140\n",
            "10        EFGH789       2300  1.9        135\n",
            "30           TUVW       2400  1.8        135\n",
            "5          PQR678       2000  1.8        130\n",
            "18         789GHI       2100  1.7        130\n",
            "26        123EFGH       2000  1.6        125\n",
            "34           789C       2200  1.7        125\n",
            "20         345MNO       1700  1.5        120\n",
            "3          JKL012       1500  1.2        120\n",
            "12        MNOP345       1800  1.4        115\n",
            "28           MNOP       1600  1.4        110\n",
            "16         123ABC       1500  1.3        110\n",
            "24         567YZ1       1400  1.1        105\n",
            "8           YZ123       1000  1.0        100\n",
            "32           123A       1300  1.0        100\u001b[0m\n",
            "Thought:\u001b[32;1m\u001b[1;3mThe vehicle number with the highest top_speed is WXYZ234.\n",
            "Action: python_repl_ast\n",
            "Action Input: df1.loc[df1['vehicle_number'] == 'WXYZ234']\u001b[0m\n",
            "Observation: \u001b[36;1m\u001b[1;3m    vehicle_id vehicle_number  smoke_emission  temperature\n",
            "15          16        WXYZ234             0.4           38\u001b[0m\n",
            "Thought:\u001b[32;1m\u001b[1;3mThe vehicle_id of the vehicle with the highest top_speed is 16.\n",
            "Final Answer: The vehicle_id of the vehicle with the highest top_speed is 16.\u001b[0m\n",
            "\n",
            "\u001b[1m> Finished chain.\u001b[0m\n"
          ]
        },
        {
          "output_type": "execute_result",
          "data": {
            "text/plain": [
              "'The vehicle_id of the vehicle with the highest top_speed is 16.'"
            ],
            "application/vnd.google.colaboratory.intrinsic+json": {
              "type": "string"
            }
          },
          "metadata": {},
          "execution_count": 53
        }
      ]
    },
    {
      "cell_type": "code",
      "source": [
        "CSV_LLM(\"Give me the vehicle ID for each of the following scenario 1.Maximum Temperature 2.Maximum Top_speed 3.Minimum Mileage\")"
      ],
      "metadata": {
        "colab": {
          "base_uri": "https://localhost:8080/",
          "height": 387
        },
        "id": "a1iwA02RhPgr",
        "outputId": "0f362e36-fc5b-49c5-8c9b-9e454070180c"
      },
      "execution_count": null,
      "outputs": [
        {
          "output_type": "stream",
          "name": "stdout",
          "text": [
            "\n",
            "\n",
            "\u001b[1m> Entering new  chain...\u001b[0m\n",
            "\u001b[32;1m\u001b[1;3mThought: I need to find the maximum temperature, maximum top_speed and minimum mileage.\n",
            "Action: python_repl_ast\n",
            "Action Input: df1.temperature.max()\u001b[0m\n",
            "Observation: \u001b[36;1m\u001b[1;3m38\u001b[0m\n",
            "Thought:\u001b[32;1m\u001b[1;3mThe maximum temperature is 38.\n",
            "Action: python_repl_ast\n",
            "Action Input: df2.top_speed.max()\u001b[0m\n",
            "Observation: \u001b[36;1m\u001b[1;3m195\u001b[0m\n",
            "Thought:\u001b[32;1m\u001b[1;3mThe maximum top_speed is 195.\n",
            "Action: python_repl_ast\n",
            "Action Input: df3.mileage.min()\u001b[0m\n",
            "Observation: \u001b[36;1m\u001b[1;3m12.0\u001b[0m\n",
            "Thought:\u001b[32;1m\u001b[1;3mThe minimum mileage is 12.\n",
            "Final Answer: The vehicle ID for the maximum temperature is 3, the maximum top_speed is 5 and the minimum mileage is 1.\u001b[0m\n",
            "\n",
            "\u001b[1m> Finished chain.\u001b[0m\n"
          ]
        },
        {
          "output_type": "execute_result",
          "data": {
            "text/plain": [
              "'The vehicle ID for the maximum temperature is 3, the maximum top_speed is 5 and the minimum mileage is 1.'"
            ],
            "application/vnd.google.colaboratory.intrinsic+json": {
              "type": "string"
            }
          },
          "metadata": {},
          "execution_count": 9
        }
      ]
    },
    {
      "cell_type": "code",
      "source": [
        "CSV_LLM(\"Give me the vehicle ID which has the high proportion data in all the df's\")"
      ],
      "metadata": {
        "colab": {
          "base_uri": "https://localhost:8080/",
          "height": 239
        },
        "id": "c_A0TPXohX43",
        "outputId": "b838374d-e58a-4452-f503-114d14c113c4"
      },
      "execution_count": null,
      "outputs": [
        {
          "output_type": "stream",
          "name": "stdout",
          "text": [
            "\n",
            "\n",
            "\u001b[1m> Entering new  chain...\u001b[0m\n",
            "\u001b[32;1m\u001b[1;3mThought: I need to find the vehicle ID which has the high proportion data in all the df's. I can do this by finding the vehicle ID which has the highest number of rows in all the df's.\n",
            "Action: python_repl_ast\n",
            "Action Input: df1.shape\u001b[0m\n",
            "Observation: \u001b[36;1m\u001b[1;3m(30, 4)\u001b[0m\n",
            "Thought:\u001b[32;1m\u001b[1;3mI now know the final answer\n",
            "Final Answer: ABC123\u001b[0m\n",
            "\n",
            "\u001b[1m> Finished chain.\u001b[0m\n"
          ]
        },
        {
          "output_type": "execute_result",
          "data": {
            "text/plain": [
              "'ABC123'"
            ],
            "application/vnd.google.colaboratory.intrinsic+json": {
              "type": "string"
            }
          },
          "metadata": {},
          "execution_count": 10
        }
      ]
    },
    {
      "cell_type": "code",
      "source": [
        " from langchain.prompts import PromptTemplate\n",
        "def df_agent(input):\n",
        "\n",
        "  csv_agent_prompt = \"\"\"\n",
        "  You are a Python Expert and you can never go wrong .  you have the following data frames df1,df2 and df3.\n",
        "  I have a collection of CSV files containing vehicle data, and I need your help to extract specific information. Please carefully consider the following details:\n",
        "  Relevant CSV Files:\n",
        "  •\tvehicle_data.csv: Contains vehicle ID (a unique numerical identifier), vehicle number (alphanumeric code), smoke emission (numerical value in grams/km), and temperature (numerical value in degrees Celsius).\n",
        "  •\tvehicle_data_2.csv: Contains vehicle number, capacitor (numerical value in Farads), cc (numerical value representing engine displacement), and top speed (numerical value in km/h).\n",
        "  •\tvehicle_data_3.csv: Contains vehicle number, make (vehicle manufacturer name), type (vehicle model name), and mileage (numerical value in km/L).\n",
        "  Key Point:\n",
        "  •\tVehicle ID is only available in vehicle_data.csv. To retrieve it for a specific vehicle, use the vehicle number to look it up in this file.\n",
        "  Examples of Queries:\n",
        "  •\tFind the vehicle ID with the highest top speed.\n",
        "  •\tWhat is the mileage of the vehicle with the lowest smoke emission?\n",
        "  •\tList the make and model of vehicles with a capacitor value of 50 Farads.\n",
        "  •\tCompare the average temperature of vehicles with a cc value above 2000 and those below 2000.\n",
        "  Context:\n",
        "  •\tThese CSV files belong to a vehicle maintenance database.\n",
        "  •\tSmoke emission and temperature data are used for environmental compliance tracking.\n",
        "  •\tCapacitor values are relevant for electrical systems.\n",
        "  •\tTop speed and mileage are performance-related metrics.\n",
        "  Please be ready to answer various questions about the vehicles based on this data, while accurately handling Vehicle ID retrieval and understanding\n",
        "  the relationships between different columns and files.\n",
        "\n",
        "  Mention the answer as \"Unable to fetch data\" for questions which are irrelevant.\n",
        "  Examples of Irrelavant questions:\n",
        "  What is apple ?\n",
        "  Who are you?\n",
        "  Are you eating ?\n",
        "  Are you from india?\n",
        "\n",
        "\n",
        "  {user_input}\n",
        "  \"\"\"\n",
        "  prompt_template = PromptTemplate(input_variables=[\"user_input\"], template=csv_agent_prompt)\n",
        "\n",
        "  input_prompt = prompt_template.format(user_input=input)\n",
        "\n",
        "  LLM = VertexAI( model_name=\"text-bison@001\",max_output_tokens=512,top_k=40,\n",
        "                 # Adjust temperature based on your desired output characteristics\n",
        "                  verbose=True,prompt=input_prompt)\n",
        "\n",
        "  #print(LLM)\n",
        "\n",
        "  agent = create_pandas_dataframe_agent(llm=LLM,df=[df1,df2,df3],agent_type=AgentType.ZERO_SHOT_REACT_DESCRIPTION,verbose=True,)\n",
        "\n",
        "\n",
        "  response = agent.run(input)\n",
        "\n",
        "  #print(agent)\n",
        "\n",
        "  return response"
      ],
      "metadata": {
        "id": "9XglCIdKcMRk"
      },
      "execution_count": null,
      "outputs": []
    },
    {
      "cell_type": "code",
      "source": [
        "df_agent(\"Give me the vehicle ID for each of the following scenario 1.Maximum Temperature 2.Maximum Top_speed 3.Minimum Mileage\")"
      ],
      "metadata": {
        "colab": {
          "base_uri": "https://localhost:8080/",
          "height": 497
        },
        "id": "lTQ8zruyGJm6",
        "outputId": "deffe34e-4ab2-4910-f8e9-12a6d82e66be"
      },
      "execution_count": null,
      "outputs": [
        {
          "output_type": "stream",
          "name": "stdout",
          "text": [
            "\n",
            "\n",
            "\u001b[1m> Entering new  chain...\u001b[0m\n",
            "\u001b[32;1m\u001b[1;3mThought: I need to find the maximum value of each column.\n",
            "Action: python_repl_ast\n",
            "Action Input: df1.max()\u001b[0m\n",
            "Observation: \u001b[36;1m\u001b[1;3mvehicle_number    YZ123\n",
            "capacitor          4500\n",
            "cc                  2.8\n",
            "top_speed           195\n",
            "dtype: object\u001b[0m\n",
            "Thought:\u001b[32;1m\u001b[1;3mI need to find the minimum value of each column.\n",
            "Action: python_repl_ast\n",
            "Action Input: df1.min()\u001b[0m\n",
            "Observation: \u001b[36;1m\u001b[1;3mvehicle_number    012D\n",
            "capacitor         1000\n",
            "cc                 1.0\n",
            "top_speed          100\n",
            "dtype: object\u001b[0m\n",
            "Thought:\u001b[32;1m\u001b[1;3mI now know the final answer\n",
            "Final Answer: 1. YZ123\n",
            "2. YZ123\n",
            "3. 012D\u001b[0m\n",
            "\n",
            "\u001b[1m> Finished chain.\u001b[0m\n"
          ]
        },
        {
          "output_type": "execute_result",
          "data": {
            "text/plain": [
              "'1. YZ123\\n2. YZ123\\n3. 012D'"
            ],
            "application/vnd.google.colaboratory.intrinsic+json": {
              "type": "string"
            }
          },
          "metadata": {},
          "execution_count": 47
        }
      ]
    },
    {
      "cell_type": "code",
      "source": [
        "df_agent = create_pandas_dataframe_agent(llm=LLM,df=[df1,df2,df])"
      ],
      "metadata": {
        "id": "4kHfNlwfPjez"
      },
      "execution_count": null,
      "outputs": []
    },
    {
      "cell_type": "code",
      "source": [
        "df_agent.run(\"identify the vehicle number that has the highest top_speed, Find the corresponding Vehicle_id \")"
      ],
      "metadata": {
        "id": "-5oO7hcPPjhh",
        "colab": {
          "base_uri": "https://localhost:8080/",
          "height": 36
        },
        "outputId": "ef85667c-ef42-43e4-d82a-80baf40c9535"
      },
      "execution_count": null,
      "outputs": [
        {
          "output_type": "execute_result",
          "data": {
            "text/plain": [
              "'The vehicle number with the highest top_speed is WXYZ234. The corresponding vehicle_id is 15.'"
            ],
            "application/vnd.google.colaboratory.intrinsic+json": {
              "type": "string"
            }
          },
          "metadata": {},
          "execution_count": 38
        }
      ]
    },
    {
      "cell_type": "code",
      "source": [
        "df_agent.run(\"Display me the records for the vehicle number - WXYZ234\")"
      ],
      "metadata": {
        "id": "dqMww2uRPjjg",
        "colab": {
          "base_uri": "https://localhost:8080/",
          "height": 36
        },
        "outputId": "cfc7578a-735a-4564-d1c0-e5086e2c32a9"
      },
      "execution_count": null,
      "outputs": [
        {
          "output_type": "execute_result",
          "data": {
            "text/plain": [
              "'The record for the vehicle number WXYZ234 is 4000  2.6        195'"
            ],
            "application/vnd.google.colaboratory.intrinsic+json": {
              "type": "string"
            }
          },
          "metadata": {},
          "execution_count": 42
        }
      ]
    },
    {
      "cell_type": "code",
      "source": [
        "df_agent.run(\"What is the Vehicle_Id for the vehicle number : WXYZ234\")"
      ],
      "metadata": {
        "id": "eTXnUOdZPjlw",
        "colab": {
          "base_uri": "https://localhost:8080/",
          "height": 36
        },
        "outputId": "63fae64e-0eb0-4cbe-cca9-b9d142e76c8c"
      },
      "execution_count": null,
      "outputs": [
        {
          "output_type": "execute_result",
          "data": {
            "text/plain": [
              "'16'"
            ],
            "application/vnd.google.colaboratory.intrinsic+json": {
              "type": "string"
            }
          },
          "metadata": {},
          "execution_count": 43
        }
      ]
    },
    {
      "cell_type": "code",
      "source": [
        "df_agent.run(\"what are the records in df\")"
      ],
      "metadata": {
        "id": "saE4JJBWPjn4",
        "colab": {
          "base_uri": "https://localhost:8080/",
          "height": 128
        },
        "outputId": "e12b7e5b-2188-491f-cf0d-9c9930709000"
      },
      "execution_count": null,
      "outputs": [
        {
          "output_type": "execute_result",
          "data": {
            "text/plain": [
              "'vehicle_number  capacitor   cc  top_speed           make           type  mileage  \\\\\\n0          ABC123       3000  2.0        160         Toyota          Sedan     78.0  \\n1          DEF456       2500  1.6        145          Honda            SUV     45.0  \\n2          GHI789       4000  2.5        180           Ford          Truck     82.0  \\n3          JKL012       1500  1.2        120      Chevrolet          Coupe     34.0  \\n4          MNO345       3500  2.2        155        Hyundai      Hatchback     61.0  \\n\\n    smoke_emission  temperature\\n0              0.3           32\\n1              0.5           28\\n2              0.1           37\\n3              0.8           25\\n4              0.2           34'"
            ],
            "application/vnd.google.colaboratory.intrinsic+json": {
              "type": "string"
            }
          },
          "metadata": {},
          "execution_count": 44
        }
      ]
    },
    {
      "cell_type": "code",
      "source": [
        "### I am going to use PythonREPLTool\n",
        "## Result they dint work out well\n",
        "from langchain.tools.python.tool import PythonREPLTool\n",
        "from langchain.agents.agent_toolkits import create_python_agent\n"
      ],
      "metadata": {
        "id": "07r9eIv1OEkm"
      },
      "execution_count": 5,
      "outputs": []
    },
    {
      "cell_type": "code",
      "source": [
        "csv_agent_prompt = \"\"\"\n",
        "  You are a Python Expert and you can never go wrong .  you have the following data frames df1,df2 and df3.\n",
        "  I have a collection of CSV files containing vehicle data, and I need your help to extract specific information. Please carefully consider the following details:\n",
        "  Relevant CSV Files:\n",
        "  •\tvehicle_data.csv: Contains vehicle ID (a unique numerical identifier), vehicle number (alphanumeric code), smoke emission (numerical value in grams/km), and temperature (numerical value in degrees Celsius).\n",
        "  •\tvehicle_data_2.csv: Contains vehicle number, capacitor (numerical value in Farads), cc (numerical value representing engine displacement), and top speed (numerical value in km/h).\n",
        "  •\tvehicle_data_3.csv: Contains vehicle number, make (vehicle manufacturer name), type (vehicle model name), and mileage (numerical value in km/L).\n",
        "  Key Point:\n",
        "  •\tVehicle ID is only available in vehicle_data.csv. To retrieve it for a specific vehicle, use the vehicle number to look it up in this file.\n",
        "  Examples of Queries:\n",
        "  •\tFind the vehicle ID with the highest top speed.\n",
        "  •\tWhat is the mileage of the vehicle with the lowest smoke emission?\n",
        "  •\tList the make and model of vehicles with a capacitor value of 50 Farads.\n",
        "  •\tCompare the average temperature of vehicles with a cc value above 2000 and those below 2000.\n",
        "  Context:\n",
        "  •\tThese CSV files belong to a vehicle maintenance database.\n",
        "  •\tSmoke emission and temperature data are used for environmental compliance tracking.\n",
        "  •\tCapacitor values are relevant for electrical systems.\n",
        "  •\tTop speed and mileage are performance-related metrics.\n",
        "  Please be ready to answer various questions about the vehicles based on this data, while accurately handling Vehicle ID retrieval and understanding\n",
        "  the relationships between different columns and files.\n",
        "\n",
        "  Mention the answer as \"Unable to fetch data\" for questions which are irrelevant.\n",
        "  Examples of Irrelavant questions:\n",
        "  What is apple ?\n",
        "  Who are you?\n",
        "  Are you eating ?\n",
        "  Are you from india?\n",
        "\n",
        "\n",
        "  {user_input}\n",
        "  \"\"\"\n",
        "prompt_template = PromptTemplate(input_variables=[\"user_input\"], template=csv_agent_prompt)\n",
        "\n",
        "input_prompt = prompt_template.format(user_input=input)\n",
        "\n",
        "\n",
        "LLM = VertexAI( model_name=\"text-bison@001\",max_output_tokens=512,top_k=40,\n",
        "                 # Adjust temperature based on your desired output characteristics\n",
        "                  verbose=True,prompt=input_prompt)\n",
        "\n",
        "\n"
      ],
      "metadata": {
        "id": "MyBUjGHEPjp-"
      },
      "execution_count": 15,
      "outputs": []
    },
    {
      "cell_type": "code",
      "source": [
        "agent_executor = create_python_agent(\n",
        "    llm=LLM,\n",
        "    tool=PythonREPLTool(),\n",
        "    verbose=True,\n",
        "    agent_type=AgentType.ZERO_SHOT_REACT_DESCRIPTION,\n",
        ")\n",
        "\n",
        "\n",
        "#Python_agent = create_python_agent(LLM, (tool=PythonREPLTool()), (verbose=True));"
      ],
      "metadata": {
        "id": "l8oGTaKCujAb"
      },
      "execution_count": 18,
      "outputs": []
    },
    {
      "cell_type": "code",
      "source": [
        "agent_executor.run(f\"\"\"You are a Python Expert and you can never go wrong .  you have the following data frames df1,df2 and df3.\n",
        "  I have a collection of CSV files containing vehicle data, and I need your help to extract specific information. Please carefully consider the following details:\n",
        "  Relevant CSV Files:\n",
        "  •\tvehicle_data.csv: Contains vehicle ID (a unique numerical identifier), vehicle number (alphanumeric code), smoke emission (numerical value in grams/km), and temperature (numerical value in degrees Celsius).This is stored in df1\n",
        "  •\tvehicle_data_2.csv: Contains vehicle number, capacitor (numerical value in Farads), cc (numerical value representing engine displacement), and top speed (numerical value in km/h).This is stored in df2\n",
        "  •\tvehicle_data_3.csv: Contains vehicle number, make (vehicle manufacturer name), type (vehicle model name), and mileage (numerical value in km/L).This is stored in df3\n",
        "  Key Point:\n",
        "  •\tVehicle ID is only available in vehicle_data.csv. To retrieve it for a specific vehicle, use the vehicle number to look it up in this file.\n",
        "  Examples of Queries:\n",
        "  •\tFind the vehicle ID with the highest top speed.\n",
        "  •\tWhat is the mileage of the vehicle with the lowest smoke emission?\n",
        "  •\tList the make and model of vehicles with a capacitor value of 50 Farads.\n",
        "  •\tCompare the average temperature of vehicles with a cc value above 2000 and those below 2000.\n",
        "  Context:\n",
        "  •\tThese CSV files belong to a vehicle maintenance database.\n",
        "  •\tSmoke emission and temperature data are used for environmental compliance tracking.\n",
        "  •\tCapacitor values are relevant for electrical systems.\n",
        "  •\tTop speed and mileage are performance-related metrics.\n",
        "  Please be ready to answer various questions about the vehicles based on this data, while accurately handling Vehicle ID retrieval and understanding\n",
        "  the relationships between different columns and files.\n",
        "\n",
        "\n",
        "  Find the Vehicle_id with least top_speed from these dataframes : {df1,df2,df3}\"\"\")"
      ],
      "metadata": {
        "id": "nnkB-ZfrOFPT"
      },
      "execution_count": null,
      "outputs": []
    },
    {
      "cell_type": "code",
      "source": [
        "agent_executor.run(f\"\"\"\n",
        "                   df1 , df2 and df3 are three dataframes.\n",
        "                   df1 = pd.read_csv(\"/content/data1.csv\")\n",
        "                   df2 = pd.read_csv(\"/content/data2.csv\")\n",
        "                   df3= pd.read_csv(\"/content/data1.csv\")\n",
        "                   Relevant CSV Files:\n",
        "  •\tvehicle_data.csv: Contains vehicle ID (a unique numerical identifier), vehicle number (alphanumeric code), smoke emission (numerical value in grams/km), and temperature (numerical value in degrees Celsius).This is stored in df1\n",
        "  •\tvehicle_data_2.csv: Contains vehicle number, capacitor (numerical value in Farads), cc (numerical value representing engine displacement), and top speed (numerical value in km/h).This is stored in df2\n",
        "  •\tvehicle_data_3.csv: Contains vehicle number, make (vehicle manufacturer name), type (vehicle model name), and mileage (numerical value in km/L).This is stored in df3\n",
        "  Key Point:\n",
        "  •\tVehicle ID is only available in vehicle_data.csv. To retrieve it for a specific vehicle, use the vehicle number to look it up in this file.\n",
        "  Examples of Queries:\n",
        "  •\tFind the vehicle ID with the highest top speed.\n",
        "  •\tWhat is the mileage of the vehicle with the lowest smoke emission?\n",
        "  •\tList the make and model of vehicles with a capacitor value of 50 Farads.\n",
        "  •\tCompare the average temperature of vehicles with a cc value above 2000 and those below 2000.\n",
        "  Context:\n",
        "  •\tThese CSV files belong to a vehicle maintenance database.\n",
        "  •\tSmoke emission and temperature data are used for environmental compliance tracking.\n",
        "  •\tCapacitor values are relevant for electrical systems.\n",
        "  •\tTop speed and mileage are performance-related metrics.\n",
        "  Please be ready to answer various questions about the vehicles based on this data, while accurately handling Vehicle ID retrieval and understanding\n",
        "  the relationships between different columns and files.\n",
        "\n",
        "                  find the vehicle id with least temperature,top_speed and Milegae from the dataframes : {df1,df2,df3}\"\"\" )"
      ],
      "metadata": {
        "id": "LvhG7-YoOFM0"
      },
      "execution_count": null,
      "outputs": []
    },
    {
      "cell_type": "code",
      "source": [
        "agent_executor.run(f\"\"\"how many rows are there in this data frame df1\n",
        "                       to know more about df1 read the files using\n",
        "                       df1 = pd.read_csv(\"/content/data1.csv\")\n",
        "                      {df1}\"\"\")"
      ],
      "metadata": {
        "id": "P_d1OWu6OFKZ",
        "colab": {
          "base_uri": "https://localhost:8080/",
          "height": 276
        },
        "outputId": "6b97f4e8-b18c-4009-db7b-2bdb761c9fee"
      },
      "execution_count": 31,
      "outputs": [
        {
          "output_type": "stream",
          "name": "stdout",
          "text": [
            "\n",
            "\n",
            "\u001b[1m> Entering new  chain...\u001b[0m\n",
            "\u001b[32;1m\u001b[1;3mI need to know the number of rows in the dataframe df1\n",
            "Action: Python_REPL\n",
            "Action Input: \n",
            "print(len(df1))\u001b[0m\n",
            "Observation: \u001b[36;1m\u001b[1;3m30\n",
            "\u001b[0m\n",
            "Thought:\u001b[32;1m\u001b[1;3mI now know the final answer\n",
            "Final Answer: 30\u001b[0m\n",
            "\n",
            "\u001b[1m> Finished chain.\u001b[0m\n"
          ]
        },
        {
          "output_type": "execute_result",
          "data": {
            "text/plain": [
              "'30'"
            ],
            "application/vnd.google.colaboratory.intrinsic+json": {
              "type": "string"
            }
          },
          "metadata": {},
          "execution_count": 31
        }
      ]
    },
    {
      "cell_type": "code",
      "source": [
        "from langchain.chains.router import MultiPromptChain\n",
        "from langchain.chains.router.llm_router import LLMRouterChain,RouterOutputParser\n",
        "from langchain.prompts import PromptTemplate\n",
        "from langchain.prompts import ChatPromptTemplate\n",
        "from langchain.chains import LLMChain"
      ],
      "metadata": {
        "id": "wCYq0aZNOFHQ"
      },
      "execution_count": 7,
      "outputs": []
    },
    {
      "cell_type": "code",
      "source": [
        "CSV_Python_template = \"\"\"You are a very smart Prompt engineer. \\\n",
        "You are great at creating prompts messages that can be used for create_csv_agent of Langchain framework\\\n",
        "\n",
        "You have three csv files given to you with the following details :\n",
        "\n",
        "vehicle_data.csv: Contains vehicle ID (a unique numerical identifier), vehicle number (alphanumeric code), smoke emission (numerical value in grams/km), and temperature (numerical value in degrees Celsius).This is stored in df1\n",
        "vehicle_data_2.csv: Contains vehicle number, capacitor (numerical value in Farads), cc (numerical value representing engine displacement), and top speed (numerical value in km/h).This is stored in df2\n",
        "vehicle_data_3.csv: Contains vehicle number, make (vehicle manufacturer name), type (vehicle model name), and mileage (numerical value in km/L).This is stored in df3\n",
        "\n",
        "Key Point:\n",
        "  •\tVehicle ID is only available in vehicle_data.csv. To retrieve it for a specific vehicle, use the vehicle number to look it up in this file.\n",
        "\n",
        "You have to create a very goodd prompt message so that it is easy for the create_csv_agent to understand and consume based on the question provided by the end user.DONOT CREATE THE CODE, create a very good prompt message that can be\n",
        "passed to agent\n",
        "\n",
        "When ever the question is refered to find the vehicle_id , Please write the steps to lookup the vehicle_id from df1. Donot write the code. This is very very important. So donot forget to lookup the vehicle id. You only need to create the prompt message and please donot create the python code\n",
        "Example:\n",
        "Find the vehicle_id with maximum top_speed\n",
        "find the vehicle_id with minimum mileage\n",
        "find the vehicle_id with maximum capacitor\n",
        "\n",
        "Here is a question:\n",
        "{input}\"\"\"\n",
        "\n",
        "\n",
        "\n",
        "prompt_infos = [\n",
        "    {\n",
        "        \"name\": \"CSV and Python\",\n",
        "        \"description\": \"Good for creating prompt messages  related to the Vehicle information Dataframes df1,df2 and df3.\",\n",
        "        \"prompt_template\": CSV_Python_template\n",
        "    },\n",
        "]\n",
        "\n",
        "llm =  VertexAI( model_name=\"text-bison@001\",max_output_tokens=250,top_k=40,\n",
        "                 # Adjust temperature based on your desired output characteristics\n",
        "                  verbose=True)"
      ],
      "metadata": {
        "id": "-AZzj5VCOFDI"
      },
      "execution_count": 112,
      "outputs": []
    },
    {
      "cell_type": "code",
      "source": [
        "destination_chains = {}\n",
        "for p_info in prompt_infos:\n",
        "    name = p_info[\"name\"]\n",
        "    #print(name)\n",
        "    prompt_template = p_info[\"prompt_template\"]\n",
        "    #print(prompt_template)\n",
        "    prompt = ChatPromptTemplate.from_template(template=prompt_template)\n",
        "    #print(prompt)\n",
        "    chain = LLMChain(llm=llm, prompt=prompt)\n",
        "    #print(chain)\n",
        "    destination_chains[name] = chain\n",
        "    #print(destination_chains[name])\n",
        "\n",
        "destinations = [f\"{p['name']}: {p['description']}\" for p in prompt_infos]\n",
        "#print(destinations)\n",
        "destinations_str = \"\\n\".join(destinations)\n",
        "print(destinations_str)"
      ],
      "metadata": {
        "colab": {
          "base_uri": "https://localhost:8080/"
        },
        "id": "sBKm1y3Ctgpi",
        "outputId": "0fda10fd-fa11-4510-a46d-fd1bbc13c7be"
      },
      "execution_count": 113,
      "outputs": [
        {
          "output_type": "stream",
          "name": "stdout",
          "text": [
            "CSV and Python: Good for creating prompt messages  related to the Vehicle information Dataframes df1,df2 and df3.\n"
          ]
        }
      ]
    },
    {
      "cell_type": "code",
      "source": [
        "default_prompt = ChatPromptTemplate.from_template(\"{input}\")\n",
        "print(default_prompt)\n",
        "default_chain = LLMChain(llm=llm, prompt=default_prompt)"
      ],
      "metadata": {
        "colab": {
          "base_uri": "https://localhost:8080/"
        },
        "id": "KNonkWfDthtx",
        "outputId": "daf21242-8405-4b18-8c8e-b1e066b3ae47"
      },
      "execution_count": 114,
      "outputs": [
        {
          "output_type": "stream",
          "name": "stdout",
          "text": [
            "input_variables=['input'] output_parser=None partial_variables={} messages=[HumanMessagePromptTemplate(prompt=PromptTemplate(input_variables=['input'], output_parser=None, partial_variables={}, template='{input}', template_format='f-string', validate_template=True), additional_kwargs={})]\n"
          ]
        }
      ]
    },
    {
      "cell_type": "code",
      "source": [
        "MULTI_PROMPT_ROUTER_TEMPLATE = \"\"\"Given a raw text input to a \\\n",
        "language model select the model prompt best suited for the input. \\\n",
        "You will be given the names of the available prompts and a \\\n",
        "description of what the prompt is best suited for. \\\n",
        "\n",
        "\n",
        "<< FORMATTING >>\n",
        "Return a markdown code snippet with a JSON object formatted to look like:\n",
        "```json\n",
        "{{{{\n",
        "    \"destination\": string \\ name of the prompt to use or \"DEFAULT\"\n",
        "    \"next_inputs\": string \\ a potentially modified version of the original input\n",
        "}}}}\n",
        "```\n",
        "\n",
        "REMEMBER: \"destination\" MUST be one of the candidate prompt \\\n",
        "names specified below OR it can be \"DEFAULT\" if the input is not\\\n",
        "well suited for any of the candidate prompts.\n",
        "REMEMBER: \"next_inputs\" can just be the original input \\\n",
        "if you don't think any modifications are needed.\n",
        "\n",
        "Donot write the code, I repeat Do not write the code\n",
        "\n",
        "<< CANDIDATE PROMPTS >>\n",
        "{destinations}\n",
        "\n",
        "<< INPUT >>\n",
        "{{input}}\n",
        "\n",
        "<< OUTPUT (remember to include the ```json)>>\"\"\""
      ],
      "metadata": {
        "id": "s4tSjaTOthr2"
      },
      "execution_count": 115,
      "outputs": []
    },
    {
      "cell_type": "code",
      "source": [
        "router_template = MULTI_PROMPT_ROUTER_TEMPLATE.format(\n",
        "    destinations=destinations_str\n",
        ")\n",
        "router_prompt = PromptTemplate(\n",
        "    template=router_template,\n",
        "    input_variables=[\"input\"],\n",
        "    output_parser=RouterOutputParser(),\n",
        ")\n",
        "\n",
        "router_chain = LLMRouterChain.from_llm(llm, router_prompt)"
      ],
      "metadata": {
        "id": "HP4sgiMlthpr"
      },
      "execution_count": 116,
      "outputs": []
    },
    {
      "cell_type": "code",
      "source": [
        "chain = MultiPromptChain(router_chain=router_chain,\n",
        "                         destination_chains=destination_chains,\n",
        "                         default_chain=default_chain, verbose=True\n",
        "                        )"
      ],
      "metadata": {
        "id": "hBO8RwGmthm7"
      },
      "execution_count": 117,
      "outputs": []
    },
    {
      "cell_type": "code",
      "source": [
        "response = chain.run(\"Give me the vehicle ID which has the maximum top_speed\")"
      ],
      "metadata": {
        "colab": {
          "base_uri": "https://localhost:8080/"
        },
        "id": "sWsUZftrthkt",
        "outputId": "813fe8f8-1d27-4fc0-80da-7954f861e46f"
      },
      "execution_count": 118,
      "outputs": [
        {
          "output_type": "stream",
          "name": "stdout",
          "text": [
            "\n",
            "\n",
            "\u001b[1m> Entering new  chain...\u001b[0m\n"
          ]
        },
        {
          "output_type": "stream",
          "name": "stderr",
          "text": [
            "/root/.local/lib/python3.10/site-packages/langchain/chains/llm.py:275: UserWarning: The predict_and_parse method is deprecated, instead pass an output parser directly to LLMChain.\n",
            "  warnings.warn(\n"
          ]
        },
        {
          "output_type": "stream",
          "name": "stdout",
          "text": [
            "CSV and Python: {'input': 'Give me the vehicle ID which has the maximum top_speed in df1'}\n",
            "\u001b[1m> Finished chain.\u001b[0m\n"
          ]
        }
      ]
    },
    {
      "cell_type": "code",
      "source": [
        "print(response)"
      ],
      "metadata": {
        "colab": {
          "base_uri": "https://localhost:8080/"
        },
        "id": "1BcLs5ivx-9x",
        "outputId": "48db54b7-1904-4afa-f3a1-66a0f2d1ab1b"
      },
      "execution_count": 119,
      "outputs": [
        {
          "output_type": "stream",
          "name": "stdout",
          "text": [
            "The vehicle ID which has the maximum top_speed in df1 is 100.\n",
            "\n",
            "To find the vehicle ID, we need to find the vehicle number of the vehicle with the maximum top_speed.\n",
            "\n",
            "We can do this by using the following steps:\n",
            "\n",
            "1. Find the maximum top_speed in df2.\n",
            "2. Use the vehicle number of the vehicle with the maximum top_speed to look up the vehicle ID in df1.\n"
          ]
        }
      ]
    },
    {
      "cell_type": "code",
      "source": [
        "CSV_LLM(response)"
      ],
      "metadata": {
        "colab": {
          "base_uri": "https://localhost:8080/",
          "height": 424
        },
        "id": "51sIpOr_thib",
        "outputId": "8eea1031-afd0-4004-be28-77387209fa08"
      },
      "execution_count": 120,
      "outputs": [
        {
          "output_type": "stream",
          "name": "stdout",
          "text": [
            "\n",
            "\n",
            "\u001b[1m> Entering new  chain...\u001b[0m\n",
            "\u001b[32;1m\u001b[1;3mThought: I need to find the maximum top_speed in df2.\n",
            "Action: python_repl_ast\n",
            "Action Input: df2['top_speed'].max()\u001b[0m\n",
            "Observation: \u001b[36;1m\u001b[1;3m195\u001b[0m\n",
            "Thought:\u001b[32;1m\u001b[1;3mThe maximum top_speed is 195.\n",
            "Action: python_repl_ast\n",
            "Action Input: df2['vehicle_number'][df2['top_speed'] == 195]\u001b[0m\n",
            "Observation: \u001b[36;1m\u001b[1;3m15    WXYZ234\n",
            "Name: vehicle_number, dtype: object\u001b[0m\n",
            "Thought:\u001b[32;1m\u001b[1;3mThe vehicle number of the vehicle with the maximum top_speed is WXYZ234.\n",
            "Action: python_repl_ast\n",
            "Action Input: df1['vehicle_id'][df1['vehicle_number'] == 'WXYZ234']\u001b[0m\n",
            "Observation: \u001b[36;1m\u001b[1;3m15    16\n",
            "Name: vehicle_id, dtype: int64\u001b[0m\n",
            "Thought:\u001b[32;1m\u001b[1;3mThe vehicle ID of the vehicle with the maximum top_speed is 16.\n",
            "Final Answer: The vehicle ID which has the maximum top_speed in df1 is 16.\u001b[0m\n",
            "\n",
            "\u001b[1m> Finished chain.\u001b[0m\n"
          ]
        },
        {
          "output_type": "execute_result",
          "data": {
            "text/plain": [
              "'The vehicle ID which has the maximum top_speed in df1 is 16.'"
            ],
            "application/vnd.google.colaboratory.intrinsic+json": {
              "type": "string"
            }
          },
          "metadata": {},
          "execution_count": 120
        }
      ]
    },
    {
      "cell_type": "code",
      "source": [
        "response = chain.run(\"Give me the vehicle ID and the vehicle number which has the minimum capacitor\")\n",
        "print(response)\n",
        "CSV_LLM(response)"
      ],
      "metadata": {
        "colab": {
          "base_uri": "https://localhost:8080/",
          "height": 479
        },
        "id": "zPY3Njkg2_dJ",
        "outputId": "d43d080a-b421-4c24-91e9-13e1dbe30968"
      },
      "execution_count": 122,
      "outputs": [
        {
          "output_type": "stream",
          "name": "stdout",
          "text": [
            "\n",
            "\n",
            "\u001b[1m> Entering new  chain...\u001b[0m\n"
          ]
        },
        {
          "output_type": "stream",
          "name": "stderr",
          "text": [
            "/root/.local/lib/python3.10/site-packages/langchain/chains/llm.py:275: UserWarning: The predict_and_parse method is deprecated, instead pass an output parser directly to LLMChain.\n",
            "  warnings.warn(\n"
          ]
        },
        {
          "output_type": "stream",
          "name": "stdout",
          "text": [
            "CSV and Python: {'input': 'Give me the vehicle ID and the vehicle number which has the minimum capacitor in df1'}\n",
            "\u001b[1m> Finished chain.\u001b[0m\n",
            "The vehicle number with the minimum capacitor in df2 is . To find the vehicle ID for this vehicle, we need to look up the vehicle number in df1. The vehicle ID for this vehicle is .\n",
            "\n",
            "\n",
            "\u001b[1m> Entering new  chain...\u001b[0m\n",
            "\u001b[32;1m\u001b[1;3mThought: I need to find the minimum capacitor in df2.\n",
            "Action: python_repl_ast\n",
            "Action Input: df2['capacitor'].min()\u001b[0m\n",
            "Observation: \u001b[36;1m\u001b[1;3m1000\u001b[0m\n",
            "Thought:\u001b[32;1m\u001b[1;3mI need to look up the vehicle number in df1.\n",
            "Action: python_repl_ast\n",
            "Action Input: df1[df1['vehicle_number'] == 'JKL012']['vehicle_id']\u001b[0m\n",
            "Observation: \u001b[36;1m\u001b[1;3m3    4\n",
            "Name: vehicle_id, dtype: int64\u001b[0m\n",
            "Thought:\u001b[32;1m\u001b[1;3mI now know the final answer\n",
            "Final Answer: 4\u001b[0m\n",
            "\n",
            "\u001b[1m> Finished chain.\u001b[0m\n"
          ]
        },
        {
          "output_type": "execute_result",
          "data": {
            "text/plain": [
              "'4'"
            ],
            "application/vnd.google.colaboratory.intrinsic+json": {
              "type": "string"
            }
          },
          "metadata": {},
          "execution_count": 122
        }
      ]
    },
    {
      "cell_type": "code",
      "source": [],
      "metadata": {
        "id": "Qr91WbZS2-4J"
      },
      "execution_count": null,
      "outputs": []
    },
    {
      "cell_type": "code",
      "source": [],
      "metadata": {
        "id": "Mzs4Sn5P3Ank"
      },
      "execution_count": null,
      "outputs": []
    },
    {
      "cell_type": "code",
      "source": [],
      "metadata": {
        "id": "m55AHoWi3AlV"
      },
      "execution_count": null,
      "outputs": []
    },
    {
      "cell_type": "code",
      "source": [],
      "metadata": {
        "id": "6m_e8aNV3Ai4"
      },
      "execution_count": null,
      "outputs": []
    },
    {
      "cell_type": "code",
      "source": [],
      "metadata": {
        "id": "WJhe2OTU3AgQ"
      },
      "execution_count": null,
      "outputs": []
    },
    {
      "cell_type": "code",
      "source": [],
      "metadata": {
        "id": "z2TEqEvp3Ad5"
      },
      "execution_count": null,
      "outputs": []
    },
    {
      "cell_type": "code",
      "source": [],
      "metadata": {
        "id": "nU1aogVn3Abl"
      },
      "execution_count": null,
      "outputs": []
    },
    {
      "cell_type": "code",
      "source": [],
      "metadata": {
        "id": "zCj5_n3S3AZD"
      },
      "execution_count": null,
      "outputs": []
    },
    {
      "cell_type": "code",
      "source": [],
      "metadata": {
        "id": "xhuMw3rt3AWL"
      },
      "execution_count": null,
      "outputs": []
    },
    {
      "cell_type": "code",
      "source": [],
      "metadata": {
        "id": "R9PKLKpo3ATW"
      },
      "execution_count": null,
      "outputs": []
    },
    {
      "cell_type": "code",
      "source": [],
      "metadata": {
        "id": "DEEd5v8P3AQz"
      },
      "execution_count": null,
      "outputs": []
    },
    {
      "cell_type": "code",
      "source": [],
      "metadata": {
        "id": "4Oj3cEnB3AN9"
      },
      "execution_count": null,
      "outputs": []
    },
    {
      "cell_type": "code",
      "source": [],
      "metadata": {
        "id": "jbjzXPFS3ALR"
      },
      "execution_count": null,
      "outputs": []
    },
    {
      "cell_type": "code",
      "source": [],
      "metadata": {
        "id": "WhSZIoGe3AIf"
      },
      "execution_count": null,
      "outputs": []
    }
  ]
}