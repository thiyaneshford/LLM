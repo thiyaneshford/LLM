{
  "nbformat": 4,
  "nbformat_minor": 0,
  "metadata": {
    "colab": {
      "provenance": [],
      "authorship_tag": "ABX9TyOMqdEnFYyQu4tqxbuR8cMu",
      "include_colab_link": true
    },
    "kernelspec": {
      "name": "python3",
      "display_name": "Python 3"
    },
    "language_info": {
      "name": "python"
    }
  },
  "cells": [
    {
      "cell_type": "markdown",
      "metadata": {
        "id": "view-in-github",
        "colab_type": "text"
      },
      "source": [
        "<a href=\"https://colab.research.google.com/github/thiyaneshford/LLM/blob/main/BQ_Langchain_with_Embeddings_.ipynb\" target=\"_parent\"><img src=\"https://colab.research.google.com/assets/colab-badge.svg\" alt=\"Open In Colab\"/></a>"
      ]
    },
    {
      "cell_type": "markdown",
      "source": [
        "###Creation of the vector database with FewShot Examples"
      ],
      "metadata": {
        "id": "Dt225_79mtp7"
      }
    },
    {
      "cell_type": "code",
      "execution_count": null,
      "metadata": {
        "id": "4NlneOsJB9QH"
      },
      "outputs": [],
      "source": [
        "!pip install google-cloud-aiplatform --upgrade --user --quiet\n",
        "!pip install chromadb==0.3.26 pydantic==1.10.8 typing-inspect==0.8.0 typing_extensions==4.5.0 pandas datasets google-api-python-client pypdf faiss-cpu transformers config --upgrade --user --quiet"
      ]
    },
    {
      "cell_type": "code",
      "source": [
        "# Below libraries are required to build a SQL engine for BigQuery\n",
        "!pip install --user SQLAlchemy==1.4.48 --quiet\n",
        "!pip install --user sqlalchemy-bigquery --quiet\n",
        "# Install pandas\n",
        "! pip install --user --quiet pandas\n",
        "\n",
        "# Install HuggingFace Datasets\n",
        "! pip install --user --quiet datasets\n",
        "\n",
        "# Install Python client for Google Search API\n",
        "! pip install --user --quiet google-api-python-client\n",
        "\n",
        "# PDF loader\n",
        "! pip install --user --quiet pypdf\n",
        "\n",
        "# Install similarity search library\n",
        "# TO-DO: Replace with vertex AI Matching Engine\n",
        "! pip install --user --quiet faiss-cpu"
      ],
      "metadata": {
        "id": "Sb9jMZcoCDcf"
      },
      "execution_count": null,
      "outputs": []
    },
    {
      "cell_type": "code",
      "source": [
        "!pip install -U langchain langchain_experimental"
      ],
      "metadata": {
        "id": "sIaMdsXAoEPi"
      },
      "execution_count": null,
      "outputs": []
    },
    {
      "cell_type": "code",
      "source": [
        "PROJECT_ID = \"iron-decorator-297513\" # @param {type:\"string\"}\n",
        "LOCATION = \"us-central1\"  # @param {type:\"string\"}\n",
        "from google.cloud import aiplatform\n",
        "from langchain.llms import VertexAI\n",
        "import vertexai\n",
        "aiplatform.init(project=PROJECT_ID, location=LOCATION)\n",
        "vertexai.init(project=PROJECT_ID, location=LOCATION)\n",
        "from google.colab import auth as google_auth\n",
        "google_auth.authenticate_user()"
      ],
      "metadata": {
        "id": "FeBbGFrKCDes"
      },
      "execution_count": 1,
      "outputs": []
    },
    {
      "cell_type": "code",
      "source": [
        "project_id = \"iron-decorator-297513\" # @param {type:\"string\"}\n",
        "LOCATION = \"us-central1\"  # @param {type:\"string\"}\n",
        "dataset_id = 'tg_Dataste' # @param {type:\"string\"}\n",
        "table_name = 'LLMsales' # @param {type:\"string\"}\n",
        "from sqlalchemy import *\n",
        "from sqlalchemy.engine import create_engine\n",
        "from sqlalchemy.schema import *\n",
        "import pandas as pd"
      ],
      "metadata": {
        "id": "H2h_FDBiCDhI"
      },
      "execution_count": 2,
      "outputs": []
    },
    {
      "cell_type": "code",
      "source": [
        "table_uri = f\"bigquery://{project_id}/{dataset_id}\"\n",
        "engine = create_engine(f\"bigquery://{project_id}/{dataset_id}\")"
      ],
      "metadata": {
        "id": "Vd08nfycCDkj"
      },
      "execution_count": 3,
      "outputs": []
    },
    {
      "cell_type": "code",
      "source": [
        "#importing the Libraries\n",
        "from langchain.utilities import SQLDatabase\n",
        "from langchain_experimental.sql import SQLDatabaseChain\n",
        "from langchain.agents import create_sql_agent\n",
        "from langchain.agents.agent_toolkits import SQLDatabaseToolkit\n",
        "from langchain.agents.agent_types import AgentType\n",
        "from langchain.embeddings.openai import OpenAIEmbeddings\n",
        "from langchain.vectorstores import FAISS\n",
        "from langchain.schema import Document\n",
        "from langchain.agents.agent_toolkits import create_retriever_tool\n",
        "import pandas as pd\n",
        "from langchain.schema import BasePromptTemplate\n",
        "from langchain.prompts import PromptTemplate\n",
        "from langchain.vectorstores import FAISS\n",
        "from langchain.vectorstores import Chroma"
      ],
      "metadata": {
        "id": "F2TE1degCDnu"
      },
      "execution_count": 30,
      "outputs": []
    },
    {
      "cell_type": "code",
      "source": [
        "template = \"\"\" Given an input question, first create a syntactically correct bigquery  to run, then look at the results of the query and return the answer.\n",
        "Unless the user specifies in the question a specific number of examples to obtain, query for at most 10000 results using the LIMIT clause as per BigQuery SQL\n",
        "Be careful to not query for columns that do not exist. Also, pay attention to which column is in which table.\n",
        "\n",
        "when ever the question is about Vehicle_ID first do the join with the Vehicle_ID table using Vehicle number\n",
        "\n",
        "Database Description:\n",
        "\n",
        "There are 3 tables: Vehicle_data, Mileage, and Topspeed.\n",
        "Vehicle_data contains: vehicle_id , vehicle_number , smoke_emission, and temperature.\n",
        "Topspeed contains: vehicle_number, capacitor , cc , and top_speed .\n",
        "Mileage contains: vehicle_number, make , type  and mileage .\n",
        "The vehicle_id column is only present in the Vehicle_data table.\n",
        "\n",
        "The vehicle_id column is only present in the Vehicle_ID table.\n",
        "\n",
        "Use the following format:\n",
        "\n",
        "Question: \"Question here\"\n",
        "SQLQuery: \"SQL Query to run\"\n",
        "SQLResult: \"Result of the SQLQuery\"\n",
        "Answer: \"Final answer here\"\n",
        "\n",
        "Only use the following tables:\n",
        "\n",
        "'Vehicle_data','Topspeed','Mileage'\n",
        "\n",
        "Some examples of SQL queries that correspond to questions are:\n",
        "\"Find the average mileage for vehicles with a top speed greater than 200 km/h.\" : \"SELECT Mileage.vehicle_number,Mileage.AVG(mileage) AS average_mileage FROM Mileage JOIN Topspeed ON Mileage.vehicle_number = Topspeed.vehicle_number WHERE top_speed > 200 group by Mileage.vehicle_number;\",\n",
        "\"List the vehicle model, make for vehicles with a smoke emission between 40 and 60 grams/km.\": \"SELECT type, make  FROM Mileage JOIN Vehicle_data ON Mileage.vehicle_number = Vehicle_data.vehicle_number WHERE Vehicle_data.smoke_emission BETWEEN 40 AND 60;\",\n",
        "\"Retrieve the vehicle IDs and temperatures for vehicles with an engine displacement (cc) of 1500 or higher.\" : \"SELECT vehicle_id, temperature FROM Vehicle_data JOIN Topspeed ON Vehicle_data.vehicle_number = Topspeed.vehicle_number WHERE cc >= 1500;\",\n",
        "\"Calculate the total number of vehicles with a mileage of less than 15 km/L.\":\"SELECT COUNT(*) AS total_vehicles FROM Mileage WHERE mileage < 15;\",\n",
        "\"Find the highest smoke emission value across all vehicles.\":\"SELECT MAX(smoke_emission) AS highest_smoke_emission FROM Vehicle_data;\",\n",
        "\"Show the vehicle model with the lowest temperature.\":\"SELECT type AS vehicle_model FROM Mileage JOIN Vehicle_data ON Mileage.vehicle_number = Vehicle_data.vehicle_number WHERE temperature = (SELECT MIN(temperature) FROM Vehicle_data);\"\n",
        "\n",
        "\n",
        "Question: {input}\"\"\"\n",
        "\n",
        "PROMPT = PromptTemplate(input_variables=[\"input\"], template=template,)\n",
        "\n"
      ],
      "metadata": {
        "id": "tqz_c2H1pRc1"
      },
      "execution_count": 15,
      "outputs": []
    },
    {
      "cell_type": "code",
      "source": [
        "project_id = \"iron-decorator-297513\"\n",
        "LOCATION = \"us-central1\"\n",
        "dataset_id = 'tg_Dataste'\n",
        "table_name = ['Vehicle_data','Topspeed','Mileage']\n",
        "table_uri = f\"bigquery://{project_id}/{dataset_id}\"\n",
        "engine = create_engine(f\"bigquery://{project_id}/{dataset_id}\")\n",
        "\n",
        "llm = VertexAI(\n",
        "    model_name='text-bison@001',\n",
        "    max_output_tokens=1024,\n",
        "    temperature=0.1,\n",
        "    top_p=0.8,\n",
        "    top_k=40,\n",
        "    verbose=True,\n",
        "    prompt_template = PROMPT\n",
        ")\n",
        "\n",
        "db = SQLDatabase(engine=engine,metadata=MetaData(bind=engine),include_tables=table_name,sample_rows_in_table_info=10)"
      ],
      "metadata": {
        "id": "iiIqUZZsCDqC",
        "colab": {
          "base_uri": "https://localhost:8080/"
        },
        "outputId": "6de9e35c-7878-40b9-bcb7-3c16475c4121"
      },
      "execution_count": 16,
      "outputs": [
        {
          "output_type": "stream",
          "name": "stderr",
          "text": [
            "<ipython-input-16-a35bd6d00124>:18: RemovedIn20Warning: Deprecated API features detected! These feature(s) are not compatible with SQLAlchemy 2.0. To prevent incompatible upgrades prior to updating applications, ensure requirements files are pinned to \"sqlalchemy<2.0\". Set environment variable SQLALCHEMY_WARN_20=1 to show all deprecation warnings.  Set environment variable SQLALCHEMY_SILENCE_UBER_WARNING=1 to silence this message. (Background on SQLAlchemy 2.0 at: https://sqlalche.me/e/b8d9)\n",
            "  db = SQLDatabase(engine=engine,metadata=MetaData(bind=engine),include_tables=table_name,sample_rows_in_table_info=10)\n"
          ]
        }
      ]
    },
    {
      "cell_type": "code",
      "source": [
        "# Define few-shot examples specific to your database\n",
        "few_shots = {\n",
        "\"Find the average mileage for vehicles with a top speed greater than 200 km/h.\" : \"SELECT Mileage.vehicle_number,Mileage.AVG(mileage) AS average_mileage FROM Mileage JOIN Topspeed ON Mileage.vehicle_number = Topspeed.vehicle_number WHERE top_speed > 200 group by Mileage.vehicle_number;\",\n",
        "\"List the vehicle model, make for vehicles with a smoke emission between 40 and 60 grams/km.\": \"SELECT type, make  FROM Mileage JOIN Vehicle_data ON Mileage.vehicle_number = Vehicle_data.vehicle_number WHERE Vehicle_data.smoke_emission BETWEEN 40 AND 60;\",\n",
        "\"Retrieve the vehicle IDs and temperatures for vehicles with an engine displacement (cc) of 1500 or higher.\" : \"SELECT vehicle_id, temperature FROM Vehicle_data JOIN Topspeed ON Vehicle_data.vehicle_number = Topspeed.vehicle_number WHERE cc >= 1500;\",\n",
        "\"Calculate the total number of vehicles with a mileage of less than 15 km/L.\":\"SELECT COUNT(*) AS total_vehicles FROM Mileage WHERE mileage < 15;\",\n",
        "\"Find the highest smoke emission value across all vehicles.\":\"SELECT MAX(smoke_emission) AS highest_smoke_emission FROM Vehicle_data;\",\n",
        "\"Show the vehicle model with the lowest temperature.\":\"SELECT type AS vehicle_model FROM Mileage JOIN Vehicle_data ON Mileage.vehicle_number = Vehicle_data.vehicle_number WHERE temperature = (SELECT MIN(temperature) FROM Vehicle_data);\",\n",
        "\"Find the vehicle id and model with lowest temperature\":\"SELECT Mileage.type AS vehicle_model,Vehicle_data.vehicle_id FROM Mileage JOIN Vehicle_data ON Mileage.vehicle_number = Vehicle_data.vehicle_number WHERE temperature = (SELECT MIN(temperature) FROM Vehicle_data);\"\n",
        "}"
      ],
      "metadata": {
        "id": "rfZ2D_trCDvd"
      },
      "execution_count": 18,
      "outputs": []
    },
    {
      "cell_type": "code",
      "source": [
        "FORMAT_INSTRUCTIONS = \"\"\"\n",
        "\n",
        "Database Description:\n",
        "\n",
        "There are 3 tables: Vehicle_data, Mileage, and Topspeed.\n",
        "Vehicle_data contains: vehicle_id is the Primary key , vehicle_number , smoke_emission, and temperature.\n",
        "Topspeed contains: vehicle_number is the Primary key, capacitor , cc , and top_speed .\n",
        "Mileage contains: vehicle_number is the Primary key, make , type  and mileage .\n",
        "The vehicle_id column is only present in the Vehicle_data table.\n",
        "\n",
        "when ever the user is asking for the vehicle id, you should do inner join with Vehicle_ID table using vehicle_number\n",
        "\n",
        "\n",
        "\n",
        "When ever there is Agrregate function like Average , Sum Always use the Primary key of the table along with the Select statement and group by the primary key to avoid error.\n",
        "When ever there is a join , make sure to use the tablename suffix when writing the select queries to avoid ambiguity error. Example : Vehicle_data.Vehilce_number, Topspped.cc etc.\n",
        "\n",
        "\n",
        "\n",
        "Use the following format:\n",
        "\n",
        "\n",
        "Question: the input question you must answer\n",
        "Thought: you should always think about what to do\n",
        "Action: the action to take\n",
        "Action Input: the input to the action\n",
        "Observation: the result of the action\n",
        "... (this Thought/Action/Action Input/Observation can repeat N times)\n",
        "Thought: I now know the final answer\n",
        "Final Answer: SQL query ONLY.\n",
        "\"\"\""
      ],
      "metadata": {
        "id": "2cw_N8cnxFwN"
      },
      "execution_count": 46,
      "outputs": []
    },
    {
      "cell_type": "code",
      "source": [
        "\n",
        "# Utility functions for Embeddings API with rate limiting\n",
        "from langchain.embeddings import VertexAIEmbeddings\n",
        "import langchain\n",
        "from pydantic import BaseModel\n",
        "import time\n",
        "from typing import List\n",
        "\n",
        "def rate_limit(max_per_minute):\n",
        "    period = 60 / max_per_minute\n",
        "    print(\"Waiting\")\n",
        "    while True:\n",
        "        before = time.time()\n",
        "        yield\n",
        "        after = time.time()\n",
        "        elapsed = after - before\n",
        "        sleep_time = max(0, period - elapsed)\n",
        "        if sleep_time > 0:\n",
        "            print(\".\", end=\"\")\n",
        "            time.sleep(sleep_time)\n",
        "\n",
        "\n",
        "class CustomVertexAIEmbeddings(VertexAIEmbeddings, BaseModel):\n",
        "    requests_per_minute: int\n",
        "    num_instances_per_batch: int\n",
        "\n",
        "    # Overriding embed_documents method\n",
        "    def embed_documents(self, texts: List[str]):\n",
        "        limiter = rate_limit(self.requests_per_minute)\n",
        "        results = []\n",
        "        docs = list(texts)\n",
        "\n",
        "        while docs:\n",
        "            # Working in batches because the API accepts maximum 5\n",
        "            # documents per request to get embeddings\n",
        "            head, docs = (\n",
        "                docs[: self.num_instances_per_batch],\n",
        "                docs[self.num_instances_per_batch :],\n",
        "            )\n",
        "            chunk = self.client.get_embeddings(head)\n",
        "            results.extend(chunk)\n",
        "            next(limiter)\n",
        "\n",
        "        return [r.values for r in results]"
      ],
      "metadata": {
        "id": "iSOhxKX8CDxE"
      },
      "execution_count": 19,
      "outputs": []
    },
    {
      "cell_type": "code",
      "source": [
        "EMBEDDING_QPM = 15\n",
        "EMBEDDING_NUM_BATCH = 2\n",
        "embeddings = CustomVertexAIEmbeddings(\n",
        "    requests_per_minute=EMBEDDING_QPM,\n",
        "    num_instances_per_batch=EMBEDDING_NUM_BATCH,\n",
        ")\n",
        ""
      ],
      "metadata": {
        "id": "lxPdFWlLCD0n",
        "colab": {
          "base_uri": "https://localhost:8080/"
        },
        "outputId": "dbc892d5-d4c4-4000-974e-71994105a7f6"
      },
      "execution_count": 20,
      "outputs": [
        {
          "output_type": "stream",
          "name": "stderr",
          "text": [
            "WARNING:langchain_community.embeddings.vertexai:Model_name will become a required arg for VertexAIEmbeddings starting from Feb-01-2024. Currently the default is set to textembedding-gecko@001\n"
          ]
        }
      ]
    },
    {
      "cell_type": "code",
      "source": [
        "from google.colab import drive\n",
        "drive.mount('/content/drive')\n",
        "vector_save_directory = '/content/drive/MyDrive/Colab Notebooks/datafiles/chroma_vector_db/SQL_RAG'"
      ],
      "metadata": {
        "id": "cmNT-cslCD2c",
        "colab": {
          "base_uri": "https://localhost:8080/"
        },
        "outputId": "6caca275-c6d7-460c-a001-36af7e236474"
      },
      "execution_count": 21,
      "outputs": [
        {
          "output_type": "stream",
          "name": "stdout",
          "text": [
            "Mounted at /content/drive\n"
          ]
        }
      ]
    },
    {
      "cell_type": "code",
      "source": [
        "few_shot_docs = [Document(page_content=question, metadata={\"sql_query\": few_shots[question]}) for question in few_shots.keys()]"
      ],
      "metadata": {
        "id": "PTQW3GrPCD4d"
      },
      "execution_count": 22,
      "outputs": []
    },
    {
      "cell_type": "code",
      "source": [
        "few_shot_docs"
      ],
      "metadata": {
        "id": "AymPET0eCD6b",
        "colab": {
          "base_uri": "https://localhost:8080/"
        },
        "outputId": "e92df256-663a-425f-b81e-6842c8a37c70"
      },
      "execution_count": 23,
      "outputs": [
        {
          "output_type": "execute_result",
          "data": {
            "text/plain": [
              "[Document(page_content='Find the average mileage for vehicles with a top speed greater than 200 km/h.', metadata={'sql_query': 'SELECT Mileage.vehicle_number,Mileage.AVG(mileage) AS average_mileage FROM Mileage JOIN Topspeed ON Mileage.vehicle_number = Topspeed.vehicle_number WHERE top_speed > 200 group by Mileage.vehicle_number;'}),\n",
              " Document(page_content='List the vehicle model, make for vehicles with a smoke emission between 40 and 60 grams/km.', metadata={'sql_query': 'SELECT type, make  FROM Mileage JOIN Vehicle_data ON Mileage.vehicle_number = Vehicle_data.vehicle_number WHERE Vehicle_data.smoke_emission BETWEEN 40 AND 60;'}),\n",
              " Document(page_content='Retrieve the vehicle IDs and temperatures for vehicles with an engine displacement (cc) of 1500 or higher.', metadata={'sql_query': 'SELECT vehicle_id, temperature FROM Vehicle_data JOIN Topspeed ON Vehicle_data.vehicle_number = Topspeed.vehicle_number WHERE cc >= 1500;'}),\n",
              " Document(page_content='Calculate the total number of vehicles with a mileage of less than 15 km/L.', metadata={'sql_query': 'SELECT COUNT(*) AS total_vehicles FROM Mileage WHERE mileage < 15;'}),\n",
              " Document(page_content='Find the highest smoke emission value across all vehicles.', metadata={'sql_query': 'SELECT MAX(smoke_emission) AS highest_smoke_emission FROM Vehicle_data;'}),\n",
              " Document(page_content='Show the vehicle model with the lowest temperature.', metadata={'sql_query': 'SELECT type AS vehicle_model FROM Mileage JOIN Vehicle_data ON Mileage.vehicle_number = Vehicle_data.vehicle_number WHERE temperature = (SELECT MIN(temperature) FROM Vehicle_data);'}),\n",
              " Document(page_content='Find the vehicle id and model with lowest temperature', metadata={'sql_query': 'SELECT Mileage.type AS vehicle_model,Vehicle_data.vehicle_id FROM Mileage JOIN Vehicle_data ON Mileage.vehicle_number = Vehicle_data.vehicle_number WHERE temperature = (SELECT MIN(temperature) FROM Vehicle_data);'})]"
            ]
          },
          "metadata": {},
          "execution_count": 23
        }
      ]
    },
    {
      "cell_type": "code",
      "source": [
        "for question in few_shots.keys():\n",
        "  print(question)"
      ],
      "metadata": {
        "id": "XTsMuqHXCD9S"
      },
      "execution_count": null,
      "outputs": []
    },
    {
      "cell_type": "code",
      "source": [
        "few_shots['Find the average mileage for vehicles with a top speed greater than 200 km/h.']"
      ],
      "metadata": {
        "id": "VvjGCxUtCEAV",
        "colab": {
          "base_uri": "https://localhost:8080/",
          "height": 35
        },
        "outputId": "8c432d19-5b44-45a2-92e7-078553fc6f1e"
      },
      "execution_count": 28,
      "outputs": [
        {
          "output_type": "execute_result",
          "data": {
            "text/plain": [
              "'SELECT Mileage.vehicle_number,Mileage.AVG(mileage) AS average_mileage FROM Mileage JOIN Topspeed ON Mileage.vehicle_number = Topspeed.vehicle_number WHERE top_speed > 200 group by Mileage.vehicle_number;'"
            ],
            "application/vnd.google.colaboratory.intrinsic+json": {
              "type": "string"
            }
          },
          "metadata": {},
          "execution_count": 28
        }
      ]
    },
    {
      "cell_type": "code",
      "source": [
        "from langchain.vectorstores import Chroma\n",
        "chroma_db = Chroma.from_documents(few_shot_docs,\n",
        "                                  embeddings,\n",
        "                                  persist_directory=vector_save_directory)"
      ],
      "metadata": {
        "id": "NDbaHelvCECf",
        "colab": {
          "base_uri": "https://localhost:8080/"
        },
        "outputId": "5388a49b-eb9e-42b4-ad7e-613b565d564a"
      },
      "execution_count": 33,
      "outputs": [
        {
          "output_type": "stream",
          "name": "stdout",
          "text": [
            "Waiting\n",
            "..."
          ]
        }
      ]
    },
    {
      "cell_type": "code",
      "source": [
        "chroma_db.persist()\n",
        "retriever  = chroma_db.as_retriever()"
      ],
      "metadata": {
        "id": "Vw540-r3CEEj"
      },
      "execution_count": 37,
      "outputs": []
    },
    {
      "cell_type": "code",
      "source": [
        "retriever_tool = create_retriever_tool(retriever, name=\"sql_get_similar_examples\", description=\"Retrieves similar SQL examples.\")\n",
        "toolkit = SQLDatabaseToolkit(db=db, llm=llm)\n",
        "agent_executor = create_sql_agent(\n",
        "    llm=llm,\n",
        "    toolkit=toolkit,\n",
        "    verbose=True,\n",
        "    agent_type=AgentType.ZERO_SHOT_REACT_DESCRIPTION,\n",
        "    format_instructions=FORMAT_INSTRUCTIONS,\n",
        "    extra_tools=[retriever_tool],\n",
        "    top_k=20\n",
        ")"
      ],
      "metadata": {
        "id": "415fWbfZCEGt"
      },
      "execution_count": 47,
      "outputs": []
    },
    {
      "cell_type": "code",
      "source": [
        "query_result = agent_executor.run(\n",
        "    \"Find the highest smoke emission value across all vehicles\"\n",
        ")\n",
        "print(\"Query Result:\", query_result)"
      ],
      "metadata": {
        "id": "eVilzh0eCEI2",
        "colab": {
          "base_uri": "https://localhost:8080/"
        },
        "outputId": "eb8b7073-73e7-4556-a68c-b1ef81136bd5"
      },
      "execution_count": 43,
      "outputs": [
        {
          "output_type": "stream",
          "name": "stdout",
          "text": [
            "\n",
            "\n",
            "\u001b[1m> Entering new AgentExecutor chain...\u001b[0m\n",
            "\u001b[32;1m\u001b[1;3mAction: sql_db_list_tables\n",
            "Action Input: \u001b[0m\n",
            "Observation: \u001b[38;5;200m\u001b[1;3mMileage, Topspeed, Vehicle_data\u001b[0m\n",
            "Thought:\u001b[32;1m\u001b[1;3mThe Vehicle_data table contains the smoke emission value.  I should query the schema of this table to see what columns it contains.\n",
            "Action: sql_db_schema\n",
            "Action Input: Vehicle_data\u001b[0m\n",
            "Observation: \u001b[33;1m\u001b[1;3m\n",
            "CREATE TABLE `Vehicle_data` (\n",
            "\t`vehicle_id` INT64, \n",
            "\t`vehicle_number` STRING, \n",
            "\t`smoke_emission` FLOAT64, \n",
            "\t`temperature` INT64\n",
            ")\n",
            "\n",
            "/*\n",
            "10 rows from Vehicle_data table:\n",
            "vehicle_id\tvehicle_number\tsmoke_emission\ttemperature\n",
            "2\tDEF456\t0.5\t28\n",
            "11\tEFGH789\t0.5\t26\n",
            "20\t012JKL\t0.5\t32\n",
            "28\t456IJKL\t0.5\t23\n",
            "1\tABC123\t0.3\t32\n",
            "14\tQRST678\t0.3\t30\n",
            "22\t678PQR\t0.3\t37\n",
            "30\t012QRST\t0.3\t28\n",
            "8\tVWX234\t0.6\t29\n",
            "17\t123ABC\t0.6\t21\n",
            "*/\u001b[0m\n",
            "Thought:\u001b[32;1m\u001b[1;3mThe smoke emission column is a float64.  I should query the maximum value of this column.\n",
            "Action: sql_db_query\n",
            "Action Input: SELECT MAX(smoke_emission) FROM Vehicle_data\u001b[0m\n",
            "Observation: \u001b[36;1m\u001b[1;3m[(0.9,)]\u001b[0m\n",
            "Thought:\u001b[32;1m\u001b[1;3mI now know the final answer\n",
            "Final Answer: The highest smoke emission value across all vehicles is 0.9.\u001b[0m\n",
            "\n",
            "\u001b[1m> Finished chain.\u001b[0m\n",
            "Query Result: The highest smoke emission value across all vehicles is 0.9.\n"
          ]
        }
      ]
    },
    {
      "cell_type": "code",
      "source": [
        "agent_executor.run(\"List the Vehicle_ID which has the mileage greater than 80\")"
      ],
      "metadata": {
        "id": "m2a67FDlCEMr",
        "colab": {
          "base_uri": "https://localhost:8080/",
          "height": 1000
        },
        "outputId": "a051584c-f893-4a71-caa5-65128520ffa3"
      },
      "execution_count": 48,
      "outputs": [
        {
          "output_type": "stream",
          "name": "stdout",
          "text": [
            "\n",
            "\n",
            "\u001b[1m> Entering new AgentExecutor chain...\u001b[0m\n",
            "\u001b[32;1m\u001b[1;3mAction: sql_db_list_tables\n",
            "Action Input: \u001b[0m\n",
            "Observation: \u001b[38;5;200m\u001b[1;3mMileage, Topspeed, Vehicle_data\u001b[0m\n",
            "Thought:\u001b[32;1m\u001b[1;3mI should look at the schema of the Mileage table to see what columns I can query.\n",
            "Action: sql_db_schema\n",
            "Action Input: Mileage\u001b[0m\n",
            "Observation: \u001b[33;1m\u001b[1;3m\n",
            "CREATE TABLE `Mileage` (\n",
            "\t`vehicle_number` STRING, \n",
            "\t`make` STRING, \n",
            "\t`type` STRING, \n",
            "\t`mileage` INT64\n",
            ")\n",
            "\n",
            "/*\n",
            "10 rows from Mileage table:\n",
            "vehicle_number\tmake\ttype\tmileage\n",
            "DEF456\tHonda\tSUV\t45\n",
            "MNOP\tSkoda\tSUV\t52\n",
            "678PQR\tAcura\tSUV\t49\n",
            "456DEF\tLand Rover\tSUV\t85\n",
            "890ABCD\tMini\tSUV\t46\n",
            "PQR678\tNissan\tVan\t59\n",
            "JKL012\tChevrolet\tCoupe\t34\n",
            "234VWX\tMitsubishi\tSedan\t35\n",
            "TUVW\tPeugeot\tSedan\t27\n",
            "ABC123\tToyota\tSedan\t78\n",
            "*/\u001b[0m\n",
            "Thought:\u001b[32;1m\u001b[1;3mThe Mileage table has the mileage column. The Vehicle_data table has the vehicle_id column. I need to join the two tables on vehicle_number.\n",
            "Action: sql_db_schema\n",
            "Action Input: Vehicle_data\u001b[0m\n",
            "Observation: \u001b[33;1m\u001b[1;3m\n",
            "CREATE TABLE `Vehicle_data` (\n",
            "\t`vehicle_id` INT64, \n",
            "\t`vehicle_number` STRING, \n",
            "\t`smoke_emission` FLOAT64, \n",
            "\t`temperature` INT64\n",
            ")\n",
            "\n",
            "/*\n",
            "10 rows from Vehicle_data table:\n",
            "vehicle_id\tvehicle_number\tsmoke_emission\ttemperature\n",
            "2\tDEF456\t0.5\t28\n",
            "11\tEFGH789\t0.5\t26\n",
            "20\t012JKL\t0.5\t32\n",
            "28\t456IJKL\t0.5\t23\n",
            "1\tABC123\t0.3\t32\n",
            "14\tQRST678\t0.3\t30\n",
            "22\t678PQR\t0.3\t37\n",
            "30\t012QRST\t0.3\t28\n",
            "8\tVWX234\t0.6\t29\n",
            "17\t123ABC\t0.6\t21\n",
            "*/\u001b[0m\n",
            "Thought:\u001b[32;1m\u001b[1;3mThe Vehicle_data table has the vehicle_id column. I need to join the two tables on vehicle_number.\n",
            "Action: sql_db_query\n",
            "Action Input: SELECT Vehicle_data.vehicle_id FROM Vehicle_data INNER JOIN Mileage ON Vehicle_data.vehicle_number = Mileage.vehicle_number WHERE Mileage.mileage > 80\u001b[0m\n",
            "Observation: \u001b[36;1m\u001b[1;3m[(8,), (3,), (18,)]\u001b[0m\n",
            "Thought:\u001b[32;1m\u001b[1;3mI now know the final answer\n",
            "Final Answer: SELECT Vehicle_data.vehicle_id FROM Vehicle_data INNER JOIN Mileage ON Vehicle_data.vehicle_number = Mileage.vehicle_number WHERE Mileage.mileage > 80\u001b[0m\n",
            "\n",
            "\u001b[1m> Finished chain.\u001b[0m\n"
          ]
        },
        {
          "output_type": "execute_result",
          "data": {
            "text/plain": [
              "'SELECT Vehicle_data.vehicle_id FROM Vehicle_data INNER JOIN Mileage ON Vehicle_data.vehicle_number = Mileage.vehicle_number WHERE Mileage.mileage > 80'"
            ],
            "application/vnd.google.colaboratory.intrinsic+json": {
              "type": "string"
            }
          },
          "metadata": {},
          "execution_count": 48
        }
      ]
    },
    {
      "cell_type": "code",
      "source": [
        "query_result = agent_executor.run(\n",
        "    \"Find the Vehicle_ID with minimum capacitor\"\n",
        ")\n",
        "\n",
        "print(\"Query Result:\", query_result)"
      ],
      "metadata": {
        "colab": {
          "base_uri": "https://localhost:8080/"
        },
        "id": "G-_VI-ynxbt0",
        "outputId": "f122f217-af06-4438-b995-5fe8a03f87b7"
      },
      "execution_count": 49,
      "outputs": [
        {
          "output_type": "stream",
          "name": "stdout",
          "text": [
            "\n",
            "\n",
            "\u001b[1m> Entering new AgentExecutor chain...\u001b[0m\n",
            "\u001b[32;1m\u001b[1;3mAction: sql_db_list_tables\n",
            "Action Input: \u001b[0m\n",
            "Observation: \u001b[38;5;200m\u001b[1;3mMileage, Topspeed, Vehicle_data\u001b[0m\n",
            "Thought:\u001b[32;1m\u001b[1;3mI should query the schema of the Topspeed table because it contains the capacitor column.\n",
            "Action: sql_db_schema\n",
            "Action Input: Topspeed\u001b[0m\n",
            "Observation: \u001b[33;1m\u001b[1;3m\n",
            "CREATE TABLE `Topspeed` (\n",
            "\t`vehicle_number` STRING, \n",
            "\t`capacitor` INT64, \n",
            "\t`cc` FLOAT64, \n",
            "\t`top_speed` INT64\n",
            ")\n",
            "\n",
            "/*\n",
            "10 rows from Topspeed table:\n",
            "vehicle_number\tcapacitor\tcc\ttop_speed\n",
            "YZ123\t1000\t1.0\t100\n",
            "123A\t1300\t1.0\t100\n",
            "567YZ1\t1400\t1.1\t105\n",
            "123ABC\t1500\t1.3\t110\n",
            "MNOP\t1600\t1.4\t110\n",
            "MNOP345\t1800\t1.4\t115\n",
            "JKL012\t1500\t1.2\t120\n",
            "345MNO\t1700\t1.5\t120\n",
            "123EFGH\t2000\t1.6\t125\n",
            "789C\t2200\t1.7\t125\n",
            "*/\u001b[0m\n",
            "Thought:\u001b[32;1m\u001b[1;3mI should query the Topspeed table to get the minimum capacitor value.\n",
            "Action: sql_db_query\n",
            "Action Input: SELECT vehicle_number FROM Topspeed ORDER BY capacitor LIMIT 1\u001b[0m\n",
            "Observation: \u001b[36;1m\u001b[1;3m[('YZ123',)]\u001b[0m\n",
            "Thought:\u001b[32;1m\u001b[1;3mI now know the final answer\n",
            "Final Answer: SELECT vehicle_id FROM Vehicle_data WHERE vehicle_number IN (SELECT vehicle_number FROM Topspeed ORDER BY capacitor LIMIT 1)\u001b[0m\n",
            "\n",
            "\u001b[1m> Finished chain.\u001b[0m\n",
            "Query Result: SELECT vehicle_id FROM Vehicle_data WHERE vehicle_number IN (SELECT vehicle_number FROM Topspeed ORDER BY capacitor LIMIT 1)\n"
          ]
        }
      ]
    },
    {
      "cell_type": "code",
      "source": [],
      "metadata": {
        "id": "aRdrSX7nxbv3"
      },
      "execution_count": null,
      "outputs": []
    },
    {
      "cell_type": "code",
      "source": [],
      "metadata": {
        "id": "lwlnYBvVxby6"
      },
      "execution_count": null,
      "outputs": []
    },
    {
      "cell_type": "code",
      "source": [],
      "metadata": {
        "id": "S5Mmr0gDxb1h"
      },
      "execution_count": null,
      "outputs": []
    },
    {
      "cell_type": "code",
      "source": [],
      "metadata": {
        "id": "aaNeX5gexb4D"
      },
      "execution_count": null,
      "outputs": []
    }
  ]
}