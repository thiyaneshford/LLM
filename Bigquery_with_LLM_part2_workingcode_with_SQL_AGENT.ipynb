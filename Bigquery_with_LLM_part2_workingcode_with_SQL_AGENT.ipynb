{
  "nbformat": 4,
  "nbformat_minor": 0,
  "metadata": {
    "colab": {
      "provenance": [],
      "authorship_tag": "ABX9TyMvNkBQEFiua/mydAKmR21F",
      "include_colab_link": true
    },
    "kernelspec": {
      "name": "python3",
      "display_name": "Python 3"
    },
    "language_info": {
      "name": "python"
    }
  },
  "cells": [
    {
      "cell_type": "markdown",
      "metadata": {
        "id": "view-in-github",
        "colab_type": "text"
      },
      "source": [
        "<a href=\"https://colab.research.google.com/github/thiyaneshford/LLM/blob/main/Bigquery_with_LLM_part2_workingcode_with_SQL_AGENT.ipynb\" target=\"_parent\"><img src=\"https://colab.research.google.com/assets/colab-badge.svg\" alt=\"Open In Colab\"/></a>"
      ]
    },
    {
      "cell_type": "code",
      "execution_count": 6,
      "metadata": {
        "colab": {
          "base_uri": "https://localhost:8080/"
        },
        "id": "I45deWYrT2Ie",
        "outputId": "e745ecb4-fa49-4d44-dc42-ecb6cca83bf2"
      },
      "outputs": [
        {
          "output_type": "stream",
          "name": "stdout",
          "text": [
            "\u001b[2K     \u001b[90m━━━━━━━━━━━━━━━━━━━━━━━━━━━━━━━━━━━━━━━━\u001b[0m \u001b[32m123.6/123.6 kB\u001b[0m \u001b[31m1.6 MB/s\u001b[0m eta \u001b[36m0:00:00\u001b[0m\n",
            "\u001b[2K     \u001b[90m━━━━━━━━━━━━━━━━━━━━━━━━━━━━━━━━━━━━━━━━\u001b[0m \u001b[32m3.1/3.1 MB\u001b[0m \u001b[31m18.7 MB/s\u001b[0m eta \u001b[36m0:00:00\u001b[0m\n",
            "\u001b[2K     \u001b[90m━━━━━━━━━━━━━━━━━━━━━━━━━━━━━━━━━━━━━━━━\u001b[0m \u001b[32m12.3/12.3 MB\u001b[0m \u001b[31m42.9 MB/s\u001b[0m eta \u001b[36m0:00:00\u001b[0m\n",
            "\u001b[2K     \u001b[90m━━━━━━━━━━━━━━━━━━━━━━━━━━━━━━━━━━━━━━━━\u001b[0m \u001b[32m507.1/507.1 kB\u001b[0m \u001b[31m48.6 MB/s\u001b[0m eta \u001b[36m0:00:00\u001b[0m\n",
            "\u001b[2K     \u001b[90m━━━━━━━━━━━━━━━━━━━━━━━━━━━━━━━━━━━━━━━━\u001b[0m \u001b[32m13.0/13.0 MB\u001b[0m \u001b[31m46.7 MB/s\u001b[0m eta \u001b[36m0:00:00\u001b[0m\n",
            "\u001b[2K     \u001b[90m━━━━━━━━━━━━━━━━━━━━━━━━━━━━━━━━━━━━━━━━\u001b[0m \u001b[32m278.2/278.2 kB\u001b[0m \u001b[31m26.7 MB/s\u001b[0m eta \u001b[36m0:00:00\u001b[0m\n",
            "\u001b[2K     \u001b[90m━━━━━━━━━━━━━━━━━━━━━━━━━━━━━━━━━━━━━━━━\u001b[0m \u001b[32m17.6/17.6 MB\u001b[0m \u001b[31m46.6 MB/s\u001b[0m eta \u001b[36m0:00:00\u001b[0m\n",
            "\u001b[2K     \u001b[90m━━━━━━━━━━━━━━━━━━━━━━━━━━━━━━━━━━━━━━━━\u001b[0m \u001b[32m8.2/8.2 MB\u001b[0m \u001b[31m69.0 MB/s\u001b[0m eta \u001b[36m0:00:00\u001b[0m\n",
            "\u001b[?25h  Installing build dependencies ... \u001b[?25l\u001b[?25hdone\n",
            "  Getting requirements to build wheel ... \u001b[?25l\u001b[?25hdone\n",
            "  Preparing metadata (pyproject.toml) ... \u001b[?25l\u001b[?25hdone\n",
            "\u001b[2K     \u001b[90m━━━━━━━━━━━━━━━━━━━━━━━━━━━━━━━━━━━━━━━━\u001b[0m \u001b[32m964.5/964.5 kB\u001b[0m \u001b[31m61.6 MB/s\u001b[0m eta \u001b[36m0:00:00\u001b[0m\n",
            "\u001b[2K     \u001b[90m━━━━━━━━━━━━━━━━━━━━━━━━━━━━━━━━━━━━━━━━\u001b[0m \u001b[32m92.0/92.0 kB\u001b[0m \u001b[31m11.8 MB/s\u001b[0m eta \u001b[36m0:00:00\u001b[0m\n",
            "\u001b[2K     \u001b[90m━━━━━━━━━━━━━━━━━━━━━━━━━━━━━━━━━━━━━━━━\u001b[0m \u001b[32m60.3/60.3 kB\u001b[0m \u001b[31m8.4 MB/s\u001b[0m eta \u001b[36m0:00:00\u001b[0m\n",
            "\u001b[2K     \u001b[90m━━━━━━━━━━━━━━━━━━━━━━━━━━━━━━━━━━━━━━━━\u001b[0m \u001b[32m5.4/5.4 MB\u001b[0m \u001b[31m60.7 MB/s\u001b[0m eta \u001b[36m0:00:00\u001b[0m\n",
            "\u001b[2K     \u001b[90m━━━━━━━━━━━━━━━━━━━━━━━━━━━━━━━━━━━━━━━━\u001b[0m \u001b[32m6.4/6.4 MB\u001b[0m \u001b[31m64.5 MB/s\u001b[0m eta \u001b[36m0:00:00\u001b[0m\n",
            "\u001b[2K     \u001b[90m━━━━━━━━━━━━━━━━━━━━━━━━━━━━━━━━━━━━━━━━\u001b[0m \u001b[32m346.6/346.6 kB\u001b[0m \u001b[31m32.8 MB/s\u001b[0m eta \u001b[36m0:00:00\u001b[0m\n",
            "\u001b[2K     \u001b[90m━━━━━━━━━━━━━━━━━━━━━━━━━━━━━━━━━━━━━━━━\u001b[0m \u001b[32m115.3/115.3 kB\u001b[0m \u001b[31m13.6 MB/s\u001b[0m eta \u001b[36m0:00:00\u001b[0m\n",
            "\u001b[2K     \u001b[90m━━━━━━━━━━━━━━━━━━━━━━━━━━━━━━━━━━━━━━━━\u001b[0m \u001b[32m134.8/134.8 kB\u001b[0m \u001b[31m15.5 MB/s\u001b[0m eta \u001b[36m0:00:00\u001b[0m\n",
            "\u001b[2K     \u001b[90m━━━━━━━━━━━━━━━━━━━━━━━━━━━━━━━━━━━━━━━━\u001b[0m \u001b[32m5.4/5.4 MB\u001b[0m \u001b[31m62.9 MB/s\u001b[0m eta \u001b[36m0:00:00\u001b[0m\n",
            "\u001b[2K     \u001b[90m━━━━━━━━━━━━━━━━━━━━━━━━━━━━━━━━━━━━━━━━\u001b[0m \u001b[32m1.3/1.3 MB\u001b[0m \u001b[31m72.9 MB/s\u001b[0m eta \u001b[36m0:00:00\u001b[0m\n",
            "\u001b[2K     \u001b[90m━━━━━━━━━━━━━━━━━━━━━━━━━━━━━━━━━━━━━━━━\u001b[0m \u001b[32m70.0/70.0 kB\u001b[0m \u001b[31m10.2 MB/s\u001b[0m eta \u001b[36m0:00:00\u001b[0m\n",
            "\u001b[2K     \u001b[90m━━━━━━━━━━━━━━━━━━━━━━━━━━━━━━━━━━━━━━━━\u001b[0m \u001b[32m92.1/92.1 kB\u001b[0m \u001b[31m10.2 MB/s\u001b[0m eta \u001b[36m0:00:00\u001b[0m\n",
            "\u001b[2K     \u001b[90m━━━━━━━━━━━━━━━━━━━━━━━━━━━━━━━━━━━━━━━━\u001b[0m \u001b[32m68.9/68.9 kB\u001b[0m \u001b[31m9.4 MB/s\u001b[0m eta \u001b[36m0:00:00\u001b[0m\n",
            "\u001b[2K     \u001b[90m━━━━━━━━━━━━━━━━━━━━━━━━━━━━━━━━━━━━━━━━\u001b[0m \u001b[32m92.1/92.1 kB\u001b[0m \u001b[31m14.0 MB/s\u001b[0m eta \u001b[36m0:00:00\u001b[0m\n",
            "\u001b[2K     \u001b[90m━━━━━━━━━━━━━━━━━━━━━━━━━━━━━━━━━━━━━━━━\u001b[0m \u001b[32m67.0/67.0 kB\u001b[0m \u001b[31m10.1 MB/s\u001b[0m eta \u001b[36m0:00:00\u001b[0m\n",
            "\u001b[2K     \u001b[90m━━━━━━━━━━━━━━━━━━━━━━━━━━━━━━━━━━━━━━━━\u001b[0m \u001b[32m93.1/93.1 kB\u001b[0m \u001b[31m13.6 MB/s\u001b[0m eta \u001b[36m0:00:00\u001b[0m\n",
            "\u001b[2K     \u001b[90m━━━━━━━━━━━━━━━━━━━━━━━━━━━━━━━━━━━━━━━━\u001b[0m \u001b[32m92.9/92.9 kB\u001b[0m \u001b[31m11.3 MB/s\u001b[0m eta \u001b[36m0:00:00\u001b[0m\n",
            "\u001b[2K     \u001b[90m━━━━━━━━━━━━━━━━━━━━━━━━━━━━━━━━━━━━━━━━\u001b[0m \u001b[32m92.9/92.9 kB\u001b[0m \u001b[31m11.1 MB/s\u001b[0m eta \u001b[36m0:00:00\u001b[0m\n",
            "\u001b[2K     \u001b[90m━━━━━━━━━━━━━━━━━━━━━━━━━━━━━━━━━━━━━━━━\u001b[0m \u001b[32m66.3/66.3 kB\u001b[0m \u001b[31m8.6 MB/s\u001b[0m eta \u001b[36m0:00:00\u001b[0m\n",
            "\u001b[2K     \u001b[90m━━━━━━━━━━━━━━━━━━━━━━━━━━━━━━━━━━━━━━━━\u001b[0m \u001b[32m46.0/46.0 kB\u001b[0m \u001b[31m6.1 MB/s\u001b[0m eta \u001b[36m0:00:00\u001b[0m\n",
            "\u001b[2K     \u001b[90m━━━━━━━━━━━━━━━━━━━━━━━━━━━━━━━━━━━━━━━━\u001b[0m \u001b[32m58.3/58.3 kB\u001b[0m \u001b[31m8.0 MB/s\u001b[0m eta \u001b[36m0:00:00\u001b[0m\n",
            "\u001b[2K     \u001b[90m━━━━━━━━━━━━━━━━━━━━━━━━━━━━━━━━━━━━━━━━\u001b[0m \u001b[32m341.4/341.4 kB\u001b[0m \u001b[31m31.9 MB/s\u001b[0m eta \u001b[36m0:00:00\u001b[0m\n",
            "\u001b[2K     \u001b[90m━━━━━━━━━━━━━━━━━━━━━━━━━━━━━━━━━━━━━━━━\u001b[0m \u001b[32m3.4/3.4 MB\u001b[0m \u001b[31m60.0 MB/s\u001b[0m eta \u001b[36m0:00:00\u001b[0m\n",
            "\u001b[2K     \u001b[90m━━━━━━━━━━━━━━━━━━━━━━━━━━━━━━━━━━━━━━━━\u001b[0m \u001b[32m1.3/1.3 MB\u001b[0m \u001b[31m79.2 MB/s\u001b[0m eta \u001b[36m0:00:00\u001b[0m\n",
            "\u001b[2K     \u001b[90m━━━━━━━━━━━━━━━━━━━━━━━━━━━━━━━━━━━━━━━━\u001b[0m \u001b[32m130.2/130.2 kB\u001b[0m \u001b[31m14.3 MB/s\u001b[0m eta \u001b[36m0:00:00\u001b[0m\n",
            "\u001b[2K     \u001b[90m━━━━━━━━━━━━━━━━━━━━━━━━━━━━━━━━━━━━━━━━\u001b[0m \u001b[32m86.8/86.8 kB\u001b[0m \u001b[31m11.9 MB/s\u001b[0m eta \u001b[36m0:00:00\u001b[0m\n",
            "\u001b[?25h  Building wheel for hnswlib (pyproject.toml) ... \u001b[?25l\u001b[?25hdone\n",
            "\u001b[33m  WARNING: The script dotenv is installed in '/root/.local/bin' which is not on PATH.\n",
            "  Consider adding this directory to PATH or, if you prefer to suppress this warning, use --no-warn-script-location.\u001b[0m\u001b[33m\n",
            "\u001b[0m\u001b[33m  WARNING: The script humanfriendly is installed in '/root/.local/bin' which is not on PATH.\n",
            "  Consider adding this directory to PATH or, if you prefer to suppress this warning, use --no-warn-script-location.\u001b[0m\u001b[33m\n",
            "\u001b[0m\u001b[33m  WARNING: The script watchfiles is installed in '/root/.local/bin' which is not on PATH.\n",
            "  Consider adding this directory to PATH or, if you prefer to suppress this warning, use --no-warn-script-location.\u001b[0m\u001b[33m\n",
            "\u001b[0m\u001b[33m  WARNING: The script uvicorn is installed in '/root/.local/bin' which is not on PATH.\n",
            "  Consider adding this directory to PATH or, if you prefer to suppress this warning, use --no-warn-script-location.\u001b[0m\u001b[33m\n",
            "\u001b[0m\u001b[33m  WARNING: The script coloredlogs is installed in '/root/.local/bin' which is not on PATH.\n",
            "  Consider adding this directory to PATH or, if you prefer to suppress this warning, use --no-warn-script-location.\u001b[0m\u001b[33m\n",
            "\u001b[0m\u001b[33m  WARNING: The script onnxruntime_test is installed in '/root/.local/bin' which is not on PATH.\n",
            "  Consider adding this directory to PATH or, if you prefer to suppress this warning, use --no-warn-script-location.\u001b[0m\u001b[33m\n",
            "\u001b[0m\u001b[33m  WARNING: The script transformers-cli is installed in '/root/.local/bin' which is not on PATH.\n",
            "  Consider adding this directory to PATH or, if you prefer to suppress this warning, use --no-warn-script-location.\u001b[0m\u001b[33m\n",
            "\u001b[0m\u001b[33m  WARNING: The script datasets-cli is installed in '/root/.local/bin' which is not on PATH.\n",
            "  Consider adding this directory to PATH or, if you prefer to suppress this warning, use --no-warn-script-location.\u001b[0m\u001b[33m\n",
            "\u001b[0m\u001b[31mERROR: pip's dependency resolver does not currently take into account all the packages that are installed. This behaviour is the source of the following dependency conflicts.\n",
            "lida 0.0.10 requires kaleido, which is not installed.\n",
            "lida 0.0.10 requires python-multipart, which is not installed.\n",
            "llmx 0.0.15a0 requires cohere, which is not installed.\n",
            "llmx 0.0.15a0 requires openai, which is not installed.\n",
            "llmx 0.0.15a0 requires tiktoken, which is not installed.\n",
            "bigframes 0.17.0 requires pandas<2.1.4,>=1.5.0, but you have pandas 2.1.4 which is incompatible.\n",
            "google-colab 1.0.0 requires pandas==1.5.3, but you have pandas 2.1.4 which is incompatible.\u001b[0m\u001b[31m\n",
            "\u001b[2K     \u001b[90m━━━━━━━━━━━━━━━━━━━━━━━━━━━━━━━━━━━━━━━━\u001b[0m \u001b[32m1.6/1.6 MB\u001b[0m \u001b[31m7.3 MB/s\u001b[0m eta \u001b[36m0:00:00\u001b[0m\n",
            "\u001b[?25h\u001b[31mERROR: pip's dependency resolver does not currently take into account all the packages that are installed. This behaviour is the source of the following dependency conflicts.\n",
            "bigframes 0.17.0 requires pandas<2.1.4,>=1.5.0, but you have pandas 2.1.4 which is incompatible.\n",
            "ipython-sql 0.5.0 requires sqlalchemy>=2.0, but you have sqlalchemy 1.4.48 which is incompatible.\u001b[0m\u001b[31m\n",
            "\u001b[0mCollecting langchain\n",
            "  Downloading langchain-0.0.354-py3-none-any.whl (803 kB)\n",
            "\u001b[2K     \u001b[90m━━━━━━━━━━━━━━━━━━━━━━━━━━━━━━━━━━━━━━━━\u001b[0m \u001b[32m803.3/803.3 kB\u001b[0m \u001b[31m4.5 MB/s\u001b[0m eta \u001b[36m0:00:00\u001b[0m\n",
            "\u001b[?25hCollecting langchain_experimental\n",
            "  Downloading langchain_experimental-0.0.47-py3-none-any.whl (162 kB)\n",
            "\u001b[2K     \u001b[90m━━━━━━━━━━━━━━━━━━━━━━━━━━━━━━━━━━━━━━━━\u001b[0m \u001b[32m163.0/163.0 kB\u001b[0m \u001b[31m22.3 MB/s\u001b[0m eta \u001b[36m0:00:00\u001b[0m\n",
            "\u001b[?25hRequirement already satisfied: PyYAML>=5.3 in /usr/local/lib/python3.10/dist-packages (from langchain) (6.0.1)\n",
            "Requirement already satisfied: SQLAlchemy<3,>=1.4 in /root/.local/lib/python3.10/site-packages (from langchain) (1.4.48)\n",
            "Requirement already satisfied: aiohttp<4.0.0,>=3.8.3 in /usr/local/lib/python3.10/dist-packages (from langchain) (3.9.1)\n",
            "Requirement already satisfied: async-timeout<5.0.0,>=4.0.0 in /usr/local/lib/python3.10/dist-packages (from langchain) (4.0.3)\n",
            "Collecting dataclasses-json<0.7,>=0.5.7 (from langchain)\n",
            "  Downloading dataclasses_json-0.6.3-py3-none-any.whl (28 kB)\n",
            "Collecting jsonpatch<2.0,>=1.33 (from langchain)\n",
            "  Downloading jsonpatch-1.33-py2.py3-none-any.whl (12 kB)\n",
            "Collecting langchain-community<0.1,>=0.0.8 (from langchain)\n",
            "  Downloading langchain_community-0.0.8-py3-none-any.whl (1.5 MB)\n",
            "\u001b[2K     \u001b[90m━━━━━━━━━━━━━━━━━━━━━━━━━━━━━━━━━━━━━━━━\u001b[0m \u001b[32m1.5/1.5 MB\u001b[0m \u001b[31m25.7 MB/s\u001b[0m eta \u001b[36m0:00:00\u001b[0m\n",
            "\u001b[?25hCollecting langchain-core<0.2,>=0.1.5 (from langchain)\n",
            "  Downloading langchain_core-0.1.6-py3-none-any.whl (208 kB)\n",
            "\u001b[2K     \u001b[90m━━━━━━━━━━━━━━━━━━━━━━━━━━━━━━━━━━━━━━━━\u001b[0m \u001b[32m208.0/208.0 kB\u001b[0m \u001b[31m26.5 MB/s\u001b[0m eta \u001b[36m0:00:00\u001b[0m\n",
            "\u001b[?25hCollecting langsmith<0.1.0,>=0.0.77 (from langchain)\n",
            "  Downloading langsmith-0.0.77-py3-none-any.whl (48 kB)\n",
            "\u001b[2K     \u001b[90m━━━━━━━━━━━━━━━━━━━━━━━━━━━━━━━━━━━━━━━━\u001b[0m \u001b[32m48.2/48.2 kB\u001b[0m \u001b[31m6.6 MB/s\u001b[0m eta \u001b[36m0:00:00\u001b[0m\n",
            "\u001b[?25hRequirement already satisfied: numpy<2,>=1 in /usr/local/lib/python3.10/dist-packages (from langchain) (1.23.5)\n",
            "Requirement already satisfied: pydantic<3,>=1 in /root/.local/lib/python3.10/site-packages (from langchain) (1.10.8)\n",
            "Requirement already satisfied: requests<3,>=2 in /usr/local/lib/python3.10/dist-packages (from langchain) (2.31.0)\n",
            "Requirement already satisfied: tenacity<9.0.0,>=8.1.0 in /usr/local/lib/python3.10/dist-packages (from langchain) (8.2.3)\n",
            "Requirement already satisfied: attrs>=17.3.0 in /usr/local/lib/python3.10/dist-packages (from aiohttp<4.0.0,>=3.8.3->langchain) (23.1.0)\n",
            "Requirement already satisfied: multidict<7.0,>=4.5 in /usr/local/lib/python3.10/dist-packages (from aiohttp<4.0.0,>=3.8.3->langchain) (6.0.4)\n",
            "Requirement already satisfied: yarl<2.0,>=1.0 in /usr/local/lib/python3.10/dist-packages (from aiohttp<4.0.0,>=3.8.3->langchain) (1.9.4)\n",
            "Requirement already satisfied: frozenlist>=1.1.1 in /usr/local/lib/python3.10/dist-packages (from aiohttp<4.0.0,>=3.8.3->langchain) (1.4.1)\n",
            "Requirement already satisfied: aiosignal>=1.1.2 in /usr/local/lib/python3.10/dist-packages (from aiohttp<4.0.0,>=3.8.3->langchain) (1.3.1)\n",
            "Collecting marshmallow<4.0.0,>=3.18.0 (from dataclasses-json<0.7,>=0.5.7->langchain)\n",
            "  Downloading marshmallow-3.20.1-py3-none-any.whl (49 kB)\n",
            "\u001b[2K     \u001b[90m━━━━━━━━━━━━━━━━━━━━━━━━━━━━━━━━━━━━━━━━\u001b[0m \u001b[32m49.4/49.4 kB\u001b[0m \u001b[31m7.1 MB/s\u001b[0m eta \u001b[36m0:00:00\u001b[0m\n",
            "\u001b[?25hRequirement already satisfied: typing-inspect<1,>=0.4.0 in /root/.local/lib/python3.10/site-packages (from dataclasses-json<0.7,>=0.5.7->langchain) (0.8.0)\n",
            "Collecting jsonpointer>=1.9 (from jsonpatch<2.0,>=1.33->langchain)\n",
            "  Downloading jsonpointer-2.4-py2.py3-none-any.whl (7.8 kB)\n",
            "Requirement already satisfied: anyio<5,>=3 in /usr/local/lib/python3.10/dist-packages (from langchain-core<0.2,>=0.1.5->langchain) (3.7.1)\n",
            "Requirement already satisfied: packaging<24.0,>=23.2 in /usr/local/lib/python3.10/dist-packages (from langchain-core<0.2,>=0.1.5->langchain) (23.2)\n",
            "Requirement already satisfied: typing-extensions>=4.2.0 in /usr/local/lib/python3.10/dist-packages (from pydantic<3,>=1->langchain) (4.5.0)\n",
            "Requirement already satisfied: charset-normalizer<4,>=2 in /usr/local/lib/python3.10/dist-packages (from requests<3,>=2->langchain) (3.3.2)\n",
            "Requirement already satisfied: idna<4,>=2.5 in /usr/local/lib/python3.10/dist-packages (from requests<3,>=2->langchain) (3.6)\n",
            "Requirement already satisfied: urllib3<3,>=1.21.1 in /usr/local/lib/python3.10/dist-packages (from requests<3,>=2->langchain) (2.0.7)\n",
            "Requirement already satisfied: certifi>=2017.4.17 in /usr/local/lib/python3.10/dist-packages (from requests<3,>=2->langchain) (2023.11.17)\n",
            "Requirement already satisfied: greenlet!=0.4.17 in /usr/local/lib/python3.10/dist-packages (from SQLAlchemy<3,>=1.4->langchain) (3.0.2)\n",
            "Requirement already satisfied: sniffio>=1.1 in /usr/local/lib/python3.10/dist-packages (from anyio<5,>=3->langchain-core<0.2,>=0.1.5->langchain) (1.3.0)\n",
            "Requirement already satisfied: exceptiongroup in /usr/local/lib/python3.10/dist-packages (from anyio<5,>=3->langchain-core<0.2,>=0.1.5->langchain) (1.2.0)\n",
            "Requirement already satisfied: mypy-extensions>=0.3.0 in /root/.local/lib/python3.10/site-packages (from typing-inspect<1,>=0.4.0->dataclasses-json<0.7,>=0.5.7->langchain) (1.0.0)\n",
            "Installing collected packages: marshmallow, jsonpointer, langsmith, jsonpatch, dataclasses-json, langchain-core, langchain-community, langchain, langchain_experimental\n",
            "Successfully installed dataclasses-json-0.6.3 jsonpatch-1.33 jsonpointer-2.4 langchain-0.0.354 langchain-community-0.0.8 langchain-core-0.1.6 langchain_experimental-0.0.47 langsmith-0.0.77 marshmallow-3.20.1\n"
          ]
        }
      ],
      "source": [
        "!pip install google-cloud-aiplatform --upgrade --user --quiet\n",
        "!pip install chromadb==0.3.26 pydantic==1.10.8 typing-inspect==0.8.0 typing_extensions==4.5.0 pandas datasets google-api-python-client pypdf faiss-cpu transformers config --upgrade --user --quiet\n",
        "# Below libraries are required to build a SQL engine for BigQuery\n",
        "!pip install --user SQLAlchemy==1.4.48 --quiet\n",
        "!pip install --user sqlalchemy-bigquery --quiet\n",
        "# Install pandas\n",
        "! pip install --user --quiet pandas\n",
        "\n",
        "# Install HuggingFace Datasets\n",
        "! pip install --user --quiet datasets\n",
        "\n",
        "# Install Python client for Google Search API\n",
        "! pip install --user --quiet google-api-python-client\n",
        "\n",
        "# PDF loader\n",
        "! pip install --user --quiet pypdf\n",
        "\n",
        "# Install similarity search library\n",
        "# TO-DO: Replace with vertex AI Matching Engine\n",
        "! pip install --user --quiet faiss-cpu\n",
        "\n",
        "!pip install -U langchain langchain_experimental"
      ]
    },
    {
      "cell_type": "code",
      "source": [
        "# Below libraries are required to build a SQL engine for BigQuery\n",
        "!pip install --user SQLAlchemy==1.4.48 --quiet\n",
        "!pip install --user sqlalchemy-bigquery --quiet\n",
        "# Install pandas\n",
        "! pip install --user --quiet pandas\n",
        "\n",
        "# Install HuggingFace Datasets\n",
        "! pip install --user --quiet datasets\n",
        "\n",
        "# Install Python client for Google Search API\n",
        "! pip install --user --quiet google-api-python-client\n",
        "\n",
        "# PDF loader\n",
        "! pip install --user --quiet pypdf\n",
        "\n",
        "# Install similarity search library\n",
        "# TO-DO: Replace with vertex AI Matching Engine\n",
        "! pip install --user --quiet faiss-cpu"
      ],
      "metadata": {
        "id": "F2iustwJT4_0"
      },
      "execution_count": 11,
      "outputs": []
    },
    {
      "cell_type": "code",
      "source": [
        "PROJECT_ID = \"iron-decorator-297513\" # @param {type:\"string\"}\n",
        "LOCATION = \"us-central1\"  # @param {type:\"string\"}\n",
        "from google.cloud import aiplatform\n",
        "from langchain.llms import VertexAI\n",
        "import vertexai\n",
        "aiplatform.init(project=PROJECT_ID, location=LOCATION)\n",
        "vertexai.init(project=PROJECT_ID, location=LOCATION)\n",
        "from google.colab import auth as google_auth\n",
        "google_auth.authenticate_user()"
      ],
      "metadata": {
        "id": "WlX0_JOBT5Ce"
      },
      "execution_count": null,
      "outputs": []
    },
    {
      "cell_type": "code",
      "source": [
        "project_id = \"iron-decorator-297513\" # @param {type:\"string\"}\n",
        "LOCATION = \"us-central1\"  # @param {type:\"string\"}\n",
        "dataset_id = 'tg_Dataste' # @param {type:\"string\"}\n",
        "table_name = 'LLMsales' # @param {type:\"string\"}\n",
        "from sqlalchemy import *\n",
        "from sqlalchemy.engine import create_engine\n",
        "from sqlalchemy.schema import *\n",
        "import pandas as pd"
      ],
      "metadata": {
        "id": "PryHzX-iT5Ec"
      },
      "execution_count": null,
      "outputs": []
    },
    {
      "cell_type": "code",
      "source": [
        "table_uri = f\"bigquery://{project_id}/{dataset_id}\"\n",
        "engine = create_engine(f\"bigquery://{project_id}/{dataset_id}\")"
      ],
      "metadata": {
        "id": "KLBuxkztT5G1"
      },
      "execution_count": null,
      "outputs": []
    },
    {
      "cell_type": "code",
      "source": [
        "def bq_qna(question):\n",
        "  #create SQLDatabase instance from BQ engine\n",
        "  db = SQLDatabase(engine=engine,metadata=MetaData(bind=engine),include_tables=[table_name])\n",
        "  # db = SQLDatabase(engine=engine,metadata=MetaData(bind=engine),include_tables=['bigquery-public-data.iowa_liquor_sales.sales'])\n",
        "\n",
        "  #create SQL DB Chain with the initialized LLM and above SQLDB instance\n",
        "  db_chain = SQLDatabaseChain.from_llm(llm, db, verbose=True, return_intermediate_steps=True)\n",
        "\n",
        "\n",
        "  _googlesql_prompt = \"\"\"You are a BigQuery SQL expert. Given an input question, first create a syntactically correct BigQuery query to run, then look at the results of the query and return the answer to the input question.\n",
        "  Unless the user specifies in the question a specific number of examples to obtain, query for at most {top_k} results using the LIMIT clause as per BigQuery SQL. You can order the results to return the most informative data in the database.\n",
        "  Never query for all columns from a table. You must query only the columns that are needed to answer the question. Wrap each column name in backticks (`) to denote them as delimited identifiers.\n",
        "  Pay attention to use only the column names you can see in the tables below. Be careful to not query for columns that do not exist. Also, pay attention to which column is in which table.\n",
        "  Use the following format:\n",
        "  Question: \"Question here\"\n",
        "  SQLQuery: \"SQL Query to run\"\n",
        "  SQLResult: \"Result of the SQLQuery\"\n",
        "  Answer: \"Final answer here\"\n",
        "  Only use the following tables:\n",
        "  {table_info}\n",
        "\n",
        "  If someone asks for specific month, use ActivityDate between current month's start date and current month's end date\n",
        "\n",
        "  Question: {input}\"\"\"\n",
        "\n",
        "  BigQuerySQL_PROMPT = PromptTemplate(\n",
        "      input_variables=[\"input\", \"table_info\", \"top_k\"],\n",
        "      template=_googlesql_prompt,\n",
        "  )\n",
        "\n",
        "  #passing question to the prompt template\n",
        "  final_prompt = BigQuerySQL_PROMPT.format(input=question, table_info=table_name, top_k=10000)\n",
        "\n",
        "  #pass final prompt to SQL Chain\n",
        "  output = db_chain(final_prompt)\n",
        "\n",
        "\n",
        "  return output['result'], output['intermediate_steps'][0]"
      ],
      "metadata": {
        "id": "UMeDM2cBT5JG"
      },
      "execution_count": null,
      "outputs": []
    },
    {
      "cell_type": "code",
      "source": [
        "#i have installed the latest module of langchian which is stable for the creaet_SQL_Query chain\n",
        "#please restart the cell after the installaiton is complete\n",
        "!pip install langchain==0.0.353"
      ],
      "metadata": {
        "colab": {
          "base_uri": "https://localhost:8080/"
        },
        "id": "BdlXjCFuzJHf",
        "outputId": "acdfaf7d-d595-40c6-c819-6ed2b7eb5c5d"
      },
      "execution_count": null,
      "outputs": [
        {
          "output_type": "stream",
          "name": "stdout",
          "text": [
            "Installing collected packages: jsonpointer, langsmith, jsonpatch, langchain-core, langchain-community, langchain\n",
            "  Attempting uninstall: langchain\n",
            "    Found existing installation: langchain 0.0.229\n",
            "    Uninstalling langchain-0.0.229:\n",
            "      Successfully uninstalled langchain-0.0.229\n",
            "Successfully installed jsonpatch-1.33 jsonpointer-2.4 langchain-0.0.353 langchain-community-0.0.7 langchain-core-0.1.4 langsmith-0.0.77\n"
          ]
        }
      ]
    },
    {
      "cell_type": "markdown",
      "source": [
        "Using create_sql_query_chain to write queries and then using the db to run the query"
      ],
      "metadata": {
        "id": "fgurDzWM2sTX"
      }
    },
    {
      "cell_type": "code",
      "source": [
        "llm"
      ],
      "metadata": {
        "id": "SoqsjPL42q5Y",
        "colab": {
          "base_uri": "https://localhost:8080/"
        },
        "outputId": "8a83de77-3961-4d59-9cc4-6f7fa3a5a5e4"
      },
      "execution_count": 137,
      "outputs": [
        {
          "output_type": "execute_result",
          "data": {
            "text/plain": [
              "VertexAI(verbose=True, model_name='text-bison@001', client=<vertexai.language_models.TextGenerationModel object at 0x78a21d8b8730>, client_preview=<vertexai.preview.language_models._PreviewTextGenerationModel object at 0x78a21d8bbc10>, temperature=0.1, max_output_tokens=1024, top_p=0.8)"
            ]
          },
          "metadata": {},
          "execution_count": 137
        }
      ]
    },
    {
      "cell_type": "code",
      "source": [
        "from langchain import SQLDatabase\n",
        "#from langchain.chains import sql_database\n",
        "from google.cloud import aiplatform\n",
        "from langchain.llms import VertexAI\n",
        "import vertexai\n",
        "PROJECT_ID = \"iron-decorator-297513\" # @param {type:\"string\"}\n",
        "LOCATION = \"us-central1\"  # @param {type:\"string\"}\n",
        "aiplatform.init(project=PROJECT_ID, location=LOCATION)\n",
        "vertexai.init(project=PROJECT_ID, location=LOCATION)\n",
        "\n",
        "table_name = ['Temperature','topSpeed','Mileage']\n",
        "table_uri = f\"bigquery://{project_id}/{dataset_id}\"\n",
        "engine = create_engine(f\"bigquery://{project_id}/{dataset_id}\")\n",
        "\n",
        "llm = VertexAI(\n",
        "    model_name='text-bison@001',\n",
        "    max_output_tokens=1024,\n",
        "    temperature=0.1,\n",
        "    top_p=0.8,\n",
        "    top_k=40,\n",
        "    verbose=True,\n",
        "\n",
        ")\n",
        "\n",
        "db = SQLDatabase(engine=engine,metadata=MetaData(bind=engine),include_tables=table_name,sample_rows_in_table_info=10)\n",
        "#chain = sql_database.query.create_sql_query_chain(llm,db,k=100,prompt=)\n",
        "\n",
        "\n"
      ],
      "metadata": {
        "id": "dxfBqjkjyi3-"
      },
      "execution_count": 107,
      "outputs": []
    },
    {
      "cell_type": "code",
      "source": [
        "print(db.get_table_info())"
      ],
      "metadata": {
        "colab": {
          "base_uri": "https://localhost:8080/",
          "height": 182
        },
        "id": "wD1RE3i98rhG",
        "outputId": "893578b8-84d8-43b5-cc36-03c6a183e990"
      },
      "execution_count": null,
      "outputs": [
        {
          "output_type": "error",
          "ename": "NameError",
          "evalue": "ignored",
          "traceback": [
            "\u001b[0;31m---------------------------------------------------------------------------\u001b[0m",
            "\u001b[0;31mNameError\u001b[0m                                 Traceback (most recent call last)",
            "\u001b[0;32m<ipython-input-1-ac2705d852e8>\u001b[0m in \u001b[0;36m<cell line: 1>\u001b[0;34m()\u001b[0m\n\u001b[0;32m----> 1\u001b[0;31m \u001b[0mprint\u001b[0m\u001b[0;34m(\u001b[0m\u001b[0mdb\u001b[0m\u001b[0;34m.\u001b[0m\u001b[0mget_table_info\u001b[0m\u001b[0;34m(\u001b[0m\u001b[0;34m)\u001b[0m\u001b[0;34m)\u001b[0m\u001b[0;34m\u001b[0m\u001b[0;34m\u001b[0m\u001b[0m\n\u001b[0m",
            "\u001b[0;31mNameError\u001b[0m: name 'db' is not defined"
          ]
        }
      ]
    },
    {
      "cell_type": "code",
      "source": [
        "print(db.table_info)"
      ],
      "metadata": {
        "colab": {
          "base_uri": "https://localhost:8080/"
        },
        "id": "5pAA9d6y89Q1",
        "outputId": "8c362105-913a-4f04-b000-bebf9dfcb36f"
      },
      "execution_count": null,
      "outputs": [
        {
          "output_type": "stream",
          "name": "stdout",
          "text": [
            "\n",
            "CREATE TABLE `Mileage` (\n",
            "\t`vehicle_number` STRING, \n",
            "\t`make` STRING, \n",
            "\t`type` STRING, \n",
            "\t`mileage` INT64\n",
            ")\n",
            "\n",
            "/*\n",
            "3 rows from Mileage table:\n",
            "vehicle_number\tmake\ttype\tmileage\n",
            "None\tNone\tNone\tNone\n",
            "None\tNone\tNone\tNone\n",
            "None\tNone\tNone\tNone\n",
            "*/\n",
            "\n",
            "\n",
            "CREATE TABLE `Vehicle_ID_Table` (\n",
            "\t`vehicle_id` INT64, \n",
            "\t`vehicle_number` STRING, \n",
            "\t`smoke_emission` FLOAT64, \n",
            "\t`temperature` INT64\n",
            ")\n",
            "\n",
            "/*\n",
            "3 rows from Vehicle_ID_Table table:\n",
            "vehicle_id\tvehicle_number\tsmoke_emission\ttemperature\n",
            "2\tDEF456\t0.5\t28\n",
            "11\tEFGH789\t0.5\t26\n",
            "20\t012JKL\t0.5\t32\n",
            "*/\n",
            "\n",
            "\n",
            "CREATE TABLE `topSpeed` (\n",
            "\t`vehicle_number` STRING, \n",
            "\t`capacitor` INT64, \n",
            "\t`cc` FLOAT64, \n",
            "\t`top_speed` INT64\n",
            ")\n",
            "\n",
            "/*\n",
            "3 rows from topSpeed table:\n",
            "vehicle_number\tcapacitor\tcc\ttop_speed\n",
            "YZ123\t1000\t1.0\t100\n",
            "123A\t1300\t1.0\t100\n",
            "567YZ1\t1400\t1.1\t105\n",
            "*/\n"
          ]
        }
      ]
    },
    {
      "cell_type": "code",
      "source": [
        "db.dialect"
      ],
      "metadata": {
        "colab": {
          "base_uri": "https://localhost:8080/",
          "height": 35
        },
        "id": "KuYM2YlwtOws",
        "outputId": "011c1926-8b6b-4cb1-c50d-46aef697aa93"
      },
      "execution_count": null,
      "outputs": [
        {
          "output_type": "execute_result",
          "data": {
            "text/plain": [
              "'bigquery'"
            ],
            "application/vnd.google.colaboratory.intrinsic+json": {
              "type": "string"
            }
          },
          "metadata": {},
          "execution_count": 46
        }
      ]
    },
    {
      "cell_type": "code",
      "source": [
        "response = chain.invoke({\"question\": \"How many records are there in all tables\"})\n",
        "print(response)"
      ],
      "metadata": {
        "colab": {
          "base_uri": "https://localhost:8080/"
        },
        "id": "H1YGiYSNT5Nx",
        "outputId": "ac714eae-ecba-4f92-e57c-740e8866dd4b"
      },
      "execution_count": null,
      "outputs": [
        {
          "output_type": "stream",
          "name": "stdout",
          "text": [
            "SELECT count(*) FROM Mileage\n"
          ]
        }
      ]
    },
    {
      "cell_type": "code",
      "source": [
        "response = chain.invoke({\"question\": \"give me the vehilce id with maximum topspeed\"})\n",
        "print(response)"
      ],
      "metadata": {
        "colab": {
          "base_uri": "https://localhost:8080/"
        },
        "id": "OMNTpDznT5P7",
        "outputId": "4e9f296b-756c-42e4-d427-91097b2f1384"
      },
      "execution_count": null,
      "outputs": [
        {
          "output_type": "stream",
          "name": "stdout",
          "text": [
            "SELECT vehicle_id FROM topSpeed ORDER BY top_speed DESC LIMIT 1\n"
          ]
        }
      ]
    },
    {
      "cell_type": "code",
      "source": [
        "from langchain.prompts import PromptTemplate\n",
        "from langchain_experimental.sql import SQLDatabaseChain\n",
        "template = \"\"\" Given an input question, first create a yntactically correct bigquery  to run, then look at the results of the query and return the answer.\n",
        "Unless the user specifies in the question a specific number of examples to obtain, query for at most 10000 results using the LIMIT clause as per BigQuery SQL\n",
        "Be careful to not query for columns that do not exist. Also, pay attention to which column is in which table.\n",
        "\n",
        "Database Description:\n",
        "\n",
        "There are 3 tables: Vehicle_ID, Mileage, and Topspeed.\n",
        "Vehicle_ID contains: vehicle_id (unique numerical identifier), vehicle_number (alphanumeric code), smoke_emission (grams/km), and temperature (degrees Celsius).\n",
        "Topspeed contains: vehicle_number, capacitor (Farads), cc (engine displacement), and top_speed (km/h).\n",
        "Mileage contains: vehicle_number, make (vehicle manufacturer), type (vehicle model), and mileage (km/L).\n",
        "The vehicle_id column is only present in the Vehicle_ID table.\n",
        "\n",
        "Use the following format:\n",
        "\n",
        "Question: \"Question here\"\n",
        "SQLQuery: \"SQL Query to run\"\n",
        "SQLResult: \"Result of the SQLQuery\"\n",
        "Answer: \"Final answer here\"\n",
        "\n",
        "Only use the following tables:\n",
        "\n",
        "'Vehicle_ID_Table','topSpeed','Mileage'\n",
        "\n",
        "Some examples of SQL queries that correspond to questions are:\n",
        "\"Find the average mileage for vehicles with a top speed greater than 200 km/h.\" : \"SELECT AVG(mileage) AS average_mileage FROM Mileage JOIN Topspeed ON Mileage.vehicle_number = Topspeed.vehicle_number WHERE top_speed > 200;\",\n",
        "\"List the vehicle model, make, and capacitor for vehicles with a smoke emission between 40 and 60 grams/km.\": \"SELECT type, make, capacitor FROM Mileage JOIN Vehicle_ID ON Mileage.vehicle_number = Vehicle_ID.vehicle_number WHERE smoke_emission BETWEEN 40 AND 60;\",\n",
        "\"Retrieve the vehicle IDs and temperatures for vehicles with an engine displacement (cc) of 1500 or higher.\" : \"SELECT vehicle_id, temperature FROM Vehicle_ID JOIN Topspeed ON Vehicle_ID.vehicle_number = Topspeed.vehicle_number WHERE cc >= 1500;\",\n",
        "\"Calculate the total number of vehicles with a mileage of less than 15 km/L.\":\"SELECT COUNT(*) AS total_vehicles FROM Mileage WHERE mileage < 15;\",\n",
        "\"Find the highest smoke emission value across all vehicles.\":\"SELECT MAX(smoke_emission) AS highest_smoke_emission FROM Vehicle_ID;\",\n",
        "\"Show the vehicle model with the lowest temperature.\":\"SELECT type AS vehicle_model FROM Mileage JOIN Vehicle_ID ON Mileage.vehicle_number = Vehicle_ID.vehicle_number WHERE temperature = (SELECT MIN(temperature) FROM Vehicle_ID);\"\n",
        "\n",
        "\n",
        "Question: {input}\"\"\"\n",
        "\n",
        "\n",
        "PROMPT = PromptTemplate(input_variables=[\"input\"], template=template,)\n",
        "\n",
        "\n",
        "\n",
        "question = \"give me the vehicle id with maximum topspeed\"\n",
        "\n",
        "#final_prompt = PROMPT.format(input=question, top_k=10000,dialect='bigquery')\n",
        "\n",
        "\n",
        "chain = sql_database.query.create_sql_query_chain(llm, db, k=100, prompt=PROMPT)\n",
        "#chain = sql_database.query.create_sql_query_chain(llm,db,k=100,prompt=final_prompt)\n",
        "\n",
        "\n",
        "#chain(final_prompt)\n",
        "\n",
        "\n",
        "\n",
        "\n",
        "\n",
        "\n"
      ],
      "metadata": {
        "id": "rbVGKjH_kPKw",
        "colab": {
          "base_uri": "https://localhost:8080/",
          "height": 403
        },
        "outputId": "1e38e7fc-32c0-4c86-9ae3-711874a70b06"
      },
      "execution_count": null,
      "outputs": [
        {
          "output_type": "error",
          "ename": "ModuleNotFoundError",
          "evalue": "ignored",
          "traceback": [
            "\u001b[0;31m---------------------------------------------------------------------------\u001b[0m",
            "\u001b[0;31mModuleNotFoundError\u001b[0m                       Traceback (most recent call last)",
            "\u001b[0;32m<ipython-input-13-76b6d7560a35>\u001b[0m in \u001b[0;36m<cell line: 2>\u001b[0;34m()\u001b[0m\n\u001b[1;32m      1\u001b[0m \u001b[0;32mfrom\u001b[0m \u001b[0mlangchain\u001b[0m\u001b[0;34m.\u001b[0m\u001b[0mprompts\u001b[0m \u001b[0;32mimport\u001b[0m \u001b[0mPromptTemplate\u001b[0m\u001b[0;34m\u001b[0m\u001b[0;34m\u001b[0m\u001b[0m\n\u001b[0;32m----> 2\u001b[0;31m \u001b[0;32mfrom\u001b[0m \u001b[0mlangchain_experimental\u001b[0m\u001b[0;34m.\u001b[0m\u001b[0msql\u001b[0m \u001b[0;32mimport\u001b[0m \u001b[0mSQLDatabaseChain\u001b[0m\u001b[0;34m\u001b[0m\u001b[0;34m\u001b[0m\u001b[0m\n\u001b[0m\u001b[1;32m      3\u001b[0m template = \"\"\" Given an input question, first create a yntactically correct bigquery  to run, then look at the results of the query and return the answer.\n\u001b[1;32m      4\u001b[0m \u001b[0mUnless\u001b[0m \u001b[0mthe\u001b[0m \u001b[0muser\u001b[0m \u001b[0mspecifies\u001b[0m \u001b[0;32min\u001b[0m \u001b[0mthe\u001b[0m \u001b[0mquestion\u001b[0m \u001b[0ma\u001b[0m \u001b[0mspecific\u001b[0m \u001b[0mnumber\u001b[0m \u001b[0mof\u001b[0m \u001b[0mexamples\u001b[0m \u001b[0mto\u001b[0m \u001b[0mobtain\u001b[0m\u001b[0;34m,\u001b[0m \u001b[0mquery\u001b[0m \u001b[0;32mfor\u001b[0m \u001b[0mat\u001b[0m \u001b[0mmost\u001b[0m \u001b[0;36m10000\u001b[0m \u001b[0mresults\u001b[0m \u001b[0musing\u001b[0m \u001b[0mthe\u001b[0m \u001b[0mLIMIT\u001b[0m \u001b[0mclause\u001b[0m \u001b[0;32mas\u001b[0m \u001b[0mper\u001b[0m \u001b[0mBigQuery\u001b[0m \u001b[0mSQL\u001b[0m\u001b[0;34m\u001b[0m\u001b[0;34m\u001b[0m\u001b[0m\n\u001b[1;32m      5\u001b[0m \u001b[0mBe\u001b[0m \u001b[0mcareful\u001b[0m \u001b[0mto\u001b[0m \u001b[0;32mnot\u001b[0m \u001b[0mquery\u001b[0m \u001b[0;32mfor\u001b[0m \u001b[0mcolumns\u001b[0m \u001b[0mthat\u001b[0m \u001b[0mdo\u001b[0m \u001b[0;32mnot\u001b[0m \u001b[0mexist\u001b[0m\u001b[0;34m.\u001b[0m \u001b[0mAlso\u001b[0m\u001b[0;34m,\u001b[0m \u001b[0mpay\u001b[0m \u001b[0mattention\u001b[0m \u001b[0mto\u001b[0m \u001b[0mwhich\u001b[0m \u001b[0mcolumn\u001b[0m \u001b[0;32mis\u001b[0m \u001b[0;32min\u001b[0m \u001b[0mwhich\u001b[0m \u001b[0mtable\u001b[0m\u001b[0;34m.\u001b[0m\u001b[0;34m\u001b[0m\u001b[0;34m\u001b[0m\u001b[0m\n",
            "\u001b[0;31mModuleNotFoundError\u001b[0m: No module named 'langchain_experimental'",
            "",
            "\u001b[0;31m---------------------------------------------------------------------------\u001b[0;32m\nNOTE: If your import is failing due to a missing package, you can\nmanually install dependencies using either !pip or !apt.\n\nTo view examples of installing some common dependencies, click the\n\"Open Examples\" button below.\n\u001b[0;31m---------------------------------------------------------------------------\u001b[0m\n"
          ],
          "errorDetails": {
            "actions": [
              {
                "action": "open_url",
                "actionText": "Open Examples",
                "url": "/notebooks/snippets/importing_libraries.ipynb"
              }
            ]
          }
        }
      ]
    },
    {
      "cell_type": "code",
      "source": [
        "response = chain.invoke({\"question\": \"give me the vehicle id with maximum topspeed\"})"
      ],
      "metadata": {
        "id": "g1Cz5_hcw0M7"
      },
      "execution_count": null,
      "outputs": []
    },
    {
      "cell_type": "code",
      "source": [
        "print(response)"
      ],
      "metadata": {
        "colab": {
          "base_uri": "https://localhost:8080/"
        },
        "id": "XV6p_o0H39Bg",
        "outputId": "190df2dd-4104-4dea-84d5-4cdf44088343"
      },
      "execution_count": null,
      "outputs": [
        {
          "output_type": "stream",
          "name": "stdout",
          "text": [
            "SELECT vehicle_id FROM Topspeed ORDER BY top_speed DESC LIMIT 1;\n"
          ]
        }
      ]
    },
    {
      "cell_type": "code",
      "source": [
        "PROMPT"
      ],
      "metadata": {
        "colab": {
          "base_uri": "https://localhost:8080/"
        },
        "id": "jnwfFZ6e2Q1-",
        "outputId": "87109990-788e-433a-adbb-6abfc85184cf"
      },
      "execution_count": null,
      "outputs": [
        {
          "output_type": "execute_result",
          "data": {
            "text/plain": [
              "PromptTemplate(input_variables=['dialect', 'input', 'table_info', 'top_k'], template=' Given an input question, first create a yntactically correct {dialect} query to run, then look at the results of the query and return the answer.\\nUnless the user specifies in the question a specific number of examples to obtain, query for at most {top_k} results using the LIMIT clause as per BigQuery SQL\\nBe careful to not query for columns that do not exist. Also, pay attention to which column is in which table.\\n\\nDatabase Description:\\n\\nThere are 3 tables: Vehicle_ID, Mileage, and Topspeed.\\nVehicle_ID contains: vehicle_id (unique numerical identifier), vehicle_number (alphanumeric code), smoke_emission (grams/km), and temperature (degrees Celsius).\\nTopspeed contains: vehicle_number, capacitor (Farads), cc (engine displacement), and top_speed (km/h).\\nMileage contains: vehicle_number, make (vehicle manufacturer), type (vehicle model), and mileage (km/L).\\nThe vehicle_id column is only present in the Vehicle_ID table.\\n\\nUse the following format:\\n\\nQuestion: \"Question here\"\\nSQLQuery: \"SQL Query to run\"\\nSQLResult: \"Result of the SQLQuery\"\\nAnswer: \"Final answer here\"\\n\\nOnly use the following tables:\\n\\n{table_info}\\n\\nSome examples of SQL queries that correspond to questions are:\\n\"Find the average mileage for vehicles with a top speed greater than 200 km/h.\" : \"SELECT AVG(mileage) AS average_mileage FROM Mileage JOIN Topspeed ON Mileage.vehicle_number = Topspeed.vehicle_number WHERE top_speed > 200;\",\\n\"List the vehicle model, make, and capacitor for vehicles with a smoke emission between 40 and 60 grams/km.\": \"SELECT type, make, capacitor FROM Mileage JOIN Vehicle_ID ON Mileage.vehicle_number = Vehicle_ID.vehicle_number WHERE smoke_emission BETWEEN 40 AND 60;\",\\n\"Retrieve the vehicle IDs and temperatures for vehicles with an engine displacement (cc) of 1500 or higher.\" : \"SELECT vehicle_id, temperature FROM Vehicle_ID JOIN Topspeed ON Vehicle_ID.vehicle_number = Topspeed.vehicle_number WHERE cc >= 1500;\",\\n\"Calculate the total number of vehicles with a mileage of less than 15 km/L.\":\"SELECT COUNT(*) AS total_vehicles FROM Mileage WHERE mileage < 15;\",\\n\"Find the highest smoke emission value across all vehicles.\":\"SELECT MAX(smoke_emission) AS highest_smoke_emission FROM Vehicle_ID;\",\\n\"Show the vehicle model with the lowest temperature.\":\"SELECT type AS vehicle_model FROM Mileage JOIN Vehicle_ID ON Mileage.vehicle_number = Vehicle_ID.vehicle_number WHERE temperature = (SELECT MIN(temperature) FROM Vehicle_ID);\"\\n\\n\\nQuestion: {input}')"
            ]
          },
          "metadata": {},
          "execution_count": 12
        }
      ]
    },
    {
      "cell_type": "code",
      "source": [
        "print(type(chain))"
      ],
      "metadata": {
        "colab": {
          "base_uri": "https://localhost:8080/"
        },
        "id": "dEGYikdj1PDR",
        "outputId": "b43a7b64-5a08-434b-fc80-866ade36e145"
      },
      "execution_count": null,
      "outputs": [
        {
          "output_type": "stream",
          "name": "stdout",
          "text": [
            "<class 'langchain_core.runnables.base.RunnableSequence'>\n"
          ]
        }
      ]
    },
    {
      "cell_type": "code",
      "source": [
        "print(final_prompt)"
      ],
      "metadata": {
        "colab": {
          "base_uri": "https://localhost:8080/"
        },
        "id": "NwhmV9zytou7",
        "outputId": "7da4613e-cb73-4a15-ccce-d7c969b1a681"
      },
      "execution_count": null,
      "outputs": [
        {
          "output_type": "stream",
          "name": "stdout",
          "text": [
            " Given an input question, first create a yntactically correct bigquery query to run, then look at the results of the query and return the answer.\n",
            "Unless the user specifies in the question a specific number of examples to obtain, query for at most 10000 results using the LIMIT clause as per BigQuery SQL\n",
            "Be careful to not query for columns that do not exist. Also, pay attention to which column is in which table.\n",
            "\n",
            "Database Description:\n",
            "\n",
            "There are 3 tables: Vehicle_ID, Mileage, and Topspeed.\n",
            "Vehicle_ID contains: vehicle_id (unique numerical identifier), vehicle_number (alphanumeric code), smoke_emission (grams/km), and temperature (degrees Celsius).\n",
            "Topspeed contains: vehicle_number, capacitor (Farads), cc (engine displacement), and top_speed (km/h).\n",
            "Mileage contains: vehicle_number, make (vehicle manufacturer), type (vehicle model), and mileage (km/L).\n",
            "The vehicle_id column is only present in the Vehicle_ID table.\n",
            "\n",
            "Use the following format:\n",
            "\n",
            "Question: \"Question here\"\n",
            "SQLQuery: \"SQL Query to run\"\n",
            "SQLResult: \"Result of the SQLQuery\"\n",
            "Answer: \"Final answer here\"\n",
            "\n",
            "Only use the following tables:\n",
            "\n",
            "['Vehicle_ID_Table', 'topSpeed', 'Mileage']\n",
            "\n",
            "Some examples of SQL queries that correspond to questions are:\n",
            "\"Find the average mileage for vehicles with a top speed greater than 200 km/h.\" : \"SELECT AVG(mileage) AS average_mileage FROM Mileage JOIN Topspeed ON Mileage.vehicle_number = Topspeed.vehicle_number WHERE top_speed > 200;\",\n",
            "\"List the vehicle model, make, and capacitor for vehicles with a smoke emission between 40 and 60 grams/km.\": \"SELECT type, make, capacitor FROM Mileage JOIN Vehicle_ID ON Mileage.vehicle_number = Vehicle_ID.vehicle_number WHERE smoke_emission BETWEEN 40 AND 60;\",\n",
            "\"Retrieve the vehicle IDs and temperatures for vehicles with an engine displacement (cc) of 1500 or higher.\" : \"SELECT vehicle_id, temperature FROM Vehicle_ID JOIN Topspeed ON Vehicle_ID.vehicle_number = Topspeed.vehicle_number WHERE cc >= 1500;\",\n",
            "\"Calculate the total number of vehicles with a mileage of less than 15 km/L.\":\"SELECT COUNT(*) AS total_vehicles FROM Mileage WHERE mileage < 15;\",\n",
            "\"Find the highest smoke emission value across all vehicles.\":\"SELECT MAX(smoke_emission) AS highest_smoke_emission FROM Vehicle_ID;\",\n",
            "\"Show the vehicle model with the lowest temperature.\":\"SELECT type AS vehicle_model FROM Mileage JOIN Vehicle_ID ON Mileage.vehicle_number = Vehicle_ID.vehicle_number WHERE temperature = (SELECT MIN(temperature) FROM Vehicle_ID);\"\n",
            "\n",
            "\n",
            "Question: give me the vehicle id with maximum topspeed\n"
          ]
        }
      ]
    },
    {
      "cell_type": "code",
      "source": [
        "table_name"
      ],
      "metadata": {
        "colab": {
          "base_uri": "https://localhost:8080/"
        },
        "id": "ypPrg3jJl1yo",
        "outputId": "aad78ce5-5e81-4507-bada-0cc875544d98"
      },
      "execution_count": null,
      "outputs": [
        {
          "output_type": "execute_result",
          "data": {
            "text/plain": [
              "['Vehicle_ID_Table', 'topSpeed', 'Mileage']"
            ]
          },
          "metadata": {},
          "execution_count": 31
        }
      ]
    },
    {
      "cell_type": "code",
      "source": [
        "prompt = {\n",
        "    \"database_description\": \"There are 3 tables: Vehicle_ID, Mileage, and Topspeed. To identify the vehicle_id, it needs to be joined with the vehicle_number column in other tables.\\nVehicle_ID contains: vehicle_id (unique numerical identifier), vehicle_number (alphanumeric code), smoke_emission (grams/km), and temperature (degrees Celsius).\\nTopspeed contains: vehicle_number, capacitor (Farads), cc (engine displacement), and top_speed (km/h).\\nMileage contains: vehicle_number, make (vehicle manufacturer), type (vehicle model), and mileage (km/L).\",\n",
        "    \"example_queries\": [\n",
        "        {\n",
        "            \"natural_language_query\": \"Find the average mileage for vehicles with a top speed greater than 200 km/h.\",\n",
        "            \"sql_query\": \"SELECT AVG(mileage) AS average_mileage FROM Mileage JOIN Topspeed ON Mileage.vehicle_number = Topspeed.vehicle_number WHERE top_speed > 200;\"\n",
        "        },\n",
        "        # ... other example queries\n",
        "    ],\n",
        "    \"query\": \"Your natural language query here\"\n",
        "}\n"
      ],
      "metadata": {
        "id": "n41Pd2rlT5Sp"
      },
      "execution_count": null,
      "outputs": []
    },
    {
      "cell_type": "code",
      "source": [
        "Database Description:\n",
        "\n",
        "There are 3 tables: Vehicle_ID, Mileage, and Topspeed.\n",
        "Vehicle_ID contains: vehicle_id (unique numerical identifier), vehicle_number (alphanumeric code), smoke_emission (grams/km), and temperature (degrees Celsius).\n",
        "Topspeed contains: vehicle_number, capacitor (Farads), cc (engine displacement), and top_speed (km/h).\n",
        "Mileage contains: vehicle_number, make (vehicle manufacturer), type (vehicle model), and mileage (km/L).\n",
        "The vehicle_id column is only present in the Vehicle_ID table.\n",
        "\n",
        "Natural Language Query: \"Find the average mileage for vehicles with a top speed greater than 200 km/h.\" SQL Query: ```sql SELECT AVG(mileage) AS average_mileage FROM Mileage JOIN Topspeed ON Mileage.vehicle_number = Topspeed.vehicle_number WHERE top_speed > 200;\n",
        "\n",
        "Natural Language Query: \"List the vehicle model, make, and capacitor for vehicles with a smoke emission between 40 and 60 grams/km.\" SQL Query: ```sql SELECT type, make, capacitor FROM Mileage JOIN Vehicle_ID ON Mileage.vehicle_number = Vehicle_ID.vehicle_number WHERE smoke_emission BETWEEN 40 AND 60;\n",
        "\n",
        "Natural Language Query: \"Retrieve the vehicle IDs and temperatures for vehicles with an engine displacement (cc) of 1500 or higher.\" SQL Query: ```sql SELECT vehicle_id, temperature FROM Vehicle_ID JOIN Topspeed ON Vehicle_ID.vehicle_number = Topspeed.vehicle_number WHERE cc >= 1500;\n",
        "\n",
        "Natural Language Query: \"Calculate the total number of vehicles with a mileage of less than 15 km/L.\" SQL Query: ```sql SELECT COUNT(*) AS total_vehicles FROM Mileage WHERE mileage < 15;\n",
        "\n",
        "Natural Language Query: \"Find the highest smoke emission value across all vehicles.\" SQL Query: ```sql SELECT MAX(smoke_emission) AS highest_smoke_emission FROM Vehicle_ID;\n",
        "\n",
        "Natural Language Query: \"Show the vehicle model with the lowest temperature.\" SQL Query: ```sql SELECT type AS vehicle_model FROM Mileage JOIN Vehicle_ID ON Mileage.vehicle_number = Vehicle_ID.vehicle_number WHERE temperature = (SELECT MIN(temperature) FROM Vehicle_ID);\n",
        "\n"
      ],
      "metadata": {
        "id": "eBmtnVpjT5Vd"
      },
      "execution_count": null,
      "outputs": []
    },
    {
      "cell_type": "markdown",
      "source": [
        "##using Chain methods and increased prompt with few parameters updates\n"
      ],
      "metadata": {
        "id": "bqSYL9MXMy3Z"
      }
    },
    {
      "cell_type": "code",
      "source": [
        "from langchain import SQLDatabase\n",
        "#from langchain.chains import sql_database\n",
        "from google.cloud import aiplatform\n",
        "from langchain.llms import VertexAI\n",
        "import vertexai\n",
        "PROJECT_ID = \"iron-decorator-297513\"\n",
        "LOCATION = \"us-central1\"\n",
        "aiplatform.init(project=PROJECT_ID, location=LOCATION)\n",
        "vertexai.init(project=PROJECT_ID, location=LOCATION)\n",
        "from sqlalchemy import *\n",
        "from sqlalchemy.engine import create_engine\n",
        "from sqlalchemy.schema import *\n",
        "import pandas as pd\n",
        "\n",
        "\n",
        "project_id = \"iron-decorator-297513\"\n",
        "LOCATION = \"us-central1\"\n",
        "dataset_id = 'tg_Dataste'\n",
        "table_name = ['Vehicle_ID_Table','topSpeed','Mileage']\n",
        "table_uri = f\"bigquery://{project_id}/{dataset_id}\"\n",
        "engine = create_engine(f\"bigquery://{project_id}/{dataset_id}\")\n",
        "\n",
        "llm = VertexAI(\n",
        "    model_name='text-bison@001',\n",
        "    max_output_tokens=1024,\n",
        "    temperature=0.1,\n",
        "    top_p=0.8,\n",
        "    top_k=40,\n",
        "    verbose=True,\n",
        ")\n",
        "\n",
        "db = SQLDatabase(engine=engine,metadata=MetaData(bind=engine),include_tables=table_name,sample_rows_in_table_info=10)"
      ],
      "metadata": {
        "id": "8mr-dG5Zbouz"
      },
      "execution_count": null,
      "outputs": []
    },
    {
      "cell_type": "code",
      "source": [
        "print(db.table_info)"
      ],
      "metadata": {
        "colab": {
          "base_uri": "https://localhost:8080/"
        },
        "id": "WY2e2Ll0b4VL",
        "outputId": "81ea2ffd-d558-4141-d748-3a21cb5b3027"
      },
      "execution_count": null,
      "outputs": [
        {
          "output_type": "stream",
          "name": "stdout",
          "text": [
            "\n",
            "CREATE TABLE `Mileage` (\n",
            "\t`vehicle_number` STRING, \n",
            "\t`make` STRING, \n",
            "\t`type` STRING, \n",
            "\t`mileage` INT64\n",
            ")\n",
            "\n",
            "/*\n",
            "10 rows from Mileage table:\n",
            "vehicle_number\tmake\ttype\tmileage\n",
            "DEF456\tHonda\tSUV\t45\n",
            "MNOP\tSkoda\tSUV\t52\n",
            "678PQR\tAcura\tSUV\t49\n",
            "456DEF\tLand Rover\tSUV\t85\n",
            "890ABCD\tMini\tSUV\t46\n",
            "PQR678\tNissan\tVan\t59\n",
            "JKL012\tChevrolet\tCoupe\t34\n",
            "234VWX\tMitsubishi\tSedan\t35\n",
            "TUVW\tPeugeot\tSedan\t27\n",
            "ABC123\tToyota\tSedan\t78\n",
            "*/\n",
            "\n",
            "\n",
            "CREATE TABLE `Vehicle_ID_Table` (\n",
            "\t`vehicle_id` INT64, \n",
            "\t`vehicle_number` STRING, \n",
            "\t`smoke_emission` FLOAT64, \n",
            "\t`temperature` INT64\n",
            ")\n",
            "\n",
            "/*\n",
            "10 rows from Vehicle_ID_Table table:\n",
            "vehicle_id\tvehicle_number\tsmoke_emission\ttemperature\n",
            "2\tDEF456\t0.5\t28\n",
            "11\tEFGH789\t0.5\t26\n",
            "20\t012JKL\t0.5\t32\n",
            "28\t456IJKL\t0.5\t23\n",
            "1\tABC123\t0.3\t32\n",
            "14\tQRST678\t0.3\t30\n",
            "22\t678PQR\t0.3\t37\n",
            "30\t012QRST\t0.3\t28\n",
            "8\tVWX234\t0.6\t29\n",
            "17\t123ABC\t0.6\t21\n",
            "*/\n",
            "\n",
            "\n",
            "CREATE TABLE `topSpeed` (\n",
            "\t`vehicle_number` STRING, \n",
            "\t`capacitor` INT64, \n",
            "\t`cc` FLOAT64, \n",
            "\t`top_speed` INT64\n",
            ")\n",
            "\n",
            "/*\n",
            "10 rows from topSpeed table:\n",
            "vehicle_number\tcapacitor\tcc\ttop_speed\n",
            "YZ123\t1000\t1.0\t100\n",
            "123A\t1300\t1.0\t100\n",
            "567YZ1\t1400\t1.1\t105\n",
            "123ABC\t1500\t1.3\t110\n",
            "MNOP\t1600\t1.4\t110\n",
            "MNOP345\t1800\t1.4\t115\n",
            "JKL012\t1500\t1.2\t120\n",
            "345MNO\t1700\t1.5\t120\n",
            "123EFGH\t2000\t1.6\t125\n",
            "789C\t2200\t1.7\t125\n",
            "*/\n"
          ]
        }
      ]
    },
    {
      "cell_type": "code",
      "source": [
        "db_chain = SQLDatabaseChain.from_llm(llm, db, verbose=True, return_intermediate_steps=True,use_query_checker=True)"
      ],
      "metadata": {
        "id": "mzGMGDNjbpdq"
      },
      "execution_count": null,
      "outputs": []
    },
    {
      "cell_type": "code",
      "source": [
        "from langchain.prompts import PromptTemplate"
      ],
      "metadata": {
        "id": "my5X6i44rMtj"
      },
      "execution_count": 38,
      "outputs": []
    },
    {
      "cell_type": "code",
      "source": [
        "from langchain.prompts import PromptTemplate\n",
        "#from langchain import SQLDatabase\n",
        "\n",
        "template = \"\"\" Given an input question, first create a syntactically correct bigquery  to run, then look at the results of the query and return the answer.\n",
        "Unless the user specifies in the question a specific number of examples to obtain, query for at most 10000 results using the LIMIT clause as per BigQuery SQL\n",
        "Be careful to not query for columns that do not exist. Also, pay attention to which column is in which table.\n",
        "\n",
        "when ever the question is about Vehicle_ID first do the join with the Vehicle_ID table using Vehicle number\n",
        "\n",
        "Database Description:\n",
        "\n",
        "There are 3 tables: Vehicle_ID, Mileage, and Topspeed.\n",
        "Vehicle_ID contains: vehicle_id (unique numerical identifier), vehicle_number (alphanumeric code), smoke_emission (grams/km), and temperature (degrees Celsius).\n",
        "Topspeed contains: vehicle_number, capacitor (Farads), cc (engine displacement), and top_speed (km/h).\n",
        "Mileage contains: vehicle_number, make (vehicle manufacturer), type (vehicle model), and mileage (km/L).\n",
        "The vehicle_id column is only present in the Vehicle_ID table.\n",
        "\n",
        "Use the following format:\n",
        "\n",
        "Question: \"Question here\"\n",
        "SQLQuery: \"SQL Query to run\"\n",
        "SQLResult: \"Result of the SQLQuery\"\n",
        "Answer: \"Final answer here\"\n",
        "\n",
        "Only use the following tables:\n",
        "\n",
        "'Vehicle_ID_Table','topSpeed','Mileage'\n",
        "\n",
        "Some examples of SQL queries that correspond to questions are:\n",
        "\"Find the average mileage for vehicles with a top speed greater than 200 km/h.\" : \"SELECT AVG(mileage) AS average_mileage FROM Mileage JOIN Topspeed ON Mileage.vehicle_number = Topspeed.vehicle_number WHERE top_speed > 200;\",\n",
        "\"List the vehicle model, make, and capacitor for vehicles with a smoke emission between 40 and 60 grams/km.\": \"SELECT type, make, capacitor FROM Mileage JOIN Vehicle_ID_Table ON Mileage.vehicle_number = Vehicle_ID_Table.vehicle_number WHERE smoke_emission BETWEEN 40 AND 60;\",\n",
        "\"Retrieve the vehicle IDs and temperatures for vehicles with an engine displacement (cc) of 1500 or higher.\" : \"SELECT vehicle_id, temperature FROM Vehicle_ID_Table JOIN Topspeed ON Vehicle_ID_Table.vehicle_number = Topspeed.vehicle_number WHERE cc >= 1500;\",\n",
        "\"Calculate the total number of vehicles with a mileage of less than 15 km/L.\":\"SELECT COUNT(*) AS total_vehicles FROM Mileage WHERE mileage < 15;\",\n",
        "\"Find the highest smoke emission value across all vehicles.\":\"SELECT MAX(smoke_emission) AS highest_smoke_emission FROM Vehicle_ID_Table;\",\n",
        "\"Show the vehicle model with the lowest temperature.\":\"SELECT type AS vehicle_model FROM Mileage JOIN Vehicle_ID_Table ON Mileage.vehicle_number = Vehicle_ID_Table.vehicle_number WHERE temperature = (SELECT MIN(temperature) FROM Vehicle_ID);\"\n",
        "\n",
        "\n",
        "Question: {input}\"\"\"\n",
        "\n",
        "PROMPT = PromptTemplate(input_variables=[\"input\"], template=template,)\n"
      ],
      "metadata": {
        "id": "6Rl72agnT5Xw"
      },
      "execution_count": null,
      "outputs": []
    },
    {
      "cell_type": "code",
      "source": [
        "db_chain = SQLDatabaseChain.from_llm(llm, db, verbose=True, return_intermediate_steps=True,use_query_checker=True,prompt=PROMPT)"
      ],
      "metadata": {
        "id": "GArqrj4Ski5q"
      },
      "execution_count": null,
      "outputs": []
    },
    {
      "cell_type": "code",
      "source": [
        "!pip install -U langchain langchain_experimental"
      ],
      "metadata": {
        "id": "M6ebv6_Fh71z"
      },
      "execution_count": null,
      "outputs": []
    },
    {
      "cell_type": "code",
      "source": [
        "db_chain"
      ],
      "metadata": {
        "id": "vzVmRN34T5e9",
        "colab": {
          "base_uri": "https://localhost:8080/"
        },
        "outputId": "e18de7da-97e8-4c34-ce73-34f728c063ef"
      },
      "execution_count": null,
      "outputs": [
        {
          "output_type": "execute_result",
          "data": {
            "text/plain": [
              "SQLDatabaseChain(verbose=True, llm_chain=LLMChain(prompt=PromptTemplate(input_variables=['input'], template=' Given an input question, first create a yntactically correct bigquery  to run, then look at the results of the query and return the answer.\\nUnless the user specifies in the question a specific number of examples to obtain, query for at most 10000 results using the LIMIT clause as per BigQuery SQL\\nBe careful to not query for columns that do not exist. Also, pay attention to which column is in which table.\\n\\nwhen ever the question is about Vehicle_ID first do the join with the Vehicle_ID table using Vehicle number\\n\\nDatabase Description:\\n\\nThere are 3 tables: Vehicle_ID, Mileage, and Topspeed.\\nVehicle_ID contains: vehicle_id (unique numerical identifier), vehicle_number (alphanumeric code), smoke_emission (grams/km), and temperature (degrees Celsius).\\nTopspeed contains: vehicle_number, capacitor (Farads), cc (engine displacement), and top_speed (km/h).\\nMileage contains: vehicle_number, make (vehicle manufacturer), type (vehicle model), and mileage (km/L).\\nThe vehicle_id column is only present in the Vehicle_ID table.\\n\\nUse the following format:\\n\\nQuestion: \"Question here\"\\nSQLQuery: \"SQL Query to run\"\\nSQLResult: \"Result of the SQLQuery\"\\nAnswer: \"Final answer here\"\\n\\nOnly use the following tables:\\n\\n\\'Vehicle_ID_Table\\',\\'topSpeed\\',\\'Mileage\\'\\n\\nSome examples of SQL queries that correspond to questions are:\\n\"Find the average mileage for vehicles with a top speed greater than 200 km/h.\" : \"SELECT AVG(mileage) AS average_mileage FROM Mileage JOIN Topspeed ON Mileage.vehicle_number = Topspeed.vehicle_number WHERE top_speed > 200;\",\\n\"List the vehicle model, make, and capacitor for vehicles with a smoke emission between 40 and 60 grams/km.\": \"SELECT type, make, capacitor FROM Mileage JOIN Vehicle_ID_Table ON Mileage.vehicle_number = Vehicle_ID_Table.vehicle_number WHERE smoke_emission BETWEEN 40 AND 60;\",\\n\"Retrieve the vehicle IDs and temperatures for vehicles with an engine displacement (cc) of 1500 or higher.\" : \"SELECT vehicle_id, temperature FROM Vehicle_ID_Table JOIN Topspeed ON Vehicle_ID_Table.vehicle_number = Topspeed.vehicle_number WHERE cc >= 1500;\",\\n\"Calculate the total number of vehicles with a mileage of less than 15 km/L.\":\"SELECT COUNT(*) AS total_vehicles FROM Mileage WHERE mileage < 15;\",\\n\"Find the highest smoke emission value across all vehicles.\":\"SELECT MAX(smoke_emission) AS highest_smoke_emission FROM Vehicle_ID_Table;\",\\n\"Show the vehicle model with the lowest temperature.\":\"SELECT type AS vehicle_model FROM Mileage JOIN Vehicle_ID_Table ON Mileage.vehicle_number = Vehicle_ID_Table.vehicle_number WHERE temperature = (SELECT MIN(temperature) FROM Vehicle_ID);\"\\n\\n\\nQuestion: {input}'), llm=VertexAI(verbose=True, model_name='text-bison@001', client=<vertexai.language_models.TextGenerationModel object at 0x78a2338d2560>, client_preview=<vertexai.preview.language_models._PreviewTextGenerationModel object at 0x78a2338d2e00>, temperature=0.1, max_output_tokens=1024, top_p=0.8)), database=<langchain_community.utilities.sql_database.SQLDatabase object at 0x78a2338d3640>, return_intermediate_steps=True, use_query_checker=True)"
            ]
          },
          "metadata": {},
          "execution_count": 28
        }
      ]
    },
    {
      "cell_type": "code",
      "source": [
        "db_chain(\"give me the vehicle id with maximum Temperature\")"
      ],
      "metadata": {
        "id": "hxjHG5EgT5hW",
        "colab": {
          "base_uri": "https://localhost:8080/"
        },
        "outputId": "7b130f39-cf05-4387-d56a-2a3772127aa6"
      },
      "execution_count": null,
      "outputs": [
        {
          "output_type": "stream",
          "name": "stdout",
          "text": [
            "\n",
            "\n",
            "\u001b[1m> Entering new SQLDatabaseChain chain...\u001b[0m\n",
            "give me the vehicle id with maximum Temperature\n",
            "SQLQuery:\u001b[32;1m\u001b[1;3mSELECT vehicle_id FROM Vehicle_ID_Table ORDER BY temperature DESC LIMIT 1;\u001b[0m\n",
            "SQLResult: \u001b[33;1m\u001b[1;3m[(16,)]\u001b[0m\n",
            "Answer:\u001b[32;1m\u001b[1;3m16\u001b[0m\n",
            "\u001b[1m> Finished chain.\u001b[0m\n"
          ]
        },
        {
          "output_type": "execute_result",
          "data": {
            "text/plain": [
              "{'query': 'give me the vehicle id with maximum Temperature',\n",
              " 'result': '16',\n",
              " 'intermediate_steps': [{'input': 'give me the vehicle id with maximum Temperature\\nSQLQuery:',\n",
              "   'top_k': '5',\n",
              "   'dialect': 'bigquery',\n",
              "   'table_info': '\\nCREATE TABLE `Mileage` (\\n\\t`vehicle_number` STRING, \\n\\t`make` STRING, \\n\\t`type` STRING, \\n\\t`mileage` INT64\\n)\\n\\n/*\\n10 rows from Mileage table:\\nvehicle_number\\tmake\\ttype\\tmileage\\nDEF456\\tHonda\\tSUV\\t45\\nMNOP\\tSkoda\\tSUV\\t52\\n678PQR\\tAcura\\tSUV\\t49\\n456DEF\\tLand Rover\\tSUV\\t85\\n890ABCD\\tMini\\tSUV\\t46\\nPQR678\\tNissan\\tVan\\t59\\nJKL012\\tChevrolet\\tCoupe\\t34\\n234VWX\\tMitsubishi\\tSedan\\t35\\nTUVW\\tPeugeot\\tSedan\\t27\\nABC123\\tToyota\\tSedan\\t78\\n*/\\n\\n\\nCREATE TABLE `Vehicle_ID_Table` (\\n\\t`vehicle_id` INT64, \\n\\t`vehicle_number` STRING, \\n\\t`smoke_emission` FLOAT64, \\n\\t`temperature` INT64\\n)\\n\\n/*\\n10 rows from Vehicle_ID_Table table:\\nvehicle_id\\tvehicle_number\\tsmoke_emission\\ttemperature\\n2\\tDEF456\\t0.5\\t28\\n11\\tEFGH789\\t0.5\\t26\\n20\\t012JKL\\t0.5\\t32\\n28\\t456IJKL\\t0.5\\t23\\n1\\tABC123\\t0.3\\t32\\n14\\tQRST678\\t0.3\\t30\\n22\\t678PQR\\t0.3\\t37\\n30\\t012QRST\\t0.3\\t28\\n8\\tVWX234\\t0.6\\t29\\n17\\t123ABC\\t0.6\\t21\\n*/\\n\\n\\nCREATE TABLE `topSpeed` (\\n\\t`vehicle_number` STRING, \\n\\t`capacitor` INT64, \\n\\t`cc` FLOAT64, \\n\\t`top_speed` INT64\\n)\\n\\n/*\\n10 rows from topSpeed table:\\nvehicle_number\\tcapacitor\\tcc\\ttop_speed\\nYZ123\\t1000\\t1.0\\t100\\n123A\\t1300\\t1.0\\t100\\n567YZ1\\t1400\\t1.1\\t105\\n123ABC\\t1500\\t1.3\\t110\\nMNOP\\t1600\\t1.4\\t110\\nMNOP345\\t1800\\t1.4\\t115\\nJKL012\\t1500\\t1.2\\t120\\n345MNO\\t1700\\t1.5\\t120\\n123EFGH\\t2000\\t1.6\\t125\\n789C\\t2200\\t1.7\\t125\\n*/',\n",
              "   'stop': ['\\nSQLResult:']},\n",
              "  'SELECT vehicle_id FROM Vehicle_ID_Table ORDER BY temperature DESC LIMIT 1;',\n",
              "  {'sql_cmd': 'SELECT vehicle_id FROM Vehicle_ID_Table ORDER BY temperature DESC LIMIT 1;'},\n",
              "  '[(16,)]',\n",
              "  {'input': 'give me the vehicle id with maximum Temperature\\nSQLQuery:SELECT vehicle_id FROM Vehicle_ID_Table ORDER BY temperature DESC LIMIT 1;\\nSQLResult: [(16,)]\\nAnswer:',\n",
              "   'top_k': '5',\n",
              "   'dialect': 'bigquery',\n",
              "   'table_info': '\\nCREATE TABLE `Mileage` (\\n\\t`vehicle_number` STRING, \\n\\t`make` STRING, \\n\\t`type` STRING, \\n\\t`mileage` INT64\\n)\\n\\n/*\\n10 rows from Mileage table:\\nvehicle_number\\tmake\\ttype\\tmileage\\nDEF456\\tHonda\\tSUV\\t45\\nMNOP\\tSkoda\\tSUV\\t52\\n678PQR\\tAcura\\tSUV\\t49\\n456DEF\\tLand Rover\\tSUV\\t85\\n890ABCD\\tMini\\tSUV\\t46\\nPQR678\\tNissan\\tVan\\t59\\nJKL012\\tChevrolet\\tCoupe\\t34\\n234VWX\\tMitsubishi\\tSedan\\t35\\nTUVW\\tPeugeot\\tSedan\\t27\\nABC123\\tToyota\\tSedan\\t78\\n*/\\n\\n\\nCREATE TABLE `Vehicle_ID_Table` (\\n\\t`vehicle_id` INT64, \\n\\t`vehicle_number` STRING, \\n\\t`smoke_emission` FLOAT64, \\n\\t`temperature` INT64\\n)\\n\\n/*\\n10 rows from Vehicle_ID_Table table:\\nvehicle_id\\tvehicle_number\\tsmoke_emission\\ttemperature\\n2\\tDEF456\\t0.5\\t28\\n11\\tEFGH789\\t0.5\\t26\\n20\\t012JKL\\t0.5\\t32\\n28\\t456IJKL\\t0.5\\t23\\n1\\tABC123\\t0.3\\t32\\n14\\tQRST678\\t0.3\\t30\\n22\\t678PQR\\t0.3\\t37\\n30\\t012QRST\\t0.3\\t28\\n8\\tVWX234\\t0.6\\t29\\n17\\t123ABC\\t0.6\\t21\\n*/\\n\\n\\nCREATE TABLE `topSpeed` (\\n\\t`vehicle_number` STRING, \\n\\t`capacitor` INT64, \\n\\t`cc` FLOAT64, \\n\\t`top_speed` INT64\\n)\\n\\n/*\\n10 rows from topSpeed table:\\nvehicle_number\\tcapacitor\\tcc\\ttop_speed\\nYZ123\\t1000\\t1.0\\t100\\n123A\\t1300\\t1.0\\t100\\n567YZ1\\t1400\\t1.1\\t105\\n123ABC\\t1500\\t1.3\\t110\\nMNOP\\t1600\\t1.4\\t110\\nMNOP345\\t1800\\t1.4\\t115\\nJKL012\\t1500\\t1.2\\t120\\n345MNO\\t1700\\t1.5\\t120\\n123EFGH\\t2000\\t1.6\\t125\\n789C\\t2200\\t1.7\\t125\\n*/',\n",
              "   'stop': ['\\nSQLResult:']},\n",
              "  '16']}"
            ]
          },
          "metadata": {},
          "execution_count": 29
        }
      ]
    },
    {
      "cell_type": "code",
      "source": [],
      "metadata": {
        "id": "xbgItyvw4vxI"
      },
      "execution_count": null,
      "outputs": []
    },
    {
      "cell_type": "code",
      "source": [
        "db_chain(\"give me the vehicle id with maximum Topspeed\")"
      ],
      "metadata": {
        "id": "Ql5iTlg-T5jo",
        "colab": {
          "base_uri": "https://localhost:8080/",
          "height": 907
        },
        "outputId": "e565eaeb-f360-4167-edf5-247c208ebb90"
      },
      "execution_count": null,
      "outputs": [
        {
          "output_type": "stream",
          "name": "stdout",
          "text": [
            "\n",
            "\n",
            "\u001b[1m> Entering new SQLDatabaseChain chain...\u001b[0m\n",
            "give me the vehicle id with maximum Topspeed\n",
            "SQLQuery:\u001b[32;1m\u001b[1;3mSELECT vehicle_id FROM Topspeed ORDER BY top_speed DESC LIMIT 1;\u001b[0m"
          ]
        },
        {
          "output_type": "error",
          "ename": "DatabaseError",
          "evalue": "ignored",
          "traceback": [
            "\u001b[0;31m---------------------------------------------------------------------------\u001b[0m",
            "\u001b[0;31mNotFound\u001b[0m                                  Traceback (most recent call last)",
            "\u001b[0;32m/usr/local/lib/python3.10/dist-packages/google/cloud/bigquery/dbapi/cursor.py\u001b[0m in \u001b[0;36m_execute\u001b[0;34m(self, formatted_operation, parameters, job_id, job_config, parameter_types)\u001b[0m\n\u001b[1;32m    212\u001b[0m         \u001b[0;32mtry\u001b[0m\u001b[0;34m:\u001b[0m\u001b[0;34m\u001b[0m\u001b[0;34m\u001b[0m\u001b[0m\n\u001b[0;32m--> 213\u001b[0;31m             \u001b[0mself\u001b[0m\u001b[0;34m.\u001b[0m\u001b[0m_query_job\u001b[0m\u001b[0;34m.\u001b[0m\u001b[0mresult\u001b[0m\u001b[0;34m(\u001b[0m\u001b[0;34m)\u001b[0m\u001b[0;34m\u001b[0m\u001b[0;34m\u001b[0m\u001b[0m\n\u001b[0m\u001b[1;32m    214\u001b[0m         \u001b[0;32mexcept\u001b[0m \u001b[0mgoogle\u001b[0m\u001b[0;34m.\u001b[0m\u001b[0mcloud\u001b[0m\u001b[0;34m.\u001b[0m\u001b[0mexceptions\u001b[0m\u001b[0;34m.\u001b[0m\u001b[0mGoogleCloudError\u001b[0m \u001b[0;32mas\u001b[0m \u001b[0mexc\u001b[0m\u001b[0;34m:\u001b[0m\u001b[0;34m\u001b[0m\u001b[0;34m\u001b[0m\u001b[0m\n",
            "\u001b[0;32m/usr/local/lib/python3.10/dist-packages/google/cloud/bigquery/job/query.py\u001b[0m in \u001b[0;36mresult\u001b[0;34m(self, page_size, max_results, retry, timeout, start_index, job_retry)\u001b[0m\n\u001b[1;32m   1580\u001b[0m \u001b[0;34m\u001b[0m\u001b[0m\n\u001b[0;32m-> 1581\u001b[0;31m             \u001b[0mdo_get_result\u001b[0m\u001b[0;34m(\u001b[0m\u001b[0;34m)\u001b[0m\u001b[0;34m\u001b[0m\u001b[0;34m\u001b[0m\u001b[0m\n\u001b[0m\u001b[1;32m   1582\u001b[0m \u001b[0;34m\u001b[0m\u001b[0m\n",
            "\u001b[0;32m/usr/local/lib/python3.10/dist-packages/google/api_core/retry.py\u001b[0m in \u001b[0;36mretry_wrapped_func\u001b[0;34m(*args, **kwargs)\u001b[0m\n\u001b[1;32m    348\u001b[0m             )\n\u001b[0;32m--> 349\u001b[0;31m             return retry_target(\n\u001b[0m\u001b[1;32m    350\u001b[0m                 \u001b[0mtarget\u001b[0m\u001b[0;34m,\u001b[0m\u001b[0;34m\u001b[0m\u001b[0;34m\u001b[0m\u001b[0m\n",
            "\u001b[0;32m/usr/local/lib/python3.10/dist-packages/google/api_core/retry.py\u001b[0m in \u001b[0;36mretry_target\u001b[0;34m(target, predicate, sleep_generator, timeout, on_error, **kwargs)\u001b[0m\n\u001b[1;32m    190\u001b[0m         \u001b[0;32mtry\u001b[0m\u001b[0;34m:\u001b[0m\u001b[0;34m\u001b[0m\u001b[0;34m\u001b[0m\u001b[0m\n\u001b[0;32m--> 191\u001b[0;31m             \u001b[0;32mreturn\u001b[0m \u001b[0mtarget\u001b[0m\u001b[0;34m(\u001b[0m\u001b[0;34m)\u001b[0m\u001b[0;34m\u001b[0m\u001b[0;34m\u001b[0m\u001b[0m\n\u001b[0m\u001b[1;32m    192\u001b[0m \u001b[0;34m\u001b[0m\u001b[0m\n",
            "\u001b[0;32m/usr/local/lib/python3.10/dist-packages/google/cloud/bigquery/job/query.py\u001b[0m in \u001b[0;36mdo_get_result\u001b[0;34m()\u001b[0m\n\u001b[1;32m   1570\u001b[0m \u001b[0;34m\u001b[0m\u001b[0m\n\u001b[0;32m-> 1571\u001b[0;31m                 \u001b[0msuper\u001b[0m\u001b[0;34m(\u001b[0m\u001b[0mQueryJob\u001b[0m\u001b[0;34m,\u001b[0m \u001b[0mself\u001b[0m\u001b[0;34m)\u001b[0m\u001b[0;34m.\u001b[0m\u001b[0mresult\u001b[0m\u001b[0;34m(\u001b[0m\u001b[0mretry\u001b[0m\u001b[0;34m=\u001b[0m\u001b[0mretry\u001b[0m\u001b[0;34m,\u001b[0m \u001b[0mtimeout\u001b[0m\u001b[0;34m=\u001b[0m\u001b[0mtimeout\u001b[0m\u001b[0;34m)\u001b[0m\u001b[0;34m\u001b[0m\u001b[0;34m\u001b[0m\u001b[0m\n\u001b[0m\u001b[1;32m   1572\u001b[0m \u001b[0;34m\u001b[0m\u001b[0m\n",
            "\u001b[0;32m/usr/local/lib/python3.10/dist-packages/google/cloud/bigquery/job/base.py\u001b[0m in \u001b[0;36mresult\u001b[0;34m(self, retry, timeout)\u001b[0m\n\u001b[1;32m    921\u001b[0m         \u001b[0mkwargs\u001b[0m \u001b[0;34m=\u001b[0m \u001b[0;34m{\u001b[0m\u001b[0;34m}\u001b[0m \u001b[0;32mif\u001b[0m \u001b[0mretry\u001b[0m \u001b[0;32mis\u001b[0m \u001b[0mDEFAULT_RETRY\u001b[0m \u001b[0;32melse\u001b[0m \u001b[0;34m{\u001b[0m\u001b[0;34m\"retry\"\u001b[0m\u001b[0;34m:\u001b[0m \u001b[0mretry\u001b[0m\u001b[0;34m}\u001b[0m\u001b[0;34m\u001b[0m\u001b[0;34m\u001b[0m\u001b[0m\n\u001b[0;32m--> 922\u001b[0;31m         \u001b[0;32mreturn\u001b[0m \u001b[0msuper\u001b[0m\u001b[0;34m(\u001b[0m\u001b[0m_AsyncJob\u001b[0m\u001b[0;34m,\u001b[0m \u001b[0mself\u001b[0m\u001b[0;34m)\u001b[0m\u001b[0;34m.\u001b[0m\u001b[0mresult\u001b[0m\u001b[0;34m(\u001b[0m\u001b[0mtimeout\u001b[0m\u001b[0;34m=\u001b[0m\u001b[0mtimeout\u001b[0m\u001b[0;34m,\u001b[0m \u001b[0;34m**\u001b[0m\u001b[0mkwargs\u001b[0m\u001b[0;34m)\u001b[0m\u001b[0;34m\u001b[0m\u001b[0;34m\u001b[0m\u001b[0m\n\u001b[0m\u001b[1;32m    923\u001b[0m \u001b[0;34m\u001b[0m\u001b[0m\n",
            "\u001b[0;32m/usr/local/lib/python3.10/dist-packages/google/api_core/future/polling.py\u001b[0m in \u001b[0;36mresult\u001b[0;34m(self, timeout, retry, polling)\u001b[0m\n\u001b[1;32m    260\u001b[0m             \u001b[0;31m# Pylint doesn't recognize that this is valid in this case.\u001b[0m\u001b[0;34m\u001b[0m\u001b[0;34m\u001b[0m\u001b[0m\n\u001b[0;32m--> 261\u001b[0;31m             \u001b[0;32mraise\u001b[0m \u001b[0mself\u001b[0m\u001b[0;34m.\u001b[0m\u001b[0m_exception\u001b[0m\u001b[0;34m\u001b[0m\u001b[0;34m\u001b[0m\u001b[0m\n\u001b[0m\u001b[1;32m    262\u001b[0m \u001b[0;34m\u001b[0m\u001b[0m\n",
            "\u001b[0;31mNotFound\u001b[0m: 404 Not found: Table iron-decorator-297513:tg_Dataste.Topspeed was not found in location US\n\nLocation: US\nJob ID: a890c377-2cef-45c3-bde2-6fa99f961498\n",
            "\nDuring handling of the above exception, another exception occurred:\n",
            "\u001b[0;31mDatabaseError\u001b[0m                             Traceback (most recent call last)",
            "\u001b[0;32m~/.local/lib/python3.10/site-packages/sqlalchemy/engine/base.py\u001b[0m in \u001b[0;36m_execute_context\u001b[0;34m(self, dialect, constructor, statement, parameters, execution_options, *args, **kw)\u001b[0m\n\u001b[1;32m   1904\u001b[0m                 \u001b[0;32mif\u001b[0m \u001b[0;32mnot\u001b[0m \u001b[0mevt_handled\u001b[0m\u001b[0;34m:\u001b[0m\u001b[0;34m\u001b[0m\u001b[0;34m\u001b[0m\u001b[0m\n\u001b[0;32m-> 1905\u001b[0;31m                     self.dialect.do_execute(\n\u001b[0m\u001b[1;32m   1906\u001b[0m                         \u001b[0mcursor\u001b[0m\u001b[0;34m,\u001b[0m \u001b[0mstatement\u001b[0m\u001b[0;34m,\u001b[0m \u001b[0mparameters\u001b[0m\u001b[0;34m,\u001b[0m \u001b[0mcontext\u001b[0m\u001b[0;34m\u001b[0m\u001b[0;34m\u001b[0m\u001b[0m\n",
            "\u001b[0;32m~/.local/lib/python3.10/site-packages/sqlalchemy/engine/default.py\u001b[0m in \u001b[0;36mdo_execute\u001b[0;34m(self, cursor, statement, parameters, context)\u001b[0m\n\u001b[1;32m    735\u001b[0m     \u001b[0;32mdef\u001b[0m \u001b[0mdo_execute\u001b[0m\u001b[0;34m(\u001b[0m\u001b[0mself\u001b[0m\u001b[0;34m,\u001b[0m \u001b[0mcursor\u001b[0m\u001b[0;34m,\u001b[0m \u001b[0mstatement\u001b[0m\u001b[0;34m,\u001b[0m \u001b[0mparameters\u001b[0m\u001b[0;34m,\u001b[0m \u001b[0mcontext\u001b[0m\u001b[0;34m=\u001b[0m\u001b[0;32mNone\u001b[0m\u001b[0;34m)\u001b[0m\u001b[0;34m:\u001b[0m\u001b[0;34m\u001b[0m\u001b[0;34m\u001b[0m\u001b[0m\n\u001b[0;32m--> 736\u001b[0;31m         \u001b[0mcursor\u001b[0m\u001b[0;34m.\u001b[0m\u001b[0mexecute\u001b[0m\u001b[0;34m(\u001b[0m\u001b[0mstatement\u001b[0m\u001b[0;34m,\u001b[0m \u001b[0mparameters\u001b[0m\u001b[0;34m)\u001b[0m\u001b[0;34m\u001b[0m\u001b[0;34m\u001b[0m\u001b[0m\n\u001b[0m\u001b[1;32m    737\u001b[0m \u001b[0;34m\u001b[0m\u001b[0m\n",
            "\u001b[0;32m/usr/local/lib/python3.10/dist-packages/google/cloud/bigquery/dbapi/_helpers.py\u001b[0m in \u001b[0;36mwith_closed_check\u001b[0;34m(self, *args, **kwargs)\u001b[0m\n\u001b[1;32m    493\u001b[0m                 \u001b[0;32mraise\u001b[0m \u001b[0mexc_class\u001b[0m\u001b[0;34m(\u001b[0m\u001b[0mexc_msg\u001b[0m\u001b[0;34m)\u001b[0m\u001b[0;34m\u001b[0m\u001b[0;34m\u001b[0m\u001b[0m\n\u001b[0;32m--> 494\u001b[0;31m             \u001b[0;32mreturn\u001b[0m \u001b[0mmethod\u001b[0m\u001b[0;34m(\u001b[0m\u001b[0mself\u001b[0m\u001b[0;34m,\u001b[0m \u001b[0;34m*\u001b[0m\u001b[0margs\u001b[0m\u001b[0;34m,\u001b[0m \u001b[0;34m**\u001b[0m\u001b[0mkwargs\u001b[0m\u001b[0;34m)\u001b[0m\u001b[0;34m\u001b[0m\u001b[0;34m\u001b[0m\u001b[0m\n\u001b[0m\u001b[1;32m    495\u001b[0m \u001b[0;34m\u001b[0m\u001b[0m\n",
            "\u001b[0;32m/usr/local/lib/python3.10/dist-packages/google/cloud/bigquery/dbapi/cursor.py\u001b[0m in \u001b[0;36mexecute\u001b[0;34m(self, operation, parameters, job_id, job_config)\u001b[0m\n\u001b[1;32m    175\u001b[0m         \u001b[0mformatted_operation\u001b[0m\u001b[0;34m,\u001b[0m \u001b[0mparameter_types\u001b[0m \u001b[0;34m=\u001b[0m \u001b[0m_format_operation\u001b[0m\u001b[0;34m(\u001b[0m\u001b[0moperation\u001b[0m\u001b[0;34m,\u001b[0m \u001b[0mparameters\u001b[0m\u001b[0;34m)\u001b[0m\u001b[0;34m\u001b[0m\u001b[0;34m\u001b[0m\u001b[0m\n\u001b[0;32m--> 176\u001b[0;31m         self._execute(\n\u001b[0m\u001b[1;32m    177\u001b[0m             \u001b[0mformatted_operation\u001b[0m\u001b[0;34m,\u001b[0m \u001b[0mparameters\u001b[0m\u001b[0;34m,\u001b[0m \u001b[0mjob_id\u001b[0m\u001b[0;34m,\u001b[0m \u001b[0mjob_config\u001b[0m\u001b[0;34m,\u001b[0m \u001b[0mparameter_types\u001b[0m\u001b[0;34m\u001b[0m\u001b[0;34m\u001b[0m\u001b[0m\n",
            "\u001b[0;32m/usr/local/lib/python3.10/dist-packages/google/cloud/bigquery/dbapi/cursor.py\u001b[0m in \u001b[0;36m_execute\u001b[0;34m(self, formatted_operation, parameters, job_id, job_config, parameter_types)\u001b[0m\n\u001b[1;32m    214\u001b[0m         \u001b[0;32mexcept\u001b[0m \u001b[0mgoogle\u001b[0m\u001b[0;34m.\u001b[0m\u001b[0mcloud\u001b[0m\u001b[0;34m.\u001b[0m\u001b[0mexceptions\u001b[0m\u001b[0;34m.\u001b[0m\u001b[0mGoogleCloudError\u001b[0m \u001b[0;32mas\u001b[0m \u001b[0mexc\u001b[0m\u001b[0;34m:\u001b[0m\u001b[0;34m\u001b[0m\u001b[0;34m\u001b[0m\u001b[0m\n\u001b[0;32m--> 215\u001b[0;31m             \u001b[0;32mraise\u001b[0m \u001b[0mexceptions\u001b[0m\u001b[0;34m.\u001b[0m\u001b[0mDatabaseError\u001b[0m\u001b[0;34m(\u001b[0m\u001b[0mexc\u001b[0m\u001b[0;34m)\u001b[0m\u001b[0;34m\u001b[0m\u001b[0;34m\u001b[0m\u001b[0m\n\u001b[0m\u001b[1;32m    216\u001b[0m \u001b[0;34m\u001b[0m\u001b[0m\n",
            "\u001b[0;31mDatabaseError\u001b[0m: 404 Not found: Table iron-decorator-297513:tg_Dataste.Topspeed was not found in location US\n\nLocation: US\nJob ID: a890c377-2cef-45c3-bde2-6fa99f961498\n",
            "\nThe above exception was the direct cause of the following exception:\n",
            "\u001b[0;31mDatabaseError\u001b[0m                             Traceback (most recent call last)",
            "\u001b[0;32m<ipython-input-32-368e1b2a1e39>\u001b[0m in \u001b[0;36m<cell line: 1>\u001b[0;34m()\u001b[0m\n\u001b[0;32m----> 1\u001b[0;31m \u001b[0mdb_chain\u001b[0m\u001b[0;34m(\u001b[0m\u001b[0;34m\"give me the vehicle id with maximum Topspeed\"\u001b[0m\u001b[0;34m)\u001b[0m\u001b[0;34m\u001b[0m\u001b[0;34m\u001b[0m\u001b[0m\n\u001b[0m",
            "\u001b[0;32m/usr/local/lib/python3.10/dist-packages/langchain/chains/base.py\u001b[0m in \u001b[0;36m__call__\u001b[0;34m(self, inputs, return_only_outputs, callbacks, tags, metadata, run_name, include_run_info)\u001b[0m\n\u001b[1;32m    314\u001b[0m         \u001b[0;32mexcept\u001b[0m \u001b[0mBaseException\u001b[0m \u001b[0;32mas\u001b[0m \u001b[0me\u001b[0m\u001b[0;34m:\u001b[0m\u001b[0;34m\u001b[0m\u001b[0;34m\u001b[0m\u001b[0m\n\u001b[1;32m    315\u001b[0m             \u001b[0mrun_manager\u001b[0m\u001b[0;34m.\u001b[0m\u001b[0mon_chain_error\u001b[0m\u001b[0;34m(\u001b[0m\u001b[0me\u001b[0m\u001b[0;34m)\u001b[0m\u001b[0;34m\u001b[0m\u001b[0;34m\u001b[0m\u001b[0m\n\u001b[0;32m--> 316\u001b[0;31m             \u001b[0;32mraise\u001b[0m \u001b[0me\u001b[0m\u001b[0;34m\u001b[0m\u001b[0;34m\u001b[0m\u001b[0m\n\u001b[0m\u001b[1;32m    317\u001b[0m         \u001b[0mrun_manager\u001b[0m\u001b[0;34m.\u001b[0m\u001b[0mon_chain_end\u001b[0m\u001b[0;34m(\u001b[0m\u001b[0moutputs\u001b[0m\u001b[0;34m)\u001b[0m\u001b[0;34m\u001b[0m\u001b[0;34m\u001b[0m\u001b[0m\n\u001b[1;32m    318\u001b[0m         final_outputs: Dict[str, Any] = self.prep_outputs(\n",
            "\u001b[0;32m/usr/local/lib/python3.10/dist-packages/langchain/chains/base.py\u001b[0m in \u001b[0;36m__call__\u001b[0;34m(self, inputs, return_only_outputs, callbacks, tags, metadata, run_name, include_run_info)\u001b[0m\n\u001b[1;32m    308\u001b[0m         \u001b[0;32mtry\u001b[0m\u001b[0;34m:\u001b[0m\u001b[0;34m\u001b[0m\u001b[0;34m\u001b[0m\u001b[0m\n\u001b[1;32m    309\u001b[0m             outputs = (\n\u001b[0;32m--> 310\u001b[0;31m                 \u001b[0mself\u001b[0m\u001b[0;34m.\u001b[0m\u001b[0m_call\u001b[0m\u001b[0;34m(\u001b[0m\u001b[0minputs\u001b[0m\u001b[0;34m,\u001b[0m \u001b[0mrun_manager\u001b[0m\u001b[0;34m=\u001b[0m\u001b[0mrun_manager\u001b[0m\u001b[0;34m)\u001b[0m\u001b[0;34m\u001b[0m\u001b[0;34m\u001b[0m\u001b[0m\n\u001b[0m\u001b[1;32m    311\u001b[0m                 \u001b[0;32mif\u001b[0m \u001b[0mnew_arg_supported\u001b[0m\u001b[0;34m\u001b[0m\u001b[0;34m\u001b[0m\u001b[0m\n\u001b[1;32m    312\u001b[0m                 \u001b[0;32melse\u001b[0m \u001b[0mself\u001b[0m\u001b[0;34m.\u001b[0m\u001b[0m_call\u001b[0m\u001b[0;34m(\u001b[0m\u001b[0minputs\u001b[0m\u001b[0;34m)\u001b[0m\u001b[0;34m\u001b[0m\u001b[0;34m\u001b[0m\u001b[0m\n",
            "\u001b[0;32m/usr/local/lib/python3.10/dist-packages/langchain_experimental/sql/base.py\u001b[0m in \u001b[0;36m_call\u001b[0;34m(self, inputs, run_manager)\u001b[0m\n\u001b[1;32m    199\u001b[0m             \u001b[0;31m# improvement of few shot prompt seeds\u001b[0m\u001b[0;34m\u001b[0m\u001b[0;34m\u001b[0m\u001b[0m\n\u001b[1;32m    200\u001b[0m             \u001b[0mexc\u001b[0m\u001b[0;34m.\u001b[0m\u001b[0mintermediate_steps\u001b[0m \u001b[0;34m=\u001b[0m \u001b[0mintermediate_steps\u001b[0m  \u001b[0;31m# type: ignore\u001b[0m\u001b[0;34m\u001b[0m\u001b[0;34m\u001b[0m\u001b[0m\n\u001b[0;32m--> 201\u001b[0;31m             \u001b[0;32mraise\u001b[0m \u001b[0mexc\u001b[0m\u001b[0;34m\u001b[0m\u001b[0;34m\u001b[0m\u001b[0m\n\u001b[0m\u001b[1;32m    202\u001b[0m \u001b[0;34m\u001b[0m\u001b[0m\n\u001b[1;32m    203\u001b[0m     \u001b[0;34m@\u001b[0m\u001b[0mproperty\u001b[0m\u001b[0;34m\u001b[0m\u001b[0;34m\u001b[0m\u001b[0m\n",
            "\u001b[0;32m/usr/local/lib/python3.10/dist-packages/langchain_experimental/sql/base.py\u001b[0m in \u001b[0;36m_call\u001b[0;34m(self, inputs, run_manager)\u001b[0m\n\u001b[1;32m    169\u001b[0m                     \u001b[0;34m{\u001b[0m\u001b[0;34m\"sql_cmd\"\u001b[0m\u001b[0;34m:\u001b[0m \u001b[0mchecked_sql_command\u001b[0m\u001b[0;34m}\u001b[0m\u001b[0;34m\u001b[0m\u001b[0;34m\u001b[0m\u001b[0m\n\u001b[1;32m    170\u001b[0m                 )  # input: sql exec\n\u001b[0;32m--> 171\u001b[0;31m                 \u001b[0mresult\u001b[0m \u001b[0;34m=\u001b[0m \u001b[0mself\u001b[0m\u001b[0;34m.\u001b[0m\u001b[0mdatabase\u001b[0m\u001b[0;34m.\u001b[0m\u001b[0mrun\u001b[0m\u001b[0;34m(\u001b[0m\u001b[0mchecked_sql_command\u001b[0m\u001b[0;34m)\u001b[0m\u001b[0;34m\u001b[0m\u001b[0;34m\u001b[0m\u001b[0m\n\u001b[0m\u001b[1;32m    172\u001b[0m                 \u001b[0mintermediate_steps\u001b[0m\u001b[0;34m.\u001b[0m\u001b[0mappend\u001b[0m\u001b[0;34m(\u001b[0m\u001b[0mstr\u001b[0m\u001b[0;34m(\u001b[0m\u001b[0mresult\u001b[0m\u001b[0;34m)\u001b[0m\u001b[0;34m)\u001b[0m  \u001b[0;31m# output: sql exec\u001b[0m\u001b[0;34m\u001b[0m\u001b[0;34m\u001b[0m\u001b[0m\n\u001b[1;32m    173\u001b[0m                 \u001b[0msql_cmd\u001b[0m \u001b[0;34m=\u001b[0m \u001b[0mchecked_sql_command\u001b[0m\u001b[0;34m\u001b[0m\u001b[0;34m\u001b[0m\u001b[0m\n",
            "\u001b[0;32m~/.local/lib/python3.10/site-packages/langchain_community/utilities/sql_database.py\u001b[0m in \u001b[0;36mrun\u001b[0;34m(self, command, fetch, include_columns)\u001b[0m\n\u001b[1;32m    435\u001b[0m         \u001b[0mIf\u001b[0m \u001b[0mthe\u001b[0m \u001b[0mstatement\u001b[0m \u001b[0mreturns\u001b[0m \u001b[0mno\u001b[0m \u001b[0mrows\u001b[0m\u001b[0;34m,\u001b[0m \u001b[0man\u001b[0m \u001b[0mempty\u001b[0m \u001b[0mstring\u001b[0m \u001b[0;32mis\u001b[0m \u001b[0mreturned\u001b[0m\u001b[0;34m.\u001b[0m\u001b[0;34m\u001b[0m\u001b[0;34m\u001b[0m\u001b[0m\n\u001b[1;32m    436\u001b[0m         \"\"\"\n\u001b[0;32m--> 437\u001b[0;31m         \u001b[0mresult\u001b[0m \u001b[0;34m=\u001b[0m \u001b[0mself\u001b[0m\u001b[0;34m.\u001b[0m\u001b[0m_execute\u001b[0m\u001b[0;34m(\u001b[0m\u001b[0mcommand\u001b[0m\u001b[0;34m,\u001b[0m \u001b[0mfetch\u001b[0m\u001b[0;34m)\u001b[0m\u001b[0;34m\u001b[0m\u001b[0;34m\u001b[0m\u001b[0m\n\u001b[0m\u001b[1;32m    438\u001b[0m \u001b[0;34m\u001b[0m\u001b[0m\n\u001b[1;32m    439\u001b[0m         res = [\n",
            "\u001b[0;32m~/.local/lib/python3.10/site-packages/langchain_community/utilities/sql_database.py\u001b[0m in \u001b[0;36m_execute\u001b[0;34m(self, command, fetch)\u001b[0m\n\u001b[1;32m    412\u001b[0m                 \u001b[0;32melse\u001b[0m\u001b[0;34m:\u001b[0m  \u001b[0;31m# postgresql and other compatible dialects\u001b[0m\u001b[0;34m\u001b[0m\u001b[0;34m\u001b[0m\u001b[0m\n\u001b[1;32m    413\u001b[0m                     \u001b[0mconnection\u001b[0m\u001b[0;34m.\u001b[0m\u001b[0mexec_driver_sql\u001b[0m\u001b[0;34m(\u001b[0m\u001b[0;34m\"SET search_path TO %s\"\u001b[0m\u001b[0;34m,\u001b[0m \u001b[0;34m(\u001b[0m\u001b[0mself\u001b[0m\u001b[0;34m.\u001b[0m\u001b[0m_schema\u001b[0m\u001b[0;34m,\u001b[0m\u001b[0;34m)\u001b[0m\u001b[0;34m)\u001b[0m\u001b[0;34m\u001b[0m\u001b[0;34m\u001b[0m\u001b[0m\n\u001b[0;32m--> 414\u001b[0;31m             \u001b[0mcursor\u001b[0m \u001b[0;34m=\u001b[0m \u001b[0mconnection\u001b[0m\u001b[0;34m.\u001b[0m\u001b[0mexecute\u001b[0m\u001b[0;34m(\u001b[0m\u001b[0mtext\u001b[0m\u001b[0;34m(\u001b[0m\u001b[0mcommand\u001b[0m\u001b[0;34m)\u001b[0m\u001b[0;34m)\u001b[0m\u001b[0;34m\u001b[0m\u001b[0;34m\u001b[0m\u001b[0m\n\u001b[0m\u001b[1;32m    415\u001b[0m             \u001b[0;32mif\u001b[0m \u001b[0mcursor\u001b[0m\u001b[0;34m.\u001b[0m\u001b[0mreturns_rows\u001b[0m\u001b[0;34m:\u001b[0m\u001b[0;34m\u001b[0m\u001b[0;34m\u001b[0m\u001b[0m\n\u001b[1;32m    416\u001b[0m                 \u001b[0;32mif\u001b[0m \u001b[0mfetch\u001b[0m \u001b[0;34m==\u001b[0m \u001b[0;34m\"all\"\u001b[0m\u001b[0;34m:\u001b[0m\u001b[0;34m\u001b[0m\u001b[0;34m\u001b[0m\u001b[0m\n",
            "\u001b[0;32m~/.local/lib/python3.10/site-packages/sqlalchemy/engine/base.py\u001b[0m in \u001b[0;36mexecute\u001b[0;34m(self, statement, *multiparams, **params)\u001b[0m\n\u001b[1;32m   1383\u001b[0m             )\n\u001b[1;32m   1384\u001b[0m         \u001b[0;32melse\u001b[0m\u001b[0;34m:\u001b[0m\u001b[0;34m\u001b[0m\u001b[0;34m\u001b[0m\u001b[0m\n\u001b[0;32m-> 1385\u001b[0;31m             \u001b[0;32mreturn\u001b[0m \u001b[0mmeth\u001b[0m\u001b[0;34m(\u001b[0m\u001b[0mself\u001b[0m\u001b[0;34m,\u001b[0m \u001b[0mmultiparams\u001b[0m\u001b[0;34m,\u001b[0m \u001b[0mparams\u001b[0m\u001b[0;34m,\u001b[0m \u001b[0m_EMPTY_EXECUTION_OPTS\u001b[0m\u001b[0;34m)\u001b[0m\u001b[0;34m\u001b[0m\u001b[0;34m\u001b[0m\u001b[0m\n\u001b[0m\u001b[1;32m   1386\u001b[0m \u001b[0;34m\u001b[0m\u001b[0m\n\u001b[1;32m   1387\u001b[0m     \u001b[0;32mdef\u001b[0m \u001b[0m_execute_function\u001b[0m\u001b[0;34m(\u001b[0m\u001b[0mself\u001b[0m\u001b[0;34m,\u001b[0m \u001b[0mfunc\u001b[0m\u001b[0;34m,\u001b[0m \u001b[0mmultiparams\u001b[0m\u001b[0;34m,\u001b[0m \u001b[0mparams\u001b[0m\u001b[0;34m,\u001b[0m \u001b[0mexecution_options\u001b[0m\u001b[0;34m)\u001b[0m\u001b[0;34m:\u001b[0m\u001b[0;34m\u001b[0m\u001b[0;34m\u001b[0m\u001b[0m\n",
            "\u001b[0;32m~/.local/lib/python3.10/site-packages/sqlalchemy/sql/elements.py\u001b[0m in \u001b[0;36m_execute_on_connection\u001b[0;34m(self, connection, multiparams, params, execution_options, _force)\u001b[0m\n\u001b[1;32m    332\u001b[0m     ):\n\u001b[1;32m    333\u001b[0m         \u001b[0;32mif\u001b[0m \u001b[0m_force\u001b[0m \u001b[0;32mor\u001b[0m \u001b[0mself\u001b[0m\u001b[0;34m.\u001b[0m\u001b[0msupports_execution\u001b[0m\u001b[0;34m:\u001b[0m\u001b[0;34m\u001b[0m\u001b[0;34m\u001b[0m\u001b[0m\n\u001b[0;32m--> 334\u001b[0;31m             return connection._execute_clauseelement(\n\u001b[0m\u001b[1;32m    335\u001b[0m                 \u001b[0mself\u001b[0m\u001b[0;34m,\u001b[0m \u001b[0mmultiparams\u001b[0m\u001b[0;34m,\u001b[0m \u001b[0mparams\u001b[0m\u001b[0;34m,\u001b[0m \u001b[0mexecution_options\u001b[0m\u001b[0;34m\u001b[0m\u001b[0;34m\u001b[0m\u001b[0m\n\u001b[1;32m    336\u001b[0m             )\n",
            "\u001b[0;32m~/.local/lib/python3.10/site-packages/sqlalchemy/engine/base.py\u001b[0m in \u001b[0;36m_execute_clauseelement\u001b[0;34m(self, elem, multiparams, params, execution_options)\u001b[0m\n\u001b[1;32m   1575\u001b[0m             \u001b[0mlinting\u001b[0m\u001b[0;34m=\u001b[0m\u001b[0mself\u001b[0m\u001b[0;34m.\u001b[0m\u001b[0mdialect\u001b[0m\u001b[0;34m.\u001b[0m\u001b[0mcompiler_linting\u001b[0m \u001b[0;34m|\u001b[0m \u001b[0mcompiler\u001b[0m\u001b[0;34m.\u001b[0m\u001b[0mWARN_LINTING\u001b[0m\u001b[0;34m,\u001b[0m\u001b[0;34m\u001b[0m\u001b[0;34m\u001b[0m\u001b[0m\n\u001b[1;32m   1576\u001b[0m         )\n\u001b[0;32m-> 1577\u001b[0;31m         ret = self._execute_context(\n\u001b[0m\u001b[1;32m   1578\u001b[0m             \u001b[0mdialect\u001b[0m\u001b[0;34m,\u001b[0m\u001b[0;34m\u001b[0m\u001b[0;34m\u001b[0m\u001b[0m\n\u001b[1;32m   1579\u001b[0m             \u001b[0mdialect\u001b[0m\u001b[0;34m.\u001b[0m\u001b[0mexecution_ctx_cls\u001b[0m\u001b[0;34m.\u001b[0m\u001b[0m_init_compiled\u001b[0m\u001b[0;34m,\u001b[0m\u001b[0;34m\u001b[0m\u001b[0;34m\u001b[0m\u001b[0m\n",
            "\u001b[0;32m~/.local/lib/python3.10/site-packages/sqlalchemy/engine/base.py\u001b[0m in \u001b[0;36m_execute_context\u001b[0;34m(self, dialect, constructor, statement, parameters, execution_options, *args, **kw)\u001b[0m\n\u001b[1;32m   1946\u001b[0m \u001b[0;34m\u001b[0m\u001b[0m\n\u001b[1;32m   1947\u001b[0m         \u001b[0;32mexcept\u001b[0m \u001b[0mBaseException\u001b[0m \u001b[0;32mas\u001b[0m \u001b[0me\u001b[0m\u001b[0;34m:\u001b[0m\u001b[0;34m\u001b[0m\u001b[0;34m\u001b[0m\u001b[0m\n\u001b[0;32m-> 1948\u001b[0;31m             self._handle_dbapi_exception(\n\u001b[0m\u001b[1;32m   1949\u001b[0m                 \u001b[0me\u001b[0m\u001b[0;34m,\u001b[0m \u001b[0mstatement\u001b[0m\u001b[0;34m,\u001b[0m \u001b[0mparameters\u001b[0m\u001b[0;34m,\u001b[0m \u001b[0mcursor\u001b[0m\u001b[0;34m,\u001b[0m \u001b[0mcontext\u001b[0m\u001b[0;34m\u001b[0m\u001b[0;34m\u001b[0m\u001b[0m\n\u001b[1;32m   1950\u001b[0m             )\n",
            "\u001b[0;32m~/.local/lib/python3.10/site-packages/sqlalchemy/engine/base.py\u001b[0m in \u001b[0;36m_handle_dbapi_exception\u001b[0;34m(self, e, statement, parameters, cursor, context)\u001b[0m\n\u001b[1;32m   2127\u001b[0m                 \u001b[0mutil\u001b[0m\u001b[0;34m.\u001b[0m\u001b[0mraise_\u001b[0m\u001b[0;34m(\u001b[0m\u001b[0mnewraise\u001b[0m\u001b[0;34m,\u001b[0m \u001b[0mwith_traceback\u001b[0m\u001b[0;34m=\u001b[0m\u001b[0mexc_info\u001b[0m\u001b[0;34m[\u001b[0m\u001b[0;36m2\u001b[0m\u001b[0;34m]\u001b[0m\u001b[0;34m,\u001b[0m \u001b[0mfrom_\u001b[0m\u001b[0;34m=\u001b[0m\u001b[0me\u001b[0m\u001b[0;34m)\u001b[0m\u001b[0;34m\u001b[0m\u001b[0;34m\u001b[0m\u001b[0m\n\u001b[1;32m   2128\u001b[0m             \u001b[0;32melif\u001b[0m \u001b[0mshould_wrap\u001b[0m\u001b[0;34m:\u001b[0m\u001b[0;34m\u001b[0m\u001b[0;34m\u001b[0m\u001b[0m\n\u001b[0;32m-> 2129\u001b[0;31m                 util.raise_(\n\u001b[0m\u001b[1;32m   2130\u001b[0m                     \u001b[0msqlalchemy_exception\u001b[0m\u001b[0;34m,\u001b[0m \u001b[0mwith_traceback\u001b[0m\u001b[0;34m=\u001b[0m\u001b[0mexc_info\u001b[0m\u001b[0;34m[\u001b[0m\u001b[0;36m2\u001b[0m\u001b[0;34m]\u001b[0m\u001b[0;34m,\u001b[0m \u001b[0mfrom_\u001b[0m\u001b[0;34m=\u001b[0m\u001b[0me\u001b[0m\u001b[0;34m\u001b[0m\u001b[0;34m\u001b[0m\u001b[0m\n\u001b[1;32m   2131\u001b[0m                 )\n",
            "\u001b[0;32m~/.local/lib/python3.10/site-packages/sqlalchemy/util/compat.py\u001b[0m in \u001b[0;36mraise_\u001b[0;34m(***failed resolving arguments***)\u001b[0m\n\u001b[1;32m    209\u001b[0m \u001b[0;34m\u001b[0m\u001b[0m\n\u001b[1;32m    210\u001b[0m         \u001b[0;32mtry\u001b[0m\u001b[0;34m:\u001b[0m\u001b[0;34m\u001b[0m\u001b[0;34m\u001b[0m\u001b[0m\n\u001b[0;32m--> 211\u001b[0;31m             \u001b[0;32mraise\u001b[0m \u001b[0mexception\u001b[0m\u001b[0;34m\u001b[0m\u001b[0;34m\u001b[0m\u001b[0m\n\u001b[0m\u001b[1;32m    212\u001b[0m         \u001b[0;32mfinally\u001b[0m\u001b[0;34m:\u001b[0m\u001b[0;34m\u001b[0m\u001b[0;34m\u001b[0m\u001b[0m\n\u001b[1;32m    213\u001b[0m             \u001b[0;31m# credit to\u001b[0m\u001b[0;34m\u001b[0m\u001b[0;34m\u001b[0m\u001b[0m\n",
            "\u001b[0;32m~/.local/lib/python3.10/site-packages/sqlalchemy/engine/base.py\u001b[0m in \u001b[0;36m_execute_context\u001b[0;34m(self, dialect, constructor, statement, parameters, execution_options, *args, **kw)\u001b[0m\n\u001b[1;32m   1903\u001b[0m                             \u001b[0;32mbreak\u001b[0m\u001b[0;34m\u001b[0m\u001b[0;34m\u001b[0m\u001b[0m\n\u001b[1;32m   1904\u001b[0m                 \u001b[0;32mif\u001b[0m \u001b[0;32mnot\u001b[0m \u001b[0mevt_handled\u001b[0m\u001b[0;34m:\u001b[0m\u001b[0;34m\u001b[0m\u001b[0;34m\u001b[0m\u001b[0m\n\u001b[0;32m-> 1905\u001b[0;31m                     self.dialect.do_execute(\n\u001b[0m\u001b[1;32m   1906\u001b[0m                         \u001b[0mcursor\u001b[0m\u001b[0;34m,\u001b[0m \u001b[0mstatement\u001b[0m\u001b[0;34m,\u001b[0m \u001b[0mparameters\u001b[0m\u001b[0;34m,\u001b[0m \u001b[0mcontext\u001b[0m\u001b[0;34m\u001b[0m\u001b[0;34m\u001b[0m\u001b[0m\n\u001b[1;32m   1907\u001b[0m                     )\n",
            "\u001b[0;32m~/.local/lib/python3.10/site-packages/sqlalchemy/engine/default.py\u001b[0m in \u001b[0;36mdo_execute\u001b[0;34m(self, cursor, statement, parameters, context)\u001b[0m\n\u001b[1;32m    734\u001b[0m \u001b[0;34m\u001b[0m\u001b[0m\n\u001b[1;32m    735\u001b[0m     \u001b[0;32mdef\u001b[0m \u001b[0mdo_execute\u001b[0m\u001b[0;34m(\u001b[0m\u001b[0mself\u001b[0m\u001b[0;34m,\u001b[0m \u001b[0mcursor\u001b[0m\u001b[0;34m,\u001b[0m \u001b[0mstatement\u001b[0m\u001b[0;34m,\u001b[0m \u001b[0mparameters\u001b[0m\u001b[0;34m,\u001b[0m \u001b[0mcontext\u001b[0m\u001b[0;34m=\u001b[0m\u001b[0;32mNone\u001b[0m\u001b[0;34m)\u001b[0m\u001b[0;34m:\u001b[0m\u001b[0;34m\u001b[0m\u001b[0;34m\u001b[0m\u001b[0m\n\u001b[0;32m--> 736\u001b[0;31m         \u001b[0mcursor\u001b[0m\u001b[0;34m.\u001b[0m\u001b[0mexecute\u001b[0m\u001b[0;34m(\u001b[0m\u001b[0mstatement\u001b[0m\u001b[0;34m,\u001b[0m \u001b[0mparameters\u001b[0m\u001b[0;34m)\u001b[0m\u001b[0;34m\u001b[0m\u001b[0;34m\u001b[0m\u001b[0m\n\u001b[0m\u001b[1;32m    737\u001b[0m \u001b[0;34m\u001b[0m\u001b[0m\n\u001b[1;32m    738\u001b[0m     \u001b[0;32mdef\u001b[0m \u001b[0mdo_execute_no_params\u001b[0m\u001b[0;34m(\u001b[0m\u001b[0mself\u001b[0m\u001b[0;34m,\u001b[0m \u001b[0mcursor\u001b[0m\u001b[0;34m,\u001b[0m \u001b[0mstatement\u001b[0m\u001b[0;34m,\u001b[0m \u001b[0mcontext\u001b[0m\u001b[0;34m=\u001b[0m\u001b[0;32mNone\u001b[0m\u001b[0;34m)\u001b[0m\u001b[0;34m:\u001b[0m\u001b[0;34m\u001b[0m\u001b[0;34m\u001b[0m\u001b[0m\n",
            "\u001b[0;32m/usr/local/lib/python3.10/dist-packages/google/cloud/bigquery/dbapi/_helpers.py\u001b[0m in \u001b[0;36mwith_closed_check\u001b[0;34m(self, *args, **kwargs)\u001b[0m\n\u001b[1;32m    492\u001b[0m             \u001b[0;32mif\u001b[0m \u001b[0mgetattr\u001b[0m\u001b[0;34m(\u001b[0m\u001b[0mself\u001b[0m\u001b[0;34m,\u001b[0m \u001b[0mclosed_attr_name\u001b[0m\u001b[0;34m)\u001b[0m\u001b[0;34m:\u001b[0m\u001b[0;34m\u001b[0m\u001b[0;34m\u001b[0m\u001b[0m\n\u001b[1;32m    493\u001b[0m                 \u001b[0;32mraise\u001b[0m \u001b[0mexc_class\u001b[0m\u001b[0;34m(\u001b[0m\u001b[0mexc_msg\u001b[0m\u001b[0;34m)\u001b[0m\u001b[0;34m\u001b[0m\u001b[0;34m\u001b[0m\u001b[0m\n\u001b[0;32m--> 494\u001b[0;31m             \u001b[0;32mreturn\u001b[0m \u001b[0mmethod\u001b[0m\u001b[0;34m(\u001b[0m\u001b[0mself\u001b[0m\u001b[0;34m,\u001b[0m \u001b[0;34m*\u001b[0m\u001b[0margs\u001b[0m\u001b[0;34m,\u001b[0m \u001b[0;34m**\u001b[0m\u001b[0mkwargs\u001b[0m\u001b[0;34m)\u001b[0m\u001b[0;34m\u001b[0m\u001b[0;34m\u001b[0m\u001b[0m\n\u001b[0m\u001b[1;32m    495\u001b[0m \u001b[0;34m\u001b[0m\u001b[0m\n\u001b[1;32m    496\u001b[0m         \u001b[0mfunctools\u001b[0m\u001b[0;34m.\u001b[0m\u001b[0mupdate_wrapper\u001b[0m\u001b[0;34m(\u001b[0m\u001b[0mwith_closed_check\u001b[0m\u001b[0;34m,\u001b[0m \u001b[0mmethod\u001b[0m\u001b[0;34m)\u001b[0m\u001b[0;34m\u001b[0m\u001b[0;34m\u001b[0m\u001b[0m\n",
            "\u001b[0;32m/usr/local/lib/python3.10/dist-packages/google/cloud/bigquery/dbapi/cursor.py\u001b[0m in \u001b[0;36mexecute\u001b[0;34m(self, operation, parameters, job_id, job_config)\u001b[0m\n\u001b[1;32m    174\u001b[0m         \"\"\"\n\u001b[1;32m    175\u001b[0m         \u001b[0mformatted_operation\u001b[0m\u001b[0;34m,\u001b[0m \u001b[0mparameter_types\u001b[0m \u001b[0;34m=\u001b[0m \u001b[0m_format_operation\u001b[0m\u001b[0;34m(\u001b[0m\u001b[0moperation\u001b[0m\u001b[0;34m,\u001b[0m \u001b[0mparameters\u001b[0m\u001b[0;34m)\u001b[0m\u001b[0;34m\u001b[0m\u001b[0;34m\u001b[0m\u001b[0m\n\u001b[0;32m--> 176\u001b[0;31m         self._execute(\n\u001b[0m\u001b[1;32m    177\u001b[0m             \u001b[0mformatted_operation\u001b[0m\u001b[0;34m,\u001b[0m \u001b[0mparameters\u001b[0m\u001b[0;34m,\u001b[0m \u001b[0mjob_id\u001b[0m\u001b[0;34m,\u001b[0m \u001b[0mjob_config\u001b[0m\u001b[0;34m,\u001b[0m \u001b[0mparameter_types\u001b[0m\u001b[0;34m\u001b[0m\u001b[0;34m\u001b[0m\u001b[0m\n\u001b[1;32m    178\u001b[0m         )\n",
            "\u001b[0;32m/usr/local/lib/python3.10/dist-packages/google/cloud/bigquery/dbapi/cursor.py\u001b[0m in \u001b[0;36m_execute\u001b[0;34m(self, formatted_operation, parameters, job_id, job_config, parameter_types)\u001b[0m\n\u001b[1;32m    213\u001b[0m             \u001b[0mself\u001b[0m\u001b[0;34m.\u001b[0m\u001b[0m_query_job\u001b[0m\u001b[0;34m.\u001b[0m\u001b[0mresult\u001b[0m\u001b[0;34m(\u001b[0m\u001b[0;34m)\u001b[0m\u001b[0;34m\u001b[0m\u001b[0;34m\u001b[0m\u001b[0m\n\u001b[1;32m    214\u001b[0m         \u001b[0;32mexcept\u001b[0m \u001b[0mgoogle\u001b[0m\u001b[0;34m.\u001b[0m\u001b[0mcloud\u001b[0m\u001b[0;34m.\u001b[0m\u001b[0mexceptions\u001b[0m\u001b[0;34m.\u001b[0m\u001b[0mGoogleCloudError\u001b[0m \u001b[0;32mas\u001b[0m \u001b[0mexc\u001b[0m\u001b[0;34m:\u001b[0m\u001b[0;34m\u001b[0m\u001b[0;34m\u001b[0m\u001b[0m\n\u001b[0;32m--> 215\u001b[0;31m             \u001b[0;32mraise\u001b[0m \u001b[0mexceptions\u001b[0m\u001b[0;34m.\u001b[0m\u001b[0mDatabaseError\u001b[0m\u001b[0;34m(\u001b[0m\u001b[0mexc\u001b[0m\u001b[0;34m)\u001b[0m\u001b[0;34m\u001b[0m\u001b[0;34m\u001b[0m\u001b[0m\n\u001b[0m\u001b[1;32m    216\u001b[0m \u001b[0;34m\u001b[0m\u001b[0m\n\u001b[1;32m    217\u001b[0m         \u001b[0mquery_results\u001b[0m \u001b[0;34m=\u001b[0m \u001b[0mself\u001b[0m\u001b[0;34m.\u001b[0m\u001b[0m_query_job\u001b[0m\u001b[0;34m.\u001b[0m\u001b[0m_query_results\u001b[0m\u001b[0;34m\u001b[0m\u001b[0;34m\u001b[0m\u001b[0m\n",
            "\u001b[0;31mDatabaseError\u001b[0m: (google.cloud.bigquery.dbapi.exceptions.DatabaseError) 404 Not found: Table iron-decorator-297513:tg_Dataste.Topspeed was not found in location US\n\nLocation: US\nJob ID: a890c377-2cef-45c3-bde2-6fa99f961498\n\n[SQL: SELECT vehicle_id FROM Topspeed ORDER BY top_speed DESC LIMIT 1;]\n(Background on this error at: https://sqlalche.me/e/14/4xp6)"
          ]
        }
      ]
    },
    {
      "cell_type": "code",
      "source": [
        "## lets try with SQLDatabaseSequentialChain\n",
        "\n",
        "from langchain_experimental.sql import SQLDatabaseSequentialChain"
      ],
      "metadata": {
        "id": "-tnygEO-T5me"
      },
      "execution_count": null,
      "outputs": []
    },
    {
      "cell_type": "code",
      "source": [
        "#https://github.com/langchain-ai/langchain/issues/13277"
      ],
      "metadata": {
        "id": "0HlJl0fpT5oh"
      },
      "execution_count": null,
      "outputs": []
    },
    {
      "cell_type": "code",
      "source": [
        "#Refernce :\n",
        "from google.cloud import bigquery\n",
        "from langchain.chains import SQLDatabaseSequentialChain\n",
        "from langchain.agents import SQLDatabaseAgent\n",
        "\n",
        "# Connect to BigQuery\n",
        "client = bigquery.Client()\n",
        "\n",
        "# Define SQL Database Agents for each table\n",
        "temperature_agent = SQLDatabaseAgent(\n",
        "    host=\"bigquery.googleapis.com\",\n",
        "    database=\"your_project_id\",  # Replace with your BigQuery project ID\n",
        "    user=\"your_service_account_email\",  # If using service account authentication\n",
        "    password=\"your_service_account_key_file\"  # Path to service account key file\n",
        ")\n",
        "\n",
        "topspeed_agent = SQLDatabaseAgent(\n",
        "    host=\"bigquery.googleapis.com\",\n",
        "    database=\"your_project_id\",\n",
        "    user=\"your_service_account_email\",\n",
        "    password=\"your_service_account_key_file\"\n",
        ")\n",
        "\n",
        "mileage_agent = SQLDatabaseAgent(\n",
        "    host=\"bigquery.googleapis.com\",\n",
        "    database=\"your_project_id\",\n",
        "    user=\"your_service_account_email\",\n",
        "    password=\"your_service_account_key_file\"\n",
        ")\n",
        "\n",
        "# Function to construct the chain based on user query\n",
        "def create_chain(user_query):\n",
        "    chain = SQLDatabaseSequentialChain(temperature_agent)  # Start with Temperature table\n",
        "\n",
        "    if \"top speed\" in user_query:\n",
        "        chain.add_step(\"SELECT vehicle_number, top_speed FROM `your_project_id.Topspeed`\")  # Replace with correct table ID\n",
        "        chain.set_output_from_step(1, \"vehicle_number\")\n",
        "    elif \"mileage\" in user_query:\n",
        "        chain.add_step(\"SELECT vehicle_number, mileage FROM `your_project_id.Mileage`\")  # Replace with correct table ID\n",
        "        chain.set_output_from_step(1, \"vehicle_number\")\n",
        "\n",
        "    chain.add_step(\"SELECT vehicle_id, vehicle_number, smoke_emission, temperature FROM `your_project_id.Temperature` WHERE vehicle_number = @vehicle_number\")  # Join with Temperature table\n",
        "\n",
        "    return chain\n",
        "\n",
        "# Process user query\n",
        "user_query = input(\"Enter your query: \")\n",
        "\n",
        "chain = create_chain(user_query)\n",
        "results = chain.run()\n",
        "\n",
        "# Print results (consider formatting for user-friendliness)\n",
        "print(results)\n"
      ],
      "metadata": {
        "id": "6xaUDyqeT5q7"
      },
      "execution_count": null,
      "outputs": []
    },
    {
      "cell_type": "code",
      "source": [
        "#refernce :\n",
        "def create_chain(user_query):\n",
        "    chain = SQLDatabaseSequentialChain(temperature_agent)  # Start with Temperature table\n",
        "\n",
        "    if \"make\" in user_query or \"type\" in user_query or \"mileage\" in user_query:  # Check for Mileage-related columns\n",
        "        chain.add_step(\"SELECT vehicle_number, make, type, mileage FROM `your_project_id.Mileage`\")\n",
        "        chain.set_output_from_step(1, \"vehicle_number\")\n",
        "    elif \"capacitor\" in user_query or \"cc\" in user_query or \"top_speed\" in user_query:  # Check for Topspeed-related columns\n",
        "        chain.add_step(\"SELECT vehicle_number, capacitor, cc, top_speed FROM `your_project_id.Topspeed`\")\n",
        "        chain.set_output_from_step(1, \"vehicle_number\")\n",
        "\n",
        "    chain.add_step(\"SELECT vehicle_id, vehicle_number, smoke_emission, temperature FROM `your_project_id.Temperature` WHERE vehicle_number = @vehicle_number\")  # Join with Temperature table\n",
        "\n",
        "    return chain\n"
      ],
      "metadata": {
        "id": "_h9SyvO8bJhG"
      },
      "execution_count": null,
      "outputs": []
    },
    {
      "cell_type": "code",
      "source": [
        "#reference\n",
        "\n",
        "from langchain_experimental.sql import SQLDatabaseSequentialChain\n",
        "from langchain.llms import OpenAI, SQLDatabase\n",
        "from langchain.schema import BasePromptTemplate\n",
        "\n",
        "# Initialize the database (replace with your actual connection details)\n",
        "db = SQLDatabase(host=\"your_database_host\", database=\"your_database_name\", ...)\n",
        "\n",
        "# Initialize the language model\n",
        "llm = OpenAI(...)\n",
        "\n",
        "# Define the prompts (adjust if needed)\n",
        "query_prompt = BasePromptTemplate(...)\n",
        "decider_prompt = BasePromptTemplate(...)\n",
        "\n",
        "# Create the SQLDatabaseSequentialChain\n",
        "sql_seq_chain = SQLDatabaseSequentialChain.from_llm(llm, db, query_prompt, decider_prompt)\n",
        "\n",
        "# Define the query (replace with your actual SQL query)\n",
        "query = \"SELECT * FROM vehicles WHERE make = 'Toyota'\"\n",
        "\n",
        "# Use the chain\n",
        "result = sql_seq_chain({\"query\": query})\n",
        "\n",
        "\n"
      ],
      "metadata": {
        "id": "PnEMtOMnbJe-"
      },
      "execution_count": null,
      "outputs": []
    },
    {
      "cell_type": "code",
      "source": [
        "query_prompt = BasePromptTemplate(\n",
        "    input_variables=[\"user_query\"],\n",
        "    output_variables=[\"query\"],\n",
        "    prompt=\"\"\"Given the following user query: {user_query}\n",
        "- Access the vehicle data stored in the BigQuery tables: Temperature, Topspeed, and Mileage.\n",
        "- Remember that the Vehicle ID is only available in the Temperature table.\n",
        "- Retrieve the necessary information, including the Vehicle ID if requested.\n",
        "- Construct a SQL query that accurately fulfills the user's request.\"\"\"\n",
        ")\n"
      ],
      "metadata": {
        "id": "r1ns06h9bJcY"
      },
      "execution_count": null,
      "outputs": []
    },
    {
      "cell_type": "code",
      "source": [
        "decider_prompt = BasePromptTemplate(\n",
        "    input_variables=[\"query_results\"],\n",
        "    output_variables=[\"should_continue\"],\n",
        "    prompt=\"\"\"Analyze the results of the previous SQL query: {query_results}.\n",
        "- Determine whether additional queries are necessary to fully address the user's request.\n",
        "- Consider factors like:\n",
        "    - Whether the Vehicle ID has been retrieved (if applicable).\n",
        "    - Whether all relevant information has been gathered.\n",
        "- If more queries are needed, explain what additional data should be retrieved.\n",
        "- If not, indicate that the task is complete.\"\"\"\n",
        ")\n"
      ],
      "metadata": {
        "id": "IHlZlfQkbJZw"
      },
      "execution_count": null,
      "outputs": []
    },
    {
      "cell_type": "code",
      "source": [
        "query_prompt = PromptTemplate(\n",
        "    input_variables=[\"query\"],\n",
        "    #output_variables=[\"query\"],\n",
        "    template=\"\"\"Given the following user query: {query}\n",
        "- Access the vehicle data stored in the BigQuery tables: Temperature, Topspeed, and Mileage.\n",
        "- Remember that the Vehicle ID is only available in the Temperature table.\n",
        "- Retrieve the necessary information, including the Vehicle ID if requested.\n",
        "- Construct a SQL query that accurately fulfills the user's request.\"\"\"\n",
        ")\n"
      ],
      "metadata": {
        "id": "zuv0rD61OfYg"
      },
      "execution_count": 152,
      "outputs": []
    },
    {
      "cell_type": "code",
      "source": [
        "decider_prompt = PromptTemplate(\n",
        "    input_variables=[\"query\"],\n",
        "    output_variables=[\"should_continue\"],\n",
        "    template=\"\"\"Analyze the results of the previous SQL query: {query}.\n",
        "- Determine whether additional queries are necessary to fully address the user's request.\n",
        "- Consider factors like:\n",
        "    - Whether the Vehicle ID has been retrieved (if applicable).\n",
        "    - Whether all relevant information has been gathered.\n",
        "- If more queries are needed, explain what additional data should be retrieved.\n",
        "- If not, indicate that the task is complete.\"\"\"\n",
        ")\n"
      ],
      "metadata": {
        "id": "riuNUC6BQ1b0"
      },
      "execution_count": 153,
      "outputs": []
    },
    {
      "cell_type": "code",
      "source": [
        "from langchain_experimental.sql import SQLDatabaseSequentialChain\n",
        "from langchain.schema import BasePromptTemplate\n",
        "\n",
        "db = SQLDatabase(engine=engine,metadata=MetaData(bind=engine),include_tables=table_name,sample_rows_in_table_info=10)\n",
        "\n",
        "sql_seq_chain = SQLDatabaseSequentialChain.from_llm(llm, db,query_prompt=PROMPT)\n"
      ],
      "metadata": {
        "id": "3khacBPAbJXK"
      },
      "execution_count": 164,
      "outputs": []
    },
    {
      "cell_type": "code",
      "source": [
        "sql_seq_chain"
      ],
      "metadata": {
        "id": "tobH6Sq7bJUo",
        "colab": {
          "base_uri": "https://localhost:8080/"
        },
        "outputId": "560b6309-cda3-4896-bf59-1d55066f3f81"
      },
      "execution_count": 165,
      "outputs": [
        {
          "output_type": "execute_result",
          "data": {
            "text/plain": [
              "SQLDatabaseSequentialChain(decider_chain=LLMChain(prompt=PromptTemplate(input_variables=['query', 'table_names'], output_parser=CommaSeparatedListOutputParser(), template='Given the below input question and list of potential tables, output a comma separated list of the table names that may be necessary to answer this question.\\n\\nQuestion: {query}\\n\\nTable Names: {table_names}\\n\\nRelevant Table Names:'), llm=VertexAI(verbose=True, model_name='text-bison@001', client=<vertexai.language_models.TextGenerationModel object at 0x78a2c5f37d30>, client_preview=<vertexai.preview.language_models._PreviewTextGenerationModel object at 0x78a221a3d540>, temperature=0.1, max_output_tokens=1024, top_p=0.8), output_key='table_names'), sql_chain=SQLDatabaseChain(llm_chain=LLMChain(prompt=PromptTemplate(input_variables=['input'], template='\\n\"Find the average mileage for vehicles with a top speed greater than 200 km/h.\" : \"SELECT AVG(mileage) AS average_mileage FROM Mileage JOIN Topspeed ON Mileage.vehicle_number = Topspeed.vehicle_number WHERE top_speed > 200;\",\\n\"List the vehicle model, make, and capacitor for vehicles with a smoke emission between 40 and 60 grams/km.\": \"SELECT type, make, capacitor FROM Mileage JOIN Temperature ON Mileage.vehicle_number = Temperature.vehicle_number WHERE smoke_emission BETWEEN 40 AND 60;\",\\n\"Retrieve the vehicle IDs and temperatures for vehicles with an engine displacement (cc) of 1500 or higher.\" : \"SELECT vehicle_id, temperature FROM Temperature JOIN Topspeed ON Temperature.vehicle_number = Topspeed.vehicle_number WHERE cc >= 1500;\",\\n\"Calculate the total number of vehicles with a mileage of less than 15 km/L.\":\"SELECT COUNT(*) AS total_vehicles FROM Mileage WHERE mileage < 15;\",\\n\"Find the highest smoke emission value across all vehicles.\":\"SELECT MAX(smoke_emission) AS highest_smoke_emission FROM Temperature;\",\\n\"Show the vehicle model with the lowest temperature.\":\"SELECT type AS vehicle_model FROM Mileage JOIN Temperature ON Mileage.vehicle_number = Temperature.vehicle_number WHERE temperature = (SELECT MIN(temperature) FROM Temperature);\"  Given an input question, first create a syntactically correct bigquery  to run, then look at the results of the query and return the answer.\\nUnless the user specifies in the question a specific number of examples to obtain, query for at most 10000 results using the LIMIT clause as per BigQuery SQL\\n\\nstep 1 : Find the columns which are impacted based on the {input}. DONOT order by TABLE NAME\\nstep 2 : If the \"Vehicle_ID\" is asked , It is very important to note that the \"Vehicle_ID\" is only present in \"Temperature\" Table. So do the JOIN based on the \"vehicle_number\"\\nstep 3 : Create the query and check if the query is correct. Be careful to not query for columns that do not exist. Also, pay attention to which column is in which table.\\n\\n\\nDatabase Description:\\n\\nThere are 3 tables: Vehicle_ID, Mileage, and Topspeed.\\nTemperature contains: vehicle_id (unique numerical identifier), vehicle_number (alphanumeric code), smoke_emission (grams/km), and temperature (degrees Celsius).\\nTopspeed contains: vehicle_number, capacitor (Farads), cc (engine displacement), and top_speed (km/h).\\nMileage contains: vehicle_number, make (vehicle manufacturer), type (vehicle model), and mileage (km/L).\\nThe vehicle_id column is only present in the Temperature table.\\n\\nUse the following format:\\n\\nQuestion: \"Question here\"\\nSQLQuery: \"SQL Query to run\"\\nQuery check: \"Check if the SQLQuery is valid before executing it\"\\nSQLResult: \"Execute only if the Query check is valid\"\\nAnswer: \"Final answer here\"\\n\\nOnly use the following tables:\\n\\n\\'Temperature\\',\\'topSpeed\\',\\'Mileage\\'\\n\\nQuestion: {input}'), llm=VertexAI(verbose=True, model_name='text-bison@001', client=<vertexai.language_models.TextGenerationModel object at 0x78a2c5f37d30>, client_preview=<vertexai.preview.language_models._PreviewTextGenerationModel object at 0x78a221a3d540>, temperature=0.1, max_output_tokens=1024, top_p=0.8)), database=<langchain_community.utilities.sql_database.SQLDatabase object at 0x78a21e159060>))"
            ]
          },
          "metadata": {},
          "execution_count": 165
        }
      ]
    },
    {
      "cell_type": "code",
      "source": [
        "query = \"vehicle_id with maximum mileage\"\n",
        "result = sql_seq_chain( \"vehicle_id with maximum mileage\")"
      ],
      "metadata": {
        "colab": {
          "base_uri": "https://localhost:8080/",
          "height": 870
        },
        "id": "OQnNE2Fl5lhX",
        "outputId": "0de1abae-8071-46da-fffa-703a3822ce90"
      },
      "execution_count": 167,
      "outputs": [
        {
          "output_type": "stream",
          "name": "stderr",
          "text": [
            "/usr/local/lib/python3.10/dist-packages/langchain/chains/llm.py:316: UserWarning: The predict_and_parse method is deprecated, instead pass an output parser directly to LLMChain.\n",
            "  warnings.warn(\n"
          ]
        },
        {
          "output_type": "error",
          "ename": "DatabaseError",
          "evalue": "ignored",
          "traceback": [
            "\u001b[0;31m---------------------------------------------------------------------------\u001b[0m",
            "\u001b[0;31mBadRequest\u001b[0m                                Traceback (most recent call last)",
            "\u001b[0;32m/usr/local/lib/python3.10/dist-packages/google/cloud/bigquery/dbapi/cursor.py\u001b[0m in \u001b[0;36m_execute\u001b[0;34m(self, formatted_operation, parameters, job_id, job_config, parameter_types)\u001b[0m\n\u001b[1;32m    212\u001b[0m         \u001b[0;32mtry\u001b[0m\u001b[0;34m:\u001b[0m\u001b[0;34m\u001b[0m\u001b[0;34m\u001b[0m\u001b[0m\n\u001b[0;32m--> 213\u001b[0;31m             \u001b[0mself\u001b[0m\u001b[0;34m.\u001b[0m\u001b[0m_query_job\u001b[0m\u001b[0;34m.\u001b[0m\u001b[0mresult\u001b[0m\u001b[0;34m(\u001b[0m\u001b[0;34m)\u001b[0m\u001b[0;34m\u001b[0m\u001b[0;34m\u001b[0m\u001b[0m\n\u001b[0m\u001b[1;32m    214\u001b[0m         \u001b[0;32mexcept\u001b[0m \u001b[0mgoogle\u001b[0m\u001b[0;34m.\u001b[0m\u001b[0mcloud\u001b[0m\u001b[0;34m.\u001b[0m\u001b[0mexceptions\u001b[0m\u001b[0;34m.\u001b[0m\u001b[0mGoogleCloudError\u001b[0m \u001b[0;32mas\u001b[0m \u001b[0mexc\u001b[0m\u001b[0;34m:\u001b[0m\u001b[0;34m\u001b[0m\u001b[0;34m\u001b[0m\u001b[0m\n",
            "\u001b[0;32m/usr/local/lib/python3.10/dist-packages/google/cloud/bigquery/job/query.py\u001b[0m in \u001b[0;36mresult\u001b[0;34m(self, page_size, max_results, retry, timeout, start_index, job_retry)\u001b[0m\n\u001b[1;32m   1580\u001b[0m \u001b[0;34m\u001b[0m\u001b[0m\n\u001b[0;32m-> 1581\u001b[0;31m             \u001b[0mdo_get_result\u001b[0m\u001b[0;34m(\u001b[0m\u001b[0;34m)\u001b[0m\u001b[0;34m\u001b[0m\u001b[0;34m\u001b[0m\u001b[0m\n\u001b[0m\u001b[1;32m   1582\u001b[0m \u001b[0;34m\u001b[0m\u001b[0m\n",
            "\u001b[0;32m/usr/local/lib/python3.10/dist-packages/google/api_core/retry.py\u001b[0m in \u001b[0;36mretry_wrapped_func\u001b[0;34m(*args, **kwargs)\u001b[0m\n\u001b[1;32m    348\u001b[0m             )\n\u001b[0;32m--> 349\u001b[0;31m             return retry_target(\n\u001b[0m\u001b[1;32m    350\u001b[0m                 \u001b[0mtarget\u001b[0m\u001b[0;34m,\u001b[0m\u001b[0;34m\u001b[0m\u001b[0;34m\u001b[0m\u001b[0m\n",
            "\u001b[0;32m/usr/local/lib/python3.10/dist-packages/google/api_core/retry.py\u001b[0m in \u001b[0;36mretry_target\u001b[0;34m(target, predicate, sleep_generator, timeout, on_error, **kwargs)\u001b[0m\n\u001b[1;32m    190\u001b[0m         \u001b[0;32mtry\u001b[0m\u001b[0;34m:\u001b[0m\u001b[0;34m\u001b[0m\u001b[0;34m\u001b[0m\u001b[0m\n\u001b[0;32m--> 191\u001b[0;31m             \u001b[0;32mreturn\u001b[0m \u001b[0mtarget\u001b[0m\u001b[0;34m(\u001b[0m\u001b[0;34m)\u001b[0m\u001b[0;34m\u001b[0m\u001b[0;34m\u001b[0m\u001b[0m\n\u001b[0m\u001b[1;32m    192\u001b[0m \u001b[0;34m\u001b[0m\u001b[0m\n",
            "\u001b[0;32m/usr/local/lib/python3.10/dist-packages/google/cloud/bigquery/job/query.py\u001b[0m in \u001b[0;36mdo_get_result\u001b[0;34m()\u001b[0m\n\u001b[1;32m   1570\u001b[0m \u001b[0;34m\u001b[0m\u001b[0m\n\u001b[0;32m-> 1571\u001b[0;31m                 \u001b[0msuper\u001b[0m\u001b[0;34m(\u001b[0m\u001b[0mQueryJob\u001b[0m\u001b[0;34m,\u001b[0m \u001b[0mself\u001b[0m\u001b[0;34m)\u001b[0m\u001b[0;34m.\u001b[0m\u001b[0mresult\u001b[0m\u001b[0;34m(\u001b[0m\u001b[0mretry\u001b[0m\u001b[0;34m=\u001b[0m\u001b[0mretry\u001b[0m\u001b[0;34m,\u001b[0m \u001b[0mtimeout\u001b[0m\u001b[0;34m=\u001b[0m\u001b[0mtimeout\u001b[0m\u001b[0;34m)\u001b[0m\u001b[0;34m\u001b[0m\u001b[0;34m\u001b[0m\u001b[0m\n\u001b[0m\u001b[1;32m   1572\u001b[0m \u001b[0;34m\u001b[0m\u001b[0m\n",
            "\u001b[0;32m/usr/local/lib/python3.10/dist-packages/google/cloud/bigquery/job/base.py\u001b[0m in \u001b[0;36mresult\u001b[0;34m(self, retry, timeout)\u001b[0m\n\u001b[1;32m    921\u001b[0m         \u001b[0mkwargs\u001b[0m \u001b[0;34m=\u001b[0m \u001b[0;34m{\u001b[0m\u001b[0;34m}\u001b[0m \u001b[0;32mif\u001b[0m \u001b[0mretry\u001b[0m \u001b[0;32mis\u001b[0m \u001b[0mDEFAULT_RETRY\u001b[0m \u001b[0;32melse\u001b[0m \u001b[0;34m{\u001b[0m\u001b[0;34m\"retry\"\u001b[0m\u001b[0;34m:\u001b[0m \u001b[0mretry\u001b[0m\u001b[0;34m}\u001b[0m\u001b[0;34m\u001b[0m\u001b[0;34m\u001b[0m\u001b[0m\n\u001b[0;32m--> 922\u001b[0;31m         \u001b[0;32mreturn\u001b[0m \u001b[0msuper\u001b[0m\u001b[0;34m(\u001b[0m\u001b[0m_AsyncJob\u001b[0m\u001b[0;34m,\u001b[0m \u001b[0mself\u001b[0m\u001b[0;34m)\u001b[0m\u001b[0;34m.\u001b[0m\u001b[0mresult\u001b[0m\u001b[0;34m(\u001b[0m\u001b[0mtimeout\u001b[0m\u001b[0;34m=\u001b[0m\u001b[0mtimeout\u001b[0m\u001b[0;34m,\u001b[0m \u001b[0;34m**\u001b[0m\u001b[0mkwargs\u001b[0m\u001b[0;34m)\u001b[0m\u001b[0;34m\u001b[0m\u001b[0;34m\u001b[0m\u001b[0m\n\u001b[0m\u001b[1;32m    923\u001b[0m \u001b[0;34m\u001b[0m\u001b[0m\n",
            "\u001b[0;32m/usr/local/lib/python3.10/dist-packages/google/api_core/future/polling.py\u001b[0m in \u001b[0;36mresult\u001b[0;34m(self, timeout, retry, polling)\u001b[0m\n\u001b[1;32m    260\u001b[0m             \u001b[0;31m# Pylint doesn't recognize that this is valid in this case.\u001b[0m\u001b[0;34m\u001b[0m\u001b[0;34m\u001b[0m\u001b[0m\n\u001b[0;32m--> 261\u001b[0;31m             \u001b[0;32mraise\u001b[0m \u001b[0mself\u001b[0m\u001b[0;34m.\u001b[0m\u001b[0m_exception\u001b[0m\u001b[0;34m\u001b[0m\u001b[0;34m\u001b[0m\u001b[0m\n\u001b[0m\u001b[1;32m    262\u001b[0m \u001b[0;34m\u001b[0m\u001b[0m\n",
            "\u001b[0;31mBadRequest\u001b[0m: 400 Syntax error: Unexpected identifier \"Query\" at [2:1]\n\nLocation: US\nJob ID: d3703ecd-a268-465f-85a8-7e5279061e05\n",
            "\nDuring handling of the above exception, another exception occurred:\n",
            "\u001b[0;31mDatabaseError\u001b[0m                             Traceback (most recent call last)",
            "\u001b[0;32m~/.local/lib/python3.10/site-packages/sqlalchemy/engine/base.py\u001b[0m in \u001b[0;36m_execute_context\u001b[0;34m(self, dialect, constructor, statement, parameters, execution_options, *args, **kw)\u001b[0m\n\u001b[1;32m   1904\u001b[0m                 \u001b[0;32mif\u001b[0m \u001b[0;32mnot\u001b[0m \u001b[0mevt_handled\u001b[0m\u001b[0;34m:\u001b[0m\u001b[0;34m\u001b[0m\u001b[0;34m\u001b[0m\u001b[0m\n\u001b[0;32m-> 1905\u001b[0;31m                     self.dialect.do_execute(\n\u001b[0m\u001b[1;32m   1906\u001b[0m                         \u001b[0mcursor\u001b[0m\u001b[0;34m,\u001b[0m \u001b[0mstatement\u001b[0m\u001b[0;34m,\u001b[0m \u001b[0mparameters\u001b[0m\u001b[0;34m,\u001b[0m \u001b[0mcontext\u001b[0m\u001b[0;34m\u001b[0m\u001b[0;34m\u001b[0m\u001b[0m\n",
            "\u001b[0;32m~/.local/lib/python3.10/site-packages/sqlalchemy/engine/default.py\u001b[0m in \u001b[0;36mdo_execute\u001b[0;34m(self, cursor, statement, parameters, context)\u001b[0m\n\u001b[1;32m    735\u001b[0m     \u001b[0;32mdef\u001b[0m \u001b[0mdo_execute\u001b[0m\u001b[0;34m(\u001b[0m\u001b[0mself\u001b[0m\u001b[0;34m,\u001b[0m \u001b[0mcursor\u001b[0m\u001b[0;34m,\u001b[0m \u001b[0mstatement\u001b[0m\u001b[0;34m,\u001b[0m \u001b[0mparameters\u001b[0m\u001b[0;34m,\u001b[0m \u001b[0mcontext\u001b[0m\u001b[0;34m=\u001b[0m\u001b[0;32mNone\u001b[0m\u001b[0;34m)\u001b[0m\u001b[0;34m:\u001b[0m\u001b[0;34m\u001b[0m\u001b[0;34m\u001b[0m\u001b[0m\n\u001b[0;32m--> 736\u001b[0;31m         \u001b[0mcursor\u001b[0m\u001b[0;34m.\u001b[0m\u001b[0mexecute\u001b[0m\u001b[0;34m(\u001b[0m\u001b[0mstatement\u001b[0m\u001b[0;34m,\u001b[0m \u001b[0mparameters\u001b[0m\u001b[0;34m)\u001b[0m\u001b[0;34m\u001b[0m\u001b[0;34m\u001b[0m\u001b[0m\n\u001b[0m\u001b[1;32m    737\u001b[0m \u001b[0;34m\u001b[0m\u001b[0m\n",
            "\u001b[0;32m/usr/local/lib/python3.10/dist-packages/google/cloud/bigquery/dbapi/_helpers.py\u001b[0m in \u001b[0;36mwith_closed_check\u001b[0;34m(self, *args, **kwargs)\u001b[0m\n\u001b[1;32m    493\u001b[0m                 \u001b[0;32mraise\u001b[0m \u001b[0mexc_class\u001b[0m\u001b[0;34m(\u001b[0m\u001b[0mexc_msg\u001b[0m\u001b[0;34m)\u001b[0m\u001b[0;34m\u001b[0m\u001b[0;34m\u001b[0m\u001b[0m\n\u001b[0;32m--> 494\u001b[0;31m             \u001b[0;32mreturn\u001b[0m \u001b[0mmethod\u001b[0m\u001b[0;34m(\u001b[0m\u001b[0mself\u001b[0m\u001b[0;34m,\u001b[0m \u001b[0;34m*\u001b[0m\u001b[0margs\u001b[0m\u001b[0;34m,\u001b[0m \u001b[0;34m**\u001b[0m\u001b[0mkwargs\u001b[0m\u001b[0;34m)\u001b[0m\u001b[0;34m\u001b[0m\u001b[0;34m\u001b[0m\u001b[0m\n\u001b[0m\u001b[1;32m    495\u001b[0m \u001b[0;34m\u001b[0m\u001b[0m\n",
            "\u001b[0;32m/usr/local/lib/python3.10/dist-packages/google/cloud/bigquery/dbapi/cursor.py\u001b[0m in \u001b[0;36mexecute\u001b[0;34m(self, operation, parameters, job_id, job_config)\u001b[0m\n\u001b[1;32m    175\u001b[0m         \u001b[0mformatted_operation\u001b[0m\u001b[0;34m,\u001b[0m \u001b[0mparameter_types\u001b[0m \u001b[0;34m=\u001b[0m \u001b[0m_format_operation\u001b[0m\u001b[0;34m(\u001b[0m\u001b[0moperation\u001b[0m\u001b[0;34m,\u001b[0m \u001b[0mparameters\u001b[0m\u001b[0;34m)\u001b[0m\u001b[0;34m\u001b[0m\u001b[0;34m\u001b[0m\u001b[0m\n\u001b[0;32m--> 176\u001b[0;31m         self._execute(\n\u001b[0m\u001b[1;32m    177\u001b[0m             \u001b[0mformatted_operation\u001b[0m\u001b[0;34m,\u001b[0m \u001b[0mparameters\u001b[0m\u001b[0;34m,\u001b[0m \u001b[0mjob_id\u001b[0m\u001b[0;34m,\u001b[0m \u001b[0mjob_config\u001b[0m\u001b[0;34m,\u001b[0m \u001b[0mparameter_types\u001b[0m\u001b[0;34m\u001b[0m\u001b[0;34m\u001b[0m\u001b[0m\n",
            "\u001b[0;32m/usr/local/lib/python3.10/dist-packages/google/cloud/bigquery/dbapi/cursor.py\u001b[0m in \u001b[0;36m_execute\u001b[0;34m(self, formatted_operation, parameters, job_id, job_config, parameter_types)\u001b[0m\n\u001b[1;32m    214\u001b[0m         \u001b[0;32mexcept\u001b[0m \u001b[0mgoogle\u001b[0m\u001b[0;34m.\u001b[0m\u001b[0mcloud\u001b[0m\u001b[0;34m.\u001b[0m\u001b[0mexceptions\u001b[0m\u001b[0;34m.\u001b[0m\u001b[0mGoogleCloudError\u001b[0m \u001b[0;32mas\u001b[0m \u001b[0mexc\u001b[0m\u001b[0;34m:\u001b[0m\u001b[0;34m\u001b[0m\u001b[0;34m\u001b[0m\u001b[0m\n\u001b[0;32m--> 215\u001b[0;31m             \u001b[0;32mraise\u001b[0m \u001b[0mexceptions\u001b[0m\u001b[0;34m.\u001b[0m\u001b[0mDatabaseError\u001b[0m\u001b[0;34m(\u001b[0m\u001b[0mexc\u001b[0m\u001b[0;34m)\u001b[0m\u001b[0;34m\u001b[0m\u001b[0;34m\u001b[0m\u001b[0m\n\u001b[0m\u001b[1;32m    216\u001b[0m \u001b[0;34m\u001b[0m\u001b[0m\n",
            "\u001b[0;31mDatabaseError\u001b[0m: 400 Syntax error: Unexpected identifier \"Query\" at [2:1]\n\nLocation: US\nJob ID: d3703ecd-a268-465f-85a8-7e5279061e05\n",
            "\nThe above exception was the direct cause of the following exception:\n",
            "\u001b[0;31mDatabaseError\u001b[0m                             Traceback (most recent call last)",
            "\u001b[0;32m<ipython-input-167-6629f783c707>\u001b[0m in \u001b[0;36m<cell line: 2>\u001b[0;34m()\u001b[0m\n\u001b[1;32m      1\u001b[0m \u001b[0mquery\u001b[0m \u001b[0;34m=\u001b[0m \u001b[0;34m\"vehicle_id with maximum mileage\"\u001b[0m\u001b[0;34m\u001b[0m\u001b[0;34m\u001b[0m\u001b[0m\n\u001b[0;32m----> 2\u001b[0;31m \u001b[0mresult\u001b[0m \u001b[0;34m=\u001b[0m \u001b[0msql_seq_chain\u001b[0m\u001b[0;34m(\u001b[0m \u001b[0;34m\"vehicle_id with maximum mileage\"\u001b[0m\u001b[0;34m)\u001b[0m\u001b[0;34m\u001b[0m\u001b[0;34m\u001b[0m\u001b[0m\n\u001b[0m",
            "\u001b[0;32m/usr/local/lib/python3.10/dist-packages/langchain/chains/base.py\u001b[0m in \u001b[0;36m__call__\u001b[0;34m(self, inputs, return_only_outputs, callbacks, tags, metadata, run_name, include_run_info)\u001b[0m\n\u001b[1;32m    314\u001b[0m         \u001b[0;32mexcept\u001b[0m \u001b[0mBaseException\u001b[0m \u001b[0;32mas\u001b[0m \u001b[0me\u001b[0m\u001b[0;34m:\u001b[0m\u001b[0;34m\u001b[0m\u001b[0;34m\u001b[0m\u001b[0m\n\u001b[1;32m    315\u001b[0m             \u001b[0mrun_manager\u001b[0m\u001b[0;34m.\u001b[0m\u001b[0mon_chain_error\u001b[0m\u001b[0;34m(\u001b[0m\u001b[0me\u001b[0m\u001b[0;34m)\u001b[0m\u001b[0;34m\u001b[0m\u001b[0;34m\u001b[0m\u001b[0m\n\u001b[0;32m--> 316\u001b[0;31m             \u001b[0;32mraise\u001b[0m \u001b[0me\u001b[0m\u001b[0;34m\u001b[0m\u001b[0;34m\u001b[0m\u001b[0m\n\u001b[0m\u001b[1;32m    317\u001b[0m         \u001b[0mrun_manager\u001b[0m\u001b[0;34m.\u001b[0m\u001b[0mon_chain_end\u001b[0m\u001b[0;34m(\u001b[0m\u001b[0moutputs\u001b[0m\u001b[0;34m)\u001b[0m\u001b[0;34m\u001b[0m\u001b[0;34m\u001b[0m\u001b[0m\n\u001b[1;32m    318\u001b[0m         final_outputs: Dict[str, Any] = self.prep_outputs(\n",
            "\u001b[0;32m/usr/local/lib/python3.10/dist-packages/langchain/chains/base.py\u001b[0m in \u001b[0;36m__call__\u001b[0;34m(self, inputs, return_only_outputs, callbacks, tags, metadata, run_name, include_run_info)\u001b[0m\n\u001b[1;32m    308\u001b[0m         \u001b[0;32mtry\u001b[0m\u001b[0;34m:\u001b[0m\u001b[0;34m\u001b[0m\u001b[0;34m\u001b[0m\u001b[0m\n\u001b[1;32m    309\u001b[0m             outputs = (\n\u001b[0;32m--> 310\u001b[0;31m                 \u001b[0mself\u001b[0m\u001b[0;34m.\u001b[0m\u001b[0m_call\u001b[0m\u001b[0;34m(\u001b[0m\u001b[0minputs\u001b[0m\u001b[0;34m,\u001b[0m \u001b[0mrun_manager\u001b[0m\u001b[0;34m=\u001b[0m\u001b[0mrun_manager\u001b[0m\u001b[0;34m)\u001b[0m\u001b[0;34m\u001b[0m\u001b[0;34m\u001b[0m\u001b[0m\n\u001b[0m\u001b[1;32m    311\u001b[0m                 \u001b[0;32mif\u001b[0m \u001b[0mnew_arg_supported\u001b[0m\u001b[0;34m\u001b[0m\u001b[0;34m\u001b[0m\u001b[0m\n\u001b[1;32m    312\u001b[0m                 \u001b[0;32melse\u001b[0m \u001b[0mself\u001b[0m\u001b[0;34m.\u001b[0m\u001b[0m_call\u001b[0m\u001b[0;34m(\u001b[0m\u001b[0minputs\u001b[0m\u001b[0;34m)\u001b[0m\u001b[0;34m\u001b[0m\u001b[0;34m\u001b[0m\u001b[0m\n",
            "\u001b[0;32m/usr/local/lib/python3.10/dist-packages/langchain_experimental/sql/base.py\u001b[0m in \u001b[0;36m_call\u001b[0;34m(self, inputs, run_manager)\u001b[0m\n\u001b[1;32m    307\u001b[0m             \u001b[0;34m\"table_names_to_use\"\u001b[0m\u001b[0;34m:\u001b[0m \u001b[0mtable_names_to_use\u001b[0m\u001b[0;34m,\u001b[0m\u001b[0;34m\u001b[0m\u001b[0;34m\u001b[0m\u001b[0m\n\u001b[1;32m    308\u001b[0m         }\n\u001b[0;32m--> 309\u001b[0;31m         return self.sql_chain(\n\u001b[0m\u001b[1;32m    310\u001b[0m             \u001b[0mnew_inputs\u001b[0m\u001b[0;34m,\u001b[0m \u001b[0mcallbacks\u001b[0m\u001b[0;34m=\u001b[0m\u001b[0m_run_manager\u001b[0m\u001b[0;34m.\u001b[0m\u001b[0mget_child\u001b[0m\u001b[0;34m(\u001b[0m\u001b[0;34m)\u001b[0m\u001b[0;34m,\u001b[0m \u001b[0mreturn_only_outputs\u001b[0m\u001b[0;34m=\u001b[0m\u001b[0;32mTrue\u001b[0m\u001b[0;34m\u001b[0m\u001b[0;34m\u001b[0m\u001b[0m\n\u001b[1;32m    311\u001b[0m         )\n",
            "\u001b[0;32m/usr/local/lib/python3.10/dist-packages/langchain/chains/base.py\u001b[0m in \u001b[0;36m__call__\u001b[0;34m(self, inputs, return_only_outputs, callbacks, tags, metadata, run_name, include_run_info)\u001b[0m\n\u001b[1;32m    314\u001b[0m         \u001b[0;32mexcept\u001b[0m \u001b[0mBaseException\u001b[0m \u001b[0;32mas\u001b[0m \u001b[0me\u001b[0m\u001b[0;34m:\u001b[0m\u001b[0;34m\u001b[0m\u001b[0;34m\u001b[0m\u001b[0m\n\u001b[1;32m    315\u001b[0m             \u001b[0mrun_manager\u001b[0m\u001b[0;34m.\u001b[0m\u001b[0mon_chain_error\u001b[0m\u001b[0;34m(\u001b[0m\u001b[0me\u001b[0m\u001b[0;34m)\u001b[0m\u001b[0;34m\u001b[0m\u001b[0;34m\u001b[0m\u001b[0m\n\u001b[0;32m--> 316\u001b[0;31m             \u001b[0;32mraise\u001b[0m \u001b[0me\u001b[0m\u001b[0;34m\u001b[0m\u001b[0;34m\u001b[0m\u001b[0m\n\u001b[0m\u001b[1;32m    317\u001b[0m         \u001b[0mrun_manager\u001b[0m\u001b[0;34m.\u001b[0m\u001b[0mon_chain_end\u001b[0m\u001b[0;34m(\u001b[0m\u001b[0moutputs\u001b[0m\u001b[0;34m)\u001b[0m\u001b[0;34m\u001b[0m\u001b[0;34m\u001b[0m\u001b[0m\n\u001b[1;32m    318\u001b[0m         final_outputs: Dict[str, Any] = self.prep_outputs(\n",
            "\u001b[0;32m/usr/local/lib/python3.10/dist-packages/langchain/chains/base.py\u001b[0m in \u001b[0;36m__call__\u001b[0;34m(self, inputs, return_only_outputs, callbacks, tags, metadata, run_name, include_run_info)\u001b[0m\n\u001b[1;32m    308\u001b[0m         \u001b[0;32mtry\u001b[0m\u001b[0;34m:\u001b[0m\u001b[0;34m\u001b[0m\u001b[0;34m\u001b[0m\u001b[0m\n\u001b[1;32m    309\u001b[0m             outputs = (\n\u001b[0;32m--> 310\u001b[0;31m                 \u001b[0mself\u001b[0m\u001b[0;34m.\u001b[0m\u001b[0m_call\u001b[0m\u001b[0;34m(\u001b[0m\u001b[0minputs\u001b[0m\u001b[0;34m,\u001b[0m \u001b[0mrun_manager\u001b[0m\u001b[0;34m=\u001b[0m\u001b[0mrun_manager\u001b[0m\u001b[0;34m)\u001b[0m\u001b[0;34m\u001b[0m\u001b[0;34m\u001b[0m\u001b[0m\n\u001b[0m\u001b[1;32m    311\u001b[0m                 \u001b[0;32mif\u001b[0m \u001b[0mnew_arg_supported\u001b[0m\u001b[0;34m\u001b[0m\u001b[0;34m\u001b[0m\u001b[0m\n\u001b[1;32m    312\u001b[0m                 \u001b[0;32melse\u001b[0m \u001b[0mself\u001b[0m\u001b[0;34m.\u001b[0m\u001b[0m_call\u001b[0m\u001b[0;34m(\u001b[0m\u001b[0minputs\u001b[0m\u001b[0;34m)\u001b[0m\u001b[0;34m\u001b[0m\u001b[0;34m\u001b[0m\u001b[0m\n",
            "\u001b[0;32m/usr/local/lib/python3.10/dist-packages/langchain_experimental/sql/base.py\u001b[0m in \u001b[0;36m_call\u001b[0;34m(self, inputs, run_manager)\u001b[0m\n\u001b[1;32m    199\u001b[0m             \u001b[0;31m# improvement of few shot prompt seeds\u001b[0m\u001b[0;34m\u001b[0m\u001b[0;34m\u001b[0m\u001b[0m\n\u001b[1;32m    200\u001b[0m             \u001b[0mexc\u001b[0m\u001b[0;34m.\u001b[0m\u001b[0mintermediate_steps\u001b[0m \u001b[0;34m=\u001b[0m \u001b[0mintermediate_steps\u001b[0m  \u001b[0;31m# type: ignore\u001b[0m\u001b[0;34m\u001b[0m\u001b[0;34m\u001b[0m\u001b[0m\n\u001b[0;32m--> 201\u001b[0;31m             \u001b[0;32mraise\u001b[0m \u001b[0mexc\u001b[0m\u001b[0;34m\u001b[0m\u001b[0;34m\u001b[0m\u001b[0m\n\u001b[0m\u001b[1;32m    202\u001b[0m \u001b[0;34m\u001b[0m\u001b[0m\n\u001b[1;32m    203\u001b[0m     \u001b[0;34m@\u001b[0m\u001b[0mproperty\u001b[0m\u001b[0;34m\u001b[0m\u001b[0;34m\u001b[0m\u001b[0m\n",
            "\u001b[0;32m/usr/local/lib/python3.10/dist-packages/langchain_experimental/sql/base.py\u001b[0m in \u001b[0;36m_call\u001b[0;34m(self, inputs, run_manager)\u001b[0m\n\u001b[1;32m    144\u001b[0m                 \u001b[0;32mif\u001b[0m \u001b[0mSQL_QUERY\u001b[0m \u001b[0;32min\u001b[0m \u001b[0msql_cmd\u001b[0m\u001b[0;34m:\u001b[0m\u001b[0;34m\u001b[0m\u001b[0;34m\u001b[0m\u001b[0m\n\u001b[1;32m    145\u001b[0m                     \u001b[0msql_cmd\u001b[0m \u001b[0;34m=\u001b[0m \u001b[0msql_cmd\u001b[0m\u001b[0;34m.\u001b[0m\u001b[0msplit\u001b[0m\u001b[0;34m(\u001b[0m\u001b[0mSQL_QUERY\u001b[0m\u001b[0;34m)\u001b[0m\u001b[0;34m[\u001b[0m\u001b[0;36m1\u001b[0m\u001b[0;34m]\u001b[0m\u001b[0;34m.\u001b[0m\u001b[0mstrip\u001b[0m\u001b[0;34m(\u001b[0m\u001b[0;34m)\u001b[0m\u001b[0;34m\u001b[0m\u001b[0;34m\u001b[0m\u001b[0m\n\u001b[0;32m--> 146\u001b[0;31m                 \u001b[0mresult\u001b[0m \u001b[0;34m=\u001b[0m \u001b[0mself\u001b[0m\u001b[0;34m.\u001b[0m\u001b[0mdatabase\u001b[0m\u001b[0;34m.\u001b[0m\u001b[0mrun\u001b[0m\u001b[0;34m(\u001b[0m\u001b[0msql_cmd\u001b[0m\u001b[0;34m)\u001b[0m\u001b[0;34m\u001b[0m\u001b[0;34m\u001b[0m\u001b[0m\n\u001b[0m\u001b[1;32m    147\u001b[0m                 \u001b[0mintermediate_steps\u001b[0m\u001b[0;34m.\u001b[0m\u001b[0mappend\u001b[0m\u001b[0;34m(\u001b[0m\u001b[0mstr\u001b[0m\u001b[0;34m(\u001b[0m\u001b[0mresult\u001b[0m\u001b[0;34m)\u001b[0m\u001b[0;34m)\u001b[0m  \u001b[0;31m# output: sql exec\u001b[0m\u001b[0;34m\u001b[0m\u001b[0;34m\u001b[0m\u001b[0m\n\u001b[1;32m    148\u001b[0m             \u001b[0;32melse\u001b[0m\u001b[0;34m:\u001b[0m\u001b[0;34m\u001b[0m\u001b[0;34m\u001b[0m\u001b[0m\n",
            "\u001b[0;32m~/.local/lib/python3.10/site-packages/langchain_community/utilities/sql_database.py\u001b[0m in \u001b[0;36mrun\u001b[0;34m(self, command, fetch, include_columns)\u001b[0m\n\u001b[1;32m    435\u001b[0m         \u001b[0mIf\u001b[0m \u001b[0mthe\u001b[0m \u001b[0mstatement\u001b[0m \u001b[0mreturns\u001b[0m \u001b[0mno\u001b[0m \u001b[0mrows\u001b[0m\u001b[0;34m,\u001b[0m \u001b[0man\u001b[0m \u001b[0mempty\u001b[0m \u001b[0mstring\u001b[0m \u001b[0;32mis\u001b[0m \u001b[0mreturned\u001b[0m\u001b[0;34m.\u001b[0m\u001b[0;34m\u001b[0m\u001b[0;34m\u001b[0m\u001b[0m\n\u001b[1;32m    436\u001b[0m         \"\"\"\n\u001b[0;32m--> 437\u001b[0;31m         \u001b[0mresult\u001b[0m \u001b[0;34m=\u001b[0m \u001b[0mself\u001b[0m\u001b[0;34m.\u001b[0m\u001b[0m_execute\u001b[0m\u001b[0;34m(\u001b[0m\u001b[0mcommand\u001b[0m\u001b[0;34m,\u001b[0m \u001b[0mfetch\u001b[0m\u001b[0;34m)\u001b[0m\u001b[0;34m\u001b[0m\u001b[0;34m\u001b[0m\u001b[0m\n\u001b[0m\u001b[1;32m    438\u001b[0m \u001b[0;34m\u001b[0m\u001b[0m\n\u001b[1;32m    439\u001b[0m         res = [\n",
            "\u001b[0;32m~/.local/lib/python3.10/site-packages/langchain_community/utilities/sql_database.py\u001b[0m in \u001b[0;36m_execute\u001b[0;34m(self, command, fetch)\u001b[0m\n\u001b[1;32m    412\u001b[0m                 \u001b[0;32melse\u001b[0m\u001b[0;34m:\u001b[0m  \u001b[0;31m# postgresql and other compatible dialects\u001b[0m\u001b[0;34m\u001b[0m\u001b[0;34m\u001b[0m\u001b[0m\n\u001b[1;32m    413\u001b[0m                     \u001b[0mconnection\u001b[0m\u001b[0;34m.\u001b[0m\u001b[0mexec_driver_sql\u001b[0m\u001b[0;34m(\u001b[0m\u001b[0;34m\"SET search_path TO %s\"\u001b[0m\u001b[0;34m,\u001b[0m \u001b[0;34m(\u001b[0m\u001b[0mself\u001b[0m\u001b[0;34m.\u001b[0m\u001b[0m_schema\u001b[0m\u001b[0;34m,\u001b[0m\u001b[0;34m)\u001b[0m\u001b[0;34m)\u001b[0m\u001b[0;34m\u001b[0m\u001b[0;34m\u001b[0m\u001b[0m\n\u001b[0;32m--> 414\u001b[0;31m             \u001b[0mcursor\u001b[0m \u001b[0;34m=\u001b[0m \u001b[0mconnection\u001b[0m\u001b[0;34m.\u001b[0m\u001b[0mexecute\u001b[0m\u001b[0;34m(\u001b[0m\u001b[0mtext\u001b[0m\u001b[0;34m(\u001b[0m\u001b[0mcommand\u001b[0m\u001b[0;34m)\u001b[0m\u001b[0;34m)\u001b[0m\u001b[0;34m\u001b[0m\u001b[0;34m\u001b[0m\u001b[0m\n\u001b[0m\u001b[1;32m    415\u001b[0m             \u001b[0;32mif\u001b[0m \u001b[0mcursor\u001b[0m\u001b[0;34m.\u001b[0m\u001b[0mreturns_rows\u001b[0m\u001b[0;34m:\u001b[0m\u001b[0;34m\u001b[0m\u001b[0;34m\u001b[0m\u001b[0m\n\u001b[1;32m    416\u001b[0m                 \u001b[0;32mif\u001b[0m \u001b[0mfetch\u001b[0m \u001b[0;34m==\u001b[0m \u001b[0;34m\"all\"\u001b[0m\u001b[0;34m:\u001b[0m\u001b[0;34m\u001b[0m\u001b[0;34m\u001b[0m\u001b[0m\n",
            "\u001b[0;32m~/.local/lib/python3.10/site-packages/sqlalchemy/engine/base.py\u001b[0m in \u001b[0;36mexecute\u001b[0;34m(self, statement, *multiparams, **params)\u001b[0m\n\u001b[1;32m   1383\u001b[0m             )\n\u001b[1;32m   1384\u001b[0m         \u001b[0;32melse\u001b[0m\u001b[0;34m:\u001b[0m\u001b[0;34m\u001b[0m\u001b[0;34m\u001b[0m\u001b[0m\n\u001b[0;32m-> 1385\u001b[0;31m             \u001b[0;32mreturn\u001b[0m \u001b[0mmeth\u001b[0m\u001b[0;34m(\u001b[0m\u001b[0mself\u001b[0m\u001b[0;34m,\u001b[0m \u001b[0mmultiparams\u001b[0m\u001b[0;34m,\u001b[0m \u001b[0mparams\u001b[0m\u001b[0;34m,\u001b[0m \u001b[0m_EMPTY_EXECUTION_OPTS\u001b[0m\u001b[0;34m)\u001b[0m\u001b[0;34m\u001b[0m\u001b[0;34m\u001b[0m\u001b[0m\n\u001b[0m\u001b[1;32m   1386\u001b[0m \u001b[0;34m\u001b[0m\u001b[0m\n\u001b[1;32m   1387\u001b[0m     \u001b[0;32mdef\u001b[0m \u001b[0m_execute_function\u001b[0m\u001b[0;34m(\u001b[0m\u001b[0mself\u001b[0m\u001b[0;34m,\u001b[0m \u001b[0mfunc\u001b[0m\u001b[0;34m,\u001b[0m \u001b[0mmultiparams\u001b[0m\u001b[0;34m,\u001b[0m \u001b[0mparams\u001b[0m\u001b[0;34m,\u001b[0m \u001b[0mexecution_options\u001b[0m\u001b[0;34m)\u001b[0m\u001b[0;34m:\u001b[0m\u001b[0;34m\u001b[0m\u001b[0;34m\u001b[0m\u001b[0m\n",
            "\u001b[0;32m~/.local/lib/python3.10/site-packages/sqlalchemy/sql/elements.py\u001b[0m in \u001b[0;36m_execute_on_connection\u001b[0;34m(self, connection, multiparams, params, execution_options, _force)\u001b[0m\n\u001b[1;32m    332\u001b[0m     ):\n\u001b[1;32m    333\u001b[0m         \u001b[0;32mif\u001b[0m \u001b[0m_force\u001b[0m \u001b[0;32mor\u001b[0m \u001b[0mself\u001b[0m\u001b[0;34m.\u001b[0m\u001b[0msupports_execution\u001b[0m\u001b[0;34m:\u001b[0m\u001b[0;34m\u001b[0m\u001b[0;34m\u001b[0m\u001b[0m\n\u001b[0;32m--> 334\u001b[0;31m             return connection._execute_clauseelement(\n\u001b[0m\u001b[1;32m    335\u001b[0m                 \u001b[0mself\u001b[0m\u001b[0;34m,\u001b[0m \u001b[0mmultiparams\u001b[0m\u001b[0;34m,\u001b[0m \u001b[0mparams\u001b[0m\u001b[0;34m,\u001b[0m \u001b[0mexecution_options\u001b[0m\u001b[0;34m\u001b[0m\u001b[0;34m\u001b[0m\u001b[0m\n\u001b[1;32m    336\u001b[0m             )\n",
            "\u001b[0;32m~/.local/lib/python3.10/site-packages/sqlalchemy/engine/base.py\u001b[0m in \u001b[0;36m_execute_clauseelement\u001b[0;34m(self, elem, multiparams, params, execution_options)\u001b[0m\n\u001b[1;32m   1575\u001b[0m             \u001b[0mlinting\u001b[0m\u001b[0;34m=\u001b[0m\u001b[0mself\u001b[0m\u001b[0;34m.\u001b[0m\u001b[0mdialect\u001b[0m\u001b[0;34m.\u001b[0m\u001b[0mcompiler_linting\u001b[0m \u001b[0;34m|\u001b[0m \u001b[0mcompiler\u001b[0m\u001b[0;34m.\u001b[0m\u001b[0mWARN_LINTING\u001b[0m\u001b[0;34m,\u001b[0m\u001b[0;34m\u001b[0m\u001b[0;34m\u001b[0m\u001b[0m\n\u001b[1;32m   1576\u001b[0m         )\n\u001b[0;32m-> 1577\u001b[0;31m         ret = self._execute_context(\n\u001b[0m\u001b[1;32m   1578\u001b[0m             \u001b[0mdialect\u001b[0m\u001b[0;34m,\u001b[0m\u001b[0;34m\u001b[0m\u001b[0;34m\u001b[0m\u001b[0m\n\u001b[1;32m   1579\u001b[0m             \u001b[0mdialect\u001b[0m\u001b[0;34m.\u001b[0m\u001b[0mexecution_ctx_cls\u001b[0m\u001b[0;34m.\u001b[0m\u001b[0m_init_compiled\u001b[0m\u001b[0;34m,\u001b[0m\u001b[0;34m\u001b[0m\u001b[0;34m\u001b[0m\u001b[0m\n",
            "\u001b[0;32m~/.local/lib/python3.10/site-packages/sqlalchemy/engine/base.py\u001b[0m in \u001b[0;36m_execute_context\u001b[0;34m(self, dialect, constructor, statement, parameters, execution_options, *args, **kw)\u001b[0m\n\u001b[1;32m   1946\u001b[0m \u001b[0;34m\u001b[0m\u001b[0m\n\u001b[1;32m   1947\u001b[0m         \u001b[0;32mexcept\u001b[0m \u001b[0mBaseException\u001b[0m \u001b[0;32mas\u001b[0m \u001b[0me\u001b[0m\u001b[0;34m:\u001b[0m\u001b[0;34m\u001b[0m\u001b[0;34m\u001b[0m\u001b[0m\n\u001b[0;32m-> 1948\u001b[0;31m             self._handle_dbapi_exception(\n\u001b[0m\u001b[1;32m   1949\u001b[0m                 \u001b[0me\u001b[0m\u001b[0;34m,\u001b[0m \u001b[0mstatement\u001b[0m\u001b[0;34m,\u001b[0m \u001b[0mparameters\u001b[0m\u001b[0;34m,\u001b[0m \u001b[0mcursor\u001b[0m\u001b[0;34m,\u001b[0m \u001b[0mcontext\u001b[0m\u001b[0;34m\u001b[0m\u001b[0;34m\u001b[0m\u001b[0m\n\u001b[1;32m   1950\u001b[0m             )\n",
            "\u001b[0;32m~/.local/lib/python3.10/site-packages/sqlalchemy/engine/base.py\u001b[0m in \u001b[0;36m_handle_dbapi_exception\u001b[0;34m(self, e, statement, parameters, cursor, context)\u001b[0m\n\u001b[1;32m   2127\u001b[0m                 \u001b[0mutil\u001b[0m\u001b[0;34m.\u001b[0m\u001b[0mraise_\u001b[0m\u001b[0;34m(\u001b[0m\u001b[0mnewraise\u001b[0m\u001b[0;34m,\u001b[0m \u001b[0mwith_traceback\u001b[0m\u001b[0;34m=\u001b[0m\u001b[0mexc_info\u001b[0m\u001b[0;34m[\u001b[0m\u001b[0;36m2\u001b[0m\u001b[0;34m]\u001b[0m\u001b[0;34m,\u001b[0m \u001b[0mfrom_\u001b[0m\u001b[0;34m=\u001b[0m\u001b[0me\u001b[0m\u001b[0;34m)\u001b[0m\u001b[0;34m\u001b[0m\u001b[0;34m\u001b[0m\u001b[0m\n\u001b[1;32m   2128\u001b[0m             \u001b[0;32melif\u001b[0m \u001b[0mshould_wrap\u001b[0m\u001b[0;34m:\u001b[0m\u001b[0;34m\u001b[0m\u001b[0;34m\u001b[0m\u001b[0m\n\u001b[0;32m-> 2129\u001b[0;31m                 util.raise_(\n\u001b[0m\u001b[1;32m   2130\u001b[0m                     \u001b[0msqlalchemy_exception\u001b[0m\u001b[0;34m,\u001b[0m \u001b[0mwith_traceback\u001b[0m\u001b[0;34m=\u001b[0m\u001b[0mexc_info\u001b[0m\u001b[0;34m[\u001b[0m\u001b[0;36m2\u001b[0m\u001b[0;34m]\u001b[0m\u001b[0;34m,\u001b[0m \u001b[0mfrom_\u001b[0m\u001b[0;34m=\u001b[0m\u001b[0me\u001b[0m\u001b[0;34m\u001b[0m\u001b[0;34m\u001b[0m\u001b[0m\n\u001b[1;32m   2131\u001b[0m                 )\n",
            "\u001b[0;32m~/.local/lib/python3.10/site-packages/sqlalchemy/util/compat.py\u001b[0m in \u001b[0;36mraise_\u001b[0;34m(***failed resolving arguments***)\u001b[0m\n\u001b[1;32m    209\u001b[0m \u001b[0;34m\u001b[0m\u001b[0m\n\u001b[1;32m    210\u001b[0m         \u001b[0;32mtry\u001b[0m\u001b[0;34m:\u001b[0m\u001b[0;34m\u001b[0m\u001b[0;34m\u001b[0m\u001b[0m\n\u001b[0;32m--> 211\u001b[0;31m             \u001b[0;32mraise\u001b[0m \u001b[0mexception\u001b[0m\u001b[0;34m\u001b[0m\u001b[0;34m\u001b[0m\u001b[0m\n\u001b[0m\u001b[1;32m    212\u001b[0m         \u001b[0;32mfinally\u001b[0m\u001b[0;34m:\u001b[0m\u001b[0;34m\u001b[0m\u001b[0;34m\u001b[0m\u001b[0m\n\u001b[1;32m    213\u001b[0m             \u001b[0;31m# credit to\u001b[0m\u001b[0;34m\u001b[0m\u001b[0;34m\u001b[0m\u001b[0m\n",
            "\u001b[0;32m~/.local/lib/python3.10/site-packages/sqlalchemy/engine/base.py\u001b[0m in \u001b[0;36m_execute_context\u001b[0;34m(self, dialect, constructor, statement, parameters, execution_options, *args, **kw)\u001b[0m\n\u001b[1;32m   1903\u001b[0m                             \u001b[0;32mbreak\u001b[0m\u001b[0;34m\u001b[0m\u001b[0;34m\u001b[0m\u001b[0m\n\u001b[1;32m   1904\u001b[0m                 \u001b[0;32mif\u001b[0m \u001b[0;32mnot\u001b[0m \u001b[0mevt_handled\u001b[0m\u001b[0;34m:\u001b[0m\u001b[0;34m\u001b[0m\u001b[0;34m\u001b[0m\u001b[0m\n\u001b[0;32m-> 1905\u001b[0;31m                     self.dialect.do_execute(\n\u001b[0m\u001b[1;32m   1906\u001b[0m                         \u001b[0mcursor\u001b[0m\u001b[0;34m,\u001b[0m \u001b[0mstatement\u001b[0m\u001b[0;34m,\u001b[0m \u001b[0mparameters\u001b[0m\u001b[0;34m,\u001b[0m \u001b[0mcontext\u001b[0m\u001b[0;34m\u001b[0m\u001b[0;34m\u001b[0m\u001b[0m\n\u001b[1;32m   1907\u001b[0m                     )\n",
            "\u001b[0;32m~/.local/lib/python3.10/site-packages/sqlalchemy/engine/default.py\u001b[0m in \u001b[0;36mdo_execute\u001b[0;34m(self, cursor, statement, parameters, context)\u001b[0m\n\u001b[1;32m    734\u001b[0m \u001b[0;34m\u001b[0m\u001b[0m\n\u001b[1;32m    735\u001b[0m     \u001b[0;32mdef\u001b[0m \u001b[0mdo_execute\u001b[0m\u001b[0;34m(\u001b[0m\u001b[0mself\u001b[0m\u001b[0;34m,\u001b[0m \u001b[0mcursor\u001b[0m\u001b[0;34m,\u001b[0m \u001b[0mstatement\u001b[0m\u001b[0;34m,\u001b[0m \u001b[0mparameters\u001b[0m\u001b[0;34m,\u001b[0m \u001b[0mcontext\u001b[0m\u001b[0;34m=\u001b[0m\u001b[0;32mNone\u001b[0m\u001b[0;34m)\u001b[0m\u001b[0;34m:\u001b[0m\u001b[0;34m\u001b[0m\u001b[0;34m\u001b[0m\u001b[0m\n\u001b[0;32m--> 736\u001b[0;31m         \u001b[0mcursor\u001b[0m\u001b[0;34m.\u001b[0m\u001b[0mexecute\u001b[0m\u001b[0;34m(\u001b[0m\u001b[0mstatement\u001b[0m\u001b[0;34m,\u001b[0m \u001b[0mparameters\u001b[0m\u001b[0;34m)\u001b[0m\u001b[0;34m\u001b[0m\u001b[0;34m\u001b[0m\u001b[0m\n\u001b[0m\u001b[1;32m    737\u001b[0m \u001b[0;34m\u001b[0m\u001b[0m\n\u001b[1;32m    738\u001b[0m     \u001b[0;32mdef\u001b[0m \u001b[0mdo_execute_no_params\u001b[0m\u001b[0;34m(\u001b[0m\u001b[0mself\u001b[0m\u001b[0;34m,\u001b[0m \u001b[0mcursor\u001b[0m\u001b[0;34m,\u001b[0m \u001b[0mstatement\u001b[0m\u001b[0;34m,\u001b[0m \u001b[0mcontext\u001b[0m\u001b[0;34m=\u001b[0m\u001b[0;32mNone\u001b[0m\u001b[0;34m)\u001b[0m\u001b[0;34m:\u001b[0m\u001b[0;34m\u001b[0m\u001b[0;34m\u001b[0m\u001b[0m\n",
            "\u001b[0;32m/usr/local/lib/python3.10/dist-packages/google/cloud/bigquery/dbapi/_helpers.py\u001b[0m in \u001b[0;36mwith_closed_check\u001b[0;34m(self, *args, **kwargs)\u001b[0m\n\u001b[1;32m    492\u001b[0m             \u001b[0;32mif\u001b[0m \u001b[0mgetattr\u001b[0m\u001b[0;34m(\u001b[0m\u001b[0mself\u001b[0m\u001b[0;34m,\u001b[0m \u001b[0mclosed_attr_name\u001b[0m\u001b[0;34m)\u001b[0m\u001b[0;34m:\u001b[0m\u001b[0;34m\u001b[0m\u001b[0;34m\u001b[0m\u001b[0m\n\u001b[1;32m    493\u001b[0m                 \u001b[0;32mraise\u001b[0m \u001b[0mexc_class\u001b[0m\u001b[0;34m(\u001b[0m\u001b[0mexc_msg\u001b[0m\u001b[0;34m)\u001b[0m\u001b[0;34m\u001b[0m\u001b[0;34m\u001b[0m\u001b[0m\n\u001b[0;32m--> 494\u001b[0;31m             \u001b[0;32mreturn\u001b[0m \u001b[0mmethod\u001b[0m\u001b[0;34m(\u001b[0m\u001b[0mself\u001b[0m\u001b[0;34m,\u001b[0m \u001b[0;34m*\u001b[0m\u001b[0margs\u001b[0m\u001b[0;34m,\u001b[0m \u001b[0;34m**\u001b[0m\u001b[0mkwargs\u001b[0m\u001b[0;34m)\u001b[0m\u001b[0;34m\u001b[0m\u001b[0;34m\u001b[0m\u001b[0m\n\u001b[0m\u001b[1;32m    495\u001b[0m \u001b[0;34m\u001b[0m\u001b[0m\n\u001b[1;32m    496\u001b[0m         \u001b[0mfunctools\u001b[0m\u001b[0;34m.\u001b[0m\u001b[0mupdate_wrapper\u001b[0m\u001b[0;34m(\u001b[0m\u001b[0mwith_closed_check\u001b[0m\u001b[0;34m,\u001b[0m \u001b[0mmethod\u001b[0m\u001b[0;34m)\u001b[0m\u001b[0;34m\u001b[0m\u001b[0;34m\u001b[0m\u001b[0m\n",
            "\u001b[0;32m/usr/local/lib/python3.10/dist-packages/google/cloud/bigquery/dbapi/cursor.py\u001b[0m in \u001b[0;36mexecute\u001b[0;34m(self, operation, parameters, job_id, job_config)\u001b[0m\n\u001b[1;32m    174\u001b[0m         \"\"\"\n\u001b[1;32m    175\u001b[0m         \u001b[0mformatted_operation\u001b[0m\u001b[0;34m,\u001b[0m \u001b[0mparameter_types\u001b[0m \u001b[0;34m=\u001b[0m \u001b[0m_format_operation\u001b[0m\u001b[0;34m(\u001b[0m\u001b[0moperation\u001b[0m\u001b[0;34m,\u001b[0m \u001b[0mparameters\u001b[0m\u001b[0;34m)\u001b[0m\u001b[0;34m\u001b[0m\u001b[0;34m\u001b[0m\u001b[0m\n\u001b[0;32m--> 176\u001b[0;31m         self._execute(\n\u001b[0m\u001b[1;32m    177\u001b[0m             \u001b[0mformatted_operation\u001b[0m\u001b[0;34m,\u001b[0m \u001b[0mparameters\u001b[0m\u001b[0;34m,\u001b[0m \u001b[0mjob_id\u001b[0m\u001b[0;34m,\u001b[0m \u001b[0mjob_config\u001b[0m\u001b[0;34m,\u001b[0m \u001b[0mparameter_types\u001b[0m\u001b[0;34m\u001b[0m\u001b[0;34m\u001b[0m\u001b[0m\n\u001b[1;32m    178\u001b[0m         )\n",
            "\u001b[0;32m/usr/local/lib/python3.10/dist-packages/google/cloud/bigquery/dbapi/cursor.py\u001b[0m in \u001b[0;36m_execute\u001b[0;34m(self, formatted_operation, parameters, job_id, job_config, parameter_types)\u001b[0m\n\u001b[1;32m    213\u001b[0m             \u001b[0mself\u001b[0m\u001b[0;34m.\u001b[0m\u001b[0m_query_job\u001b[0m\u001b[0;34m.\u001b[0m\u001b[0mresult\u001b[0m\u001b[0;34m(\u001b[0m\u001b[0;34m)\u001b[0m\u001b[0;34m\u001b[0m\u001b[0;34m\u001b[0m\u001b[0m\n\u001b[1;32m    214\u001b[0m         \u001b[0;32mexcept\u001b[0m \u001b[0mgoogle\u001b[0m\u001b[0;34m.\u001b[0m\u001b[0mcloud\u001b[0m\u001b[0;34m.\u001b[0m\u001b[0mexceptions\u001b[0m\u001b[0;34m.\u001b[0m\u001b[0mGoogleCloudError\u001b[0m \u001b[0;32mas\u001b[0m \u001b[0mexc\u001b[0m\u001b[0;34m:\u001b[0m\u001b[0;34m\u001b[0m\u001b[0;34m\u001b[0m\u001b[0m\n\u001b[0;32m--> 215\u001b[0;31m             \u001b[0;32mraise\u001b[0m \u001b[0mexceptions\u001b[0m\u001b[0;34m.\u001b[0m\u001b[0mDatabaseError\u001b[0m\u001b[0;34m(\u001b[0m\u001b[0mexc\u001b[0m\u001b[0;34m)\u001b[0m\u001b[0;34m\u001b[0m\u001b[0;34m\u001b[0m\u001b[0m\n\u001b[0m\u001b[1;32m    216\u001b[0m \u001b[0;34m\u001b[0m\u001b[0m\n\u001b[1;32m    217\u001b[0m         \u001b[0mquery_results\u001b[0m \u001b[0;34m=\u001b[0m \u001b[0mself\u001b[0m\u001b[0;34m.\u001b[0m\u001b[0m_query_job\u001b[0m\u001b[0;34m.\u001b[0m\u001b[0m_query_results\u001b[0m\u001b[0;34m\u001b[0m\u001b[0;34m\u001b[0m\u001b[0m\n",
            "\u001b[0;31mDatabaseError\u001b[0m: (google.cloud.bigquery.dbapi.exceptions.DatabaseError) 400 Syntax error: Unexpected identifier \"Query\" at [2:1]\n\nLocation: US\nJob ID: d3703ecd-a268-465f-85a8-7e5279061e05\n\n[SQL: SELECT vehicle_id FROM Mileage ORDER BY mileage DESC LIMIT 1;\nQuery check: SELECT vehicle_id FROM Mileage ORDER BY mileage DESC LIMIT 1;]\n(Background on this error at: https://sqlalche.me/e/14/4xp6)"
          ]
        }
      ]
    },
    {
      "cell_type": "code",
      "source": [
        "## Sequential Chain"
      ],
      "metadata": {
        "id": "eGJtjTRpUTl8"
      },
      "execution_count": null,
      "outputs": []
    },
    {
      "cell_type": "code",
      "source": [
        "from langchain.chains import LLMChain, SimpleSequentialChain\n",
        "template = \"\"\"Your job is to find the table name based on the user query provided to you. You have three tables :\n",
        "Vehicle_ID contains: vehicle_id (unique numerical identifier), vehicle_number (alphanumeric code), smoke_emission (grams/km), and temperature (degrees Celsius).\n",
        "Topspeed contains: vehicle_number, capacitor (Farads), cc (engine displacement), and top_speed (km/h).\n",
        "Mileage contains: vehicle_number, make (vehicle manufacturer), type (vehicle model), and mileage (km/L).\n",
        "The vehicle_id column is only present in the Vehicle_ID table.\n",
        "when ever the user is asking for the vehicle id, you should do inner join with Vehicle_ID table using vehicle_number\n",
        "\n",
        "\n",
        "% query\n",
        "{user_query}\n",
        "\n",
        "YOUR RESPONSE should look like below\n",
        "\n",
        "result : write a sql query and if there is \"vehicle_id\" OR \"vehicle id\" in the {user_query} , replace them with vehicle_number\n",
        "Impacted Table names : table names\n",
        "Impacted columns : Columns and their table name\n",
        "\n",
        "\"\"\"\n",
        "prompt_template = PromptTemplate(input_variables=[\"user_query\"], template=template)\n",
        "\n",
        "# Holds my 'location' chain\n",
        "#location_chain = LLMChain(llm=llm, prompt=prompt_template)\n",
        "db_chain = SQLDatabaseChain.from_llm(llm, db, verbose=True, return_intermediate_steps=True,use_query_checker=True,prompt=prompt_template)"
      ],
      "metadata": {
        "id": "5mq4Uvk7bJSk"
      },
      "execution_count": 91,
      "outputs": []
    },
    {
      "cell_type": "code",
      "source": [],
      "metadata": {
        "id": "DzF3025oXQrF"
      },
      "execution_count": null,
      "outputs": []
    },
    {
      "cell_type": "code",
      "source": [
        "prompt_template = PromptTemplate(input_variables=[\"user_query\"], template=template)\n",
        "first= LLMChain(llm=llm,prompt=prompt_template )"
      ],
      "metadata": {
        "id": "DjgRUu55bJQJ"
      },
      "execution_count": 92,
      "outputs": []
    },
    {
      "cell_type": "code",
      "source": [
        "result = first(\"vehicle_id with maximum mileage\")"
      ],
      "metadata": {
        "id": "n9Ig0L5mbJNi"
      },
      "execution_count": 105,
      "outputs": []
    },
    {
      "cell_type": "code",
      "source": [
        "print(result['text'])"
      ],
      "metadata": {
        "colab": {
          "base_uri": "https://localhost:8080/"
        },
        "id": "KaIIxNsflzWq",
        "outputId": "61de5600-f3e4-451d-c329-2b9b01edcffb"
      },
      "execution_count": 106,
      "outputs": [
        {
          "output_type": "stream",
          "name": "stdout",
          "text": [
            "result : select vehicle_number from Mileage where mileage = ( select max(mileage) from Mileage ) ; \n",
            "Impacted Table names : Mileage\n",
            "Impacted columns : vehicle_number , mileage\n"
          ]
        }
      ]
    },
    {
      "cell_type": "code",
      "source": [
        "db_chain = SQLDatabaseChain.from_llm(llm, db, verbose=True, return_intermediate_steps=True,use_query_checker=True,prompt=prompt_template)"
      ],
      "metadata": {
        "id": "o3s8KSWybJK_"
      },
      "execution_count": 79,
      "outputs": []
    },
    {
      "cell_type": "code",
      "source": [
        "db_chain"
      ],
      "metadata": {
        "id": "ztALYqU1bJIc",
        "colab": {
          "base_uri": "https://localhost:8080/"
        },
        "outputId": "e508e715-335c-4844-e3f7-7e0a4e660179"
      },
      "execution_count": 80,
      "outputs": [
        {
          "output_type": "execute_result",
          "data": {
            "text/plain": [
              "SQLDatabaseChain(verbose=True, llm_chain=LLMChain(prompt=PromptTemplate(input_variables=['user_query'], template='Your job is to find the table name based on the user query provided to you. You have three tables : \\nVehicle_ID contains: vehicle_id (unique numerical identifier), vehicle_number (alphanumeric code), smoke_emission (grams/km), and temperature (degrees Celsius).\\nTopspeed contains: vehicle_number, capacitor (Farads), cc (engine displacement), and top_speed (km/h).\\nMileage contains: vehicle_number, make (vehicle manufacturer), type (vehicle model), and mileage (km/L).\\nThe vehicle_id column is only present in the Vehicle_ID table.\\nwhen ever the user is asking for the vehicle id, you should do inner join with Vehicle_ID table using vehicle_number\\n\\n\\n% query\\n{user_query}\\n\\nYOUR RESPONSE should look like below\\n\\nresult : write a sql query and if there is vehicle id in the {user_query} , make appropriate join with the table using the vehicle number\\nImpacted Table names : table names\\nImpacted columns : Columns and their table name\\n\\n'), llm=VertexAI(verbose=True, model_name='text-bison@001', client=<vertexai.language_models.TextGenerationModel object at 0x78a2338d2560>, client_preview=<vertexai.preview.language_models._PreviewTextGenerationModel object at 0x78a2338d2e00>, temperature=0.1, max_output_tokens=1024, top_p=0.8)), database=<langchain_community.utilities.sql_database.SQLDatabase object at 0x78a2338d3220>, return_intermediate_steps=True, use_query_checker=True)"
            ]
          },
          "metadata": {},
          "execution_count": 80
        }
      ]
    },
    {
      "cell_type": "code",
      "source": [
        "from langchain.chains import LLMChain, SimpleSequentialChain\n",
        "template = \"\"\" You are an SQL Expert. When there is a question asked about Vehicle_ID you should always find the Vehicle Number in the Table.\n",
        "Examples :\n",
        "\"user_query\" : \"find the vehilce id with least temperature\" . \"SQL\" : \"SELECT Vehicle_Number FROM Vehicle_ID_Table ORDER BY temperature ASC LIMIT 1;\"\n",
        "\"user_query\" : \"find the vehilce id with maximum Topspeed\" . \"SQL\" : \"SELECT Vehicle_Number FROM Topspeed ORDER BY temperature DESC LIMIT 1;\"\n",
        "\"user_query\" : \"find the vehilce id with least temperature\" . \"SQL\" : \"SELECT Vehicle_Number FROM Vehicle_ID_Table ORDER BY temperature DESC LIMIT 1;\"\n",
        "\"user_query\" : \"find the vehilce id with least temperature\" . \"SQL\" : \"SELECT Vehicle_Number FROM Vehicle_ID_Table ORDER BY temperature DESC LIMIT 1;\"\n",
        "\"user_query\" : \"find the vehilce id with least temperature\" . \"SQL\" : \"SELECT Vehicle_Number FROM Vehicle_ID_Table ORDER BY temperature DESC LIMIT 1;\"\n",
        "\"\"\"\n",
        "prompt_template = PromptTemplate(input_variables=[\"user_query\"], template=template)\n",
        "\n",
        "# Holds my 'location' chain\n",
        "#location_chain = LLMChain(llm=llm, prompt=prompt_template)\n",
        "db_chain = SQLDatabaseChain.from_llm(llm, db, verbose=True, return_intermediate_steps=True,use_query_checker=True,prompt=prompt_template)"
      ],
      "metadata": {
        "id": "4ySLRIf8bJF_"
      },
      "execution_count": 81,
      "outputs": []
    },
    {
      "cell_type": "code",
      "source": [
        "db_chain(\"vehicle id with maximum topspeed\")"
      ],
      "metadata": {
        "id": "HAXjdfLibJDu"
      },
      "execution_count": null,
      "outputs": []
    },
    {
      "cell_type": "code",
      "source": [
        "template = \"\"\" Given an input question, first create a syntactically correct bigquery  to run, then look at the results of the query and return the answer.\n",
        "Unless the user specifies in the question a specific number of examples to obtain, query for at most 10000 results using the LIMIT clause as per BigQuery SQL\n",
        "\n",
        "step 1 : Find the columns which are impacted based on the {input}. DONOT order by TABLE NAME\n",
        "step 2 : If the \"Vehicle_ID\" is asked , It is very important to note that the \"Vehicle_ID\" is only present in \"Temperature\" Table. So do the JOIN based on the \"vehicle_number\"\n",
        "step 3 : Create the query and check if the query is correct. Be careful to not query for columns that do not exist. Also, pay attention to which column is in which table.\n",
        "\n",
        "\n",
        "Database Description:\n",
        "\n",
        "There are 3 tables: Vehicle_ID, Mileage, and Topspeed.\n",
        "Temperature contains: vehicle_id (unique numerical identifier), vehicle_number (alphanumeric code), smoke_emission (grams/km), and temperature (degrees Celsius).\n",
        "Topspeed contains: vehicle_number, capacitor (Farads), cc (engine displacement), and top_speed (km/h).\n",
        "Mileage contains: vehicle_number, make (vehicle manufacturer), type (vehicle model), and mileage (km/L).\n",
        "The vehicle_id column is only present in the Temperature table.\n",
        "\n",
        "Use the following format:\n",
        "\n",
        "Question: \"Question here\"\n",
        "SQLQuery: \"SQL Query to run\"\n",
        "Query check: \"Check if the SQLQuery is valid before executing it\"\n",
        "SQLResult: \"Execute only if the Query check is valid\"\n",
        "Answer: \"Final answer here\"\n",
        "\n",
        "Only use the following tables:\n",
        "\n",
        "'Temperature','topSpeed','Mileage'\n",
        "\n",
        "Question: {input}\"\"\"\n",
        "\n",
        "PROMPT = PromptTemplate(input_variables=[\"input\"], template=example+template,)"
      ],
      "metadata": {
        "id": "NHNDgPJrT5s8"
      },
      "execution_count": 163,
      "outputs": []
    },
    {
      "cell_type": "code",
      "source": [
        "example = '''\n",
        "\"Find the average mileage for vehicles with a top speed greater than 200 km/h.\" : \"SELECT AVG(mileage) AS average_mileage FROM Mileage JOIN Topspeed ON Mileage.vehicle_number = Topspeed.vehicle_number WHERE top_speed > 200;\",\n",
        "\"List the vehicle model, make, and capacitor for vehicles with a smoke emission between 40 and 60 grams/km.\": \"SELECT type, make, capacitor FROM Mileage JOIN Temperature ON Mileage.vehicle_number = Temperature.vehicle_number WHERE smoke_emission BETWEEN 40 AND 60;\",\n",
        "\"Retrieve the vehicle IDs and temperatures for vehicles with an engine displacement (cc) of 1500 or higher.\" : \"SELECT vehicle_id, temperature FROM Temperature JOIN Topspeed ON Temperature.vehicle_number = Topspeed.vehicle_number WHERE cc >= 1500;\",\n",
        "\"Calculate the total number of vehicles with a mileage of less than 15 km/L.\":\"SELECT COUNT(*) AS total_vehicles FROM Mileage WHERE mileage < 15;\",\n",
        "\"Find the highest smoke emission value across all vehicles.\":\"SELECT MAX(smoke_emission) AS highest_smoke_emission FROM Temperature;\",\n",
        "\"Show the vehicle model with the lowest temperature.\":\"SELECT type AS vehicle_model FROM Mileage JOIN Temperature ON Mileage.vehicle_number = Temperature.vehicle_number WHERE temperature = (SELECT MIN(temperature) FROM Temperature);\" '''"
      ],
      "metadata": {
        "id": "RKwZJzwXxPGV"
      },
      "execution_count": 127,
      "outputs": []
    },
    {
      "cell_type": "code",
      "source": [
        "db_chain = SQLDatabaseChain.from_llm(llm, db, verbose=True, return_intermediate_steps=True,use_query_checker=True,prompt=PROMPT)"
      ],
      "metadata": {
        "id": "egfUkUftvpZJ"
      },
      "execution_count": 140,
      "outputs": []
    },
    {
      "cell_type": "code",
      "source": [
        "print(db_chain)"
      ],
      "metadata": {
        "colab": {
          "base_uri": "https://localhost:8080/"
        },
        "id": "ytJ-EHilvttc",
        "outputId": "acff4e5a-efac-486a-95d2-ece1ee9916a1"
      },
      "execution_count": 114,
      "outputs": [
        {
          "output_type": "stream",
          "name": "stdout",
          "text": [
            "verbose=True llm_chain=LLMChain(prompt=PromptTemplate(input_variables=['input'], template=' Given an input question, first create a syntactically correct bigquery  to run, then look at the results of the query and return the answer.\\nUnless the user specifies in the question a specific number of examples to obtain, query for at most 10000 results using the LIMIT clause as per BigQuery SQL\\n\\nstep 1 : Find the columns which are impacted based on the {input}\\nstep 2 : If the \"Vehicle_ID\" is asked , It is very important to note that the \"Vehicle_ID\" is only present in \"Temperature\" Table. So do the JOIN based on the \"vehicle_number\"\\nstep 3 : Create the query and check if the query is correct. Be careful to not query for columns that do not exist. Also, pay attention to which column is in which table.\\n\\n\\nDatabase Description:\\n\\nThere are 3 tables: Vehicle_ID, Mileage, and Topspeed.\\nVehicle_ID contains: vehicle_id (unique numerical identifier), vehicle_number (alphanumeric code), smoke_emission (grams/km), and temperature (degrees Celsius).\\nTopspeed contains: vehicle_number, capacitor (Farads), cc (engine displacement), and top_speed (km/h).\\nMileage contains: vehicle_number, make (vehicle manufacturer), type (vehicle model), and mileage (km/L).\\nThe vehicle_id column is only present in the Vehicle_ID table.\\n\\nUse the following format:\\n\\nQuestion: \"Question here\"\\nSQLQuery: \"SQL Query to run\"\\nSQLResult: \"Result of the SQLQuery\"\\nAnswer: \"Final answer here\"\\n\\nOnly use the following tables:\\n\\n\\'Temperature\\',\\'topSpeed\\',\\'Mileage\\'\\n\\nSome examples of SQL queries are mentioned below : \\n\\n\"Find the average mileage for vehicles with a top speed greater than 200 km/h.\" : \"SELECT AVG(mileage) AS average_mileage FROM Mileage JOIN Topspeed ON Mileage.vehicle_number = Topspeed.vehicle_number WHERE top_speed > 200;\",\\n\"List the vehicle model, make, and capacitor for vehicles with a smoke emission between 40 and 60 grams/km.\": \"SELECT type, make, capacitor FROM Mileage JOIN Temperature ON Mileage.vehicle_number = Temperature.vehicle_number WHERE smoke_emission BETWEEN 40 AND 60;\",\\n\"Retrieve the vehicle IDs and temperatures for vehicles with an engine displacement (cc) of 1500 or higher.\" : \"SELECT vehicle_id, temperature FROM Temperature JOIN Topspeed ON Temperature.vehicle_number = Topspeed.vehicle_number WHERE cc >= 1500;\",\\n\"Calculate the total number of vehicles with a mileage of less than 15 km/L.\":\"SELECT COUNT(*) AS total_vehicles FROM Mileage WHERE mileage < 15;\",\\n\"Find the highest smoke emission value across all vehicles.\":\"SELECT MAX(smoke_emission) AS highest_smoke_emission FROM Temperature;\",\\n\"Show the vehicle model with the lowest temperature.\":\"SELECT type AS vehicle_model FROM Mileage JOIN Temperature ON Mileage.vehicle_number = Temperature.vehicle_number WHERE temperature = (SELECT MIN(temperature) FROM Temperature);\"\\n\\n\\nQuestion: {input}'), llm=VertexAI(verbose=True, model_name='text-bison@001', client=<vertexai.language_models.TextGenerationModel object at 0x78a21d8b8730>, client_preview=<vertexai.preview.language_models._PreviewTextGenerationModel object at 0x78a21d8bbc10>, temperature=0.1, max_output_tokens=1024, top_p=0.8)) database=<langchain_community.utilities.sql_database.SQLDatabase object at 0x78a21d8b8820> return_intermediate_steps=True use_query_checker=True\n"
          ]
        }
      ]
    },
    {
      "cell_type": "code",
      "source": [
        "llm = VertexAI(\n",
        "    model_name='text-bison@001',\n",
        "    max_output_tokens=1024,\n",
        "    temperature=0.1,\n",
        "    top_p=0.8,\n",
        "    top_k=40,\n",
        "    verbose=True,\n",
        "    prompt_template = PROMPT\n",
        ")"
      ],
      "metadata": {
        "id": "PF5mVVKC3h6A"
      },
      "execution_count": 138,
      "outputs": []
    },
    {
      "cell_type": "code",
      "source": [
        "llm"
      ],
      "metadata": {
        "colab": {
          "base_uri": "https://localhost:8080/"
        },
        "id": "bzMSLeqL3tXY",
        "outputId": "0a020556-5151-44a8-f84b-1546bc1016fa"
      },
      "execution_count": 142,
      "outputs": [
        {
          "output_type": "execute_result",
          "data": {
            "text/plain": [
              "VertexAI(verbose=True, model_name='text-bison@001', client=<vertexai.language_models.TextGenerationModel object at 0x78a2c5f37d30>, client_preview=<vertexai.preview.language_models._PreviewTextGenerationModel object at 0x78a221a3d540>, temperature=0.1, max_output_tokens=1024, top_p=0.8)"
            ]
          },
          "metadata": {},
          "execution_count": 142
        }
      ]
    },
    {
      "cell_type": "code",
      "source": [
        "db_chain(\"vehicle_id with maximum temperature\")"
      ],
      "metadata": {
        "colab": {
          "base_uri": "https://localhost:8080/",
          "height": 907
        },
        "id": "yb3WWtXIv032",
        "outputId": "5a2713f6-708c-40ad-8c26-a48c858a9823"
      },
      "execution_count": 141,
      "outputs": [
        {
          "output_type": "stream",
          "name": "stdout",
          "text": [
            "\n",
            "\n",
            "\u001b[1m> Entering new SQLDatabaseChain chain...\u001b[0m\n",
            "vehicle_id with maximum temperature\n",
            "SQLQuery:\u001b[32;1m\u001b[1;3mSELECT vehicle_id FROM Temperature ORDER BY temperature DESC LIMIT 1;\u001b[0m"
          ]
        },
        {
          "output_type": "error",
          "ename": "DatabaseError",
          "evalue": "ignored",
          "traceback": [
            "\u001b[0;31m---------------------------------------------------------------------------\u001b[0m",
            "\u001b[0;31mBadRequest\u001b[0m                                Traceback (most recent call last)",
            "\u001b[0;32m/usr/local/lib/python3.10/dist-packages/google/cloud/bigquery/dbapi/cursor.py\u001b[0m in \u001b[0;36m_execute\u001b[0;34m(self, formatted_operation, parameters, job_id, job_config, parameter_types)\u001b[0m\n\u001b[1;32m    212\u001b[0m         \u001b[0;32mtry\u001b[0m\u001b[0;34m:\u001b[0m\u001b[0;34m\u001b[0m\u001b[0;34m\u001b[0m\u001b[0m\n\u001b[0;32m--> 213\u001b[0;31m             \u001b[0mself\u001b[0m\u001b[0;34m.\u001b[0m\u001b[0m_query_job\u001b[0m\u001b[0;34m.\u001b[0m\u001b[0mresult\u001b[0m\u001b[0;34m(\u001b[0m\u001b[0;34m)\u001b[0m\u001b[0;34m\u001b[0m\u001b[0;34m\u001b[0m\u001b[0m\n\u001b[0m\u001b[1;32m    214\u001b[0m         \u001b[0;32mexcept\u001b[0m \u001b[0mgoogle\u001b[0m\u001b[0;34m.\u001b[0m\u001b[0mcloud\u001b[0m\u001b[0;34m.\u001b[0m\u001b[0mexceptions\u001b[0m\u001b[0;34m.\u001b[0m\u001b[0mGoogleCloudError\u001b[0m \u001b[0;32mas\u001b[0m \u001b[0mexc\u001b[0m\u001b[0;34m:\u001b[0m\u001b[0;34m\u001b[0m\u001b[0;34m\u001b[0m\u001b[0m\n",
            "\u001b[0;32m/usr/local/lib/python3.10/dist-packages/google/cloud/bigquery/job/query.py\u001b[0m in \u001b[0;36mresult\u001b[0;34m(self, page_size, max_results, retry, timeout, start_index, job_retry)\u001b[0m\n\u001b[1;32m   1580\u001b[0m \u001b[0;34m\u001b[0m\u001b[0m\n\u001b[0;32m-> 1581\u001b[0;31m             \u001b[0mdo_get_result\u001b[0m\u001b[0;34m(\u001b[0m\u001b[0;34m)\u001b[0m\u001b[0;34m\u001b[0m\u001b[0;34m\u001b[0m\u001b[0m\n\u001b[0m\u001b[1;32m   1582\u001b[0m \u001b[0;34m\u001b[0m\u001b[0m\n",
            "\u001b[0;32m/usr/local/lib/python3.10/dist-packages/google/api_core/retry.py\u001b[0m in \u001b[0;36mretry_wrapped_func\u001b[0;34m(*args, **kwargs)\u001b[0m\n\u001b[1;32m    348\u001b[0m             )\n\u001b[0;32m--> 349\u001b[0;31m             return retry_target(\n\u001b[0m\u001b[1;32m    350\u001b[0m                 \u001b[0mtarget\u001b[0m\u001b[0;34m,\u001b[0m\u001b[0;34m\u001b[0m\u001b[0;34m\u001b[0m\u001b[0m\n",
            "\u001b[0;32m/usr/local/lib/python3.10/dist-packages/google/api_core/retry.py\u001b[0m in \u001b[0;36mretry_target\u001b[0;34m(target, predicate, sleep_generator, timeout, on_error, **kwargs)\u001b[0m\n\u001b[1;32m    190\u001b[0m         \u001b[0;32mtry\u001b[0m\u001b[0;34m:\u001b[0m\u001b[0;34m\u001b[0m\u001b[0;34m\u001b[0m\u001b[0m\n\u001b[0;32m--> 191\u001b[0;31m             \u001b[0;32mreturn\u001b[0m \u001b[0mtarget\u001b[0m\u001b[0;34m(\u001b[0m\u001b[0;34m)\u001b[0m\u001b[0;34m\u001b[0m\u001b[0;34m\u001b[0m\u001b[0m\n\u001b[0m\u001b[1;32m    192\u001b[0m \u001b[0;34m\u001b[0m\u001b[0m\n",
            "\u001b[0;32m/usr/local/lib/python3.10/dist-packages/google/cloud/bigquery/job/query.py\u001b[0m in \u001b[0;36mdo_get_result\u001b[0;34m()\u001b[0m\n\u001b[1;32m   1570\u001b[0m \u001b[0;34m\u001b[0m\u001b[0m\n\u001b[0;32m-> 1571\u001b[0;31m                 \u001b[0msuper\u001b[0m\u001b[0;34m(\u001b[0m\u001b[0mQueryJob\u001b[0m\u001b[0;34m,\u001b[0m \u001b[0mself\u001b[0m\u001b[0;34m)\u001b[0m\u001b[0;34m.\u001b[0m\u001b[0mresult\u001b[0m\u001b[0;34m(\u001b[0m\u001b[0mretry\u001b[0m\u001b[0;34m=\u001b[0m\u001b[0mretry\u001b[0m\u001b[0;34m,\u001b[0m \u001b[0mtimeout\u001b[0m\u001b[0;34m=\u001b[0m\u001b[0mtimeout\u001b[0m\u001b[0;34m)\u001b[0m\u001b[0;34m\u001b[0m\u001b[0;34m\u001b[0m\u001b[0m\n\u001b[0m\u001b[1;32m   1572\u001b[0m \u001b[0;34m\u001b[0m\u001b[0m\n",
            "\u001b[0;32m/usr/local/lib/python3.10/dist-packages/google/cloud/bigquery/job/base.py\u001b[0m in \u001b[0;36mresult\u001b[0;34m(self, retry, timeout)\u001b[0m\n\u001b[1;32m    921\u001b[0m         \u001b[0mkwargs\u001b[0m \u001b[0;34m=\u001b[0m \u001b[0;34m{\u001b[0m\u001b[0;34m}\u001b[0m \u001b[0;32mif\u001b[0m \u001b[0mretry\u001b[0m \u001b[0;32mis\u001b[0m \u001b[0mDEFAULT_RETRY\u001b[0m \u001b[0;32melse\u001b[0m \u001b[0;34m{\u001b[0m\u001b[0;34m\"retry\"\u001b[0m\u001b[0;34m:\u001b[0m \u001b[0mretry\u001b[0m\u001b[0;34m}\u001b[0m\u001b[0;34m\u001b[0m\u001b[0;34m\u001b[0m\u001b[0m\n\u001b[0;32m--> 922\u001b[0;31m         \u001b[0;32mreturn\u001b[0m \u001b[0msuper\u001b[0m\u001b[0;34m(\u001b[0m\u001b[0m_AsyncJob\u001b[0m\u001b[0;34m,\u001b[0m \u001b[0mself\u001b[0m\u001b[0;34m)\u001b[0m\u001b[0;34m.\u001b[0m\u001b[0mresult\u001b[0m\u001b[0;34m(\u001b[0m\u001b[0mtimeout\u001b[0m\u001b[0;34m=\u001b[0m\u001b[0mtimeout\u001b[0m\u001b[0;34m,\u001b[0m \u001b[0;34m**\u001b[0m\u001b[0mkwargs\u001b[0m\u001b[0;34m)\u001b[0m\u001b[0;34m\u001b[0m\u001b[0;34m\u001b[0m\u001b[0m\n\u001b[0m\u001b[1;32m    923\u001b[0m \u001b[0;34m\u001b[0m\u001b[0m\n",
            "\u001b[0;32m/usr/local/lib/python3.10/dist-packages/google/api_core/future/polling.py\u001b[0m in \u001b[0;36mresult\u001b[0;34m(self, timeout, retry, polling)\u001b[0m\n\u001b[1;32m    260\u001b[0m             \u001b[0;31m# Pylint doesn't recognize that this is valid in this case.\u001b[0m\u001b[0;34m\u001b[0m\u001b[0;34m\u001b[0m\u001b[0m\n\u001b[0;32m--> 261\u001b[0;31m             \u001b[0;32mraise\u001b[0m \u001b[0mself\u001b[0m\u001b[0;34m.\u001b[0m\u001b[0m_exception\u001b[0m\u001b[0;34m\u001b[0m\u001b[0;34m\u001b[0m\u001b[0m\n\u001b[0m\u001b[1;32m    262\u001b[0m \u001b[0;34m\u001b[0m\u001b[0m\n",
            "\u001b[0;31mBadRequest\u001b[0m: 400 ORDER BY does not support expressions of type STRUCT<vehicle_id INT64, vehicle_number STRING, smoke_emission FLOAT64, ...> at [1:45]\n\nLocation: US\nJob ID: 896281aa-de2f-41db-bbf5-a44d87aa1389\n",
            "\nDuring handling of the above exception, another exception occurred:\n",
            "\u001b[0;31mDatabaseError\u001b[0m                             Traceback (most recent call last)",
            "\u001b[0;32m~/.local/lib/python3.10/site-packages/sqlalchemy/engine/base.py\u001b[0m in \u001b[0;36m_execute_context\u001b[0;34m(self, dialect, constructor, statement, parameters, execution_options, *args, **kw)\u001b[0m\n\u001b[1;32m   1904\u001b[0m                 \u001b[0;32mif\u001b[0m \u001b[0;32mnot\u001b[0m \u001b[0mevt_handled\u001b[0m\u001b[0;34m:\u001b[0m\u001b[0;34m\u001b[0m\u001b[0;34m\u001b[0m\u001b[0m\n\u001b[0;32m-> 1905\u001b[0;31m                     self.dialect.do_execute(\n\u001b[0m\u001b[1;32m   1906\u001b[0m                         \u001b[0mcursor\u001b[0m\u001b[0;34m,\u001b[0m \u001b[0mstatement\u001b[0m\u001b[0;34m,\u001b[0m \u001b[0mparameters\u001b[0m\u001b[0;34m,\u001b[0m \u001b[0mcontext\u001b[0m\u001b[0;34m\u001b[0m\u001b[0;34m\u001b[0m\u001b[0m\n",
            "\u001b[0;32m~/.local/lib/python3.10/site-packages/sqlalchemy/engine/default.py\u001b[0m in \u001b[0;36mdo_execute\u001b[0;34m(self, cursor, statement, parameters, context)\u001b[0m\n\u001b[1;32m    735\u001b[0m     \u001b[0;32mdef\u001b[0m \u001b[0mdo_execute\u001b[0m\u001b[0;34m(\u001b[0m\u001b[0mself\u001b[0m\u001b[0;34m,\u001b[0m \u001b[0mcursor\u001b[0m\u001b[0;34m,\u001b[0m \u001b[0mstatement\u001b[0m\u001b[0;34m,\u001b[0m \u001b[0mparameters\u001b[0m\u001b[0;34m,\u001b[0m \u001b[0mcontext\u001b[0m\u001b[0;34m=\u001b[0m\u001b[0;32mNone\u001b[0m\u001b[0;34m)\u001b[0m\u001b[0;34m:\u001b[0m\u001b[0;34m\u001b[0m\u001b[0;34m\u001b[0m\u001b[0m\n\u001b[0;32m--> 736\u001b[0;31m         \u001b[0mcursor\u001b[0m\u001b[0;34m.\u001b[0m\u001b[0mexecute\u001b[0m\u001b[0;34m(\u001b[0m\u001b[0mstatement\u001b[0m\u001b[0;34m,\u001b[0m \u001b[0mparameters\u001b[0m\u001b[0;34m)\u001b[0m\u001b[0;34m\u001b[0m\u001b[0;34m\u001b[0m\u001b[0m\n\u001b[0m\u001b[1;32m    737\u001b[0m \u001b[0;34m\u001b[0m\u001b[0m\n",
            "\u001b[0;32m/usr/local/lib/python3.10/dist-packages/google/cloud/bigquery/dbapi/_helpers.py\u001b[0m in \u001b[0;36mwith_closed_check\u001b[0;34m(self, *args, **kwargs)\u001b[0m\n\u001b[1;32m    493\u001b[0m                 \u001b[0;32mraise\u001b[0m \u001b[0mexc_class\u001b[0m\u001b[0;34m(\u001b[0m\u001b[0mexc_msg\u001b[0m\u001b[0;34m)\u001b[0m\u001b[0;34m\u001b[0m\u001b[0;34m\u001b[0m\u001b[0m\n\u001b[0;32m--> 494\u001b[0;31m             \u001b[0;32mreturn\u001b[0m \u001b[0mmethod\u001b[0m\u001b[0;34m(\u001b[0m\u001b[0mself\u001b[0m\u001b[0;34m,\u001b[0m \u001b[0;34m*\u001b[0m\u001b[0margs\u001b[0m\u001b[0;34m,\u001b[0m \u001b[0;34m**\u001b[0m\u001b[0mkwargs\u001b[0m\u001b[0;34m)\u001b[0m\u001b[0;34m\u001b[0m\u001b[0;34m\u001b[0m\u001b[0m\n\u001b[0m\u001b[1;32m    495\u001b[0m \u001b[0;34m\u001b[0m\u001b[0m\n",
            "\u001b[0;32m/usr/local/lib/python3.10/dist-packages/google/cloud/bigquery/dbapi/cursor.py\u001b[0m in \u001b[0;36mexecute\u001b[0;34m(self, operation, parameters, job_id, job_config)\u001b[0m\n\u001b[1;32m    175\u001b[0m         \u001b[0mformatted_operation\u001b[0m\u001b[0;34m,\u001b[0m \u001b[0mparameter_types\u001b[0m \u001b[0;34m=\u001b[0m \u001b[0m_format_operation\u001b[0m\u001b[0;34m(\u001b[0m\u001b[0moperation\u001b[0m\u001b[0;34m,\u001b[0m \u001b[0mparameters\u001b[0m\u001b[0;34m)\u001b[0m\u001b[0;34m\u001b[0m\u001b[0;34m\u001b[0m\u001b[0m\n\u001b[0;32m--> 176\u001b[0;31m         self._execute(\n\u001b[0m\u001b[1;32m    177\u001b[0m             \u001b[0mformatted_operation\u001b[0m\u001b[0;34m,\u001b[0m \u001b[0mparameters\u001b[0m\u001b[0;34m,\u001b[0m \u001b[0mjob_id\u001b[0m\u001b[0;34m,\u001b[0m \u001b[0mjob_config\u001b[0m\u001b[0;34m,\u001b[0m \u001b[0mparameter_types\u001b[0m\u001b[0;34m\u001b[0m\u001b[0;34m\u001b[0m\u001b[0m\n",
            "\u001b[0;32m/usr/local/lib/python3.10/dist-packages/google/cloud/bigquery/dbapi/cursor.py\u001b[0m in \u001b[0;36m_execute\u001b[0;34m(self, formatted_operation, parameters, job_id, job_config, parameter_types)\u001b[0m\n\u001b[1;32m    214\u001b[0m         \u001b[0;32mexcept\u001b[0m \u001b[0mgoogle\u001b[0m\u001b[0;34m.\u001b[0m\u001b[0mcloud\u001b[0m\u001b[0;34m.\u001b[0m\u001b[0mexceptions\u001b[0m\u001b[0;34m.\u001b[0m\u001b[0mGoogleCloudError\u001b[0m \u001b[0;32mas\u001b[0m \u001b[0mexc\u001b[0m\u001b[0;34m:\u001b[0m\u001b[0;34m\u001b[0m\u001b[0;34m\u001b[0m\u001b[0m\n\u001b[0;32m--> 215\u001b[0;31m             \u001b[0;32mraise\u001b[0m \u001b[0mexceptions\u001b[0m\u001b[0;34m.\u001b[0m\u001b[0mDatabaseError\u001b[0m\u001b[0;34m(\u001b[0m\u001b[0mexc\u001b[0m\u001b[0;34m)\u001b[0m\u001b[0;34m\u001b[0m\u001b[0;34m\u001b[0m\u001b[0m\n\u001b[0m\u001b[1;32m    216\u001b[0m \u001b[0;34m\u001b[0m\u001b[0m\n",
            "\u001b[0;31mDatabaseError\u001b[0m: 400 ORDER BY does not support expressions of type STRUCT<vehicle_id INT64, vehicle_number STRING, smoke_emission FLOAT64, ...> at [1:45]\n\nLocation: US\nJob ID: 896281aa-de2f-41db-bbf5-a44d87aa1389\n",
            "\nThe above exception was the direct cause of the following exception:\n",
            "\u001b[0;31mDatabaseError\u001b[0m                             Traceback (most recent call last)",
            "\u001b[0;32m<ipython-input-141-ab83981485e6>\u001b[0m in \u001b[0;36m<cell line: 1>\u001b[0;34m()\u001b[0m\n\u001b[0;32m----> 1\u001b[0;31m \u001b[0mdb_chain\u001b[0m\u001b[0;34m(\u001b[0m\u001b[0;34m\"vehicle_id with maximum temperature\"\u001b[0m\u001b[0;34m)\u001b[0m\u001b[0;34m\u001b[0m\u001b[0;34m\u001b[0m\u001b[0m\n\u001b[0m",
            "\u001b[0;32m/usr/local/lib/python3.10/dist-packages/langchain/chains/base.py\u001b[0m in \u001b[0;36m__call__\u001b[0;34m(self, inputs, return_only_outputs, callbacks, tags, metadata, run_name, include_run_info)\u001b[0m\n\u001b[1;32m    314\u001b[0m         \u001b[0;32mexcept\u001b[0m \u001b[0mBaseException\u001b[0m \u001b[0;32mas\u001b[0m \u001b[0me\u001b[0m\u001b[0;34m:\u001b[0m\u001b[0;34m\u001b[0m\u001b[0;34m\u001b[0m\u001b[0m\n\u001b[1;32m    315\u001b[0m             \u001b[0mrun_manager\u001b[0m\u001b[0;34m.\u001b[0m\u001b[0mon_chain_error\u001b[0m\u001b[0;34m(\u001b[0m\u001b[0me\u001b[0m\u001b[0;34m)\u001b[0m\u001b[0;34m\u001b[0m\u001b[0;34m\u001b[0m\u001b[0m\n\u001b[0;32m--> 316\u001b[0;31m             \u001b[0;32mraise\u001b[0m \u001b[0me\u001b[0m\u001b[0;34m\u001b[0m\u001b[0;34m\u001b[0m\u001b[0m\n\u001b[0m\u001b[1;32m    317\u001b[0m         \u001b[0mrun_manager\u001b[0m\u001b[0;34m.\u001b[0m\u001b[0mon_chain_end\u001b[0m\u001b[0;34m(\u001b[0m\u001b[0moutputs\u001b[0m\u001b[0;34m)\u001b[0m\u001b[0;34m\u001b[0m\u001b[0;34m\u001b[0m\u001b[0m\n\u001b[1;32m    318\u001b[0m         final_outputs: Dict[str, Any] = self.prep_outputs(\n",
            "\u001b[0;32m/usr/local/lib/python3.10/dist-packages/langchain/chains/base.py\u001b[0m in \u001b[0;36m__call__\u001b[0;34m(self, inputs, return_only_outputs, callbacks, tags, metadata, run_name, include_run_info)\u001b[0m\n\u001b[1;32m    308\u001b[0m         \u001b[0;32mtry\u001b[0m\u001b[0;34m:\u001b[0m\u001b[0;34m\u001b[0m\u001b[0;34m\u001b[0m\u001b[0m\n\u001b[1;32m    309\u001b[0m             outputs = (\n\u001b[0;32m--> 310\u001b[0;31m                 \u001b[0mself\u001b[0m\u001b[0;34m.\u001b[0m\u001b[0m_call\u001b[0m\u001b[0;34m(\u001b[0m\u001b[0minputs\u001b[0m\u001b[0;34m,\u001b[0m \u001b[0mrun_manager\u001b[0m\u001b[0;34m=\u001b[0m\u001b[0mrun_manager\u001b[0m\u001b[0;34m)\u001b[0m\u001b[0;34m\u001b[0m\u001b[0;34m\u001b[0m\u001b[0m\n\u001b[0m\u001b[1;32m    311\u001b[0m                 \u001b[0;32mif\u001b[0m \u001b[0mnew_arg_supported\u001b[0m\u001b[0;34m\u001b[0m\u001b[0;34m\u001b[0m\u001b[0m\n\u001b[1;32m    312\u001b[0m                 \u001b[0;32melse\u001b[0m \u001b[0mself\u001b[0m\u001b[0;34m.\u001b[0m\u001b[0m_call\u001b[0m\u001b[0;34m(\u001b[0m\u001b[0minputs\u001b[0m\u001b[0;34m)\u001b[0m\u001b[0;34m\u001b[0m\u001b[0;34m\u001b[0m\u001b[0m\n",
            "\u001b[0;32m/usr/local/lib/python3.10/dist-packages/langchain_experimental/sql/base.py\u001b[0m in \u001b[0;36m_call\u001b[0;34m(self, inputs, run_manager)\u001b[0m\n\u001b[1;32m    199\u001b[0m             \u001b[0;31m# improvement of few shot prompt seeds\u001b[0m\u001b[0;34m\u001b[0m\u001b[0;34m\u001b[0m\u001b[0m\n\u001b[1;32m    200\u001b[0m             \u001b[0mexc\u001b[0m\u001b[0;34m.\u001b[0m\u001b[0mintermediate_steps\u001b[0m \u001b[0;34m=\u001b[0m \u001b[0mintermediate_steps\u001b[0m  \u001b[0;31m# type: ignore\u001b[0m\u001b[0;34m\u001b[0m\u001b[0;34m\u001b[0m\u001b[0m\n\u001b[0;32m--> 201\u001b[0;31m             \u001b[0;32mraise\u001b[0m \u001b[0mexc\u001b[0m\u001b[0;34m\u001b[0m\u001b[0;34m\u001b[0m\u001b[0m\n\u001b[0m\u001b[1;32m    202\u001b[0m \u001b[0;34m\u001b[0m\u001b[0m\n\u001b[1;32m    203\u001b[0m     \u001b[0;34m@\u001b[0m\u001b[0mproperty\u001b[0m\u001b[0;34m\u001b[0m\u001b[0;34m\u001b[0m\u001b[0m\n",
            "\u001b[0;32m/usr/local/lib/python3.10/dist-packages/langchain_experimental/sql/base.py\u001b[0m in \u001b[0;36m_call\u001b[0;34m(self, inputs, run_manager)\u001b[0m\n\u001b[1;32m    169\u001b[0m                     \u001b[0;34m{\u001b[0m\u001b[0;34m\"sql_cmd\"\u001b[0m\u001b[0;34m:\u001b[0m \u001b[0mchecked_sql_command\u001b[0m\u001b[0;34m}\u001b[0m\u001b[0;34m\u001b[0m\u001b[0;34m\u001b[0m\u001b[0m\n\u001b[1;32m    170\u001b[0m                 )  # input: sql exec\n\u001b[0;32m--> 171\u001b[0;31m                 \u001b[0mresult\u001b[0m \u001b[0;34m=\u001b[0m \u001b[0mself\u001b[0m\u001b[0;34m.\u001b[0m\u001b[0mdatabase\u001b[0m\u001b[0;34m.\u001b[0m\u001b[0mrun\u001b[0m\u001b[0;34m(\u001b[0m\u001b[0mchecked_sql_command\u001b[0m\u001b[0;34m)\u001b[0m\u001b[0;34m\u001b[0m\u001b[0;34m\u001b[0m\u001b[0m\n\u001b[0m\u001b[1;32m    172\u001b[0m                 \u001b[0mintermediate_steps\u001b[0m\u001b[0;34m.\u001b[0m\u001b[0mappend\u001b[0m\u001b[0;34m(\u001b[0m\u001b[0mstr\u001b[0m\u001b[0;34m(\u001b[0m\u001b[0mresult\u001b[0m\u001b[0;34m)\u001b[0m\u001b[0;34m)\u001b[0m  \u001b[0;31m# output: sql exec\u001b[0m\u001b[0;34m\u001b[0m\u001b[0;34m\u001b[0m\u001b[0m\n\u001b[1;32m    173\u001b[0m                 \u001b[0msql_cmd\u001b[0m \u001b[0;34m=\u001b[0m \u001b[0mchecked_sql_command\u001b[0m\u001b[0;34m\u001b[0m\u001b[0;34m\u001b[0m\u001b[0m\n",
            "\u001b[0;32m~/.local/lib/python3.10/site-packages/langchain_community/utilities/sql_database.py\u001b[0m in \u001b[0;36mrun\u001b[0;34m(self, command, fetch, include_columns)\u001b[0m\n\u001b[1;32m    435\u001b[0m         \u001b[0mIf\u001b[0m \u001b[0mthe\u001b[0m \u001b[0mstatement\u001b[0m \u001b[0mreturns\u001b[0m \u001b[0mno\u001b[0m \u001b[0mrows\u001b[0m\u001b[0;34m,\u001b[0m \u001b[0man\u001b[0m \u001b[0mempty\u001b[0m \u001b[0mstring\u001b[0m \u001b[0;32mis\u001b[0m \u001b[0mreturned\u001b[0m\u001b[0;34m.\u001b[0m\u001b[0;34m\u001b[0m\u001b[0;34m\u001b[0m\u001b[0m\n\u001b[1;32m    436\u001b[0m         \"\"\"\n\u001b[0;32m--> 437\u001b[0;31m         \u001b[0mresult\u001b[0m \u001b[0;34m=\u001b[0m \u001b[0mself\u001b[0m\u001b[0;34m.\u001b[0m\u001b[0m_execute\u001b[0m\u001b[0;34m(\u001b[0m\u001b[0mcommand\u001b[0m\u001b[0;34m,\u001b[0m \u001b[0mfetch\u001b[0m\u001b[0;34m)\u001b[0m\u001b[0;34m\u001b[0m\u001b[0;34m\u001b[0m\u001b[0m\n\u001b[0m\u001b[1;32m    438\u001b[0m \u001b[0;34m\u001b[0m\u001b[0m\n\u001b[1;32m    439\u001b[0m         res = [\n",
            "\u001b[0;32m~/.local/lib/python3.10/site-packages/langchain_community/utilities/sql_database.py\u001b[0m in \u001b[0;36m_execute\u001b[0;34m(self, command, fetch)\u001b[0m\n\u001b[1;32m    412\u001b[0m                 \u001b[0;32melse\u001b[0m\u001b[0;34m:\u001b[0m  \u001b[0;31m# postgresql and other compatible dialects\u001b[0m\u001b[0;34m\u001b[0m\u001b[0;34m\u001b[0m\u001b[0m\n\u001b[1;32m    413\u001b[0m                     \u001b[0mconnection\u001b[0m\u001b[0;34m.\u001b[0m\u001b[0mexec_driver_sql\u001b[0m\u001b[0;34m(\u001b[0m\u001b[0;34m\"SET search_path TO %s\"\u001b[0m\u001b[0;34m,\u001b[0m \u001b[0;34m(\u001b[0m\u001b[0mself\u001b[0m\u001b[0;34m.\u001b[0m\u001b[0m_schema\u001b[0m\u001b[0;34m,\u001b[0m\u001b[0;34m)\u001b[0m\u001b[0;34m)\u001b[0m\u001b[0;34m\u001b[0m\u001b[0;34m\u001b[0m\u001b[0m\n\u001b[0;32m--> 414\u001b[0;31m             \u001b[0mcursor\u001b[0m \u001b[0;34m=\u001b[0m \u001b[0mconnection\u001b[0m\u001b[0;34m.\u001b[0m\u001b[0mexecute\u001b[0m\u001b[0;34m(\u001b[0m\u001b[0mtext\u001b[0m\u001b[0;34m(\u001b[0m\u001b[0mcommand\u001b[0m\u001b[0;34m)\u001b[0m\u001b[0;34m)\u001b[0m\u001b[0;34m\u001b[0m\u001b[0;34m\u001b[0m\u001b[0m\n\u001b[0m\u001b[1;32m    415\u001b[0m             \u001b[0;32mif\u001b[0m \u001b[0mcursor\u001b[0m\u001b[0;34m.\u001b[0m\u001b[0mreturns_rows\u001b[0m\u001b[0;34m:\u001b[0m\u001b[0;34m\u001b[0m\u001b[0;34m\u001b[0m\u001b[0m\n\u001b[1;32m    416\u001b[0m                 \u001b[0;32mif\u001b[0m \u001b[0mfetch\u001b[0m \u001b[0;34m==\u001b[0m \u001b[0;34m\"all\"\u001b[0m\u001b[0;34m:\u001b[0m\u001b[0;34m\u001b[0m\u001b[0;34m\u001b[0m\u001b[0m\n",
            "\u001b[0;32m~/.local/lib/python3.10/site-packages/sqlalchemy/engine/base.py\u001b[0m in \u001b[0;36mexecute\u001b[0;34m(self, statement, *multiparams, **params)\u001b[0m\n\u001b[1;32m   1383\u001b[0m             )\n\u001b[1;32m   1384\u001b[0m         \u001b[0;32melse\u001b[0m\u001b[0;34m:\u001b[0m\u001b[0;34m\u001b[0m\u001b[0;34m\u001b[0m\u001b[0m\n\u001b[0;32m-> 1385\u001b[0;31m             \u001b[0;32mreturn\u001b[0m \u001b[0mmeth\u001b[0m\u001b[0;34m(\u001b[0m\u001b[0mself\u001b[0m\u001b[0;34m,\u001b[0m \u001b[0mmultiparams\u001b[0m\u001b[0;34m,\u001b[0m \u001b[0mparams\u001b[0m\u001b[0;34m,\u001b[0m \u001b[0m_EMPTY_EXECUTION_OPTS\u001b[0m\u001b[0;34m)\u001b[0m\u001b[0;34m\u001b[0m\u001b[0;34m\u001b[0m\u001b[0m\n\u001b[0m\u001b[1;32m   1386\u001b[0m \u001b[0;34m\u001b[0m\u001b[0m\n\u001b[1;32m   1387\u001b[0m     \u001b[0;32mdef\u001b[0m \u001b[0m_execute_function\u001b[0m\u001b[0;34m(\u001b[0m\u001b[0mself\u001b[0m\u001b[0;34m,\u001b[0m \u001b[0mfunc\u001b[0m\u001b[0;34m,\u001b[0m \u001b[0mmultiparams\u001b[0m\u001b[0;34m,\u001b[0m \u001b[0mparams\u001b[0m\u001b[0;34m,\u001b[0m \u001b[0mexecution_options\u001b[0m\u001b[0;34m)\u001b[0m\u001b[0;34m:\u001b[0m\u001b[0;34m\u001b[0m\u001b[0;34m\u001b[0m\u001b[0m\n",
            "\u001b[0;32m~/.local/lib/python3.10/site-packages/sqlalchemy/sql/elements.py\u001b[0m in \u001b[0;36m_execute_on_connection\u001b[0;34m(self, connection, multiparams, params, execution_options, _force)\u001b[0m\n\u001b[1;32m    332\u001b[0m     ):\n\u001b[1;32m    333\u001b[0m         \u001b[0;32mif\u001b[0m \u001b[0m_force\u001b[0m \u001b[0;32mor\u001b[0m \u001b[0mself\u001b[0m\u001b[0;34m.\u001b[0m\u001b[0msupports_execution\u001b[0m\u001b[0;34m:\u001b[0m\u001b[0;34m\u001b[0m\u001b[0;34m\u001b[0m\u001b[0m\n\u001b[0;32m--> 334\u001b[0;31m             return connection._execute_clauseelement(\n\u001b[0m\u001b[1;32m    335\u001b[0m                 \u001b[0mself\u001b[0m\u001b[0;34m,\u001b[0m \u001b[0mmultiparams\u001b[0m\u001b[0;34m,\u001b[0m \u001b[0mparams\u001b[0m\u001b[0;34m,\u001b[0m \u001b[0mexecution_options\u001b[0m\u001b[0;34m\u001b[0m\u001b[0;34m\u001b[0m\u001b[0m\n\u001b[1;32m    336\u001b[0m             )\n",
            "\u001b[0;32m~/.local/lib/python3.10/site-packages/sqlalchemy/engine/base.py\u001b[0m in \u001b[0;36m_execute_clauseelement\u001b[0;34m(self, elem, multiparams, params, execution_options)\u001b[0m\n\u001b[1;32m   1575\u001b[0m             \u001b[0mlinting\u001b[0m\u001b[0;34m=\u001b[0m\u001b[0mself\u001b[0m\u001b[0;34m.\u001b[0m\u001b[0mdialect\u001b[0m\u001b[0;34m.\u001b[0m\u001b[0mcompiler_linting\u001b[0m \u001b[0;34m|\u001b[0m \u001b[0mcompiler\u001b[0m\u001b[0;34m.\u001b[0m\u001b[0mWARN_LINTING\u001b[0m\u001b[0;34m,\u001b[0m\u001b[0;34m\u001b[0m\u001b[0;34m\u001b[0m\u001b[0m\n\u001b[1;32m   1576\u001b[0m         )\n\u001b[0;32m-> 1577\u001b[0;31m         ret = self._execute_context(\n\u001b[0m\u001b[1;32m   1578\u001b[0m             \u001b[0mdialect\u001b[0m\u001b[0;34m,\u001b[0m\u001b[0;34m\u001b[0m\u001b[0;34m\u001b[0m\u001b[0m\n\u001b[1;32m   1579\u001b[0m             \u001b[0mdialect\u001b[0m\u001b[0;34m.\u001b[0m\u001b[0mexecution_ctx_cls\u001b[0m\u001b[0;34m.\u001b[0m\u001b[0m_init_compiled\u001b[0m\u001b[0;34m,\u001b[0m\u001b[0;34m\u001b[0m\u001b[0;34m\u001b[0m\u001b[0m\n",
            "\u001b[0;32m~/.local/lib/python3.10/site-packages/sqlalchemy/engine/base.py\u001b[0m in \u001b[0;36m_execute_context\u001b[0;34m(self, dialect, constructor, statement, parameters, execution_options, *args, **kw)\u001b[0m\n\u001b[1;32m   1946\u001b[0m \u001b[0;34m\u001b[0m\u001b[0m\n\u001b[1;32m   1947\u001b[0m         \u001b[0;32mexcept\u001b[0m \u001b[0mBaseException\u001b[0m \u001b[0;32mas\u001b[0m \u001b[0me\u001b[0m\u001b[0;34m:\u001b[0m\u001b[0;34m\u001b[0m\u001b[0;34m\u001b[0m\u001b[0m\n\u001b[0;32m-> 1948\u001b[0;31m             self._handle_dbapi_exception(\n\u001b[0m\u001b[1;32m   1949\u001b[0m                 \u001b[0me\u001b[0m\u001b[0;34m,\u001b[0m \u001b[0mstatement\u001b[0m\u001b[0;34m,\u001b[0m \u001b[0mparameters\u001b[0m\u001b[0;34m,\u001b[0m \u001b[0mcursor\u001b[0m\u001b[0;34m,\u001b[0m \u001b[0mcontext\u001b[0m\u001b[0;34m\u001b[0m\u001b[0;34m\u001b[0m\u001b[0m\n\u001b[1;32m   1950\u001b[0m             )\n",
            "\u001b[0;32m~/.local/lib/python3.10/site-packages/sqlalchemy/engine/base.py\u001b[0m in \u001b[0;36m_handle_dbapi_exception\u001b[0;34m(self, e, statement, parameters, cursor, context)\u001b[0m\n\u001b[1;32m   2127\u001b[0m                 \u001b[0mutil\u001b[0m\u001b[0;34m.\u001b[0m\u001b[0mraise_\u001b[0m\u001b[0;34m(\u001b[0m\u001b[0mnewraise\u001b[0m\u001b[0;34m,\u001b[0m \u001b[0mwith_traceback\u001b[0m\u001b[0;34m=\u001b[0m\u001b[0mexc_info\u001b[0m\u001b[0;34m[\u001b[0m\u001b[0;36m2\u001b[0m\u001b[0;34m]\u001b[0m\u001b[0;34m,\u001b[0m \u001b[0mfrom_\u001b[0m\u001b[0;34m=\u001b[0m\u001b[0me\u001b[0m\u001b[0;34m)\u001b[0m\u001b[0;34m\u001b[0m\u001b[0;34m\u001b[0m\u001b[0m\n\u001b[1;32m   2128\u001b[0m             \u001b[0;32melif\u001b[0m \u001b[0mshould_wrap\u001b[0m\u001b[0;34m:\u001b[0m\u001b[0;34m\u001b[0m\u001b[0;34m\u001b[0m\u001b[0m\n\u001b[0;32m-> 2129\u001b[0;31m                 util.raise_(\n\u001b[0m\u001b[1;32m   2130\u001b[0m                     \u001b[0msqlalchemy_exception\u001b[0m\u001b[0;34m,\u001b[0m \u001b[0mwith_traceback\u001b[0m\u001b[0;34m=\u001b[0m\u001b[0mexc_info\u001b[0m\u001b[0;34m[\u001b[0m\u001b[0;36m2\u001b[0m\u001b[0;34m]\u001b[0m\u001b[0;34m,\u001b[0m \u001b[0mfrom_\u001b[0m\u001b[0;34m=\u001b[0m\u001b[0me\u001b[0m\u001b[0;34m\u001b[0m\u001b[0;34m\u001b[0m\u001b[0m\n\u001b[1;32m   2131\u001b[0m                 )\n",
            "\u001b[0;32m~/.local/lib/python3.10/site-packages/sqlalchemy/util/compat.py\u001b[0m in \u001b[0;36mraise_\u001b[0;34m(***failed resolving arguments***)\u001b[0m\n\u001b[1;32m    209\u001b[0m \u001b[0;34m\u001b[0m\u001b[0m\n\u001b[1;32m    210\u001b[0m         \u001b[0;32mtry\u001b[0m\u001b[0;34m:\u001b[0m\u001b[0;34m\u001b[0m\u001b[0;34m\u001b[0m\u001b[0m\n\u001b[0;32m--> 211\u001b[0;31m             \u001b[0;32mraise\u001b[0m \u001b[0mexception\u001b[0m\u001b[0;34m\u001b[0m\u001b[0;34m\u001b[0m\u001b[0m\n\u001b[0m\u001b[1;32m    212\u001b[0m         \u001b[0;32mfinally\u001b[0m\u001b[0;34m:\u001b[0m\u001b[0;34m\u001b[0m\u001b[0;34m\u001b[0m\u001b[0m\n\u001b[1;32m    213\u001b[0m             \u001b[0;31m# credit to\u001b[0m\u001b[0;34m\u001b[0m\u001b[0;34m\u001b[0m\u001b[0m\n",
            "\u001b[0;32m~/.local/lib/python3.10/site-packages/sqlalchemy/engine/base.py\u001b[0m in \u001b[0;36m_execute_context\u001b[0;34m(self, dialect, constructor, statement, parameters, execution_options, *args, **kw)\u001b[0m\n\u001b[1;32m   1903\u001b[0m                             \u001b[0;32mbreak\u001b[0m\u001b[0;34m\u001b[0m\u001b[0;34m\u001b[0m\u001b[0m\n\u001b[1;32m   1904\u001b[0m                 \u001b[0;32mif\u001b[0m \u001b[0;32mnot\u001b[0m \u001b[0mevt_handled\u001b[0m\u001b[0;34m:\u001b[0m\u001b[0;34m\u001b[0m\u001b[0;34m\u001b[0m\u001b[0m\n\u001b[0;32m-> 1905\u001b[0;31m                     self.dialect.do_execute(\n\u001b[0m\u001b[1;32m   1906\u001b[0m                         \u001b[0mcursor\u001b[0m\u001b[0;34m,\u001b[0m \u001b[0mstatement\u001b[0m\u001b[0;34m,\u001b[0m \u001b[0mparameters\u001b[0m\u001b[0;34m,\u001b[0m \u001b[0mcontext\u001b[0m\u001b[0;34m\u001b[0m\u001b[0;34m\u001b[0m\u001b[0m\n\u001b[1;32m   1907\u001b[0m                     )\n",
            "\u001b[0;32m~/.local/lib/python3.10/site-packages/sqlalchemy/engine/default.py\u001b[0m in \u001b[0;36mdo_execute\u001b[0;34m(self, cursor, statement, parameters, context)\u001b[0m\n\u001b[1;32m    734\u001b[0m \u001b[0;34m\u001b[0m\u001b[0m\n\u001b[1;32m    735\u001b[0m     \u001b[0;32mdef\u001b[0m \u001b[0mdo_execute\u001b[0m\u001b[0;34m(\u001b[0m\u001b[0mself\u001b[0m\u001b[0;34m,\u001b[0m \u001b[0mcursor\u001b[0m\u001b[0;34m,\u001b[0m \u001b[0mstatement\u001b[0m\u001b[0;34m,\u001b[0m \u001b[0mparameters\u001b[0m\u001b[0;34m,\u001b[0m \u001b[0mcontext\u001b[0m\u001b[0;34m=\u001b[0m\u001b[0;32mNone\u001b[0m\u001b[0;34m)\u001b[0m\u001b[0;34m:\u001b[0m\u001b[0;34m\u001b[0m\u001b[0;34m\u001b[0m\u001b[0m\n\u001b[0;32m--> 736\u001b[0;31m         \u001b[0mcursor\u001b[0m\u001b[0;34m.\u001b[0m\u001b[0mexecute\u001b[0m\u001b[0;34m(\u001b[0m\u001b[0mstatement\u001b[0m\u001b[0;34m,\u001b[0m \u001b[0mparameters\u001b[0m\u001b[0;34m)\u001b[0m\u001b[0;34m\u001b[0m\u001b[0;34m\u001b[0m\u001b[0m\n\u001b[0m\u001b[1;32m    737\u001b[0m \u001b[0;34m\u001b[0m\u001b[0m\n\u001b[1;32m    738\u001b[0m     \u001b[0;32mdef\u001b[0m \u001b[0mdo_execute_no_params\u001b[0m\u001b[0;34m(\u001b[0m\u001b[0mself\u001b[0m\u001b[0;34m,\u001b[0m \u001b[0mcursor\u001b[0m\u001b[0;34m,\u001b[0m \u001b[0mstatement\u001b[0m\u001b[0;34m,\u001b[0m \u001b[0mcontext\u001b[0m\u001b[0;34m=\u001b[0m\u001b[0;32mNone\u001b[0m\u001b[0;34m)\u001b[0m\u001b[0;34m:\u001b[0m\u001b[0;34m\u001b[0m\u001b[0;34m\u001b[0m\u001b[0m\n",
            "\u001b[0;32m/usr/local/lib/python3.10/dist-packages/google/cloud/bigquery/dbapi/_helpers.py\u001b[0m in \u001b[0;36mwith_closed_check\u001b[0;34m(self, *args, **kwargs)\u001b[0m\n\u001b[1;32m    492\u001b[0m             \u001b[0;32mif\u001b[0m \u001b[0mgetattr\u001b[0m\u001b[0;34m(\u001b[0m\u001b[0mself\u001b[0m\u001b[0;34m,\u001b[0m \u001b[0mclosed_attr_name\u001b[0m\u001b[0;34m)\u001b[0m\u001b[0;34m:\u001b[0m\u001b[0;34m\u001b[0m\u001b[0;34m\u001b[0m\u001b[0m\n\u001b[1;32m    493\u001b[0m                 \u001b[0;32mraise\u001b[0m \u001b[0mexc_class\u001b[0m\u001b[0;34m(\u001b[0m\u001b[0mexc_msg\u001b[0m\u001b[0;34m)\u001b[0m\u001b[0;34m\u001b[0m\u001b[0;34m\u001b[0m\u001b[0m\n\u001b[0;32m--> 494\u001b[0;31m             \u001b[0;32mreturn\u001b[0m \u001b[0mmethod\u001b[0m\u001b[0;34m(\u001b[0m\u001b[0mself\u001b[0m\u001b[0;34m,\u001b[0m \u001b[0;34m*\u001b[0m\u001b[0margs\u001b[0m\u001b[0;34m,\u001b[0m \u001b[0;34m**\u001b[0m\u001b[0mkwargs\u001b[0m\u001b[0;34m)\u001b[0m\u001b[0;34m\u001b[0m\u001b[0;34m\u001b[0m\u001b[0m\n\u001b[0m\u001b[1;32m    495\u001b[0m \u001b[0;34m\u001b[0m\u001b[0m\n\u001b[1;32m    496\u001b[0m         \u001b[0mfunctools\u001b[0m\u001b[0;34m.\u001b[0m\u001b[0mupdate_wrapper\u001b[0m\u001b[0;34m(\u001b[0m\u001b[0mwith_closed_check\u001b[0m\u001b[0;34m,\u001b[0m \u001b[0mmethod\u001b[0m\u001b[0;34m)\u001b[0m\u001b[0;34m\u001b[0m\u001b[0;34m\u001b[0m\u001b[0m\n",
            "\u001b[0;32m/usr/local/lib/python3.10/dist-packages/google/cloud/bigquery/dbapi/cursor.py\u001b[0m in \u001b[0;36mexecute\u001b[0;34m(self, operation, parameters, job_id, job_config)\u001b[0m\n\u001b[1;32m    174\u001b[0m         \"\"\"\n\u001b[1;32m    175\u001b[0m         \u001b[0mformatted_operation\u001b[0m\u001b[0;34m,\u001b[0m \u001b[0mparameter_types\u001b[0m \u001b[0;34m=\u001b[0m \u001b[0m_format_operation\u001b[0m\u001b[0;34m(\u001b[0m\u001b[0moperation\u001b[0m\u001b[0;34m,\u001b[0m \u001b[0mparameters\u001b[0m\u001b[0;34m)\u001b[0m\u001b[0;34m\u001b[0m\u001b[0;34m\u001b[0m\u001b[0m\n\u001b[0;32m--> 176\u001b[0;31m         self._execute(\n\u001b[0m\u001b[1;32m    177\u001b[0m             \u001b[0mformatted_operation\u001b[0m\u001b[0;34m,\u001b[0m \u001b[0mparameters\u001b[0m\u001b[0;34m,\u001b[0m \u001b[0mjob_id\u001b[0m\u001b[0;34m,\u001b[0m \u001b[0mjob_config\u001b[0m\u001b[0;34m,\u001b[0m \u001b[0mparameter_types\u001b[0m\u001b[0;34m\u001b[0m\u001b[0;34m\u001b[0m\u001b[0m\n\u001b[1;32m    178\u001b[0m         )\n",
            "\u001b[0;32m/usr/local/lib/python3.10/dist-packages/google/cloud/bigquery/dbapi/cursor.py\u001b[0m in \u001b[0;36m_execute\u001b[0;34m(self, formatted_operation, parameters, job_id, job_config, parameter_types)\u001b[0m\n\u001b[1;32m    213\u001b[0m             \u001b[0mself\u001b[0m\u001b[0;34m.\u001b[0m\u001b[0m_query_job\u001b[0m\u001b[0;34m.\u001b[0m\u001b[0mresult\u001b[0m\u001b[0;34m(\u001b[0m\u001b[0;34m)\u001b[0m\u001b[0;34m\u001b[0m\u001b[0;34m\u001b[0m\u001b[0m\n\u001b[1;32m    214\u001b[0m         \u001b[0;32mexcept\u001b[0m \u001b[0mgoogle\u001b[0m\u001b[0;34m.\u001b[0m\u001b[0mcloud\u001b[0m\u001b[0;34m.\u001b[0m\u001b[0mexceptions\u001b[0m\u001b[0;34m.\u001b[0m\u001b[0mGoogleCloudError\u001b[0m \u001b[0;32mas\u001b[0m \u001b[0mexc\u001b[0m\u001b[0;34m:\u001b[0m\u001b[0;34m\u001b[0m\u001b[0;34m\u001b[0m\u001b[0m\n\u001b[0;32m--> 215\u001b[0;31m             \u001b[0;32mraise\u001b[0m \u001b[0mexceptions\u001b[0m\u001b[0;34m.\u001b[0m\u001b[0mDatabaseError\u001b[0m\u001b[0;34m(\u001b[0m\u001b[0mexc\u001b[0m\u001b[0;34m)\u001b[0m\u001b[0;34m\u001b[0m\u001b[0;34m\u001b[0m\u001b[0m\n\u001b[0m\u001b[1;32m    216\u001b[0m \u001b[0;34m\u001b[0m\u001b[0m\n\u001b[1;32m    217\u001b[0m         \u001b[0mquery_results\u001b[0m \u001b[0;34m=\u001b[0m \u001b[0mself\u001b[0m\u001b[0;34m.\u001b[0m\u001b[0m_query_job\u001b[0m\u001b[0;34m.\u001b[0m\u001b[0m_query_results\u001b[0m\u001b[0;34m\u001b[0m\u001b[0;34m\u001b[0m\u001b[0m\n",
            "\u001b[0;31mDatabaseError\u001b[0m: (google.cloud.bigquery.dbapi.exceptions.DatabaseError) 400 ORDER BY does not support expressions of type STRUCT<vehicle_id INT64, vehicle_number STRING, smoke_emission FLOAT64, ...> at [1:45]\n\nLocation: US\nJob ID: 896281aa-de2f-41db-bbf5-a44d87aa1389\n\n[SQL: SELECT vehicle_id FROM Temperature ORDER BY temperature DESC LIMIT 1;]\n(Background on this error at: https://sqlalche.me/e/14/4xp6)"
          ]
        }
      ]
    },
    {
      "cell_type": "code",
      "source": [
        "print(db.get_table_info())"
      ],
      "metadata": {
        "colab": {
          "base_uri": "https://localhost:8080/"
        },
        "id": "aI8c4zyBuQsQ",
        "outputId": "09fdc44f-fd65-45e2-cc1c-0dd49a8bf517"
      },
      "execution_count": 168,
      "outputs": [
        {
          "output_type": "stream",
          "name": "stdout",
          "text": [
            "\n",
            "CREATE TABLE `Mileage` (\n",
            "\t`vehicle_number` STRING, \n",
            "\t`make` STRING, \n",
            "\t`type` STRING, \n",
            "\t`mileage` INT64\n",
            ")\n",
            "\n",
            "/*\n",
            "10 rows from Mileage table:\n",
            "vehicle_number\tmake\ttype\tmileage\n",
            "DEF456\tHonda\tSUV\t45\n",
            "MNOP\tSkoda\tSUV\t52\n",
            "678PQR\tAcura\tSUV\t49\n",
            "456DEF\tLand Rover\tSUV\t85\n",
            "890ABCD\tMini\tSUV\t46\n",
            "PQR678\tNissan\tVan\t59\n",
            "JKL012\tChevrolet\tCoupe\t34\n",
            "234VWX\tMitsubishi\tSedan\t35\n",
            "TUVW\tPeugeot\tSedan\t27\n",
            "ABC123\tToyota\tSedan\t78\n",
            "*/\n",
            "\n",
            "\n",
            "CREATE TABLE `Temperature` (\n",
            "\t`vehicle_id` INT64, \n",
            "\t`vehicle_number` STRING, \n",
            "\t`smoke_emission` FLOAT64, \n",
            "\t`temperature` INT64\n",
            ")\n",
            "\n",
            "/*\n",
            "10 rows from Temperature table:\n",
            "vehicle_id\tvehicle_number\tsmoke_emission\ttemperature\n",
            "2\tDEF456\t0.5\t28\n",
            "11\tEFGH789\t0.5\t26\n",
            "20\t012JKL\t0.5\t32\n",
            "28\t456IJKL\t0.5\t23\n",
            "1\tABC123\t0.3\t32\n",
            "14\tQRST678\t0.3\t30\n",
            "22\t678PQR\t0.3\t37\n",
            "30\t012QRST\t0.3\t28\n",
            "8\tVWX234\t0.6\t29\n",
            "17\t123ABC\t0.6\t21\n",
            "*/\n",
            "\n",
            "\n",
            "CREATE TABLE `topSpeed` (\n",
            "\t`vehicle_number` STRING, \n",
            "\t`capacitor` INT64, \n",
            "\t`cc` FLOAT64, \n",
            "\t`top_speed` INT64\n",
            ")\n",
            "\n",
            "/*\n",
            "10 rows from topSpeed table:\n",
            "vehicle_number\tcapacitor\tcc\ttop_speed\n",
            "YZ123\t1000\t1.0\t100\n",
            "123A\t1300\t1.0\t100\n",
            "567YZ1\t1400\t1.1\t105\n",
            "123ABC\t1500\t1.3\t110\n",
            "MNOP\t1600\t1.4\t110\n",
            "MNOP345\t1800\t1.4\t115\n",
            "JKL012\t1500\t1.2\t120\n",
            "345MNO\t1700\t1.5\t120\n",
            "123EFGH\t2000\t1.6\t125\n",
            "789C\t2200\t1.7\t125\n",
            "*/\n"
          ]
        }
      ]
    },
    {
      "cell_type": "markdown",
      "source": [
        "#### Use the SQL AGENT - The working COde"
      ],
      "metadata": {
        "id": "5kNBcKFr1lNw"
      }
    },
    {
      "cell_type": "code",
      "source": [
        "#dependencies\n",
        "!pip install google-cloud-aiplatform --upgrade --user --quiet\n",
        "!pip install chromadb==0.3.26 pydantic==1.10.8 typing-inspect==0.8.0 typing_extensions==4.5.0 pandas datasets google-api-python-client pypdf faiss-cpu transformers config --upgrade --user --quiet\n",
        "\n",
        "\n",
        "# after running restart the session\n"
      ],
      "metadata": {
        "id": "V2zqtU4pMATh"
      },
      "execution_count": null,
      "outputs": []
    },
    {
      "cell_type": "code",
      "source": [
        "# Below libraries are required to build a SQL engine for BigQuery\n",
        "!pip install --user SQLAlchemy==1.4.48 --quiet\n",
        "!pip install --user sqlalchemy-bigquery --quiet\n",
        "# Install pandas\n",
        "! pip install --user --quiet pandas\n",
        "\n",
        "# Install HuggingFace Datasets\n",
        "! pip install --user --quiet datasets\n",
        "\n",
        "# Install Python client for Google Search API\n",
        "! pip install --user --quiet google-api-python-client\n",
        "\n",
        "# PDF loader\n",
        "! pip install --user --quiet pypdf\n",
        "\n",
        "# Install similarity search library\n",
        "# TO-DO: Replace with vertex AI Matching Engine\n",
        "! pip install --user --quiet faiss-cpu\n",
        "\n",
        "!pip install -U langchain langchain_experimental"
      ],
      "metadata": {
        "id": "W6l0uiv8MORX"
      },
      "execution_count": null,
      "outputs": []
    },
    {
      "cell_type": "code",
      "source": [
        "template = \"\"\" Given an input question, first create a syntactically correct bigquery  to run, then look at the results of the query and return the answer.\n",
        "Unless the user specifies in the question a specific number of examples to obtain, query for at most 10000 results using the LIMIT clause as per BigQuery SQL\n",
        "Be careful to not query for columns that do not exist. Also, pay attention to which column is in which table.\n",
        "\n",
        "when ever the question is about Vehicle_ID first do the join with the Vehicle_ID table using Vehicle number\n",
        "\n",
        "Database Description:\n",
        "\n",
        "There are 3 tables: Vehicle_data, Mileage, and Topspeed.\n",
        "Vehicle_data contains: vehicle_id , vehicle_number , smoke_emission, and temperature.\n",
        "Topspeed contains: vehicle_number, capacitor , cc , and top_speed .\n",
        "Mileage contains: vehicle_number, make , type  and mileage .\n",
        "The vehicle_id column is only present in the Vehicle_data table.\n",
        "\n",
        "The vehicle_id column is only present in the Vehicle_ID table.\n",
        "\n",
        "Use the following format:\n",
        "\n",
        "Question: \"Question here\"\n",
        "SQLQuery: \"SQL Query to run\"\n",
        "SQLResult: \"Result of the SQLQuery\"\n",
        "Answer: \"Final answer here\"\n",
        "\n",
        "Only use the following tables:\n",
        "\n",
        "'Vehicle_data','Topspeed','Mileage'\n",
        "\n",
        "Some examples of SQL queries that correspond to questions are:\n",
        "\"Find the average mileage for vehicles with a top speed greater than 200 km/h.\" : \"SELECT Mileage.vehicle_number,Mileage.AVG(mileage) AS average_mileage FROM Mileage JOIN Topspeed ON Mileage.vehicle_number = Topspeed.vehicle_number WHERE top_speed > 200 group by Mileage.vehicle_number;\",\n",
        "\"List the vehicle model, make for vehicles with a smoke emission between 40 and 60 grams/km.\": \"SELECT type, make  FROM Mileage JOIN Vehicle_data ON Mileage.vehicle_number = Vehicle_data.vehicle_number WHERE Vehicle_data.smoke_emission BETWEEN 40 AND 60;\",\n",
        "\"Retrieve the vehicle IDs and temperatures for vehicles with an engine displacement (cc) of 1500 or higher.\" : \"SELECT vehicle_id, temperature FROM Vehicle_data JOIN Topspeed ON Vehicle_data.vehicle_number = Topspeed.vehicle_number WHERE cc >= 1500;\",\n",
        "\"Calculate the total number of vehicles with a mileage of less than 15 km/L.\":\"SELECT COUNT(*) AS total_vehicles FROM Mileage WHERE mileage < 15;\",\n",
        "\"Find the highest smoke emission value across all vehicles.\":\"SELECT MAX(smoke_emission) AS highest_smoke_emission FROM Vehicle_data;\",\n",
        "\"Show the vehicle model with the lowest temperature.\":\"SELECT type AS vehicle_model FROM Mileage JOIN Vehicle_data ON Mileage.vehicle_number = Vehicle_data.vehicle_number WHERE temperature = (SELECT MIN(temperature) FROM Vehicle_data);\"\n",
        "\n",
        "\n",
        "Question: {input}\"\"\""
      ],
      "metadata": {
        "id": "y8uJSEUhmsc2"
      },
      "execution_count": 39,
      "outputs": []
    },
    {
      "cell_type": "code",
      "source": [
        "PROMPT = PromptTemplate(input_variables=[\"input\"], template=template,)"
      ],
      "metadata": {
        "id": "WGlAJzOima_C"
      },
      "execution_count": 40,
      "outputs": []
    },
    {
      "cell_type": "code",
      "source": [
        "from langchain.agents import create_sql_agent\n",
        "from langchain.agents.agent_toolkits import SQLDatabaseToolkit\n",
        "from langchain.agents.agent_types import AgentType"
      ],
      "metadata": {
        "id": "vQQL053G1jmJ"
      },
      "execution_count": 4,
      "outputs": []
    },
    {
      "cell_type": "code",
      "source": [
        "from langchain import SQLDatabase\n",
        "#from langchain.chains import sql_database\n",
        "from google.cloud import aiplatform\n",
        "from langchain.llms import VertexAI\n",
        "import vertexai\n",
        "from google.colab import auth as google_auth\n",
        "google_auth.authenticate_user()\n",
        "PROJECT_ID = \"iron-decorator-297513\"\n",
        "LOCATION = \"us-central1\"\n",
        "aiplatform.init(project=PROJECT_ID, location=LOCATION)\n",
        "vertexai.init(project=PROJECT_ID, location=LOCATION)\n",
        "\n",
        "from sqlalchemy import *\n",
        "from sqlalchemy.engine import create_engine\n",
        "from sqlalchemy.schema import *\n",
        "import pandas as pd\n",
        "\n",
        "\n",
        "project_id = \"iron-decorator-297513\"\n",
        "LOCATION = \"us-central1\"\n",
        "dataset_id = 'tg_Dataste'\n",
        "table_name = ['Vehicle_data','Topspeed','Mileage']\n",
        "table_uri = f\"bigquery://{project_id}/{dataset_id}\"\n",
        "engine = create_engine(f\"bigquery://{project_id}/{dataset_id}\")\n",
        "\n",
        "llm = VertexAI(\n",
        "    model_name='text-bison@001',\n",
        "    max_output_tokens=1024,\n",
        "    temperature=0.1,\n",
        "    top_p=0.8,\n",
        "    top_k=40,\n",
        "    verbose=True,\n",
        "    prompt_template = PROMPT\n",
        ")\n",
        "\n",
        "db = SQLDatabase(engine=engine,metadata=MetaData(bind=engine),include_tables=table_name,sample_rows_in_table_info=10)"
      ],
      "metadata": {
        "id": "GNNc9mNV1jvO"
      },
      "execution_count": 41,
      "outputs": []
    },
    {
      "cell_type": "code",
      "source": [
        "agent_executor = create_sql_agent(\n",
        "    llm=llm,\n",
        "    toolkit=SQLDatabaseToolkit(db=db, llm=llm),\n",
        "    verbose=True,\n",
        "    agent_type=AgentType.ZERO_SHOT_REACT_DESCRIPTION,\n",
        "    top_k=20\n",
        ")"
      ],
      "metadata": {
        "id": "7ZRc3OLW1jz0"
      },
      "execution_count": 8,
      "outputs": []
    },
    {
      "cell_type": "code",
      "source": [
        "print(agent_executor)"
      ],
      "metadata": {
        "colab": {
          "base_uri": "https://localhost:8080/"
        },
        "id": "A8WawhVqV8El",
        "outputId": "5d5276c7-fea8-4b89-9684-cd0fdca69b18"
      },
      "execution_count": 75,
      "outputs": [
        {
          "output_type": "stream",
          "name": "stdout",
          "text": [
            "agent=ZeroShotAgent(llm_chain=LLMChain(prompt=PromptTemplate(input_variables=['agent_scratchpad', 'input'], template='You are an agent designed to interact with a SQL database.\\nGiven an input question, create a syntactically correct bigquery query to run, then look at the results of the query and return the answer.\\nUnless the user specifies a specific number of examples they wish to obtain, always limit your query to at most 20 results.\\nYou can order the results by a relevant column to return the most interesting examples in the database.\\nNever query for all the columns from a specific table, only ask for the relevant columns given the question.\\nYou have access to tools for interacting with the database.\\nOnly use the below tools. Only use the information returned by the below tools to construct your final answer.\\nYou MUST double check your query before executing it. If you get an error while executing a query, rewrite the query and try again.\\n\\nDO NOT make any DML statements (INSERT, UPDATE, DELETE, DROP etc.) to the database.\\n\\nIf the question does not seem related to the database, just return \"I don\\'t know\" as the answer.\\n\\n\\nsql_db_query: Input to this tool is a detailed and correct SQL query, output is a result from the database. If the query is not correct, an error message will be returned. If an error is returned, rewrite the query, check the query, and try again. If you encounter an issue with Unknown column \\'xxxx\\' in \\'field list\\', use sql_db_schema to query the correct table fields.\\nsql_db_schema: Input to this tool is a comma-separated list of tables, output is the schema and sample rows for those tables. Be sure that the tables actually exist by calling sql_db_list_tables first! Example Input: table1, table2, table3\\nsql_db_list_tables: Input is an empty string, output is a comma separated list of tables in the database.\\nsql_db_query_checker: Use this tool to double check if your query is correct before executing it. Always use this tool before executing a query with sql_db_query!\\n\\n\\n\\nDatabase Description:\\n\\nThere are 3 tables: Vehicle_data, Mileage, and Topspeed.\\nVehicle_data contains: vehicle_id is the Primary key , vehicle_number , smoke_emission, and temperature.\\nTopspeed contains: vehicle_number is the Primary key, capacitor , cc , and top_speed .\\nMileage contains: vehicle_number is the Primary key, make , type  and mileage .\\nThe vehicle_id column is only present in the Vehicle_data table.\\n\\nwhen ever the user is asking for the vehicle id, you should do inner join with Vehicle_ID table using vehicle_number\\n\\n\\n\\nWhen ever there is Agrregate function like Average , Sum Always use the Primary key of the table along with the Select statement and group by the primary key to avoid error. \\nWhen ever there is a join , make sure to use the tablename suffix when writing the select queries to avoid ambiguity error. Example : Vehicle_data.Vehilce_number, Topspped.cc etc. \\n\\n\\n\\nUse the following format:\\n\\n\\nQuestion: the input question you must answer\\nThought: you should always think about what to do\\nAction: the action to take\\nAction Input: the input to the action\\nObservation: the result of the action\\n... (this Thought/Action/Action Input/Observation can repeat N times)\\nThought: I now know the final answer\\nFinal Answer: SQL query ONLY. \\n\\n\\nBegin!\\n\\nQuestion: {input}\\nThought: I should look at the tables in the database to see what I can query.  Then I should query the schema of the most relevant tables.\\n{agent_scratchpad}'), llm=VertexAI(verbose=True, model_name='text-bison@001', client=<vertexai.language_models.TextGenerationModel object at 0x79eb84e80190>, client_preview=<vertexai.preview.language_models._PreviewTextGenerationModel object at 0x79eb90b6beb0>, temperature=0.1, max_output_tokens=1024, top_p=0.8)), output_parser=MRKLOutputParser(), allowed_tools=['sql_db_query', 'sql_db_schema', 'sql_db_list_tables', 'sql_db_query_checker']) tools=[QuerySQLDataBaseTool(description=\"Input to this tool is a detailed and correct SQL query, output is a result from the database. If the query is not correct, an error message will be returned. If an error is returned, rewrite the query, check the query, and try again. If you encounter an issue with Unknown column 'xxxx' in 'field list', use sql_db_schema to query the correct table fields.\", db=<langchain_community.utilities.sql_database.SQLDatabase object at 0x79eb84b637c0>), InfoSQLDatabaseTool(description='Input to this tool is a comma-separated list of tables, output is the schema and sample rows for those tables. Be sure that the tables actually exist by calling sql_db_list_tables first! Example Input: table1, table2, table3', db=<langchain_community.utilities.sql_database.SQLDatabase object at 0x79eb84b637c0>), ListSQLDatabaseTool(db=<langchain_community.utilities.sql_database.SQLDatabase object at 0x79eb84b637c0>), QuerySQLCheckerTool(description='Use this tool to double check if your query is correct before executing it. Always use this tool before executing a query with sql_db_query!', db=<langchain_community.utilities.sql_database.SQLDatabase object at 0x79eb84b637c0>, llm=VertexAI(verbose=True, model_name='text-bison@001', client=<vertexai.language_models.TextGenerationModel object at 0x79eb84e80190>, client_preview=<vertexai.preview.language_models._PreviewTextGenerationModel object at 0x79eb90b6beb0>, temperature=0.1, max_output_tokens=1024, top_p=0.8), llm_chain=LLMChain(prompt=PromptTemplate(input_variables=['dialect', 'query'], template='\\n{query}\\nDouble check the {dialect} query above for common mistakes, including:\\n- Using NOT IN with NULL values\\n- Using UNION when UNION ALL should have been used\\n- Using BETWEEN for exclusive ranges\\n- Data type mismatch in predicates\\n- Properly quoting identifiers\\n- Using the correct number of arguments for functions\\n- Casting to the correct data type\\n- Using the proper columns for joins\\n\\nIf there are any of the above mistakes, rewrite the query. If there are no mistakes, just reproduce the original query.\\n\\nOutput the final SQL query only.\\n\\nSQL Query: '), llm=VertexAI(verbose=True, model_name='text-bison@001', client=<vertexai.language_models.TextGenerationModel object at 0x79eb84e80190>, client_preview=<vertexai.preview.language_models._PreviewTextGenerationModel object at 0x79eb90b6beb0>, temperature=0.1, max_output_tokens=1024, top_p=0.8)))]\n"
          ]
        }
      ]
    },
    {
      "cell_type": "code",
      "source": [
        "query_result = agent_executor.run(\n",
        "    \"Vehicle id with maxiumum temperature\"\n",
        ")\n",
        "\n",
        "print(\"Query Result:\", query_result)\n"
      ],
      "metadata": {
        "colab": {
          "base_uri": "https://localhost:8080/"
        },
        "id": "Bgc8iEkK1j2t",
        "outputId": "14255d67-a7d7-4ed4-b039-8491a0c606bb"
      },
      "execution_count": 9,
      "outputs": [
        {
          "output_type": "stream",
          "name": "stdout",
          "text": [
            "\n",
            "\n",
            "\u001b[1m> Entering new AgentExecutor chain...\u001b[0m\n",
            "\u001b[32;1m\u001b[1;3mAction: sql_db_list_tables\n",
            "Action Input: \u001b[0m\n",
            "Observation: \u001b[38;5;200m\u001b[1;3mMileage, Vehicle_data, topSpeed\u001b[0m\n",
            "Thought:\u001b[32;1m\u001b[1;3mI should query the schema of the Vehicle_data table.\n",
            "Action: sql_db_schema\n",
            "Action Input: Vehicle_data\u001b[0m\n",
            "Observation: \u001b[33;1m\u001b[1;3m\n",
            "CREATE TABLE `Vehicle_data` (\n",
            "\t`vehicle_id` INT64, \n",
            "\t`vehicle_number` STRING, \n",
            "\t`smoke_emission` FLOAT64, \n",
            "\t`temperature` INT64\n",
            ")\n",
            "\n",
            "/*\n",
            "10 rows from Vehicle_data table:\n",
            "vehicle_id\tvehicle_number\tsmoke_emission\ttemperature\n",
            "2\tDEF456\t0.5\t28\n",
            "11\tEFGH789\t0.5\t26\n",
            "20\t012JKL\t0.5\t32\n",
            "28\t456IJKL\t0.5\t23\n",
            "1\tABC123\t0.3\t32\n",
            "14\tQRST678\t0.3\t30\n",
            "22\t678PQR\t0.3\t37\n",
            "30\t012QRST\t0.3\t28\n",
            "8\tVWX234\t0.6\t29\n",
            "17\t123ABC\t0.6\t21\n",
            "*/\u001b[0m\n",
            "Thought:\u001b[32;1m\u001b[1;3mThe Vehicle_data table has the information I need. The temperature column is the relevant column.\n",
            "Action: sql_db_query\n",
            "Action Input: SELECT vehicle_id FROM Vehicle_data ORDER BY temperature DESC LIMIT 1\u001b[0m\n",
            "Observation: \u001b[36;1m\u001b[1;3m[(16,)]\u001b[0m\n",
            "Thought:\u001b[32;1m\u001b[1;3mI now know the final answer\n",
            "Final Answer: 16\u001b[0m\n",
            "\n",
            "\u001b[1m> Finished chain.\u001b[0m\n",
            "Query Result: 16\n"
          ]
        }
      ]
    },
    {
      "cell_type": "code",
      "source": [
        "query_result = agent_executor.run(\n",
        "    \"Find the vehicle numbers and their average mileage for which the top speed is greater than 120 \"\n",
        ")\n",
        "\n",
        "print(\"Query Result:\", query_result)"
      ],
      "metadata": {
        "colab": {
          "base_uri": "https://localhost:8080/",
          "height": 1000
        },
        "id": "If8YbUgL1j5T",
        "outputId": "66563785-2e65-4219-efb6-477607fce5b9"
      },
      "execution_count": 55,
      "outputs": [
        {
          "output_type": "stream",
          "name": "stdout",
          "text": [
            "\n",
            "\n",
            "\u001b[1m> Entering new AgentExecutor chain...\u001b[0m\n",
            "\u001b[32;1m\u001b[1;3mAction: sql_db_list_tables\n",
            "Action Input: \u001b[0m\n",
            "Observation: \u001b[38;5;200m\u001b[1;3mMileage, Topspeed, Vehicle_data\u001b[0m\n",
            "Thought:\u001b[32;1m\u001b[1;3mI should query the schema of the Mileage table to see what columns it contains.\n",
            "Action: sql_db_schema Mileage\n",
            "Action Input: Mileage\u001b[0m\n",
            "Observation: sql_db_schema Mileage is not a valid tool, try one of [sql_db_query, sql_db_schema, sql_db_list_tables, sql_db_query_checker].\n",
            "Thought:\u001b[32;1m\u001b[1;3mI should query the schema of the Topspeed table to see what columns it contains.\n",
            "Action: sql_db_schema Topspeed\n",
            "Action Input: Topspeed\u001b[0m\n",
            "Observation: sql_db_schema Topspeed is not a valid tool, try one of [sql_db_query, sql_db_schema, sql_db_list_tables, sql_db_query_checker].\n",
            "Thought:\u001b[32;1m\u001b[1;3mI should query the schema of the Vehicle_data table to see what columns it contains.\n",
            "Action: sql_db_schema Vehicle_data\n",
            "Action Input: Vehicle_data\u001b[0m\n",
            "Observation: sql_db_schema Vehicle_data is not a valid tool, try one of [sql_db_query, sql_db_schema, sql_db_list_tables, sql_db_query_checker].\n",
            "Thought:\u001b[32;1m\u001b[1;3mI should query the schema of the Mileage table to see what columns it contains.\n",
            "Action: sql_db_schema Mileage\n",
            "Action Input: Mileage\u001b[0m\n",
            "Observation: sql_db_schema Mileage is not a valid tool, try one of [sql_db_query, sql_db_schema, sql_db_list_tables, sql_db_query_checker].\n",
            "Thought:\u001b[32;1m\u001b[1;3mI should query the schema of the Topspeed table to see what columns it contains.\n",
            "Action: sql_db_schema Topspeed\n",
            "Action Input: Topspeed\u001b[0m\n",
            "Observation: sql_db_schema Topspeed is not a valid tool, try one of [sql_db_query, sql_db_schema, sql_db_list_tables, sql_db_query_checker].\n",
            "Thought:\u001b[32;1m\u001b[1;3mI should query the schema of the Vehicle_data table to see what columns it contains.\n",
            "Action: sql_db_schema Vehicle_data\n",
            "Action Input: Vehicle_data\u001b[0m\n",
            "Observation: sql_db_schema Vehicle_data is not a valid tool, try one of [sql_db_query, sql_db_schema, sql_db_list_tables, sql_db_query_checker].\n",
            "Thought:\u001b[32;1m\u001b[1;3mI should query the schema of the Mileage table to see what columns it contains.\n",
            "Action: sql_db_schema Mileage\n",
            "Action Input: Mileage\u001b[0m\n",
            "Observation: sql_db_schema Mileage is not a valid tool, try one of [sql_db_query, sql_db_schema, sql_db_list_tables, sql_db_query_checker].\n",
            "Thought:\u001b[32;1m\u001b[1;3mI should query the schema of the Topspeed table to see what columns it contains.\n",
            "Action: sql_db_schema Topspeed\n",
            "Action Input: Topspeed\u001b[0m\n",
            "Observation: sql_db_schema Topspeed is not a valid tool, try one of [sql_db_query, sql_db_schema, sql_db_list_tables, sql_db_query_checker].\n",
            "Thought:\u001b[32;1m\u001b[1;3mI should query the schema of the Vehicle_data table to see what columns it contains.\n",
            "Action: sql_db_schema Vehicle_data\n",
            "Action Input: Vehicle_data\u001b[0m\n",
            "Observation: sql_db_schema Vehicle_data is not a valid tool, try one of [sql_db_query, sql_db_schema, sql_db_list_tables, sql_db_query_checker].\n",
            "Thought:"
          ]
        },
        {
          "output_type": "error",
          "ename": "KeyboardInterrupt",
          "evalue": "ignored",
          "traceback": [
            "\u001b[0;31m---------------------------------------------------------------------------\u001b[0m",
            "\u001b[0;31mKeyboardInterrupt\u001b[0m                         Traceback (most recent call last)",
            "\u001b[0;32m<ipython-input-55-befacf890b8a>\u001b[0m in \u001b[0;36m<cell line: 1>\u001b[0;34m()\u001b[0m\n\u001b[0;32m----> 1\u001b[0;31m query_result = agent_executor.run(\n\u001b[0m\u001b[1;32m      2\u001b[0m     \u001b[0;34m\"Find the vehicle numbers and their average mileage for which the top speed is greater than 120 \"\u001b[0m\u001b[0;34m\u001b[0m\u001b[0;34m\u001b[0m\u001b[0m\n\u001b[1;32m      3\u001b[0m )\n\u001b[1;32m      4\u001b[0m \u001b[0;34m\u001b[0m\u001b[0m\n\u001b[1;32m      5\u001b[0m \u001b[0mprint\u001b[0m\u001b[0;34m(\u001b[0m\u001b[0;34m\"Query Result:\"\u001b[0m\u001b[0;34m,\u001b[0m \u001b[0mquery_result\u001b[0m\u001b[0;34m)\u001b[0m\u001b[0;34m\u001b[0m\u001b[0;34m\u001b[0m\u001b[0m\n",
            "\u001b[0;32m/usr/local/lib/python3.10/dist-packages/langchain/chains/base.py\u001b[0m in \u001b[0;36mrun\u001b[0;34m(self, callbacks, tags, metadata, *args, **kwargs)\u001b[0m\n\u001b[1;32m    509\u001b[0m             \u001b[0;32mif\u001b[0m \u001b[0mlen\u001b[0m\u001b[0;34m(\u001b[0m\u001b[0margs\u001b[0m\u001b[0;34m)\u001b[0m \u001b[0;34m!=\u001b[0m \u001b[0;36m1\u001b[0m\u001b[0;34m:\u001b[0m\u001b[0;34m\u001b[0m\u001b[0;34m\u001b[0m\u001b[0m\n\u001b[1;32m    510\u001b[0m                 \u001b[0;32mraise\u001b[0m \u001b[0mValueError\u001b[0m\u001b[0;34m(\u001b[0m\u001b[0;34m\"`run` supports only one positional argument.\"\u001b[0m\u001b[0;34m)\u001b[0m\u001b[0;34m\u001b[0m\u001b[0;34m\u001b[0m\u001b[0m\n\u001b[0;32m--> 511\u001b[0;31m             return self(args[0], callbacks=callbacks, tags=tags, metadata=metadata)[\n\u001b[0m\u001b[1;32m    512\u001b[0m                 \u001b[0m_output_key\u001b[0m\u001b[0;34m\u001b[0m\u001b[0;34m\u001b[0m\u001b[0m\n\u001b[1;32m    513\u001b[0m             ]\n",
            "\u001b[0;32m/usr/local/lib/python3.10/dist-packages/langchain/chains/base.py\u001b[0m in \u001b[0;36m__call__\u001b[0;34m(self, inputs, return_only_outputs, callbacks, tags, metadata, run_name, include_run_info)\u001b[0m\n\u001b[1;32m    314\u001b[0m         \u001b[0;32mexcept\u001b[0m \u001b[0mBaseException\u001b[0m \u001b[0;32mas\u001b[0m \u001b[0me\u001b[0m\u001b[0;34m:\u001b[0m\u001b[0;34m\u001b[0m\u001b[0;34m\u001b[0m\u001b[0m\n\u001b[1;32m    315\u001b[0m             \u001b[0mrun_manager\u001b[0m\u001b[0;34m.\u001b[0m\u001b[0mon_chain_error\u001b[0m\u001b[0;34m(\u001b[0m\u001b[0me\u001b[0m\u001b[0;34m)\u001b[0m\u001b[0;34m\u001b[0m\u001b[0;34m\u001b[0m\u001b[0m\n\u001b[0;32m--> 316\u001b[0;31m             \u001b[0;32mraise\u001b[0m \u001b[0me\u001b[0m\u001b[0;34m\u001b[0m\u001b[0;34m\u001b[0m\u001b[0m\n\u001b[0m\u001b[1;32m    317\u001b[0m         \u001b[0mrun_manager\u001b[0m\u001b[0;34m.\u001b[0m\u001b[0mon_chain_end\u001b[0m\u001b[0;34m(\u001b[0m\u001b[0moutputs\u001b[0m\u001b[0;34m)\u001b[0m\u001b[0;34m\u001b[0m\u001b[0;34m\u001b[0m\u001b[0m\n\u001b[1;32m    318\u001b[0m         final_outputs: Dict[str, Any] = self.prep_outputs(\n",
            "\u001b[0;32m/usr/local/lib/python3.10/dist-packages/langchain/chains/base.py\u001b[0m in \u001b[0;36m__call__\u001b[0;34m(self, inputs, return_only_outputs, callbacks, tags, metadata, run_name, include_run_info)\u001b[0m\n\u001b[1;32m    308\u001b[0m         \u001b[0;32mtry\u001b[0m\u001b[0;34m:\u001b[0m\u001b[0;34m\u001b[0m\u001b[0;34m\u001b[0m\u001b[0m\n\u001b[1;32m    309\u001b[0m             outputs = (\n\u001b[0;32m--> 310\u001b[0;31m                 \u001b[0mself\u001b[0m\u001b[0;34m.\u001b[0m\u001b[0m_call\u001b[0m\u001b[0;34m(\u001b[0m\u001b[0minputs\u001b[0m\u001b[0;34m,\u001b[0m \u001b[0mrun_manager\u001b[0m\u001b[0;34m=\u001b[0m\u001b[0mrun_manager\u001b[0m\u001b[0;34m)\u001b[0m\u001b[0;34m\u001b[0m\u001b[0;34m\u001b[0m\u001b[0m\n\u001b[0m\u001b[1;32m    311\u001b[0m                 \u001b[0;32mif\u001b[0m \u001b[0mnew_arg_supported\u001b[0m\u001b[0;34m\u001b[0m\u001b[0;34m\u001b[0m\u001b[0m\n\u001b[1;32m    312\u001b[0m                 \u001b[0;32melse\u001b[0m \u001b[0mself\u001b[0m\u001b[0;34m.\u001b[0m\u001b[0m_call\u001b[0m\u001b[0;34m(\u001b[0m\u001b[0minputs\u001b[0m\u001b[0;34m)\u001b[0m\u001b[0;34m\u001b[0m\u001b[0;34m\u001b[0m\u001b[0m\n",
            "\u001b[0;32m/usr/local/lib/python3.10/dist-packages/langchain/agents/agent.py\u001b[0m in \u001b[0;36m_call\u001b[0;34m(self, inputs, run_manager)\u001b[0m\n\u001b[1;32m   1310\u001b[0m         \u001b[0;31m# We now enter the agent loop (until it returns something).\u001b[0m\u001b[0;34m\u001b[0m\u001b[0;34m\u001b[0m\u001b[0m\n\u001b[1;32m   1311\u001b[0m         \u001b[0;32mwhile\u001b[0m \u001b[0mself\u001b[0m\u001b[0;34m.\u001b[0m\u001b[0m_should_continue\u001b[0m\u001b[0;34m(\u001b[0m\u001b[0miterations\u001b[0m\u001b[0;34m,\u001b[0m \u001b[0mtime_elapsed\u001b[0m\u001b[0;34m)\u001b[0m\u001b[0;34m:\u001b[0m\u001b[0;34m\u001b[0m\u001b[0;34m\u001b[0m\u001b[0m\n\u001b[0;32m-> 1312\u001b[0;31m             next_step_output = self._take_next_step(\n\u001b[0m\u001b[1;32m   1313\u001b[0m                 \u001b[0mname_to_tool_map\u001b[0m\u001b[0;34m,\u001b[0m\u001b[0;34m\u001b[0m\u001b[0;34m\u001b[0m\u001b[0m\n\u001b[1;32m   1314\u001b[0m                 \u001b[0mcolor_mapping\u001b[0m\u001b[0;34m,\u001b[0m\u001b[0;34m\u001b[0m\u001b[0;34m\u001b[0m\u001b[0m\n",
            "\u001b[0;32m/usr/local/lib/python3.10/dist-packages/langchain/agents/agent.py\u001b[0m in \u001b[0;36m_take_next_step\u001b[0;34m(self, name_to_tool_map, color_mapping, inputs, intermediate_steps, run_manager)\u001b[0m\n\u001b[1;32m   1036\u001b[0m     ) -> Union[AgentFinish, List[Tuple[AgentAction, str]]]:\n\u001b[1;32m   1037\u001b[0m         return self._consume_next_step(\n\u001b[0;32m-> 1038\u001b[0;31m             [\n\u001b[0m\u001b[1;32m   1039\u001b[0m                 \u001b[0ma\u001b[0m\u001b[0;34m\u001b[0m\u001b[0;34m\u001b[0m\u001b[0m\n\u001b[1;32m   1040\u001b[0m                 for a in self._iter_next_step(\n",
            "\u001b[0;32m/usr/local/lib/python3.10/dist-packages/langchain/agents/agent.py\u001b[0m in \u001b[0;36m<listcomp>\u001b[0;34m(.0)\u001b[0m\n\u001b[1;32m   1036\u001b[0m     ) -> Union[AgentFinish, List[Tuple[AgentAction, str]]]:\n\u001b[1;32m   1037\u001b[0m         return self._consume_next_step(\n\u001b[0;32m-> 1038\u001b[0;31m             [\n\u001b[0m\u001b[1;32m   1039\u001b[0m                 \u001b[0ma\u001b[0m\u001b[0;34m\u001b[0m\u001b[0;34m\u001b[0m\u001b[0m\n\u001b[1;32m   1040\u001b[0m                 for a in self._iter_next_step(\n",
            "\u001b[0;32m/usr/local/lib/python3.10/dist-packages/langchain/agents/agent.py\u001b[0m in \u001b[0;36m_iter_next_step\u001b[0;34m(self, name_to_tool_map, color_mapping, inputs, intermediate_steps, run_manager)\u001b[0m\n\u001b[1;32m   1064\u001b[0m \u001b[0;34m\u001b[0m\u001b[0m\n\u001b[1;32m   1065\u001b[0m             \u001b[0;31m# Call the LLM to see what to do.\u001b[0m\u001b[0;34m\u001b[0m\u001b[0;34m\u001b[0m\u001b[0m\n\u001b[0;32m-> 1066\u001b[0;31m             output = self.agent.plan(\n\u001b[0m\u001b[1;32m   1067\u001b[0m                 \u001b[0mintermediate_steps\u001b[0m\u001b[0;34m,\u001b[0m\u001b[0;34m\u001b[0m\u001b[0;34m\u001b[0m\u001b[0m\n\u001b[1;32m   1068\u001b[0m                 \u001b[0mcallbacks\u001b[0m\u001b[0;34m=\u001b[0m\u001b[0mrun_manager\u001b[0m\u001b[0;34m.\u001b[0m\u001b[0mget_child\u001b[0m\u001b[0;34m(\u001b[0m\u001b[0;34m)\u001b[0m \u001b[0;32mif\u001b[0m \u001b[0mrun_manager\u001b[0m \u001b[0;32melse\u001b[0m \u001b[0;32mNone\u001b[0m\u001b[0;34m,\u001b[0m\u001b[0;34m\u001b[0m\u001b[0;34m\u001b[0m\u001b[0m\n",
            "\u001b[0;32m/usr/local/lib/python3.10/dist-packages/langchain/agents/agent.py\u001b[0m in \u001b[0;36mplan\u001b[0;34m(self, intermediate_steps, callbacks, **kwargs)\u001b[0m\n\u001b[1;32m    633\u001b[0m         \"\"\"\n\u001b[1;32m    634\u001b[0m         \u001b[0mfull_inputs\u001b[0m \u001b[0;34m=\u001b[0m \u001b[0mself\u001b[0m\u001b[0;34m.\u001b[0m\u001b[0mget_full_inputs\u001b[0m\u001b[0;34m(\u001b[0m\u001b[0mintermediate_steps\u001b[0m\u001b[0;34m,\u001b[0m \u001b[0;34m**\u001b[0m\u001b[0mkwargs\u001b[0m\u001b[0;34m)\u001b[0m\u001b[0;34m\u001b[0m\u001b[0;34m\u001b[0m\u001b[0m\n\u001b[0;32m--> 635\u001b[0;31m         \u001b[0mfull_output\u001b[0m \u001b[0;34m=\u001b[0m \u001b[0mself\u001b[0m\u001b[0;34m.\u001b[0m\u001b[0mllm_chain\u001b[0m\u001b[0;34m.\u001b[0m\u001b[0mpredict\u001b[0m\u001b[0;34m(\u001b[0m\u001b[0mcallbacks\u001b[0m\u001b[0;34m=\u001b[0m\u001b[0mcallbacks\u001b[0m\u001b[0;34m,\u001b[0m \u001b[0;34m**\u001b[0m\u001b[0mfull_inputs\u001b[0m\u001b[0;34m)\u001b[0m\u001b[0;34m\u001b[0m\u001b[0;34m\u001b[0m\u001b[0m\n\u001b[0m\u001b[1;32m    636\u001b[0m         \u001b[0;32mreturn\u001b[0m \u001b[0mself\u001b[0m\u001b[0;34m.\u001b[0m\u001b[0moutput_parser\u001b[0m\u001b[0;34m.\u001b[0m\u001b[0mparse\u001b[0m\u001b[0;34m(\u001b[0m\u001b[0mfull_output\u001b[0m\u001b[0;34m)\u001b[0m\u001b[0;34m\u001b[0m\u001b[0;34m\u001b[0m\u001b[0m\n\u001b[1;32m    637\u001b[0m \u001b[0;34m\u001b[0m\u001b[0m\n",
            "\u001b[0;32m/usr/local/lib/python3.10/dist-packages/langchain/chains/llm.py\u001b[0m in \u001b[0;36mpredict\u001b[0;34m(self, callbacks, **kwargs)\u001b[0m\n\u001b[1;32m    291\u001b[0m                 \u001b[0mcompletion\u001b[0m \u001b[0;34m=\u001b[0m \u001b[0mllm\u001b[0m\u001b[0;34m.\u001b[0m\u001b[0mpredict\u001b[0m\u001b[0;34m(\u001b[0m\u001b[0madjective\u001b[0m\u001b[0;34m=\u001b[0m\u001b[0;34m\"funny\"\u001b[0m\u001b[0;34m)\u001b[0m\u001b[0;34m\u001b[0m\u001b[0;34m\u001b[0m\u001b[0m\n\u001b[1;32m    292\u001b[0m         \"\"\"\n\u001b[0;32m--> 293\u001b[0;31m         \u001b[0;32mreturn\u001b[0m \u001b[0mself\u001b[0m\u001b[0;34m(\u001b[0m\u001b[0mkwargs\u001b[0m\u001b[0;34m,\u001b[0m \u001b[0mcallbacks\u001b[0m\u001b[0;34m=\u001b[0m\u001b[0mcallbacks\u001b[0m\u001b[0;34m)\u001b[0m\u001b[0;34m[\u001b[0m\u001b[0mself\u001b[0m\u001b[0;34m.\u001b[0m\u001b[0moutput_key\u001b[0m\u001b[0;34m]\u001b[0m\u001b[0;34m\u001b[0m\u001b[0;34m\u001b[0m\u001b[0m\n\u001b[0m\u001b[1;32m    294\u001b[0m \u001b[0;34m\u001b[0m\u001b[0m\n\u001b[1;32m    295\u001b[0m     \u001b[0;32masync\u001b[0m \u001b[0;32mdef\u001b[0m \u001b[0mapredict\u001b[0m\u001b[0;34m(\u001b[0m\u001b[0mself\u001b[0m\u001b[0;34m,\u001b[0m \u001b[0mcallbacks\u001b[0m\u001b[0;34m:\u001b[0m \u001b[0mCallbacks\u001b[0m \u001b[0;34m=\u001b[0m \u001b[0;32mNone\u001b[0m\u001b[0;34m,\u001b[0m \u001b[0;34m**\u001b[0m\u001b[0mkwargs\u001b[0m\u001b[0;34m:\u001b[0m \u001b[0mAny\u001b[0m\u001b[0;34m)\u001b[0m \u001b[0;34m->\u001b[0m \u001b[0mstr\u001b[0m\u001b[0;34m:\u001b[0m\u001b[0;34m\u001b[0m\u001b[0;34m\u001b[0m\u001b[0m\n",
            "\u001b[0;32m/usr/local/lib/python3.10/dist-packages/langchain/chains/base.py\u001b[0m in \u001b[0;36m__call__\u001b[0;34m(self, inputs, return_only_outputs, callbacks, tags, metadata, run_name, include_run_info)\u001b[0m\n\u001b[1;32m    314\u001b[0m         \u001b[0;32mexcept\u001b[0m \u001b[0mBaseException\u001b[0m \u001b[0;32mas\u001b[0m \u001b[0me\u001b[0m\u001b[0;34m:\u001b[0m\u001b[0;34m\u001b[0m\u001b[0;34m\u001b[0m\u001b[0m\n\u001b[1;32m    315\u001b[0m             \u001b[0mrun_manager\u001b[0m\u001b[0;34m.\u001b[0m\u001b[0mon_chain_error\u001b[0m\u001b[0;34m(\u001b[0m\u001b[0me\u001b[0m\u001b[0;34m)\u001b[0m\u001b[0;34m\u001b[0m\u001b[0;34m\u001b[0m\u001b[0m\n\u001b[0;32m--> 316\u001b[0;31m             \u001b[0;32mraise\u001b[0m \u001b[0me\u001b[0m\u001b[0;34m\u001b[0m\u001b[0;34m\u001b[0m\u001b[0m\n\u001b[0m\u001b[1;32m    317\u001b[0m         \u001b[0mrun_manager\u001b[0m\u001b[0;34m.\u001b[0m\u001b[0mon_chain_end\u001b[0m\u001b[0;34m(\u001b[0m\u001b[0moutputs\u001b[0m\u001b[0;34m)\u001b[0m\u001b[0;34m\u001b[0m\u001b[0;34m\u001b[0m\u001b[0m\n\u001b[1;32m    318\u001b[0m         final_outputs: Dict[str, Any] = self.prep_outputs(\n",
            "\u001b[0;32m/usr/local/lib/python3.10/dist-packages/langchain/chains/base.py\u001b[0m in \u001b[0;36m__call__\u001b[0;34m(self, inputs, return_only_outputs, callbacks, tags, metadata, run_name, include_run_info)\u001b[0m\n\u001b[1;32m    308\u001b[0m         \u001b[0;32mtry\u001b[0m\u001b[0;34m:\u001b[0m\u001b[0;34m\u001b[0m\u001b[0;34m\u001b[0m\u001b[0m\n\u001b[1;32m    309\u001b[0m             outputs = (\n\u001b[0;32m--> 310\u001b[0;31m                 \u001b[0mself\u001b[0m\u001b[0;34m.\u001b[0m\u001b[0m_call\u001b[0m\u001b[0;34m(\u001b[0m\u001b[0minputs\u001b[0m\u001b[0;34m,\u001b[0m \u001b[0mrun_manager\u001b[0m\u001b[0;34m=\u001b[0m\u001b[0mrun_manager\u001b[0m\u001b[0;34m)\u001b[0m\u001b[0;34m\u001b[0m\u001b[0;34m\u001b[0m\u001b[0m\n\u001b[0m\u001b[1;32m    311\u001b[0m                 \u001b[0;32mif\u001b[0m \u001b[0mnew_arg_supported\u001b[0m\u001b[0;34m\u001b[0m\u001b[0;34m\u001b[0m\u001b[0m\n\u001b[1;32m    312\u001b[0m                 \u001b[0;32melse\u001b[0m \u001b[0mself\u001b[0m\u001b[0;34m.\u001b[0m\u001b[0m_call\u001b[0m\u001b[0;34m(\u001b[0m\u001b[0minputs\u001b[0m\u001b[0;34m)\u001b[0m\u001b[0;34m\u001b[0m\u001b[0;34m\u001b[0m\u001b[0m\n",
            "\u001b[0;32m/usr/local/lib/python3.10/dist-packages/langchain/chains/llm.py\u001b[0m in \u001b[0;36m_call\u001b[0;34m(self, inputs, run_manager)\u001b[0m\n\u001b[1;32m    101\u001b[0m         \u001b[0mrun_manager\u001b[0m\u001b[0;34m:\u001b[0m \u001b[0mOptional\u001b[0m\u001b[0;34m[\u001b[0m\u001b[0mCallbackManagerForChainRun\u001b[0m\u001b[0;34m]\u001b[0m \u001b[0;34m=\u001b[0m \u001b[0;32mNone\u001b[0m\u001b[0;34m,\u001b[0m\u001b[0;34m\u001b[0m\u001b[0;34m\u001b[0m\u001b[0m\n\u001b[1;32m    102\u001b[0m     ) -> Dict[str, str]:\n\u001b[0;32m--> 103\u001b[0;31m         \u001b[0mresponse\u001b[0m \u001b[0;34m=\u001b[0m \u001b[0mself\u001b[0m\u001b[0;34m.\u001b[0m\u001b[0mgenerate\u001b[0m\u001b[0;34m(\u001b[0m\u001b[0;34m[\u001b[0m\u001b[0minputs\u001b[0m\u001b[0;34m]\u001b[0m\u001b[0;34m,\u001b[0m \u001b[0mrun_manager\u001b[0m\u001b[0;34m=\u001b[0m\u001b[0mrun_manager\u001b[0m\u001b[0;34m)\u001b[0m\u001b[0;34m\u001b[0m\u001b[0;34m\u001b[0m\u001b[0m\n\u001b[0m\u001b[1;32m    104\u001b[0m         \u001b[0;32mreturn\u001b[0m \u001b[0mself\u001b[0m\u001b[0;34m.\u001b[0m\u001b[0mcreate_outputs\u001b[0m\u001b[0;34m(\u001b[0m\u001b[0mresponse\u001b[0m\u001b[0;34m)\u001b[0m\u001b[0;34m[\u001b[0m\u001b[0;36m0\u001b[0m\u001b[0;34m]\u001b[0m\u001b[0;34m\u001b[0m\u001b[0;34m\u001b[0m\u001b[0m\n\u001b[1;32m    105\u001b[0m \u001b[0;34m\u001b[0m\u001b[0m\n",
            "\u001b[0;32m/usr/local/lib/python3.10/dist-packages/langchain/chains/llm.py\u001b[0m in \u001b[0;36mgenerate\u001b[0;34m(self, input_list, run_manager)\u001b[0m\n\u001b[1;32m    113\u001b[0m         \u001b[0mcallbacks\u001b[0m \u001b[0;34m=\u001b[0m \u001b[0mrun_manager\u001b[0m\u001b[0;34m.\u001b[0m\u001b[0mget_child\u001b[0m\u001b[0;34m(\u001b[0m\u001b[0;34m)\u001b[0m \u001b[0;32mif\u001b[0m \u001b[0mrun_manager\u001b[0m \u001b[0;32melse\u001b[0m \u001b[0;32mNone\u001b[0m\u001b[0;34m\u001b[0m\u001b[0;34m\u001b[0m\u001b[0m\n\u001b[1;32m    114\u001b[0m         \u001b[0;32mif\u001b[0m \u001b[0misinstance\u001b[0m\u001b[0;34m(\u001b[0m\u001b[0mself\u001b[0m\u001b[0;34m.\u001b[0m\u001b[0mllm\u001b[0m\u001b[0;34m,\u001b[0m \u001b[0mBaseLanguageModel\u001b[0m\u001b[0;34m)\u001b[0m\u001b[0;34m:\u001b[0m\u001b[0;34m\u001b[0m\u001b[0;34m\u001b[0m\u001b[0m\n\u001b[0;32m--> 115\u001b[0;31m             return self.llm.generate_prompt(\n\u001b[0m\u001b[1;32m    116\u001b[0m                 \u001b[0mprompts\u001b[0m\u001b[0;34m,\u001b[0m\u001b[0;34m\u001b[0m\u001b[0;34m\u001b[0m\u001b[0m\n\u001b[1;32m    117\u001b[0m                 \u001b[0mstop\u001b[0m\u001b[0;34m,\u001b[0m\u001b[0;34m\u001b[0m\u001b[0;34m\u001b[0m\u001b[0m\n",
            "\u001b[0;32m/usr/local/lib/python3.10/dist-packages/langchain_core/language_models/llms.py\u001b[0m in \u001b[0;36mgenerate_prompt\u001b[0;34m(self, prompts, stop, callbacks, **kwargs)\u001b[0m\n\u001b[1;32m    519\u001b[0m     ) -> LLMResult:\n\u001b[1;32m    520\u001b[0m         \u001b[0mprompt_strings\u001b[0m \u001b[0;34m=\u001b[0m \u001b[0;34m[\u001b[0m\u001b[0mp\u001b[0m\u001b[0;34m.\u001b[0m\u001b[0mto_string\u001b[0m\u001b[0;34m(\u001b[0m\u001b[0;34m)\u001b[0m \u001b[0;32mfor\u001b[0m \u001b[0mp\u001b[0m \u001b[0;32min\u001b[0m \u001b[0mprompts\u001b[0m\u001b[0;34m]\u001b[0m\u001b[0;34m\u001b[0m\u001b[0;34m\u001b[0m\u001b[0m\n\u001b[0;32m--> 521\u001b[0;31m         \u001b[0;32mreturn\u001b[0m \u001b[0mself\u001b[0m\u001b[0;34m.\u001b[0m\u001b[0mgenerate\u001b[0m\u001b[0;34m(\u001b[0m\u001b[0mprompt_strings\u001b[0m\u001b[0;34m,\u001b[0m \u001b[0mstop\u001b[0m\u001b[0;34m=\u001b[0m\u001b[0mstop\u001b[0m\u001b[0;34m,\u001b[0m \u001b[0mcallbacks\u001b[0m\u001b[0;34m=\u001b[0m\u001b[0mcallbacks\u001b[0m\u001b[0;34m,\u001b[0m \u001b[0;34m**\u001b[0m\u001b[0mkwargs\u001b[0m\u001b[0;34m)\u001b[0m\u001b[0;34m\u001b[0m\u001b[0;34m\u001b[0m\u001b[0m\n\u001b[0m\u001b[1;32m    522\u001b[0m \u001b[0;34m\u001b[0m\u001b[0m\n\u001b[1;32m    523\u001b[0m     async def agenerate_prompt(\n",
            "\u001b[0;32m/usr/local/lib/python3.10/dist-packages/langchain_core/language_models/llms.py\u001b[0m in \u001b[0;36mgenerate\u001b[0;34m(self, prompts, stop, callbacks, tags, metadata, run_name, **kwargs)\u001b[0m\n\u001b[1;32m    669\u001b[0m                 )\n\u001b[1;32m    670\u001b[0m             ]\n\u001b[0;32m--> 671\u001b[0;31m             output = self._generate_helper(\n\u001b[0m\u001b[1;32m    672\u001b[0m                 \u001b[0mprompts\u001b[0m\u001b[0;34m,\u001b[0m \u001b[0mstop\u001b[0m\u001b[0;34m,\u001b[0m \u001b[0mrun_managers\u001b[0m\u001b[0;34m,\u001b[0m \u001b[0mbool\u001b[0m\u001b[0;34m(\u001b[0m\u001b[0mnew_arg_supported\u001b[0m\u001b[0;34m)\u001b[0m\u001b[0;34m,\u001b[0m \u001b[0;34m**\u001b[0m\u001b[0mkwargs\u001b[0m\u001b[0;34m\u001b[0m\u001b[0;34m\u001b[0m\u001b[0m\n\u001b[1;32m    673\u001b[0m             )\n",
            "\u001b[0;32m/usr/local/lib/python3.10/dist-packages/langchain_core/language_models/llms.py\u001b[0m in \u001b[0;36m_generate_helper\u001b[0;34m(self, prompts, stop, run_managers, new_arg_supported, **kwargs)\u001b[0m\n\u001b[1;32m    556\u001b[0m             \u001b[0;32mfor\u001b[0m \u001b[0mrun_manager\u001b[0m \u001b[0;32min\u001b[0m \u001b[0mrun_managers\u001b[0m\u001b[0;34m:\u001b[0m\u001b[0;34m\u001b[0m\u001b[0;34m\u001b[0m\u001b[0m\n\u001b[1;32m    557\u001b[0m                 \u001b[0mrun_manager\u001b[0m\u001b[0;34m.\u001b[0m\u001b[0mon_llm_error\u001b[0m\u001b[0;34m(\u001b[0m\u001b[0me\u001b[0m\u001b[0;34m,\u001b[0m \u001b[0mresponse\u001b[0m\u001b[0;34m=\u001b[0m\u001b[0mLLMResult\u001b[0m\u001b[0;34m(\u001b[0m\u001b[0mgenerations\u001b[0m\u001b[0;34m=\u001b[0m\u001b[0;34m[\u001b[0m\u001b[0;34m]\u001b[0m\u001b[0;34m)\u001b[0m\u001b[0;34m)\u001b[0m\u001b[0;34m\u001b[0m\u001b[0;34m\u001b[0m\u001b[0m\n\u001b[0;32m--> 558\u001b[0;31m             \u001b[0;32mraise\u001b[0m \u001b[0me\u001b[0m\u001b[0;34m\u001b[0m\u001b[0;34m\u001b[0m\u001b[0m\n\u001b[0m\u001b[1;32m    559\u001b[0m         \u001b[0mflattened_outputs\u001b[0m \u001b[0;34m=\u001b[0m \u001b[0moutput\u001b[0m\u001b[0;34m.\u001b[0m\u001b[0mflatten\u001b[0m\u001b[0;34m(\u001b[0m\u001b[0;34m)\u001b[0m\u001b[0;34m\u001b[0m\u001b[0;34m\u001b[0m\u001b[0m\n\u001b[1;32m    560\u001b[0m         \u001b[0;32mfor\u001b[0m \u001b[0mmanager\u001b[0m\u001b[0;34m,\u001b[0m \u001b[0mflattened_output\u001b[0m \u001b[0;32min\u001b[0m \u001b[0mzip\u001b[0m\u001b[0;34m(\u001b[0m\u001b[0mrun_managers\u001b[0m\u001b[0;34m,\u001b[0m \u001b[0mflattened_outputs\u001b[0m\u001b[0;34m)\u001b[0m\u001b[0;34m:\u001b[0m\u001b[0;34m\u001b[0m\u001b[0;34m\u001b[0m\u001b[0m\n",
            "\u001b[0;32m/usr/local/lib/python3.10/dist-packages/langchain_core/language_models/llms.py\u001b[0m in \u001b[0;36m_generate_helper\u001b[0;34m(self, prompts, stop, run_managers, new_arg_supported, **kwargs)\u001b[0m\n\u001b[1;32m    543\u001b[0m         \u001b[0;32mtry\u001b[0m\u001b[0;34m:\u001b[0m\u001b[0;34m\u001b[0m\u001b[0;34m\u001b[0m\u001b[0m\n\u001b[1;32m    544\u001b[0m             output = (\n\u001b[0;32m--> 545\u001b[0;31m                 self._generate(\n\u001b[0m\u001b[1;32m    546\u001b[0m                     \u001b[0mprompts\u001b[0m\u001b[0;34m,\u001b[0m\u001b[0;34m\u001b[0m\u001b[0;34m\u001b[0m\u001b[0m\n\u001b[1;32m    547\u001b[0m                     \u001b[0mstop\u001b[0m\u001b[0;34m=\u001b[0m\u001b[0mstop\u001b[0m\u001b[0;34m,\u001b[0m\u001b[0;34m\u001b[0m\u001b[0;34m\u001b[0m\u001b[0m\n",
            "\u001b[0;32m/usr/local/lib/python3.10/dist-packages/langchain_community/llms/vertexai.py\u001b[0m in \u001b[0;36m_generate\u001b[0;34m(self, prompts, stop, run_manager, stream, **kwargs)\u001b[0m\n\u001b[1;32m    325\u001b[0m                 \u001b[0mgenerations\u001b[0m\u001b[0;34m.\u001b[0m\u001b[0mappend\u001b[0m\u001b[0;34m(\u001b[0m\u001b[0;34m[\u001b[0m\u001b[0mgeneration\u001b[0m\u001b[0;34m]\u001b[0m\u001b[0;34m)\u001b[0m\u001b[0;34m\u001b[0m\u001b[0;34m\u001b[0m\u001b[0m\n\u001b[1;32m    326\u001b[0m             \u001b[0;32melse\u001b[0m\u001b[0;34m:\u001b[0m\u001b[0;34m\u001b[0m\u001b[0;34m\u001b[0m\u001b[0m\n\u001b[0;32m--> 327\u001b[0;31m                 res = completion_with_retry(\n\u001b[0m\u001b[1;32m    328\u001b[0m                     \u001b[0mself\u001b[0m\u001b[0;34m,\u001b[0m\u001b[0;34m\u001b[0m\u001b[0;34m\u001b[0m\u001b[0m\n\u001b[1;32m    329\u001b[0m                     \u001b[0;34m[\u001b[0m\u001b[0mprompt\u001b[0m\u001b[0;34m]\u001b[0m\u001b[0;34m,\u001b[0m\u001b[0;34m\u001b[0m\u001b[0;34m\u001b[0m\u001b[0m\n",
            "\u001b[0;32m/usr/local/lib/python3.10/dist-packages/langchain_community/llms/vertexai.py\u001b[0m in \u001b[0;36mcompletion_with_retry\u001b[0;34m(llm, prompt, stream, is_gemini, run_manager, **kwargs)\u001b[0m\n\u001b[1;32m     73\u001b[0m             \u001b[0;32mreturn\u001b[0m \u001b[0mllm\u001b[0m\u001b[0;34m.\u001b[0m\u001b[0mclient\u001b[0m\u001b[0;34m.\u001b[0m\u001b[0mpredict\u001b[0m\u001b[0;34m(\u001b[0m\u001b[0mprompt\u001b[0m\u001b[0;34m[\u001b[0m\u001b[0;36m0\u001b[0m\u001b[0;34m]\u001b[0m\u001b[0;34m,\u001b[0m \u001b[0;34m**\u001b[0m\u001b[0mkwargs\u001b[0m\u001b[0;34m)\u001b[0m\u001b[0;34m\u001b[0m\u001b[0;34m\u001b[0m\u001b[0m\n\u001b[1;32m     74\u001b[0m \u001b[0;34m\u001b[0m\u001b[0m\n\u001b[0;32m---> 75\u001b[0;31m     \u001b[0;32mreturn\u001b[0m \u001b[0m_completion_with_retry\u001b[0m\u001b[0;34m(\u001b[0m\u001b[0mprompt\u001b[0m\u001b[0;34m,\u001b[0m \u001b[0mis_gemini\u001b[0m\u001b[0;34m,\u001b[0m \u001b[0;34m**\u001b[0m\u001b[0mkwargs\u001b[0m\u001b[0;34m)\u001b[0m\u001b[0;34m\u001b[0m\u001b[0;34m\u001b[0m\u001b[0m\n\u001b[0m\u001b[1;32m     76\u001b[0m \u001b[0;34m\u001b[0m\u001b[0m\n\u001b[1;32m     77\u001b[0m \u001b[0;34m\u001b[0m\u001b[0m\n",
            "\u001b[0;32m/usr/local/lib/python3.10/dist-packages/tenacity/__init__.py\u001b[0m in \u001b[0;36mwrapped_f\u001b[0;34m(*args, **kw)\u001b[0m\n\u001b[1;32m    287\u001b[0m         \u001b[0;34m@\u001b[0m\u001b[0mfunctools\u001b[0m\u001b[0;34m.\u001b[0m\u001b[0mwraps\u001b[0m\u001b[0;34m(\u001b[0m\u001b[0mf\u001b[0m\u001b[0;34m)\u001b[0m\u001b[0;34m\u001b[0m\u001b[0;34m\u001b[0m\u001b[0m\n\u001b[1;32m    288\u001b[0m         \u001b[0;32mdef\u001b[0m \u001b[0mwrapped_f\u001b[0m\u001b[0;34m(\u001b[0m\u001b[0;34m*\u001b[0m\u001b[0margs\u001b[0m\u001b[0;34m:\u001b[0m \u001b[0mt\u001b[0m\u001b[0;34m.\u001b[0m\u001b[0mAny\u001b[0m\u001b[0;34m,\u001b[0m \u001b[0;34m**\u001b[0m\u001b[0mkw\u001b[0m\u001b[0;34m:\u001b[0m \u001b[0mt\u001b[0m\u001b[0;34m.\u001b[0m\u001b[0mAny\u001b[0m\u001b[0;34m)\u001b[0m \u001b[0;34m->\u001b[0m \u001b[0mt\u001b[0m\u001b[0;34m.\u001b[0m\u001b[0mAny\u001b[0m\u001b[0;34m:\u001b[0m\u001b[0;34m\u001b[0m\u001b[0;34m\u001b[0m\u001b[0m\n\u001b[0;32m--> 289\u001b[0;31m             \u001b[0;32mreturn\u001b[0m \u001b[0mself\u001b[0m\u001b[0;34m(\u001b[0m\u001b[0mf\u001b[0m\u001b[0;34m,\u001b[0m \u001b[0;34m*\u001b[0m\u001b[0margs\u001b[0m\u001b[0;34m,\u001b[0m \u001b[0;34m**\u001b[0m\u001b[0mkw\u001b[0m\u001b[0;34m)\u001b[0m\u001b[0;34m\u001b[0m\u001b[0;34m\u001b[0m\u001b[0m\n\u001b[0m\u001b[1;32m    290\u001b[0m \u001b[0;34m\u001b[0m\u001b[0m\n\u001b[1;32m    291\u001b[0m         \u001b[0;32mdef\u001b[0m \u001b[0mretry_with\u001b[0m\u001b[0;34m(\u001b[0m\u001b[0;34m*\u001b[0m\u001b[0margs\u001b[0m\u001b[0;34m:\u001b[0m \u001b[0mt\u001b[0m\u001b[0;34m.\u001b[0m\u001b[0mAny\u001b[0m\u001b[0;34m,\u001b[0m \u001b[0;34m**\u001b[0m\u001b[0mkwargs\u001b[0m\u001b[0;34m:\u001b[0m \u001b[0mt\u001b[0m\u001b[0;34m.\u001b[0m\u001b[0mAny\u001b[0m\u001b[0;34m)\u001b[0m \u001b[0;34m->\u001b[0m \u001b[0mWrappedFn\u001b[0m\u001b[0;34m:\u001b[0m\u001b[0;34m\u001b[0m\u001b[0;34m\u001b[0m\u001b[0m\n",
            "\u001b[0;32m/usr/local/lib/python3.10/dist-packages/tenacity/__init__.py\u001b[0m in \u001b[0;36m__call__\u001b[0;34m(self, fn, *args, **kwargs)\u001b[0m\n\u001b[1;32m    377\u001b[0m         \u001b[0mretry_state\u001b[0m \u001b[0;34m=\u001b[0m \u001b[0mRetryCallState\u001b[0m\u001b[0;34m(\u001b[0m\u001b[0mretry_object\u001b[0m\u001b[0;34m=\u001b[0m\u001b[0mself\u001b[0m\u001b[0;34m,\u001b[0m \u001b[0mfn\u001b[0m\u001b[0;34m=\u001b[0m\u001b[0mfn\u001b[0m\u001b[0;34m,\u001b[0m \u001b[0margs\u001b[0m\u001b[0;34m=\u001b[0m\u001b[0margs\u001b[0m\u001b[0;34m,\u001b[0m \u001b[0mkwargs\u001b[0m\u001b[0;34m=\u001b[0m\u001b[0mkwargs\u001b[0m\u001b[0;34m)\u001b[0m\u001b[0;34m\u001b[0m\u001b[0;34m\u001b[0m\u001b[0m\n\u001b[1;32m    378\u001b[0m         \u001b[0;32mwhile\u001b[0m \u001b[0;32mTrue\u001b[0m\u001b[0;34m:\u001b[0m\u001b[0;34m\u001b[0m\u001b[0;34m\u001b[0m\u001b[0m\n\u001b[0;32m--> 379\u001b[0;31m             \u001b[0mdo\u001b[0m \u001b[0;34m=\u001b[0m \u001b[0mself\u001b[0m\u001b[0;34m.\u001b[0m\u001b[0miter\u001b[0m\u001b[0;34m(\u001b[0m\u001b[0mretry_state\u001b[0m\u001b[0;34m=\u001b[0m\u001b[0mretry_state\u001b[0m\u001b[0;34m)\u001b[0m\u001b[0;34m\u001b[0m\u001b[0;34m\u001b[0m\u001b[0m\n\u001b[0m\u001b[1;32m    380\u001b[0m             \u001b[0;32mif\u001b[0m \u001b[0misinstance\u001b[0m\u001b[0;34m(\u001b[0m\u001b[0mdo\u001b[0m\u001b[0;34m,\u001b[0m \u001b[0mDoAttempt\u001b[0m\u001b[0;34m)\u001b[0m\u001b[0;34m:\u001b[0m\u001b[0;34m\u001b[0m\u001b[0;34m\u001b[0m\u001b[0m\n\u001b[1;32m    381\u001b[0m                 \u001b[0;32mtry\u001b[0m\u001b[0;34m:\u001b[0m\u001b[0;34m\u001b[0m\u001b[0;34m\u001b[0m\u001b[0m\n",
            "\u001b[0;32m/usr/local/lib/python3.10/dist-packages/tenacity/__init__.py\u001b[0m in \u001b[0;36miter\u001b[0;34m(self, retry_state)\u001b[0m\n\u001b[1;32m    312\u001b[0m         \u001b[0mis_explicit_retry\u001b[0m \u001b[0;34m=\u001b[0m \u001b[0mfut\u001b[0m\u001b[0;34m.\u001b[0m\u001b[0mfailed\u001b[0m \u001b[0;32mand\u001b[0m \u001b[0misinstance\u001b[0m\u001b[0;34m(\u001b[0m\u001b[0mfut\u001b[0m\u001b[0;34m.\u001b[0m\u001b[0mexception\u001b[0m\u001b[0;34m(\u001b[0m\u001b[0;34m)\u001b[0m\u001b[0;34m,\u001b[0m \u001b[0mTryAgain\u001b[0m\u001b[0;34m)\u001b[0m\u001b[0;34m\u001b[0m\u001b[0;34m\u001b[0m\u001b[0m\n\u001b[1;32m    313\u001b[0m         \u001b[0;32mif\u001b[0m \u001b[0;32mnot\u001b[0m \u001b[0;34m(\u001b[0m\u001b[0mis_explicit_retry\u001b[0m \u001b[0;32mor\u001b[0m \u001b[0mself\u001b[0m\u001b[0;34m.\u001b[0m\u001b[0mretry\u001b[0m\u001b[0;34m(\u001b[0m\u001b[0mretry_state\u001b[0m\u001b[0;34m)\u001b[0m\u001b[0;34m)\u001b[0m\u001b[0;34m:\u001b[0m\u001b[0;34m\u001b[0m\u001b[0;34m\u001b[0m\u001b[0m\n\u001b[0;32m--> 314\u001b[0;31m             \u001b[0;32mreturn\u001b[0m \u001b[0mfut\u001b[0m\u001b[0;34m.\u001b[0m\u001b[0mresult\u001b[0m\u001b[0;34m(\u001b[0m\u001b[0;34m)\u001b[0m\u001b[0;34m\u001b[0m\u001b[0;34m\u001b[0m\u001b[0m\n\u001b[0m\u001b[1;32m    315\u001b[0m \u001b[0;34m\u001b[0m\u001b[0m\n\u001b[1;32m    316\u001b[0m         \u001b[0;32mif\u001b[0m \u001b[0mself\u001b[0m\u001b[0;34m.\u001b[0m\u001b[0mafter\u001b[0m \u001b[0;32mis\u001b[0m \u001b[0;32mnot\u001b[0m \u001b[0;32mNone\u001b[0m\u001b[0;34m:\u001b[0m\u001b[0;34m\u001b[0m\u001b[0;34m\u001b[0m\u001b[0m\n",
            "\u001b[0;32m/usr/lib/python3.10/concurrent/futures/_base.py\u001b[0m in \u001b[0;36mresult\u001b[0;34m(self, timeout)\u001b[0m\n\u001b[1;32m    449\u001b[0m                     \u001b[0;32mraise\u001b[0m \u001b[0mCancelledError\u001b[0m\u001b[0;34m(\u001b[0m\u001b[0;34m)\u001b[0m\u001b[0;34m\u001b[0m\u001b[0;34m\u001b[0m\u001b[0m\n\u001b[1;32m    450\u001b[0m                 \u001b[0;32melif\u001b[0m \u001b[0mself\u001b[0m\u001b[0;34m.\u001b[0m\u001b[0m_state\u001b[0m \u001b[0;34m==\u001b[0m \u001b[0mFINISHED\u001b[0m\u001b[0;34m:\u001b[0m\u001b[0;34m\u001b[0m\u001b[0;34m\u001b[0m\u001b[0m\n\u001b[0;32m--> 451\u001b[0;31m                     \u001b[0;32mreturn\u001b[0m \u001b[0mself\u001b[0m\u001b[0;34m.\u001b[0m\u001b[0m__get_result\u001b[0m\u001b[0;34m(\u001b[0m\u001b[0;34m)\u001b[0m\u001b[0;34m\u001b[0m\u001b[0;34m\u001b[0m\u001b[0m\n\u001b[0m\u001b[1;32m    452\u001b[0m \u001b[0;34m\u001b[0m\u001b[0m\n\u001b[1;32m    453\u001b[0m                 \u001b[0mself\u001b[0m\u001b[0;34m.\u001b[0m\u001b[0m_condition\u001b[0m\u001b[0;34m.\u001b[0m\u001b[0mwait\u001b[0m\u001b[0;34m(\u001b[0m\u001b[0mtimeout\u001b[0m\u001b[0;34m)\u001b[0m\u001b[0;34m\u001b[0m\u001b[0;34m\u001b[0m\u001b[0m\n",
            "\u001b[0;32m/usr/lib/python3.10/concurrent/futures/_base.py\u001b[0m in \u001b[0;36m__get_result\u001b[0;34m(self)\u001b[0m\n\u001b[1;32m    401\u001b[0m         \u001b[0;32mif\u001b[0m \u001b[0mself\u001b[0m\u001b[0;34m.\u001b[0m\u001b[0m_exception\u001b[0m\u001b[0;34m:\u001b[0m\u001b[0;34m\u001b[0m\u001b[0;34m\u001b[0m\u001b[0m\n\u001b[1;32m    402\u001b[0m             \u001b[0;32mtry\u001b[0m\u001b[0;34m:\u001b[0m\u001b[0;34m\u001b[0m\u001b[0;34m\u001b[0m\u001b[0m\n\u001b[0;32m--> 403\u001b[0;31m                 \u001b[0;32mraise\u001b[0m \u001b[0mself\u001b[0m\u001b[0;34m.\u001b[0m\u001b[0m_exception\u001b[0m\u001b[0;34m\u001b[0m\u001b[0;34m\u001b[0m\u001b[0m\n\u001b[0m\u001b[1;32m    404\u001b[0m             \u001b[0;32mfinally\u001b[0m\u001b[0;34m:\u001b[0m\u001b[0;34m\u001b[0m\u001b[0;34m\u001b[0m\u001b[0m\n\u001b[1;32m    405\u001b[0m                 \u001b[0;31m# Break a reference cycle with the exception in self._exception\u001b[0m\u001b[0;34m\u001b[0m\u001b[0;34m\u001b[0m\u001b[0m\n",
            "\u001b[0;32m/usr/local/lib/python3.10/dist-packages/tenacity/__init__.py\u001b[0m in \u001b[0;36m__call__\u001b[0;34m(self, fn, *args, **kwargs)\u001b[0m\n\u001b[1;32m    380\u001b[0m             \u001b[0;32mif\u001b[0m \u001b[0misinstance\u001b[0m\u001b[0;34m(\u001b[0m\u001b[0mdo\u001b[0m\u001b[0;34m,\u001b[0m \u001b[0mDoAttempt\u001b[0m\u001b[0;34m)\u001b[0m\u001b[0;34m:\u001b[0m\u001b[0;34m\u001b[0m\u001b[0;34m\u001b[0m\u001b[0m\n\u001b[1;32m    381\u001b[0m                 \u001b[0;32mtry\u001b[0m\u001b[0;34m:\u001b[0m\u001b[0;34m\u001b[0m\u001b[0;34m\u001b[0m\u001b[0m\n\u001b[0;32m--> 382\u001b[0;31m                     \u001b[0mresult\u001b[0m \u001b[0;34m=\u001b[0m \u001b[0mfn\u001b[0m\u001b[0;34m(\u001b[0m\u001b[0;34m*\u001b[0m\u001b[0margs\u001b[0m\u001b[0;34m,\u001b[0m \u001b[0;34m**\u001b[0m\u001b[0mkwargs\u001b[0m\u001b[0;34m)\u001b[0m\u001b[0;34m\u001b[0m\u001b[0;34m\u001b[0m\u001b[0m\n\u001b[0m\u001b[1;32m    383\u001b[0m                 \u001b[0;32mexcept\u001b[0m \u001b[0mBaseException\u001b[0m\u001b[0;34m:\u001b[0m  \u001b[0;31m# noqa: B902\u001b[0m\u001b[0;34m\u001b[0m\u001b[0;34m\u001b[0m\u001b[0m\n\u001b[1;32m    384\u001b[0m                     \u001b[0mretry_state\u001b[0m\u001b[0;34m.\u001b[0m\u001b[0mset_exception\u001b[0m\u001b[0;34m(\u001b[0m\u001b[0msys\u001b[0m\u001b[0;34m.\u001b[0m\u001b[0mexc_info\u001b[0m\u001b[0;34m(\u001b[0m\u001b[0;34m)\u001b[0m\u001b[0;34m)\u001b[0m  \u001b[0;31m# type: ignore[arg-type]\u001b[0m\u001b[0;34m\u001b[0m\u001b[0;34m\u001b[0m\u001b[0m\n",
            "\u001b[0;32m/usr/local/lib/python3.10/dist-packages/langchain_community/llms/vertexai.py\u001b[0m in \u001b[0;36m_completion_with_retry\u001b[0;34m(prompt, is_gemini, **kwargs)\u001b[0m\n\u001b[1;32m     71\u001b[0m             \u001b[0;32mif\u001b[0m \u001b[0mstream\u001b[0m\u001b[0;34m:\u001b[0m\u001b[0;34m\u001b[0m\u001b[0;34m\u001b[0m\u001b[0m\n\u001b[1;32m     72\u001b[0m                 \u001b[0;32mreturn\u001b[0m \u001b[0mllm\u001b[0m\u001b[0;34m.\u001b[0m\u001b[0mclient\u001b[0m\u001b[0;34m.\u001b[0m\u001b[0mpredict_streaming\u001b[0m\u001b[0;34m(\u001b[0m\u001b[0mprompt\u001b[0m\u001b[0;34m[\u001b[0m\u001b[0;36m0\u001b[0m\u001b[0;34m]\u001b[0m\u001b[0;34m,\u001b[0m \u001b[0;34m**\u001b[0m\u001b[0mkwargs\u001b[0m\u001b[0;34m)\u001b[0m\u001b[0;34m\u001b[0m\u001b[0;34m\u001b[0m\u001b[0m\n\u001b[0;32m---> 73\u001b[0;31m             \u001b[0;32mreturn\u001b[0m \u001b[0mllm\u001b[0m\u001b[0;34m.\u001b[0m\u001b[0mclient\u001b[0m\u001b[0;34m.\u001b[0m\u001b[0mpredict\u001b[0m\u001b[0;34m(\u001b[0m\u001b[0mprompt\u001b[0m\u001b[0;34m[\u001b[0m\u001b[0;36m0\u001b[0m\u001b[0;34m]\u001b[0m\u001b[0;34m,\u001b[0m \u001b[0;34m**\u001b[0m\u001b[0mkwargs\u001b[0m\u001b[0;34m)\u001b[0m\u001b[0;34m\u001b[0m\u001b[0;34m\u001b[0m\u001b[0m\n\u001b[0m\u001b[1;32m     74\u001b[0m \u001b[0;34m\u001b[0m\u001b[0m\n\u001b[1;32m     75\u001b[0m     \u001b[0;32mreturn\u001b[0m \u001b[0m_completion_with_retry\u001b[0m\u001b[0;34m(\u001b[0m\u001b[0mprompt\u001b[0m\u001b[0;34m,\u001b[0m \u001b[0mis_gemini\u001b[0m\u001b[0;34m,\u001b[0m \u001b[0;34m**\u001b[0m\u001b[0mkwargs\u001b[0m\u001b[0;34m)\u001b[0m\u001b[0;34m\u001b[0m\u001b[0;34m\u001b[0m\u001b[0m\n",
            "\u001b[0;32m/usr/local/lib/python3.10/dist-packages/vertexai/language_models/_language_models.py\u001b[0m in \u001b[0;36mpredict\u001b[0;34m(self, prompt, max_output_tokens, temperature, top_k, top_p, stop_sequences, candidate_count, grounding_source, logprobs, presence_penalty, frequency_penalty, logit_bias)\u001b[0m\n\u001b[1;32m   1034\u001b[0m         )\n\u001b[1;32m   1035\u001b[0m \u001b[0;34m\u001b[0m\u001b[0m\n\u001b[0;32m-> 1036\u001b[0;31m         prediction_response = self._endpoint.predict(\n\u001b[0m\u001b[1;32m   1037\u001b[0m             \u001b[0minstances\u001b[0m\u001b[0;34m=\u001b[0m\u001b[0;34m[\u001b[0m\u001b[0mprediction_request\u001b[0m\u001b[0;34m.\u001b[0m\u001b[0minstance\u001b[0m\u001b[0;34m]\u001b[0m\u001b[0;34m,\u001b[0m\u001b[0;34m\u001b[0m\u001b[0;34m\u001b[0m\u001b[0m\n\u001b[1;32m   1038\u001b[0m             \u001b[0mparameters\u001b[0m\u001b[0;34m=\u001b[0m\u001b[0mprediction_request\u001b[0m\u001b[0;34m.\u001b[0m\u001b[0mparameters\u001b[0m\u001b[0;34m,\u001b[0m\u001b[0;34m\u001b[0m\u001b[0;34m\u001b[0m\u001b[0m\n",
            "\u001b[0;32m/usr/local/lib/python3.10/dist-packages/google/cloud/aiplatform/models.py\u001b[0m in \u001b[0;36mpredict\u001b[0;34m(self, instances, parameters, timeout, use_raw_predict)\u001b[0m\n\u001b[1;32m   1577\u001b[0m             )\n\u001b[1;32m   1578\u001b[0m         \u001b[0;32melse\u001b[0m\u001b[0;34m:\u001b[0m\u001b[0;34m\u001b[0m\u001b[0;34m\u001b[0m\u001b[0m\n\u001b[0;32m-> 1579\u001b[0;31m             prediction_response = self._prediction_client.predict(\n\u001b[0m\u001b[1;32m   1580\u001b[0m                 \u001b[0mendpoint\u001b[0m\u001b[0;34m=\u001b[0m\u001b[0mself\u001b[0m\u001b[0;34m.\u001b[0m\u001b[0m_gca_resource\u001b[0m\u001b[0;34m.\u001b[0m\u001b[0mname\u001b[0m\u001b[0;34m,\u001b[0m\u001b[0;34m\u001b[0m\u001b[0;34m\u001b[0m\u001b[0m\n\u001b[1;32m   1581\u001b[0m                 \u001b[0minstances\u001b[0m\u001b[0;34m=\u001b[0m\u001b[0minstances\u001b[0m\u001b[0;34m,\u001b[0m\u001b[0;34m\u001b[0m\u001b[0;34m\u001b[0m\u001b[0m\n",
            "\u001b[0;32m/usr/local/lib/python3.10/dist-packages/google/cloud/aiplatform_v1/services/prediction_service/client.py\u001b[0m in \u001b[0;36mpredict\u001b[0;34m(self, request, endpoint, instances, parameters, retry, timeout, metadata)\u001b[0m\n\u001b[1;32m    604\u001b[0m \u001b[0;34m\u001b[0m\u001b[0m\n\u001b[1;32m    605\u001b[0m         \u001b[0;31m# Send the request.\u001b[0m\u001b[0;34m\u001b[0m\u001b[0;34m\u001b[0m\u001b[0m\n\u001b[0;32m--> 606\u001b[0;31m         response = rpc(\n\u001b[0m\u001b[1;32m    607\u001b[0m             \u001b[0mrequest\u001b[0m\u001b[0;34m,\u001b[0m\u001b[0;34m\u001b[0m\u001b[0;34m\u001b[0m\u001b[0m\n\u001b[1;32m    608\u001b[0m             \u001b[0mretry\u001b[0m\u001b[0;34m=\u001b[0m\u001b[0mretry\u001b[0m\u001b[0;34m,\u001b[0m\u001b[0;34m\u001b[0m\u001b[0;34m\u001b[0m\u001b[0m\n",
            "\u001b[0;32m/usr/local/lib/python3.10/dist-packages/google/api_core/gapic_v1/method.py\u001b[0m in \u001b[0;36m__call__\u001b[0;34m(self, timeout, retry, *args, **kwargs)\u001b[0m\n\u001b[1;32m    111\u001b[0m             \u001b[0mkwargs\u001b[0m\u001b[0;34m[\u001b[0m\u001b[0;34m\"metadata\"\u001b[0m\u001b[0;34m]\u001b[0m \u001b[0;34m=\u001b[0m \u001b[0mmetadata\u001b[0m\u001b[0;34m\u001b[0m\u001b[0;34m\u001b[0m\u001b[0m\n\u001b[1;32m    112\u001b[0m \u001b[0;34m\u001b[0m\u001b[0m\n\u001b[0;32m--> 113\u001b[0;31m         \u001b[0;32mreturn\u001b[0m \u001b[0mwrapped_func\u001b[0m\u001b[0;34m(\u001b[0m\u001b[0;34m*\u001b[0m\u001b[0margs\u001b[0m\u001b[0;34m,\u001b[0m \u001b[0;34m**\u001b[0m\u001b[0mkwargs\u001b[0m\u001b[0;34m)\u001b[0m\u001b[0;34m\u001b[0m\u001b[0;34m\u001b[0m\u001b[0m\n\u001b[0m\u001b[1;32m    114\u001b[0m \u001b[0;34m\u001b[0m\u001b[0m\n\u001b[1;32m    115\u001b[0m \u001b[0;34m\u001b[0m\u001b[0m\n",
            "\u001b[0;32m/usr/local/lib/python3.10/dist-packages/google/api_core/grpc_helpers.py\u001b[0m in \u001b[0;36merror_remapped_callable\u001b[0;34m(*args, **kwargs)\u001b[0m\n\u001b[1;32m     70\u001b[0m     \u001b[0;32mdef\u001b[0m \u001b[0merror_remapped_callable\u001b[0m\u001b[0;34m(\u001b[0m\u001b[0;34m*\u001b[0m\u001b[0margs\u001b[0m\u001b[0;34m,\u001b[0m \u001b[0;34m**\u001b[0m\u001b[0mkwargs\u001b[0m\u001b[0;34m)\u001b[0m\u001b[0;34m:\u001b[0m\u001b[0;34m\u001b[0m\u001b[0;34m\u001b[0m\u001b[0m\n\u001b[1;32m     71\u001b[0m         \u001b[0;32mtry\u001b[0m\u001b[0;34m:\u001b[0m\u001b[0;34m\u001b[0m\u001b[0;34m\u001b[0m\u001b[0m\n\u001b[0;32m---> 72\u001b[0;31m             \u001b[0;32mreturn\u001b[0m \u001b[0mcallable_\u001b[0m\u001b[0;34m(\u001b[0m\u001b[0;34m*\u001b[0m\u001b[0margs\u001b[0m\u001b[0;34m,\u001b[0m \u001b[0;34m**\u001b[0m\u001b[0mkwargs\u001b[0m\u001b[0;34m)\u001b[0m\u001b[0;34m\u001b[0m\u001b[0;34m\u001b[0m\u001b[0m\n\u001b[0m\u001b[1;32m     73\u001b[0m         \u001b[0;32mexcept\u001b[0m \u001b[0mgrpc\u001b[0m\u001b[0;34m.\u001b[0m\u001b[0mRpcError\u001b[0m \u001b[0;32mas\u001b[0m \u001b[0mexc\u001b[0m\u001b[0;34m:\u001b[0m\u001b[0;34m\u001b[0m\u001b[0;34m\u001b[0m\u001b[0m\n\u001b[1;32m     74\u001b[0m             \u001b[0;32mraise\u001b[0m \u001b[0mexceptions\u001b[0m\u001b[0;34m.\u001b[0m\u001b[0mfrom_grpc_error\u001b[0m\u001b[0;34m(\u001b[0m\u001b[0mexc\u001b[0m\u001b[0;34m)\u001b[0m \u001b[0;32mfrom\u001b[0m \u001b[0mexc\u001b[0m\u001b[0;34m\u001b[0m\u001b[0;34m\u001b[0m\u001b[0m\n",
            "\u001b[0;32m/usr/local/lib/python3.10/dist-packages/grpc/_channel.py\u001b[0m in \u001b[0;36m__call__\u001b[0;34m(self, request, timeout, metadata, credentials, wait_for_ready, compression)\u001b[0m\n\u001b[1;32m   1155\u001b[0m             \u001b[0mstate\u001b[0m\u001b[0;34m,\u001b[0m\u001b[0;34m\u001b[0m\u001b[0;34m\u001b[0m\u001b[0m\n\u001b[1;32m   1156\u001b[0m             \u001b[0mcall\u001b[0m\u001b[0;34m,\u001b[0m\u001b[0;34m\u001b[0m\u001b[0;34m\u001b[0m\u001b[0m\n\u001b[0;32m-> 1157\u001b[0;31m         \u001b[0;34m)\u001b[0m \u001b[0;34m=\u001b[0m \u001b[0mself\u001b[0m\u001b[0;34m.\u001b[0m\u001b[0m_blocking\u001b[0m\u001b[0;34m(\u001b[0m\u001b[0;34m\u001b[0m\u001b[0;34m\u001b[0m\u001b[0m\n\u001b[0m\u001b[1;32m   1158\u001b[0m             \u001b[0mrequest\u001b[0m\u001b[0;34m,\u001b[0m \u001b[0mtimeout\u001b[0m\u001b[0;34m,\u001b[0m \u001b[0mmetadata\u001b[0m\u001b[0;34m,\u001b[0m \u001b[0mcredentials\u001b[0m\u001b[0;34m,\u001b[0m \u001b[0mwait_for_ready\u001b[0m\u001b[0;34m,\u001b[0m \u001b[0mcompression\u001b[0m\u001b[0;34m\u001b[0m\u001b[0;34m\u001b[0m\u001b[0m\n\u001b[1;32m   1159\u001b[0m         )\n",
            "\u001b[0;32m/usr/local/lib/python3.10/dist-packages/grpc/_channel.py\u001b[0m in \u001b[0;36m_blocking\u001b[0;34m(self, request, timeout, metadata, credentials, wait_for_ready, compression)\u001b[0m\n\u001b[1;32m   1139\u001b[0m                 \u001b[0mself\u001b[0m\u001b[0;34m.\u001b[0m\u001b[0m_context\u001b[0m\u001b[0;34m,\u001b[0m\u001b[0;34m\u001b[0m\u001b[0;34m\u001b[0m\u001b[0m\n\u001b[1;32m   1140\u001b[0m             )\n\u001b[0;32m-> 1141\u001b[0;31m             \u001b[0mevent\u001b[0m \u001b[0;34m=\u001b[0m \u001b[0mcall\u001b[0m\u001b[0;34m.\u001b[0m\u001b[0mnext_event\u001b[0m\u001b[0;34m(\u001b[0m\u001b[0;34m)\u001b[0m\u001b[0;34m\u001b[0m\u001b[0;34m\u001b[0m\u001b[0m\n\u001b[0m\u001b[1;32m   1142\u001b[0m             \u001b[0m_handle_event\u001b[0m\u001b[0;34m(\u001b[0m\u001b[0mevent\u001b[0m\u001b[0;34m,\u001b[0m \u001b[0mstate\u001b[0m\u001b[0;34m,\u001b[0m \u001b[0mself\u001b[0m\u001b[0;34m.\u001b[0m\u001b[0m_response_deserializer\u001b[0m\u001b[0;34m)\u001b[0m\u001b[0;34m\u001b[0m\u001b[0;34m\u001b[0m\u001b[0m\n\u001b[1;32m   1143\u001b[0m             \u001b[0;32mreturn\u001b[0m \u001b[0mstate\u001b[0m\u001b[0;34m,\u001b[0m \u001b[0mcall\u001b[0m\u001b[0;34m\u001b[0m\u001b[0;34m\u001b[0m\u001b[0m\n",
            "\u001b[0;32msrc/python/grpcio/grpc/_cython/_cygrpc/channel.pyx.pxi\u001b[0m in \u001b[0;36mgrpc._cython.cygrpc.SegregatedCall.next_event\u001b[0;34m()\u001b[0m\n",
            "\u001b[0;32msrc/python/grpcio/grpc/_cython/_cygrpc/channel.pyx.pxi\u001b[0m in \u001b[0;36mgrpc._cython.cygrpc._next_call_event\u001b[0;34m()\u001b[0m\n",
            "\u001b[0;32msrc/python/grpcio/grpc/_cython/_cygrpc/channel.pyx.pxi\u001b[0m in \u001b[0;36mgrpc._cython.cygrpc._next_call_event\u001b[0;34m()\u001b[0m\n",
            "\u001b[0;32msrc/python/grpcio/grpc/_cython/_cygrpc/completion_queue.pyx.pxi\u001b[0m in \u001b[0;36mgrpc._cython.cygrpc._latent_event\u001b[0;34m()\u001b[0m\n",
            "\u001b[0;32msrc/python/grpcio/grpc/_cython/_cygrpc/completion_queue.pyx.pxi\u001b[0m in \u001b[0;36mgrpc._cython.cygrpc._internal_latent_event\u001b[0;34m()\u001b[0m\n",
            "\u001b[0;32msrc/python/grpcio/grpc/_cython/_cygrpc/completion_queue.pyx.pxi\u001b[0m in \u001b[0;36mgrpc._cython.cygrpc._next\u001b[0;34m()\u001b[0m\n",
            "\u001b[0;31mKeyboardInterrupt\u001b[0m: "
          ]
        }
      ]
    },
    {
      "cell_type": "code",
      "source": [
        "FORMAT_INSTRUCTIONS = \"\"\"\n",
        "\n",
        "Database Description:\n",
        "\n",
        "There are 3 tables: Vehicle_data, Mileage, and Topspeed.\n",
        "Vehicle_data contains: vehicle_id is the Primary key , vehicle_number , smoke_emission, and temperature.\n",
        "Topspeed contains: vehicle_number is the Primary key, capacitor , cc , and top_speed .\n",
        "Mileage contains: vehicle_number is the Primary key, make , type  and mileage .\n",
        "The vehicle_id column is only present in the Vehicle_data table.\n",
        "\n",
        "when ever the user is asking for the vehicle id, you should do inner join with Vehicle_ID table using vehicle_number\n",
        "\n",
        "\n",
        "\n",
        "When ever there is Agrregate function like Average , Sum Always use the Primary key of the table along with the Select statement and group by the primary key to avoid error.\n",
        "When ever there is a join , make sure to use the tablename suffix when writing the select queries to avoid ambiguity error. Example : Vehicle_data.Vehilce_number, Topspped.cc etc.\n",
        "\n",
        "\n",
        "\n",
        "Use the following format:\n",
        "\n",
        "\n",
        "Question: the input question you must answer\n",
        "Thought: you should always think about what to do\n",
        "Action: the action to take\n",
        "Action Input: the input to the action\n",
        "Observation: the result of the action\n",
        "... (this Thought/Action/Action Input/Observation can repeat N times)\n",
        "Thought: I now know the final answer\n",
        "Final Answer: SQL query ONLY.\n",
        "\"\"\"\n",
        "\n"
      ],
      "metadata": {
        "id": "MhNwfr9TdvCH"
      },
      "execution_count": 61,
      "outputs": []
    },
    {
      "cell_type": "code",
      "source": [
        "agent_executor = create_sql_agent(\n",
        "    llm=llm,\n",
        "    toolkit=SQLDatabaseToolkit(db=db, llm=llm),\n",
        "    verbose=False,\n",
        "    agent_type=AgentType.ZERO_SHOT_REACT_DESCRIPTION,\n",
        "    format_instructions=FORMAT_INSTRUCTIONS,\n",
        "    top_k=20,\n",
        "    handle_parsing_errors=True\n",
        ")"
      ],
      "metadata": {
        "id": "-Dt3vtdReeKU"
      },
      "execution_count": 68,
      "outputs": []
    },
    {
      "cell_type": "code",
      "source": [
        "query_result = agent_executor.run(\n",
        "    \"Find the average mileage and  vehicle number with a top speed greater than 200 km/h \"\n",
        ")\n",
        "\n",
        "print(\"Query Result:\", query_result)"
      ],
      "metadata": {
        "colab": {
          "base_uri": "https://localhost:8080/"
        },
        "id": "wAJ8NTkYkGjY",
        "outputId": "d93e0a6e-1e96-456b-bd23-a36b64ca8f31"
      },
      "execution_count": 69,
      "outputs": [
        {
          "output_type": "stream",
          "name": "stdout",
          "text": [
            "Query Result: SELECT AVG(Mileage.mileage) AS average_mileage, Topspeed.vehicle_number FROM Topspeed JOIN Mileage ON Topspeed.vehicle_number = Mileage.vehicle_number JOIN Vehicle_data ON Topspeed.vehicle_number = Vehicle_data.vehicle_number WHERE Topspeed.top_speed > 200 GROUP BY Topspeed.vehicle_number\n"
          ]
        }
      ]
    },
    {
      "cell_type": "code",
      "source": [
        "query_result = agent_executor.run(\n",
        "    \"Find the Vehicle_ID with a top speed greater than 200 km/h \"\n",
        ")\n",
        "\n",
        "print(\"Query Result:\", query_result)"
      ],
      "metadata": {
        "colab": {
          "base_uri": "https://localhost:8080/"
        },
        "id": "u5UnW24xumzu",
        "outputId": "209cef07-fd31-4d0a-dae6-61e3ff316075"
      },
      "execution_count": 70,
      "outputs": [
        {
          "output_type": "stream",
          "name": "stdout",
          "text": [
            "Query Result: SELECT Topspeed.vehicle_number FROM Topspeed JOIN Vehicle_data ON Topspeed.vehicle_number = Vehicle_data.vehicle_number WHERE Topspeed.top_speed > 200\n"
          ]
        }
      ]
    },
    {
      "cell_type": "code",
      "source": [
        "query_result = agent_executor.run(\n",
        "    \"Find the Vehicle_ID with minimum capacitor\"\n",
        ")\n",
        "\n",
        "print(\"Query Result:\", query_result)"
      ],
      "metadata": {
        "colab": {
          "base_uri": "https://localhost:8080/"
        },
        "id": "WIDxgRgh-4q0",
        "outputId": "c43ff4a0-906b-4add-aa27-e91adf40b6eb"
      },
      "execution_count": 71,
      "outputs": [
        {
          "output_type": "stream",
          "name": "stdout",
          "text": [
            "Query Result: SELECT vehicle_id FROM Vehicle_data WHERE vehicle_number IN (SELECT vehicle_number FROM Topspeed ORDER BY capacitor LIMIT 1)\n"
          ]
        }
      ]
    },
    {
      "cell_type": "code",
      "source": [
        "query_result = agent_executor.run(\n",
        "    \"List the Vehicle_ID which has the mileage greater than 80\"\n",
        ")\n",
        "\n",
        "print(\"Query Result:\", query_result)"
      ],
      "metadata": {
        "colab": {
          "base_uri": "https://localhost:8080/"
        },
        "id": "oIEjsRKk_FHh",
        "outputId": "06c2ab42-0ebb-4114-f1d2-d517665f0cfb"
      },
      "execution_count": 72,
      "outputs": [
        {
          "output_type": "stream",
          "name": "stdout",
          "text": [
            "Query Result: SELECT Vehicle_data.vehicle_id FROM Vehicle_data INNER JOIN Mileage ON Vehicle_data.vehicle_number = Mileage.vehicle_number WHERE Mileage.mileage > 80\n"
          ]
        }
      ]
    },
    {
      "cell_type": "code",
      "source": [
        "query_result = agent_executor.run(\n",
        "    \"Find the Vehicle_id that has the capacitor value greater than 1.5 and mileage greater than 35 and topspeed greater than 100\"\n",
        ")\n",
        "\n",
        "print(\"Query Result:\", query_result)"
      ],
      "metadata": {
        "colab": {
          "base_uri": "https://localhost:8080/"
        },
        "id": "b5Fg55Wi_nx0",
        "outputId": "d3472482-9410-4542-c0a3-a628a6937720"
      },
      "execution_count": 74,
      "outputs": [
        {
          "output_type": "stream",
          "name": "stdout",
          "text": [
            "Query Result: SELECT Vehicle_data.vehicle_id FROM Vehicle_data INNER JOIN Topspeed ON Vehicle_data.vehicle_number = Topspeed.vehicle_number INNER JOIN Mileage ON Vehicle_data.vehicle_number = Mileage.vehicle_number WHERE Topspeed.capacitor > 1.5 AND Mileage.mileage > 35 AND Topspeed.top_speed > 100\n"
          ]
        }
      ]
    },
    {
      "cell_type": "code",
      "source": [
        "print(agent_executor.agent)"
      ],
      "metadata": {
        "colab": {
          "base_uri": "https://localhost:8080/"
        },
        "id": "ngvZfQYg1j-f",
        "outputId": "ff462dd1-0de5-4ffd-ec85-d2f671fbc716"
      },
      "execution_count": 14,
      "outputs": [
        {
          "output_type": "stream",
          "name": "stdout",
          "text": [
            "llm_chain=LLMChain(prompt=PromptTemplate(input_variables=['agent_scratchpad', 'input'], template='You are an agent designed to interact with a SQL database.\\nGiven an input question, create a syntactically correct bigquery query to run, then look at the results of the query and return the answer.\\nUnless the user specifies a specific number of examples they wish to obtain, always limit your query to at most 20 results.\\nYou can order the results by a relevant column to return the most interesting examples in the database.\\nNever query for all the columns from a specific table, only ask for the relevant columns given the question.\\nYou have access to tools for interacting with the database.\\nOnly use the below tools. Only use the information returned by the below tools to construct your final answer.\\nYou MUST double check your query before executing it. If you get an error while executing a query, rewrite the query and try again.\\n\\nDO NOT make any DML statements (INSERT, UPDATE, DELETE, DROP etc.) to the database.\\n\\nIf the question does not seem related to the database, just return \"I don\\'t know\" as the answer.\\n\\n\\nsql_db_query: Input to this tool is a detailed and correct SQL query, output is a result from the database. If the query is not correct, an error message will be returned. If an error is returned, rewrite the query, check the query, and try again. If you encounter an issue with Unknown column \\'xxxx\\' in \\'field list\\', use sql_db_schema to query the correct table fields.\\nsql_db_schema: Input to this tool is a comma-separated list of tables, output is the schema and sample rows for those tables. Be sure that the tables actually exist by calling sql_db_list_tables first! Example Input: table1, table2, table3\\nsql_db_list_tables: Input is an empty string, output is a comma separated list of tables in the database.\\nsql_db_query_checker: Use this tool to double check if your query is correct before executing it. Always use this tool before executing a query with sql_db_query!\\n\\nUse the following format:\\n\\nQuestion: the input question you must answer\\nThought: you should always think about what to do\\nAction: the action to take, should be one of [sql_db_query, sql_db_schema, sql_db_list_tables, sql_db_query_checker]\\nAction Input: the input to the action\\nObservation: the result of the action\\n... (this Thought/Action/Action Input/Observation can repeat N times)\\nThought: I now know the final answer\\nFinal Answer: the final answer to the original input question\\n\\nBegin!\\n\\nQuestion: {input}\\nThought: I should look at the tables in the database to see what I can query.  Then I should query the schema of the most relevant tables.\\n{agent_scratchpad}'), llm=VertexAI(verbose=True, model_name='text-bison@001', client=<vertexai.language_models.TextGenerationModel object at 0x79ecb7a47550>, client_preview=<vertexai.preview.language_models._PreviewTextGenerationModel object at 0x79eb8773e5c0>, temperature=0.1, max_output_tokens=1024, top_p=0.8)) output_parser=MRKLOutputParser() allowed_tools=['sql_db_query', 'sql_db_schema', 'sql_db_list_tables', 'sql_db_query_checker']\n"
          ]
        }
      ]
    },
    {
      "cell_type": "code",
      "source": [
        "create_sql_agent"
      ],
      "metadata": {
        "id": "HVa5Op8f1kBU"
      },
      "execution_count": null,
      "outputs": []
    },
    {
      "cell_type": "code",
      "source": [
        "#Reference :\n",
        "prompt_template = PromptTemplate(input_variables=[\"user_input\"], template=csv_agent_prompt)\n",
        "\n",
        "input_prompt = prompt_template.format(user_input=input)\n",
        "\n",
        "LLM = VertexAI( model_name=\"text-bison@001\",max_output_tokens=512,top_k=40,\n",
        "                 # Adjust temperature based on your desired output characteristics\n",
        "                  verbose=True,prompt=input_prompt)"
      ],
      "metadata": {
        "id": "bQCSphkT1kDn"
      },
      "execution_count": null,
      "outputs": []
    },
    {
      "cell_type": "code",
      "source": [],
      "metadata": {
        "id": "PxDuyDiN1kGZ"
      },
      "execution_count": null,
      "outputs": []
    },
    {
      "cell_type": "code",
      "source": [],
      "metadata": {
        "id": "RX_zgwyN1kIm"
      },
      "execution_count": null,
      "outputs": []
    },
    {
      "cell_type": "code",
      "source": [],
      "metadata": {
        "id": "d6R8tJbc1kN8"
      },
      "execution_count": null,
      "outputs": []
    }
  ]
}